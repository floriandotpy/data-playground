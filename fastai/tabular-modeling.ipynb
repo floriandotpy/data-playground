{
 "cells": [
  {
   "cell_type": "markdown",
   "metadata": {},
   "source": [
    "# Tabular modeling with sklearn (and fastai)\n",
    "\n",
    "Tabular data is data that is arranged in a structure of multiple columns. Each column represents one feature of the dataset. \n",
    "\n",
    "In this notebook, the tabular dataset we use comes from Kaggle and contains various medical features that can be used to predict the `target` column. The target is the dependent variable: Does this person have a high chance of heart attack or not.\n",
    "\n",
    "This dataset is simple: All features are numerical already, so we don't need to to any handling of categorical features here."
   ]
  },
  {
   "cell_type": "code",
   "execution_count": 1,
   "metadata": {},
   "outputs": [],
   "source": [
    "from pathlib import Path\n",
    "\n",
    "import pandas as pd"
   ]
  },
  {
   "cell_type": "markdown",
   "metadata": {},
   "source": [
    "## Load data\n",
    "\n",
    "Column meaning according to Kaggle page:\n",
    "\n",
    "- Age : Age of the patient\n",
    "- Sex : Sex of the patient\n",
    "- exang: exercise induced angina (1 = yes; 0 = no)\n",
    "- ca: number of major vessels (0-3)\n",
    "- cp : Chest Pain type chest pain type\n",
    "  - Value 1: typical angina\n",
    "  - Value 2: atypical angina\n",
    "  - Value 3: non-anginal pain\n",
    "  - Value 4: asymptomatic\n",
    "- trtbps : resting blood pressure (in mm Hg)\n",
    "- chol : cholestoral in mg/dl fetched via BMI sensor\n",
    "- fbs : (fasting blood sugar > 120 mg/dl) (1 = true; 0 = false)\n",
    "- rest_ecg : resting electrocardiographic results\n",
    "  - Value 0: normal\n",
    "  - Value 1: having ST-T wave abnormality (T wave inversions and/or ST elevation or depression of > 0.05 mV)\n",
    "  - Value 2: showing probable or definite left ventricular hypertrophy by Estes' criteria\n",
    "- thalach : maximum heart rate achieved\n",
    "- target : 0= less chance of heart attack 1= more chance of heart attack\n"
   ]
  },
  {
   "cell_type": "code",
   "execution_count": 2,
   "metadata": {},
   "outputs": [],
   "source": [
    "data_path = Path('../data/heart-attack-analysis/')"
   ]
  },
  {
   "cell_type": "code",
   "execution_count": 3,
   "metadata": {},
   "outputs": [
    {
     "data": {
      "text/plain": [
       "[PosixPath('../data/heart-attack-analysis/dataset-license.txt'),\n",
       " PosixPath('../data/heart-attack-analysis/heart.csv'),\n",
       " PosixPath('../data/heart-attack-analysis/o2Saturation.csv')]"
      ]
     },
     "execution_count": 3,
     "metadata": {},
     "output_type": "execute_result"
    }
   ],
   "source": [
    "list(data_path.iterdir())"
   ]
  },
  {
   "cell_type": "code",
   "execution_count": 4,
   "metadata": {},
   "outputs": [
    {
     "data": {
      "text/html": [
       "<div>\n",
       "<style scoped>\n",
       "    .dataframe tbody tr th:only-of-type {\n",
       "        vertical-align: middle;\n",
       "    }\n",
       "\n",
       "    .dataframe tbody tr th {\n",
       "        vertical-align: top;\n",
       "    }\n",
       "\n",
       "    .dataframe thead th {\n",
       "        text-align: right;\n",
       "    }\n",
       "</style>\n",
       "<table border=\"1\" class=\"dataframe\">\n",
       "  <thead>\n",
       "    <tr style=\"text-align: right;\">\n",
       "      <th></th>\n",
       "      <th>age</th>\n",
       "      <th>sex</th>\n",
       "      <th>cp</th>\n",
       "      <th>trtbps</th>\n",
       "      <th>chol</th>\n",
       "      <th>fbs</th>\n",
       "      <th>restecg</th>\n",
       "      <th>thalachh</th>\n",
       "      <th>exng</th>\n",
       "      <th>oldpeak</th>\n",
       "      <th>slp</th>\n",
       "      <th>caa</th>\n",
       "      <th>thall</th>\n",
       "      <th>output</th>\n",
       "    </tr>\n",
       "  </thead>\n",
       "  <tbody>\n",
       "    <tr>\n",
       "      <th>0</th>\n",
       "      <td>63</td>\n",
       "      <td>1</td>\n",
       "      <td>3</td>\n",
       "      <td>145</td>\n",
       "      <td>233</td>\n",
       "      <td>1</td>\n",
       "      <td>0</td>\n",
       "      <td>150</td>\n",
       "      <td>0</td>\n",
       "      <td>2.3</td>\n",
       "      <td>0</td>\n",
       "      <td>0</td>\n",
       "      <td>1</td>\n",
       "      <td>1</td>\n",
       "    </tr>\n",
       "    <tr>\n",
       "      <th>1</th>\n",
       "      <td>37</td>\n",
       "      <td>1</td>\n",
       "      <td>2</td>\n",
       "      <td>130</td>\n",
       "      <td>250</td>\n",
       "      <td>0</td>\n",
       "      <td>1</td>\n",
       "      <td>187</td>\n",
       "      <td>0</td>\n",
       "      <td>3.5</td>\n",
       "      <td>0</td>\n",
       "      <td>0</td>\n",
       "      <td>2</td>\n",
       "      <td>1</td>\n",
       "    </tr>\n",
       "    <tr>\n",
       "      <th>2</th>\n",
       "      <td>41</td>\n",
       "      <td>0</td>\n",
       "      <td>1</td>\n",
       "      <td>130</td>\n",
       "      <td>204</td>\n",
       "      <td>0</td>\n",
       "      <td>0</td>\n",
       "      <td>172</td>\n",
       "      <td>0</td>\n",
       "      <td>1.4</td>\n",
       "      <td>2</td>\n",
       "      <td>0</td>\n",
       "      <td>2</td>\n",
       "      <td>1</td>\n",
       "    </tr>\n",
       "    <tr>\n",
       "      <th>3</th>\n",
       "      <td>56</td>\n",
       "      <td>1</td>\n",
       "      <td>1</td>\n",
       "      <td>120</td>\n",
       "      <td>236</td>\n",
       "      <td>0</td>\n",
       "      <td>1</td>\n",
       "      <td>178</td>\n",
       "      <td>0</td>\n",
       "      <td>0.8</td>\n",
       "      <td>2</td>\n",
       "      <td>0</td>\n",
       "      <td>2</td>\n",
       "      <td>1</td>\n",
       "    </tr>\n",
       "    <tr>\n",
       "      <th>4</th>\n",
       "      <td>57</td>\n",
       "      <td>0</td>\n",
       "      <td>0</td>\n",
       "      <td>120</td>\n",
       "      <td>354</td>\n",
       "      <td>0</td>\n",
       "      <td>1</td>\n",
       "      <td>163</td>\n",
       "      <td>1</td>\n",
       "      <td>0.6</td>\n",
       "      <td>2</td>\n",
       "      <td>0</td>\n",
       "      <td>2</td>\n",
       "      <td>1</td>\n",
       "    </tr>\n",
       "    <tr>\n",
       "      <th>...</th>\n",
       "      <td>...</td>\n",
       "      <td>...</td>\n",
       "      <td>...</td>\n",
       "      <td>...</td>\n",
       "      <td>...</td>\n",
       "      <td>...</td>\n",
       "      <td>...</td>\n",
       "      <td>...</td>\n",
       "      <td>...</td>\n",
       "      <td>...</td>\n",
       "      <td>...</td>\n",
       "      <td>...</td>\n",
       "      <td>...</td>\n",
       "      <td>...</td>\n",
       "    </tr>\n",
       "    <tr>\n",
       "      <th>298</th>\n",
       "      <td>57</td>\n",
       "      <td>0</td>\n",
       "      <td>0</td>\n",
       "      <td>140</td>\n",
       "      <td>241</td>\n",
       "      <td>0</td>\n",
       "      <td>1</td>\n",
       "      <td>123</td>\n",
       "      <td>1</td>\n",
       "      <td>0.2</td>\n",
       "      <td>1</td>\n",
       "      <td>0</td>\n",
       "      <td>3</td>\n",
       "      <td>0</td>\n",
       "    </tr>\n",
       "    <tr>\n",
       "      <th>299</th>\n",
       "      <td>45</td>\n",
       "      <td>1</td>\n",
       "      <td>3</td>\n",
       "      <td>110</td>\n",
       "      <td>264</td>\n",
       "      <td>0</td>\n",
       "      <td>1</td>\n",
       "      <td>132</td>\n",
       "      <td>0</td>\n",
       "      <td>1.2</td>\n",
       "      <td>1</td>\n",
       "      <td>0</td>\n",
       "      <td>3</td>\n",
       "      <td>0</td>\n",
       "    </tr>\n",
       "    <tr>\n",
       "      <th>300</th>\n",
       "      <td>68</td>\n",
       "      <td>1</td>\n",
       "      <td>0</td>\n",
       "      <td>144</td>\n",
       "      <td>193</td>\n",
       "      <td>1</td>\n",
       "      <td>1</td>\n",
       "      <td>141</td>\n",
       "      <td>0</td>\n",
       "      <td>3.4</td>\n",
       "      <td>1</td>\n",
       "      <td>2</td>\n",
       "      <td>3</td>\n",
       "      <td>0</td>\n",
       "    </tr>\n",
       "    <tr>\n",
       "      <th>301</th>\n",
       "      <td>57</td>\n",
       "      <td>1</td>\n",
       "      <td>0</td>\n",
       "      <td>130</td>\n",
       "      <td>131</td>\n",
       "      <td>0</td>\n",
       "      <td>1</td>\n",
       "      <td>115</td>\n",
       "      <td>1</td>\n",
       "      <td>1.2</td>\n",
       "      <td>1</td>\n",
       "      <td>1</td>\n",
       "      <td>3</td>\n",
       "      <td>0</td>\n",
       "    </tr>\n",
       "    <tr>\n",
       "      <th>302</th>\n",
       "      <td>57</td>\n",
       "      <td>0</td>\n",
       "      <td>1</td>\n",
       "      <td>130</td>\n",
       "      <td>236</td>\n",
       "      <td>0</td>\n",
       "      <td>0</td>\n",
       "      <td>174</td>\n",
       "      <td>0</td>\n",
       "      <td>0.0</td>\n",
       "      <td>1</td>\n",
       "      <td>1</td>\n",
       "      <td>2</td>\n",
       "      <td>0</td>\n",
       "    </tr>\n",
       "  </tbody>\n",
       "</table>\n",
       "<p>303 rows × 14 columns</p>\n",
       "</div>"
      ],
      "text/plain": [
       "     age  sex  cp  trtbps  chol  fbs  restecg  thalachh  exng  oldpeak  slp  \\\n",
       "0     63    1   3     145   233    1        0       150     0      2.3    0   \n",
       "1     37    1   2     130   250    0        1       187     0      3.5    0   \n",
       "2     41    0   1     130   204    0        0       172     0      1.4    2   \n",
       "3     56    1   1     120   236    0        1       178     0      0.8    2   \n",
       "4     57    0   0     120   354    0        1       163     1      0.6    2   \n",
       "..   ...  ...  ..     ...   ...  ...      ...       ...   ...      ...  ...   \n",
       "298   57    0   0     140   241    0        1       123     1      0.2    1   \n",
       "299   45    1   3     110   264    0        1       132     0      1.2    1   \n",
       "300   68    1   0     144   193    1        1       141     0      3.4    1   \n",
       "301   57    1   0     130   131    0        1       115     1      1.2    1   \n",
       "302   57    0   1     130   236    0        0       174     0      0.0    1   \n",
       "\n",
       "     caa  thall  output  \n",
       "0      0      1       1  \n",
       "1      0      2       1  \n",
       "2      0      2       1  \n",
       "3      0      2       1  \n",
       "4      0      2       1  \n",
       "..   ...    ...     ...  \n",
       "298    0      3       0  \n",
       "299    0      3       0  \n",
       "300    2      3       0  \n",
       "301    1      3       0  \n",
       "302    1      2       0  \n",
       "\n",
       "[303 rows x 14 columns]"
      ]
     },
     "execution_count": 4,
     "metadata": {},
     "output_type": "execute_result"
    }
   ],
   "source": [
    "df = pd.read_csv(data_path / 'heart.csv')\n",
    "df"
   ]
  },
  {
   "cell_type": "markdown",
   "metadata": {},
   "source": [
    "## Train test split"
   ]
  },
  {
   "cell_type": "code",
   "execution_count": 5,
   "metadata": {},
   "outputs": [],
   "source": [
    "from sklearn.model_selection import train_test_split\n",
    "\n",
    "train, test = train_test_split(df, test_size=0.2, random_state=23)"
   ]
  },
  {
   "cell_type": "code",
   "execution_count": 6,
   "metadata": {},
   "outputs": [],
   "source": [
    "train_y, train_xs = train.output, train.drop(columns=['output'])"
   ]
  },
  {
   "cell_type": "code",
   "execution_count": 7,
   "metadata": {},
   "outputs": [],
   "source": [
    "test_y, test_xs = test.output, test.drop(columns=['output'])"
   ]
  },
  {
   "cell_type": "code",
   "execution_count": 8,
   "metadata": {},
   "outputs": [
    {
     "data": {
      "text/html": [
       "<div>\n",
       "<style scoped>\n",
       "    .dataframe tbody tr th:only-of-type {\n",
       "        vertical-align: middle;\n",
       "    }\n",
       "\n",
       "    .dataframe tbody tr th {\n",
       "        vertical-align: top;\n",
       "    }\n",
       "\n",
       "    .dataframe thead th {\n",
       "        text-align: right;\n",
       "    }\n",
       "</style>\n",
       "<table border=\"1\" class=\"dataframe\">\n",
       "  <thead>\n",
       "    <tr style=\"text-align: right;\">\n",
       "      <th></th>\n",
       "      <th>age</th>\n",
       "      <th>sex</th>\n",
       "      <th>cp</th>\n",
       "      <th>trtbps</th>\n",
       "      <th>chol</th>\n",
       "      <th>fbs</th>\n",
       "      <th>restecg</th>\n",
       "      <th>thalachh</th>\n",
       "      <th>exng</th>\n",
       "      <th>oldpeak</th>\n",
       "      <th>slp</th>\n",
       "      <th>caa</th>\n",
       "      <th>thall</th>\n",
       "    </tr>\n",
       "  </thead>\n",
       "  <tbody>\n",
       "    <tr>\n",
       "      <th>131</th>\n",
       "      <td>49</td>\n",
       "      <td>0</td>\n",
       "      <td>1</td>\n",
       "      <td>134</td>\n",
       "      <td>271</td>\n",
       "      <td>0</td>\n",
       "      <td>1</td>\n",
       "      <td>162</td>\n",
       "      <td>0</td>\n",
       "      <td>0.0</td>\n",
       "      <td>1</td>\n",
       "      <td>0</td>\n",
       "      <td>2</td>\n",
       "    </tr>\n",
       "    <tr>\n",
       "      <th>117</th>\n",
       "      <td>56</td>\n",
       "      <td>1</td>\n",
       "      <td>3</td>\n",
       "      <td>120</td>\n",
       "      <td>193</td>\n",
       "      <td>0</td>\n",
       "      <td>0</td>\n",
       "      <td>162</td>\n",
       "      <td>0</td>\n",
       "      <td>1.9</td>\n",
       "      <td>1</td>\n",
       "      <td>0</td>\n",
       "      <td>3</td>\n",
       "    </tr>\n",
       "    <tr>\n",
       "      <th>193</th>\n",
       "      <td>60</td>\n",
       "      <td>1</td>\n",
       "      <td>0</td>\n",
       "      <td>145</td>\n",
       "      <td>282</td>\n",
       "      <td>0</td>\n",
       "      <td>0</td>\n",
       "      <td>142</td>\n",
       "      <td>1</td>\n",
       "      <td>2.8</td>\n",
       "      <td>1</td>\n",
       "      <td>2</td>\n",
       "      <td>3</td>\n",
       "    </tr>\n",
       "    <tr>\n",
       "      <th>8</th>\n",
       "      <td>52</td>\n",
       "      <td>1</td>\n",
       "      <td>2</td>\n",
       "      <td>172</td>\n",
       "      <td>199</td>\n",
       "      <td>1</td>\n",
       "      <td>1</td>\n",
       "      <td>162</td>\n",
       "      <td>0</td>\n",
       "      <td>0.5</td>\n",
       "      <td>2</td>\n",
       "      <td>0</td>\n",
       "      <td>3</td>\n",
       "    </tr>\n",
       "    <tr>\n",
       "      <th>5</th>\n",
       "      <td>57</td>\n",
       "      <td>1</td>\n",
       "      <td>0</td>\n",
       "      <td>140</td>\n",
       "      <td>192</td>\n",
       "      <td>0</td>\n",
       "      <td>1</td>\n",
       "      <td>148</td>\n",
       "      <td>0</td>\n",
       "      <td>0.4</td>\n",
       "      <td>1</td>\n",
       "      <td>0</td>\n",
       "      <td>1</td>\n",
       "    </tr>\n",
       "    <tr>\n",
       "      <th>...</th>\n",
       "      <td>...</td>\n",
       "      <td>...</td>\n",
       "      <td>...</td>\n",
       "      <td>...</td>\n",
       "      <td>...</td>\n",
       "      <td>...</td>\n",
       "      <td>...</td>\n",
       "      <td>...</td>\n",
       "      <td>...</td>\n",
       "      <td>...</td>\n",
       "      <td>...</td>\n",
       "      <td>...</td>\n",
       "      <td>...</td>\n",
       "    </tr>\n",
       "    <tr>\n",
       "      <th>237</th>\n",
       "      <td>60</td>\n",
       "      <td>1</td>\n",
       "      <td>0</td>\n",
       "      <td>140</td>\n",
       "      <td>293</td>\n",
       "      <td>0</td>\n",
       "      <td>0</td>\n",
       "      <td>170</td>\n",
       "      <td>0</td>\n",
       "      <td>1.2</td>\n",
       "      <td>1</td>\n",
       "      <td>2</td>\n",
       "      <td>3</td>\n",
       "    </tr>\n",
       "    <tr>\n",
       "      <th>31</th>\n",
       "      <td>65</td>\n",
       "      <td>1</td>\n",
       "      <td>0</td>\n",
       "      <td>120</td>\n",
       "      <td>177</td>\n",
       "      <td>0</td>\n",
       "      <td>1</td>\n",
       "      <td>140</td>\n",
       "      <td>0</td>\n",
       "      <td>0.4</td>\n",
       "      <td>2</td>\n",
       "      <td>0</td>\n",
       "      <td>3</td>\n",
       "    </tr>\n",
       "    <tr>\n",
       "      <th>40</th>\n",
       "      <td>51</td>\n",
       "      <td>0</td>\n",
       "      <td>2</td>\n",
       "      <td>140</td>\n",
       "      <td>308</td>\n",
       "      <td>0</td>\n",
       "      <td>0</td>\n",
       "      <td>142</td>\n",
       "      <td>0</td>\n",
       "      <td>1.5</td>\n",
       "      <td>2</td>\n",
       "      <td>1</td>\n",
       "      <td>2</td>\n",
       "    </tr>\n",
       "    <tr>\n",
       "      <th>230</th>\n",
       "      <td>47</td>\n",
       "      <td>1</td>\n",
       "      <td>2</td>\n",
       "      <td>108</td>\n",
       "      <td>243</td>\n",
       "      <td>0</td>\n",
       "      <td>1</td>\n",
       "      <td>152</td>\n",
       "      <td>0</td>\n",
       "      <td>0.0</td>\n",
       "      <td>2</td>\n",
       "      <td>0</td>\n",
       "      <td>2</td>\n",
       "    </tr>\n",
       "    <tr>\n",
       "      <th>83</th>\n",
       "      <td>52</td>\n",
       "      <td>1</td>\n",
       "      <td>3</td>\n",
       "      <td>152</td>\n",
       "      <td>298</td>\n",
       "      <td>1</td>\n",
       "      <td>1</td>\n",
       "      <td>178</td>\n",
       "      <td>0</td>\n",
       "      <td>1.2</td>\n",
       "      <td>1</td>\n",
       "      <td>0</td>\n",
       "      <td>3</td>\n",
       "    </tr>\n",
       "  </tbody>\n",
       "</table>\n",
       "<p>242 rows × 13 columns</p>\n",
       "</div>"
      ],
      "text/plain": [
       "     age  sex  cp  trtbps  chol  fbs  restecg  thalachh  exng  oldpeak  slp  \\\n",
       "131   49    0   1     134   271    0        1       162     0      0.0    1   \n",
       "117   56    1   3     120   193    0        0       162     0      1.9    1   \n",
       "193   60    1   0     145   282    0        0       142     1      2.8    1   \n",
       "8     52    1   2     172   199    1        1       162     0      0.5    2   \n",
       "5     57    1   0     140   192    0        1       148     0      0.4    1   \n",
       "..   ...  ...  ..     ...   ...  ...      ...       ...   ...      ...  ...   \n",
       "237   60    1   0     140   293    0        0       170     0      1.2    1   \n",
       "31    65    1   0     120   177    0        1       140     0      0.4    2   \n",
       "40    51    0   2     140   308    0        0       142     0      1.5    2   \n",
       "230   47    1   2     108   243    0        1       152     0      0.0    2   \n",
       "83    52    1   3     152   298    1        1       178     0      1.2    1   \n",
       "\n",
       "     caa  thall  \n",
       "131    0      2  \n",
       "117    0      3  \n",
       "193    2      3  \n",
       "8      0      3  \n",
       "5      0      1  \n",
       "..   ...    ...  \n",
       "237    2      3  \n",
       "31     0      3  \n",
       "40     1      2  \n",
       "230    0      2  \n",
       "83     0      3  \n",
       "\n",
       "[242 rows x 13 columns]"
      ]
     },
     "execution_count": 8,
     "metadata": {},
     "output_type": "execute_result"
    }
   ],
   "source": [
    "# Make sure the output column has been dropped\n",
    "train_xs"
   ]
  },
  {
   "cell_type": "markdown",
   "metadata": {},
   "source": [
    "# Modeling"
   ]
  },
  {
   "cell_type": "code",
   "execution_count": 9,
   "metadata": {},
   "outputs": [],
   "source": [
    "import fastbook\n",
    "fastbook.setup_book()\n",
    "\n",
    "from fastbook import *"
   ]
  },
  {
   "cell_type": "markdown",
   "metadata": {},
   "source": [
    "## Decision tree (77.0%)"
   ]
  },
  {
   "cell_type": "code",
   "execution_count": 10,
   "metadata": {},
   "outputs": [
    {
     "data": {
      "text/plain": [
       "DecisionTreeClassifier(max_leaf_nodes=10)"
      ]
     },
     "execution_count": 10,
     "metadata": {},
     "output_type": "execute_result"
    }
   ],
   "source": [
    "from sklearn.tree import DecisionTreeClassifier\n",
    "tree = DecisionTreeClassifier(max_leaf_nodes=10)\n",
    "tree.fit(train_xs, train_y)"
   ]
  },
  {
   "cell_type": "code",
   "execution_count": 11,
   "metadata": {},
   "outputs": [
    {
     "data": {
      "image/svg+xml": [
       "<?xml version=\"1.0\" encoding=\"UTF-8\" standalone=\"no\"?>\n",
       "<!DOCTYPE svg PUBLIC \"-//W3C//DTD SVG 1.1//EN\"\n",
       " \"http://www.w3.org/Graphics/SVG/1.1/DTD/svg11.dtd\">\n",
       "<!-- Generated by graphviz version 2.40.1 (20161225.0304)\n",
       " -->\n",
       "<!-- Title: Tree Pages: 1 -->\n",
       "<svg width=\"504pt\" height=\"304pt\"\n",
       " viewBox=\"0.00 0.00 504.00 304.07\" xmlns=\"http://www.w3.org/2000/svg\" xmlns:xlink=\"http://www.w3.org/1999/xlink\">\n",
       "<g id=\"graph0\" class=\"graph\" transform=\"scale(.5234 .5234) rotate(0) translate(4 577)\">\n",
       "<title>Tree</title>\n",
       "<polygon fill=\"#ffffff\" stroke=\"transparent\" points=\"-4,4 -4,-577 959,-577 959,4 -4,4\"/>\n",
       "<!-- 0 -->\n",
       "<g id=\"node1\" class=\"node\">\n",
       "<title>0</title>\n",
       "<path fill=\"#d9ecfa\" stroke=\"#000000\" d=\"M570.75,-573C570.75,-573 469.75,-573 469.75,-573 463.75,-573 457.75,-567 457.75,-561 457.75,-561 457.75,-517 457.75,-517 457.75,-511 463.75,-505 469.75,-505 469.75,-505 570.75,-505 570.75,-505 576.75,-505 582.75,-511 582.75,-517 582.75,-517 582.75,-561 582.75,-561 582.75,-567 576.75,-573 570.75,-573\"/>\n",
       "<text text-anchor=\"start\" x=\"495.75\" y=\"-557.8\" font-family=\"Helvetica,sans-Serif\" font-size=\"14.00\" fill=\"#000000\">cp ≤ 0.0</text>\n",
       "<text text-anchor=\"start\" x=\"492.25\" y=\"-542.8\" font-family=\"Helvetica,sans-Serif\" font-size=\"14.00\" fill=\"#000000\">gini = 0.0</text>\n",
       "<text text-anchor=\"start\" x=\"475.25\" y=\"-527.8\" font-family=\"Helvetica,sans-Serif\" font-size=\"14.00\" fill=\"#000000\">samples = 242</text>\n",
       "<text text-anchor=\"start\" x=\"465.75\" y=\"-512.8\" font-family=\"Helvetica,sans-Serif\" font-size=\"14.00\" fill=\"#000000\">value = [108, 134]</text>\n",
       "</g>\n",
       "<!-- 1 -->\n",
       "<g id=\"node2\" class=\"node\">\n",
       "<title>1</title>\n",
       "<path fill=\"#eeae80\" stroke=\"#000000\" d=\"M480.25,-469C480.25,-469 394.25,-469 394.25,-469 388.25,-469 382.25,-463 382.25,-457 382.25,-457 382.25,-413 382.25,-413 382.25,-407 388.25,-401 394.25,-401 394.25,-401 480.25,-401 480.25,-401 486.25,-401 492.25,-407 492.25,-413 492.25,-413 492.25,-457 492.25,-457 492.25,-463 486.25,-469 480.25,-469\"/>\n",
       "<text text-anchor=\"start\" x=\"408.75\" y=\"-453.8\" font-family=\"Helvetica,sans-Serif\" font-size=\"14.00\" fill=\"#000000\">caa ≤ 0.0</text>\n",
       "<text text-anchor=\"start\" x=\"409.25\" y=\"-438.8\" font-family=\"Helvetica,sans-Serif\" font-size=\"14.00\" fill=\"#000000\">gini = 0.0</text>\n",
       "<text text-anchor=\"start\" x=\"392.25\" y=\"-423.8\" font-family=\"Helvetica,sans-Serif\" font-size=\"14.00\" fill=\"#000000\">samples = 110</text>\n",
       "<text text-anchor=\"start\" x=\"390.25\" y=\"-408.8\" font-family=\"Helvetica,sans-Serif\" font-size=\"14.00\" fill=\"#000000\">value = [81, 29]</text>\n",
       "</g>\n",
       "<!-- 0&#45;&gt;1 -->\n",
       "<g id=\"edge1\" class=\"edge\">\n",
       "<title>0&#45;&gt;1</title>\n",
       "<path fill=\"none\" stroke=\"#000000\" d=\"M493.0727,-504.9465C485.9788,-496.0578 478.2485,-486.3716 470.864,-477.1188\"/>\n",
       "<polygon fill=\"#000000\" stroke=\"#000000\" points=\"473.4618,-474.7628 464.4884,-469.13 467.9906,-479.1293 473.4618,-474.7628\"/>\n",
       "<text text-anchor=\"middle\" x=\"462.2564\" y=\"-485.3051\" font-family=\"Helvetica,sans-Serif\" font-size=\"14.00\" fill=\"#000000\">True</text>\n",
       "</g>\n",
       "<!-- 2 -->\n",
       "<g id=\"node9\" class=\"node\">\n",
       "<title>2</title>\n",
       "<path fill=\"#6cb6ec\" stroke=\"#000000\" d=\"M648.75,-469C648.75,-469 555.75,-469 555.75,-469 549.75,-469 543.75,-463 543.75,-457 543.75,-457 543.75,-413 543.75,-413 543.75,-407 549.75,-401 555.75,-401 555.75,-401 648.75,-401 648.75,-401 654.75,-401 660.75,-407 660.75,-413 660.75,-413 660.75,-457 660.75,-457 660.75,-463 654.75,-469 648.75,-469\"/>\n",
       "<text text-anchor=\"start\" x=\"561.25\" y=\"-453.8\" font-family=\"Helvetica,sans-Serif\" font-size=\"14.00\" fill=\"#000000\">oldpeak ≤ 2.0</text>\n",
       "<text text-anchor=\"start\" x=\"574.25\" y=\"-438.8\" font-family=\"Helvetica,sans-Serif\" font-size=\"14.00\" fill=\"#000000\">gini = 0.0</text>\n",
       "<text text-anchor=\"start\" x=\"557.25\" y=\"-423.8\" font-family=\"Helvetica,sans-Serif\" font-size=\"14.00\" fill=\"#000000\">samples = 132</text>\n",
       "<text text-anchor=\"start\" x=\"551.75\" y=\"-408.8\" font-family=\"Helvetica,sans-Serif\" font-size=\"14.00\" fill=\"#000000\">value = [27, 105]</text>\n",
       "</g>\n",
       "<!-- 0&#45;&gt;2 -->\n",
       "<g id=\"edge8\" class=\"edge\">\n",
       "<title>0&#45;&gt;2</title>\n",
       "<path fill=\"none\" stroke=\"#000000\" d=\"M547.0999,-504.9465C554.1083,-496.0578 561.7455,-486.3716 569.041,-477.1188\"/>\n",
       "<polygon fill=\"#000000\" stroke=\"#000000\" points=\"571.8967,-479.1498 575.3398,-469.13 566.3998,-474.8157 571.8967,-479.1498\"/>\n",
       "<text text-anchor=\"middle\" x=\"577.689\" y=\"-485.2915\" font-family=\"Helvetica,sans-Serif\" font-size=\"14.00\" fill=\"#000000\">False</text>\n",
       "</g>\n",
       "<!-- 3 -->\n",
       "<g id=\"node3\" class=\"node\">\n",
       "<title>3</title>\n",
       "<path fill=\"#f0f8fd\" stroke=\"#000000\" d=\"M328.25,-365C328.25,-365 242.25,-365 242.25,-365 236.25,-365 230.25,-359 230.25,-353 230.25,-353 230.25,-309 230.25,-309 230.25,-303 236.25,-297 242.25,-297 242.25,-297 328.25,-297 328.25,-297 334.25,-297 340.25,-303 340.25,-309 340.25,-309 340.25,-353 340.25,-353 340.25,-359 334.25,-365 328.25,-365\"/>\n",
       "<text text-anchor=\"start\" x=\"255.25\" y=\"-349.8\" font-family=\"Helvetica,sans-Serif\" font-size=\"14.00\" fill=\"#000000\">thall ≤ 2.0</text>\n",
       "<text text-anchor=\"start\" x=\"257.25\" y=\"-334.8\" font-family=\"Helvetica,sans-Serif\" font-size=\"14.00\" fill=\"#000000\">gini = 0.0</text>\n",
       "<text text-anchor=\"start\" x=\"244.25\" y=\"-319.8\" font-family=\"Helvetica,sans-Serif\" font-size=\"14.00\" fill=\"#000000\">samples = 52</text>\n",
       "<text text-anchor=\"start\" x=\"238.25\" y=\"-304.8\" font-family=\"Helvetica,sans-Serif\" font-size=\"14.00\" fill=\"#000000\">value = [25, 27]</text>\n",
       "</g>\n",
       "<!-- 1&#45;&gt;3 -->\n",
       "<g id=\"edge2\" class=\"edge\">\n",
       "<title>1&#45;&gt;3</title>\n",
       "<path fill=\"none\" stroke=\"#000000\" d=\"M387.4795,-400.9465C373.4385,-391.3395 358.036,-380.8009 343.5432,-370.8848\"/>\n",
       "<polygon fill=\"#000000\" stroke=\"#000000\" points=\"345.3618,-367.8883 335.1323,-365.13 341.409,-373.6655 345.3618,-367.8883\"/>\n",
       "</g>\n",
       "<!-- 4 -->\n",
       "<g id=\"node8\" class=\"node\">\n",
       "<title>4</title>\n",
       "<path fill=\"#e68640\" stroke=\"#000000\" d=\"M479.25,-357.5C479.25,-357.5 401.25,-357.5 401.25,-357.5 395.25,-357.5 389.25,-351.5 389.25,-345.5 389.25,-345.5 389.25,-316.5 389.25,-316.5 389.25,-310.5 395.25,-304.5 401.25,-304.5 401.25,-304.5 479.25,-304.5 479.25,-304.5 485.25,-304.5 491.25,-310.5 491.25,-316.5 491.25,-316.5 491.25,-345.5 491.25,-345.5 491.25,-351.5 485.25,-357.5 479.25,-357.5\"/>\n",
       "<text text-anchor=\"start\" x=\"412.25\" y=\"-342.3\" font-family=\"Helvetica,sans-Serif\" font-size=\"14.00\" fill=\"#000000\">gini = 0.0</text>\n",
       "<text text-anchor=\"start\" x=\"399.25\" y=\"-327.3\" font-family=\"Helvetica,sans-Serif\" font-size=\"14.00\" fill=\"#000000\">samples = 58</text>\n",
       "<text text-anchor=\"start\" x=\"397.25\" y=\"-312.3\" font-family=\"Helvetica,sans-Serif\" font-size=\"14.00\" fill=\"#000000\">value = [56, 2]</text>\n",
       "</g>\n",
       "<!-- 1&#45;&gt;4 -->\n",
       "<g id=\"edge7\" class=\"edge\">\n",
       "<title>1&#45;&gt;4</title>\n",
       "<path fill=\"none\" stroke=\"#000000\" d=\"M438.2323,-400.9465C438.5405,-390.2621 438.882,-378.4254 439.195,-367.5742\"/>\n",
       "<polygon fill=\"#000000\" stroke=\"#000000\" points=\"442.6945,-367.639 439.4844,-357.5422 435.6974,-367.4371 442.6945,-367.639\"/>\n",
       "</g>\n",
       "<!-- 5 -->\n",
       "<g id=\"node4\" class=\"node\">\n",
       "<title>5</title>\n",
       "<path fill=\"#6db7ec\" stroke=\"#000000\" d=\"M176.25,-261C176.25,-261 98.25,-261 98.25,-261 92.25,-261 86.25,-255 86.25,-249 86.25,-249 86.25,-205 86.25,-205 86.25,-199 92.25,-193 98.25,-193 98.25,-193 176.25,-193 176.25,-193 182.25,-193 188.25,-199 188.25,-205 188.25,-205 188.25,-249 188.25,-249 188.25,-255 182.25,-261 176.25,-261\"/>\n",
       "<text text-anchor=\"start\" x=\"105.25\" y=\"-245.8\" font-family=\"Helvetica,sans-Serif\" font-size=\"14.00\" fill=\"#000000\">exng ≤ 0.0</text>\n",
       "<text text-anchor=\"start\" x=\"109.25\" y=\"-230.8\" font-family=\"Helvetica,sans-Serif\" font-size=\"14.00\" fill=\"#000000\">gini = 0.0</text>\n",
       "<text text-anchor=\"start\" x=\"96.25\" y=\"-215.8\" font-family=\"Helvetica,sans-Serif\" font-size=\"14.00\" fill=\"#000000\">samples = 29</text>\n",
       "<text text-anchor=\"start\" x=\"94.25\" y=\"-200.8\" font-family=\"Helvetica,sans-Serif\" font-size=\"14.00\" fill=\"#000000\">value = [6, 23]</text>\n",
       "</g>\n",
       "<!-- 3&#45;&gt;5 -->\n",
       "<g id=\"edge3\" class=\"edge\">\n",
       "<title>3&#45;&gt;5</title>\n",
       "<path fill=\"none\" stroke=\"#000000\" d=\"M236.7893,-296.9465C223.1177,-287.3395 208.1206,-276.8009 194.0091,-266.8848\"/>\n",
       "<polygon fill=\"#000000\" stroke=\"#000000\" points=\"196.0139,-264.0158 185.8196,-261.13 191.9892,-269.7432 196.0139,-264.0158\"/>\n",
       "</g>\n",
       "<!-- 6 -->\n",
       "<g id=\"node7\" class=\"node\">\n",
       "<title>6</title>\n",
       "<path fill=\"#ea9c63\" stroke=\"#000000\" d=\"M326.25,-253.5C326.25,-253.5 248.25,-253.5 248.25,-253.5 242.25,-253.5 236.25,-247.5 236.25,-241.5 236.25,-241.5 236.25,-212.5 236.25,-212.5 236.25,-206.5 242.25,-200.5 248.25,-200.5 248.25,-200.5 326.25,-200.5 326.25,-200.5 332.25,-200.5 338.25,-206.5 338.25,-212.5 338.25,-212.5 338.25,-241.5 338.25,-241.5 338.25,-247.5 332.25,-253.5 326.25,-253.5\"/>\n",
       "<text text-anchor=\"start\" x=\"259.25\" y=\"-238.3\" font-family=\"Helvetica,sans-Serif\" font-size=\"14.00\" fill=\"#000000\">gini = 0.0</text>\n",
       "<text text-anchor=\"start\" x=\"246.25\" y=\"-223.3\" font-family=\"Helvetica,sans-Serif\" font-size=\"14.00\" fill=\"#000000\">samples = 23</text>\n",
       "<text text-anchor=\"start\" x=\"244.25\" y=\"-208.3\" font-family=\"Helvetica,sans-Serif\" font-size=\"14.00\" fill=\"#000000\">value = [19, 4]</text>\n",
       "</g>\n",
       "<!-- 3&#45;&gt;6 -->\n",
       "<g id=\"edge6\" class=\"edge\">\n",
       "<title>3&#45;&gt;6</title>\n",
       "<path fill=\"none\" stroke=\"#000000\" d=\"M285.9049,-296.9465C286.1103,-286.2621 286.338,-274.4254 286.5466,-263.5742\"/>\n",
       "<polygon fill=\"#000000\" stroke=\"#000000\" points=\"290.0466,-263.6076 286.7396,-253.5422 283.0479,-263.473 290.0466,-263.6076\"/>\n",
       "</g>\n",
       "<!-- 17 -->\n",
       "<g id=\"node5\" class=\"node\">\n",
       "<title>17</title>\n",
       "<path fill=\"#44a2e6\" stroke=\"#000000\" d=\"M102.25,-149.5C102.25,-149.5 24.25,-149.5 24.25,-149.5 18.25,-149.5 12.25,-143.5 12.25,-137.5 12.25,-137.5 12.25,-108.5 12.25,-108.5 12.25,-102.5 18.25,-96.5 24.25,-96.5 24.25,-96.5 102.25,-96.5 102.25,-96.5 108.25,-96.5 114.25,-102.5 114.25,-108.5 114.25,-108.5 114.25,-137.5 114.25,-137.5 114.25,-143.5 108.25,-149.5 102.25,-149.5\"/>\n",
       "<text text-anchor=\"start\" x=\"35.25\" y=\"-134.3\" font-family=\"Helvetica,sans-Serif\" font-size=\"14.00\" fill=\"#000000\">gini = 0.0</text>\n",
       "<text text-anchor=\"start\" x=\"22.25\" y=\"-119.3\" font-family=\"Helvetica,sans-Serif\" font-size=\"14.00\" fill=\"#000000\">samples = 19</text>\n",
       "<text text-anchor=\"start\" x=\"20.25\" y=\"-104.3\" font-family=\"Helvetica,sans-Serif\" font-size=\"14.00\" fill=\"#000000\">value = [1, 18]</text>\n",
       "</g>\n",
       "<!-- 5&#45;&gt;17 -->\n",
       "<g id=\"edge4\" class=\"edge\">\n",
       "<title>5&#45;&gt;17</title>\n",
       "<path fill=\"none\" stroke=\"#000000\" d=\"M113.0196,-192.9465C105.0254,-181.7113 96.1246,-169.2021 88.0858,-157.9043\"/>\n",
       "<polygon fill=\"#000000\" stroke=\"#000000\" points=\"90.7851,-155.6609 82.1358,-149.5422 85.0816,-159.7192 90.7851,-155.6609\"/>\n",
       "</g>\n",
       "<!-- 18 -->\n",
       "<g id=\"node6\" class=\"node\">\n",
       "<title>18</title>\n",
       "<path fill=\"#ffffff\" stroke=\"#000000\" d=\"M248.25,-149.5C248.25,-149.5 174.25,-149.5 174.25,-149.5 168.25,-149.5 162.25,-143.5 162.25,-137.5 162.25,-137.5 162.25,-108.5 162.25,-108.5 162.25,-102.5 168.25,-96.5 174.25,-96.5 174.25,-96.5 248.25,-96.5 248.25,-96.5 254.25,-96.5 260.25,-102.5 260.25,-108.5 260.25,-108.5 260.25,-137.5 260.25,-137.5 260.25,-143.5 254.25,-149.5 248.25,-149.5\"/>\n",
       "<text text-anchor=\"start\" x=\"183.25\" y=\"-134.3\" font-family=\"Helvetica,sans-Serif\" font-size=\"14.00\" fill=\"#000000\">gini = 0.0</text>\n",
       "<text text-anchor=\"start\" x=\"170.25\" y=\"-119.3\" font-family=\"Helvetica,sans-Serif\" font-size=\"14.00\" fill=\"#000000\">samples = 10</text>\n",
       "<text text-anchor=\"start\" x=\"171.75\" y=\"-104.3\" font-family=\"Helvetica,sans-Serif\" font-size=\"14.00\" fill=\"#000000\">value = [5, 5]</text>\n",
       "</g>\n",
       "<!-- 5&#45;&gt;18 -->\n",
       "<g id=\"edge5\" class=\"edge\">\n",
       "<title>5&#45;&gt;18</title>\n",
       "<path fill=\"none\" stroke=\"#000000\" d=\"M161.4804,-192.9465C169.4746,-181.7113 178.3754,-169.2021 186.4142,-157.9043\"/>\n",
       "<polygon fill=\"#000000\" stroke=\"#000000\" points=\"189.4184,-159.7192 192.3642,-149.5422 183.7149,-155.6609 189.4184,-159.7192\"/>\n",
       "</g>\n",
       "<!-- 7 -->\n",
       "<g id=\"node10\" class=\"node\">\n",
       "<title>7</title>\n",
       "<path fill=\"#5fb0ea\" stroke=\"#000000\" d=\"M643.25,-365C643.25,-365 557.25,-365 557.25,-365 551.25,-365 545.25,-359 545.25,-353 545.25,-353 545.25,-309 545.25,-309 545.25,-303 551.25,-297 557.25,-297 557.25,-297 643.25,-297 643.25,-297 649.25,-297 655.25,-303 655.25,-309 655.25,-309 655.25,-353 655.25,-353 655.25,-359 649.25,-365 643.25,-365\"/>\n",
       "<text text-anchor=\"start\" x=\"558.25\" y=\"-349.8\" font-family=\"Helvetica,sans-Serif\" font-size=\"14.00\" fill=\"#000000\">trtbps ≤ 151.0</text>\n",
       "<text text-anchor=\"start\" x=\"572.25\" y=\"-334.8\" font-family=\"Helvetica,sans-Serif\" font-size=\"14.00\" fill=\"#000000\">gini = 0.0</text>\n",
       "<text text-anchor=\"start\" x=\"555.25\" y=\"-319.8\" font-family=\"Helvetica,sans-Serif\" font-size=\"14.00\" fill=\"#000000\">samples = 118</text>\n",
       "<text text-anchor=\"start\" x=\"553.25\" y=\"-304.8\" font-family=\"Helvetica,sans-Serif\" font-size=\"14.00\" fill=\"#000000\">value = [19, 99]</text>\n",
       "</g>\n",
       "<!-- 2&#45;&gt;7 -->\n",
       "<g id=\"edge9\" class=\"edge\">\n",
       "<title>2&#45;&gt;7</title>\n",
       "<path fill=\"none\" stroke=\"#000000\" d=\"M601.5951,-400.9465C601.438,-392.776 601.2679,-383.9318 601.1033,-375.3697\"/>\n",
       "<polygon fill=\"#000000\" stroke=\"#000000\" points=\"604.5981,-375.0608 600.9063,-365.13 597.5994,-375.1955 604.5981,-375.0608\"/>\n",
       "</g>\n",
       "<!-- 8 -->\n",
       "<g id=\"node17\" class=\"node\">\n",
       "<title>8</title>\n",
       "<path fill=\"#f8e0ce\" stroke=\"#000000\" d=\"M789.25,-365C789.25,-365 715.25,-365 715.25,-365 709.25,-365 703.25,-359 703.25,-353 703.25,-353 703.25,-309 703.25,-309 703.25,-303 709.25,-297 715.25,-297 715.25,-297 789.25,-297 789.25,-297 795.25,-297 801.25,-303 801.25,-309 801.25,-309 801.25,-353 801.25,-353 801.25,-359 795.25,-365 789.25,-365\"/>\n",
       "<text text-anchor=\"start\" x=\"726.25\" y=\"-349.8\" font-family=\"Helvetica,sans-Serif\" font-size=\"14.00\" fill=\"#000000\">slp ≤ 0.0</text>\n",
       "<text text-anchor=\"start\" x=\"724.25\" y=\"-334.8\" font-family=\"Helvetica,sans-Serif\" font-size=\"14.00\" fill=\"#000000\">gini = 0.0</text>\n",
       "<text text-anchor=\"start\" x=\"711.25\" y=\"-319.8\" font-family=\"Helvetica,sans-Serif\" font-size=\"14.00\" fill=\"#000000\">samples = 14</text>\n",
       "<text text-anchor=\"start\" x=\"712.75\" y=\"-304.8\" font-family=\"Helvetica,sans-Serif\" font-size=\"14.00\" fill=\"#000000\">value = [8, 6]</text>\n",
       "</g>\n",
       "<!-- 2&#45;&gt;8 -->\n",
       "<g id=\"edge16\" class=\"edge\">\n",
       "<title>2&#45;&gt;8</title>\n",
       "<path fill=\"none\" stroke=\"#000000\" d=\"M651.3656,-400.9465C665.2219,-391.3395 680.4217,-380.8009 694.7239,-370.8848\"/>\n",
       "<polygon fill=\"#000000\" stroke=\"#000000\" points=\"696.8003,-373.7041 703.024,-365.13 692.8118,-367.9515 696.8003,-373.7041\"/>\n",
       "</g>\n",
       "<!-- 11 -->\n",
       "<g id=\"node11\" class=\"node\">\n",
       "<title>11</title>\n",
       "<path fill=\"#53aae8\" stroke=\"#000000\" d=\"M493.25,-253.5C493.25,-253.5 407.25,-253.5 407.25,-253.5 401.25,-253.5 395.25,-247.5 395.25,-241.5 395.25,-241.5 395.25,-212.5 395.25,-212.5 395.25,-206.5 401.25,-200.5 407.25,-200.5 407.25,-200.5 493.25,-200.5 493.25,-200.5 499.25,-200.5 505.25,-206.5 505.25,-212.5 505.25,-212.5 505.25,-241.5 505.25,-241.5 505.25,-247.5 499.25,-253.5 493.25,-253.5\"/>\n",
       "<text text-anchor=\"start\" x=\"422.25\" y=\"-238.3\" font-family=\"Helvetica,sans-Serif\" font-size=\"14.00\" fill=\"#000000\">gini = 0.0</text>\n",
       "<text text-anchor=\"start\" x=\"405.25\" y=\"-223.3\" font-family=\"Helvetica,sans-Serif\" font-size=\"14.00\" fill=\"#000000\">samples = 104</text>\n",
       "<text text-anchor=\"start\" x=\"403.25\" y=\"-208.3\" font-family=\"Helvetica,sans-Serif\" font-size=\"14.00\" fill=\"#000000\">value = [12, 92]</text>\n",
       "</g>\n",
       "<!-- 7&#45;&gt;11 -->\n",
       "<g id=\"edge10\" class=\"edge\">\n",
       "<title>7&#45;&gt;11</title>\n",
       "<path fill=\"none\" stroke=\"#000000\" d=\"M551.1344,-296.9465C533.6588,-284.8301 514.0462,-271.232 496.7927,-259.2696\"/>\n",
       "<polygon fill=\"#000000\" stroke=\"#000000\" points=\"498.7442,-256.3637 488.532,-253.5422 494.7557,-262.1163 498.7442,-256.3637\"/>\n",
       "</g>\n",
       "<!-- 12 -->\n",
       "<g id=\"node12\" class=\"node\">\n",
       "<title>12</title>\n",
       "<path fill=\"#ffffff\" stroke=\"#000000\" d=\"M639.25,-261C639.25,-261 565.25,-261 565.25,-261 559.25,-261 553.25,-255 553.25,-249 553.25,-249 553.25,-205 553.25,-205 553.25,-199 559.25,-193 565.25,-193 565.25,-193 639.25,-193 639.25,-193 645.25,-193 651.25,-199 651.25,-205 651.25,-205 651.25,-249 651.25,-249 651.25,-255 645.25,-261 639.25,-261\"/>\n",
       "<text text-anchor=\"start\" x=\"574.25\" y=\"-245.8\" font-family=\"Helvetica,sans-Serif\" font-size=\"14.00\" fill=\"#000000\">sex ≤ 0.0</text>\n",
       "<text text-anchor=\"start\" x=\"574.25\" y=\"-230.8\" font-family=\"Helvetica,sans-Serif\" font-size=\"14.00\" fill=\"#000000\">gini = 0.0</text>\n",
       "<text text-anchor=\"start\" x=\"561.25\" y=\"-215.8\" font-family=\"Helvetica,sans-Serif\" font-size=\"14.00\" fill=\"#000000\">samples = 14</text>\n",
       "<text text-anchor=\"start\" x=\"562.75\" y=\"-200.8\" font-family=\"Helvetica,sans-Serif\" font-size=\"14.00\" fill=\"#000000\">value = [7, 7]</text>\n",
       "</g>\n",
       "<!-- 7&#45;&gt;12 -->\n",
       "<g id=\"edge11\" class=\"edge\">\n",
       "<title>7&#45;&gt;12</title>\n",
       "<path fill=\"none\" stroke=\"#000000\" d=\"M600.9049,-296.9465C601.062,-288.776 601.2321,-279.9318 601.3967,-271.3697\"/>\n",
       "<polygon fill=\"#000000\" stroke=\"#000000\" points=\"604.9006,-271.1955 601.5937,-261.13 597.9019,-271.0608 604.9006,-271.1955\"/>\n",
       "</g>\n",
       "<!-- 13 -->\n",
       "<g id=\"node13\" class=\"node\">\n",
       "<title>13</title>\n",
       "<path fill=\"#399de5\" stroke=\"#000000\" d=\"M565.75,-149.5C565.75,-149.5 494.75,-149.5 494.75,-149.5 488.75,-149.5 482.75,-143.5 482.75,-137.5 482.75,-137.5 482.75,-108.5 482.75,-108.5 482.75,-102.5 488.75,-96.5 494.75,-96.5 494.75,-96.5 565.75,-96.5 565.75,-96.5 571.75,-96.5 577.75,-102.5 577.75,-108.5 577.75,-108.5 577.75,-137.5 577.75,-137.5 577.75,-143.5 571.75,-149.5 565.75,-149.5\"/>\n",
       "<text text-anchor=\"start\" x=\"502.25\" y=\"-134.3\" font-family=\"Helvetica,sans-Serif\" font-size=\"14.00\" fill=\"#000000\">gini = 0.0</text>\n",
       "<text text-anchor=\"start\" x=\"492.75\" y=\"-119.3\" font-family=\"Helvetica,sans-Serif\" font-size=\"14.00\" fill=\"#000000\">samples = 4</text>\n",
       "<text text-anchor=\"start\" x=\"490.75\" y=\"-104.3\" font-family=\"Helvetica,sans-Serif\" font-size=\"14.00\" fill=\"#000000\">value = [0, 4]</text>\n",
       "</g>\n",
       "<!-- 12&#45;&gt;13 -->\n",
       "<g id=\"edge12\" class=\"edge\">\n",
       "<title>12&#45;&gt;13</title>\n",
       "<path fill=\"none\" stroke=\"#000000\" d=\"M578.6745,-192.9465C570.8963,-181.7113 562.2361,-169.2021 554.4145,-157.9043\"/>\n",
       "<polygon fill=\"#000000\" stroke=\"#000000\" points=\"557.1952,-155.7719 548.6253,-149.5422 551.4398,-159.7564 557.1952,-155.7719\"/>\n",
       "</g>\n",
       "<!-- 14 -->\n",
       "<g id=\"node14\" class=\"node\">\n",
       "<title>14</title>\n",
       "<path fill=\"#f0b78e\" stroke=\"#000000\" d=\"M710.25,-157C710.25,-157 636.25,-157 636.25,-157 630.25,-157 624.25,-151 624.25,-145 624.25,-145 624.25,-101 624.25,-101 624.25,-95 630.25,-89 636.25,-89 636.25,-89 710.25,-89 710.25,-89 716.25,-89 722.25,-95 722.25,-101 722.25,-101 722.25,-145 722.25,-145 722.25,-151 716.25,-157 710.25,-157\"/>\n",
       "<text text-anchor=\"start\" x=\"646.75\" y=\"-141.8\" font-family=\"Helvetica,sans-Serif\" font-size=\"14.00\" fill=\"#000000\">fbs ≤ 0.0</text>\n",
       "<text text-anchor=\"start\" x=\"645.25\" y=\"-126.8\" font-family=\"Helvetica,sans-Serif\" font-size=\"14.00\" fill=\"#000000\">gini = 0.0</text>\n",
       "<text text-anchor=\"start\" x=\"632.25\" y=\"-111.8\" font-family=\"Helvetica,sans-Serif\" font-size=\"14.00\" fill=\"#000000\">samples = 10</text>\n",
       "<text text-anchor=\"start\" x=\"633.75\" y=\"-96.8\" font-family=\"Helvetica,sans-Serif\" font-size=\"14.00\" fill=\"#000000\">value = [7, 3]</text>\n",
       "</g>\n",
       "<!-- 12&#45;&gt;14 -->\n",
       "<g id=\"edge13\" class=\"edge\">\n",
       "<title>12&#45;&gt;14</title>\n",
       "<path fill=\"none\" stroke=\"#000000\" d=\"M625.4981,-192.9465C631.505,-184.1475 638.0455,-174.5672 644.3043,-165.3993\"/>\n",
       "<polygon fill=\"#000000\" stroke=\"#000000\" points=\"647.202,-167.3623 649.9497,-157.13 641.4207,-163.4155 647.202,-167.3623\"/>\n",
       "</g>\n",
       "<!-- 15 -->\n",
       "<g id=\"node15\" class=\"node\">\n",
       "<title>15</title>\n",
       "<path fill=\"#e58139\" stroke=\"#000000\" d=\"M638.75,-52.5C638.75,-52.5 567.75,-52.5 567.75,-52.5 561.75,-52.5 555.75,-46.5 555.75,-40.5 555.75,-40.5 555.75,-11.5 555.75,-11.5 555.75,-5.5 561.75,.5 567.75,.5 567.75,.5 638.75,.5 638.75,.5 644.75,.5 650.75,-5.5 650.75,-11.5 650.75,-11.5 650.75,-40.5 650.75,-40.5 650.75,-46.5 644.75,-52.5 638.75,-52.5\"/>\n",
       "<text text-anchor=\"start\" x=\"575.25\" y=\"-37.3\" font-family=\"Helvetica,sans-Serif\" font-size=\"14.00\" fill=\"#000000\">gini = 0.0</text>\n",
       "<text text-anchor=\"start\" x=\"565.75\" y=\"-22.3\" font-family=\"Helvetica,sans-Serif\" font-size=\"14.00\" fill=\"#000000\">samples = 6</text>\n",
       "<text text-anchor=\"start\" x=\"563.75\" y=\"-7.3\" font-family=\"Helvetica,sans-Serif\" font-size=\"14.00\" fill=\"#000000\">value = [6, 0]</text>\n",
       "</g>\n",
       "<!-- 14&#45;&gt;15 -->\n",
       "<g id=\"edge14\" class=\"edge\">\n",
       "<title>14&#45;&gt;15</title>\n",
       "<path fill=\"none\" stroke=\"#000000\" d=\"M648.5706,-88.8014C642.0008,-79.6976 634.8982,-69.8554 628.3084,-60.7237\"/>\n",
       "<polygon fill=\"#000000\" stroke=\"#000000\" points=\"631.1206,-58.6397 622.4306,-52.5788 625.4443,-62.736 631.1206,-58.6397\"/>\n",
       "</g>\n",
       "<!-- 16 -->\n",
       "<g id=\"node16\" class=\"node\">\n",
       "<title>16</title>\n",
       "<path fill=\"#7bbeee\" stroke=\"#000000\" d=\"M780.75,-52.5C780.75,-52.5 709.75,-52.5 709.75,-52.5 703.75,-52.5 697.75,-46.5 697.75,-40.5 697.75,-40.5 697.75,-11.5 697.75,-11.5 697.75,-5.5 703.75,.5 709.75,.5 709.75,.5 780.75,.5 780.75,.5 786.75,.5 792.75,-5.5 792.75,-11.5 792.75,-11.5 792.75,-40.5 792.75,-40.5 792.75,-46.5 786.75,-52.5 780.75,-52.5\"/>\n",
       "<text text-anchor=\"start\" x=\"717.25\" y=\"-37.3\" font-family=\"Helvetica,sans-Serif\" font-size=\"14.00\" fill=\"#000000\">gini = 0.0</text>\n",
       "<text text-anchor=\"start\" x=\"707.75\" y=\"-22.3\" font-family=\"Helvetica,sans-Serif\" font-size=\"14.00\" fill=\"#000000\">samples = 4</text>\n",
       "<text text-anchor=\"start\" x=\"705.75\" y=\"-7.3\" font-family=\"Helvetica,sans-Serif\" font-size=\"14.00\" fill=\"#000000\">value = [1, 3]</text>\n",
       "</g>\n",
       "<!-- 14&#45;&gt;16 -->\n",
       "<g id=\"edge15\" class=\"edge\">\n",
       "<title>14&#45;&gt;16</title>\n",
       "<path fill=\"none\" stroke=\"#000000\" d=\"M698.6345,-88.8014C705.392,-79.6976 712.6975,-69.8554 719.4757,-60.7237\"/>\n",
       "<polygon fill=\"#000000\" stroke=\"#000000\" points=\"722.3716,-62.6946 725.5214,-52.5788 716.7508,-58.5225 722.3716,-62.6946\"/>\n",
       "</g>\n",
       "<!-- 9 -->\n",
       "<g id=\"node18\" class=\"node\">\n",
       "<title>9</title>\n",
       "<path fill=\"#399de5\" stroke=\"#000000\" d=\"M785.75,-253.5C785.75,-253.5 714.75,-253.5 714.75,-253.5 708.75,-253.5 702.75,-247.5 702.75,-241.5 702.75,-241.5 702.75,-212.5 702.75,-212.5 702.75,-206.5 708.75,-200.5 714.75,-200.5 714.75,-200.5 785.75,-200.5 785.75,-200.5 791.75,-200.5 797.75,-206.5 797.75,-212.5 797.75,-212.5 797.75,-241.5 797.75,-241.5 797.75,-247.5 791.75,-253.5 785.75,-253.5\"/>\n",
       "<text text-anchor=\"start\" x=\"722.25\" y=\"-238.3\" font-family=\"Helvetica,sans-Serif\" font-size=\"14.00\" fill=\"#000000\">gini = 0.0</text>\n",
       "<text text-anchor=\"start\" x=\"712.75\" y=\"-223.3\" font-family=\"Helvetica,sans-Serif\" font-size=\"14.00\" fill=\"#000000\">samples = 4</text>\n",
       "<text text-anchor=\"start\" x=\"710.75\" y=\"-208.3\" font-family=\"Helvetica,sans-Serif\" font-size=\"14.00\" fill=\"#000000\">value = [0, 4]</text>\n",
       "</g>\n",
       "<!-- 8&#45;&gt;9 -->\n",
       "<g id=\"edge17\" class=\"edge\">\n",
       "<title>8&#45;&gt;9</title>\n",
       "<path fill=\"none\" stroke=\"#000000\" d=\"M751.5951,-296.9465C751.3897,-286.2621 751.162,-274.4254 750.9534,-263.5742\"/>\n",
       "<polygon fill=\"#000000\" stroke=\"#000000\" points=\"754.4521,-263.473 750.7604,-253.5422 747.4534,-263.6076 754.4521,-263.473\"/>\n",
       "</g>\n",
       "<!-- 10 -->\n",
       "<g id=\"node19\" class=\"node\">\n",
       "<title>10</title>\n",
       "<path fill=\"#eca06a\" stroke=\"#000000\" d=\"M931.25,-253.5C931.25,-253.5 857.25,-253.5 857.25,-253.5 851.25,-253.5 845.25,-247.5 845.25,-241.5 845.25,-241.5 845.25,-212.5 845.25,-212.5 845.25,-206.5 851.25,-200.5 857.25,-200.5 857.25,-200.5 931.25,-200.5 931.25,-200.5 937.25,-200.5 943.25,-206.5 943.25,-212.5 943.25,-212.5 943.25,-241.5 943.25,-241.5 943.25,-247.5 937.25,-253.5 931.25,-253.5\"/>\n",
       "<text text-anchor=\"start\" x=\"866.25\" y=\"-238.3\" font-family=\"Helvetica,sans-Serif\" font-size=\"14.00\" fill=\"#000000\">gini = 0.0</text>\n",
       "<text text-anchor=\"start\" x=\"853.25\" y=\"-223.3\" font-family=\"Helvetica,sans-Serif\" font-size=\"14.00\" fill=\"#000000\">samples = 10</text>\n",
       "<text text-anchor=\"start\" x=\"854.75\" y=\"-208.3\" font-family=\"Helvetica,sans-Serif\" font-size=\"14.00\" fill=\"#000000\">value = [8, 2]</text>\n",
       "</g>\n",
       "<!-- 8&#45;&gt;10 -->\n",
       "<g id=\"edge18\" class=\"edge\">\n",
       "<title>8&#45;&gt;10</title>\n",
       "<path fill=\"none\" stroke=\"#000000\" d=\"M798.7461,-296.9465C815.1393,-284.9403 833.5189,-271.4791 849.7436,-259.5962\"/>\n",
       "<polygon fill=\"#000000\" stroke=\"#000000\" points=\"852.0101,-262.2746 858.0097,-253.5422 847.874,-256.6272 852.0101,-262.2746\"/>\n",
       "</g>\n",
       "</g>\n",
       "</svg>\n"
      ],
      "text/plain": [
       "<graphviz.files.Source at 0x7f8d7219bed0>"
      ]
     },
     "execution_count": 11,
     "metadata": {},
     "output_type": "execute_result"
    }
   ],
   "source": [
    "draw_tree(tree, train_xs, size=7)"
   ]
  },
  {
   "cell_type": "code",
   "execution_count": 12,
   "metadata": {},
   "outputs": [],
   "source": [
    "test_yhat = tree.predict(test_xs)"
   ]
  },
  {
   "cell_type": "code",
   "execution_count": 13,
   "metadata": {},
   "outputs": [
    {
     "data": {
      "text/plain": [
       "0.7704918032786885"
      ]
     },
     "execution_count": 13,
     "metadata": {},
     "output_type": "execute_result"
    }
   ],
   "source": [
    "# Accuracy\n",
    "(test_yhat == test_y).astype(int).mean()"
   ]
  },
  {
   "cell_type": "code",
   "execution_count": 14,
   "metadata": {},
   "outputs": [
    {
     "data": {
      "text/plain": [
       "0.7704918032786885"
      ]
     },
     "execution_count": 14,
     "metadata": {},
     "output_type": "execute_result"
    }
   ],
   "source": [
    "from sklearn.metrics import accuracy_score\n",
    "accuracy_score(test_y, test_yhat)"
   ]
  },
  {
   "cell_type": "code",
   "execution_count": 15,
   "metadata": {},
   "outputs": [
    {
     "name": "stdout",
     "output_type": "stream",
     "text": [
      "              precision    recall  f1-score   support\n",
      "\n",
      "           0       0.75      0.80      0.77        30\n",
      "           1       0.79      0.74      0.77        31\n",
      "\n",
      "    accuracy                           0.77        61\n",
      "   macro avg       0.77      0.77      0.77        61\n",
      "weighted avg       0.77      0.77      0.77        61\n",
      "\n"
     ]
    }
   ],
   "source": [
    "from sklearn.metrics import classification_report\n",
    "\n",
    "print(classification_report(test_y, test_yhat))"
   ]
  },
  {
   "cell_type": "markdown",
   "metadata": {},
   "source": [
    "## Logistic regression (82.0%)"
   ]
  },
  {
   "cell_type": "code",
   "execution_count": 16,
   "metadata": {},
   "outputs": [],
   "source": [
    "# Logistic regression requires data normalization for proper convergence\n",
    "from sklearn.preprocessing import StandardScaler\n",
    "\n",
    "scaler = StandardScaler().fit(train_xs)"
   ]
  },
  {
   "cell_type": "code",
   "execution_count": 17,
   "metadata": {},
   "outputs": [],
   "source": [
    "train_xs_norm = scaler.transform(train_xs)"
   ]
  },
  {
   "cell_type": "code",
   "execution_count": 18,
   "metadata": {},
   "outputs": [
    {
     "data": {
      "text/plain": [
       "LogisticRegression()"
      ]
     },
     "execution_count": 18,
     "metadata": {},
     "output_type": "execute_result"
    }
   ],
   "source": [
    "from sklearn.linear_model import LogisticRegression\n",
    "\n",
    "classifier = LogisticRegression()\n",
    "classifier.fit(train_xs_norm, train_y)"
   ]
  },
  {
   "cell_type": "code",
   "execution_count": 19,
   "metadata": {},
   "outputs": [],
   "source": [
    "test_yhat = classifier.predict(scaler.transform(test_xs))"
   ]
  },
  {
   "cell_type": "code",
   "execution_count": 20,
   "metadata": {},
   "outputs": [
    {
     "data": {
      "text/plain": [
       "0.819672131147541"
      ]
     },
     "execution_count": 20,
     "metadata": {},
     "output_type": "execute_result"
    }
   ],
   "source": [
    "accuracy_score(test_y, test_yhat)"
   ]
  },
  {
   "cell_type": "markdown",
   "metadata": {},
   "source": [
    "## Random forest (86.9%)"
   ]
  },
  {
   "cell_type": "code",
   "execution_count": 21,
   "metadata": {},
   "outputs": [],
   "source": [
    "from sklearn.ensemble import RandomForestClassifier\n",
    "\n",
    "def build_random_forest(\n",
    "    xs, \n",
    "    y, \n",
    "    n_estimators=40, \n",
    "    max_features=0.5, \n",
    "    min_samples_leaf=5\n",
    "):\n",
    "\n",
    "    return RandomForestClassifier(\n",
    "        n_estimators=n_estimators,\n",
    "        max_features=max_features,\n",
    "        min_samples_leaf=min_samples_leaf,\n",
    "        bootstrap=True,\n",
    "        oob_score=True\n",
    "    ).fit(xs, y)"
   ]
  },
  {
   "cell_type": "code",
   "execution_count": 22,
   "metadata": {},
   "outputs": [],
   "source": [
    "forest = build_random_forest(train_xs, train_y)"
   ]
  },
  {
   "cell_type": "code",
   "execution_count": 23,
   "metadata": {},
   "outputs": [
    {
     "data": {
      "text/plain": [
       "0.8032786885245902"
      ]
     },
     "execution_count": 23,
     "metadata": {},
     "output_type": "execute_result"
    }
   ],
   "source": [
    "accuracy_score(\n",
    "    test_y,\n",
    "    forest.predict(test_xs)\n",
    ")"
   ]
  },
  {
   "cell_type": "markdown",
   "metadata": {},
   "source": [
    "Running different configurations below yield performance that's slightly better than logistic regression.\n",
    "\n",
    "However, what's curious: The score should be higher for trees with max_features lower 1 - but that's not what happens. Why not?"
   ]
  },
  {
   "cell_type": "code",
   "execution_count": 24,
   "metadata": {},
   "outputs": [],
   "source": [
    "def run_random_forest(n_estimators, max_features):\n",
    "    forest = build_random_forest(train_xs, train_y, n_estimators, max_features)\n",
    "    accuracy = accuracy_score(\n",
    "        test_y,\n",
    "        forest.predict(test_xs)\n",
    "    )\n",
    "    return accuracy"
   ]
  },
  {
   "cell_type": "code",
   "execution_count": 25,
   "metadata": {},
   "outputs": [
    {
     "name": "stdout",
     "output_type": "stream",
     "text": [
      "0.8688524590163934\n"
     ]
    },
    {
     "data": {
      "image/png": "[encoded data removed]",
      "text/plain": [
       "<Figure size 432x288 with 1 Axes>"
      ]
     },
     "metadata": {
      "needs_background": "light"
     },
     "output_type": "display_data"
    }
   ],
   "source": [
    "from itertools import product\n",
    "\n",
    "best_score = 0.\n",
    "for max_features in [1, 0.5, 'sqrt', 'log2']:\n",
    "    n_estimator_values = list(range(20, 300, 20))\n",
    "    accuracies = [\n",
    "        run_random_forest(n_estimators, max_features)\n",
    "        for n_estimators in n_estimator_values\n",
    "    ]\n",
    "    best_score = max(best_score, max(accuracies))\n",
    "    plt.plot(n_estimator_values, accuracies, label=str(max_features))\n",
    "\n",
    "print(best_score)\n",
    "plt.legend()\n",
    "plt.show()\n"
   ]
  },
  {
   "cell_type": "markdown",
   "metadata": {},
   "source": [
    "# Model interpretation\n",
    "\n",
    "The trained models have captured some information about the data that we can inspect to a) understand more about the underlying data and b) improve our models.\n",
    "\n",
    "## Feature importance\n",
    "\n",
    "Which is the most important feature to identify increased risk of heart attacks?"
   ]
  },
  {
   "cell_type": "code",
   "execution_count": 26,
   "metadata": {},
   "outputs": [],
   "source": [
    "feature_imp = pd.DataFrame({\n",
    "    \"feature\": train_xs.columns,\n",
    "    \"importance\": np.stack([tree.feature_importances_ for tree in forest.estimators_]).mean(0)\n",
    "})\n",
    "feature_imp.sort_values(by='importance', ascending=False, inplace=True)"
   ]
  },
  {
   "cell_type": "code",
   "execution_count": 27,
   "metadata": {},
   "outputs": [
    {
     "data": {
      "text/html": [
       "<div>\n",
       "<style scoped>\n",
       "    .dataframe tbody tr th:only-of-type {\n",
       "        vertical-align: middle;\n",
       "    }\n",
       "\n",
       "    .dataframe tbody tr th {\n",
       "        vertical-align: top;\n",
       "    }\n",
       "\n",
       "    .dataframe thead th {\n",
       "        text-align: right;\n",
       "    }\n",
       "</style>\n",
       "<table border=\"1\" class=\"dataframe\">\n",
       "  <thead>\n",
       "    <tr style=\"text-align: right;\">\n",
       "      <th></th>\n",
       "      <th>feature</th>\n",
       "      <th>importance</th>\n",
       "    </tr>\n",
       "  </thead>\n",
       "  <tbody>\n",
       "    <tr>\n",
       "      <th>2</th>\n",
       "      <td>cp</td>\n",
       "      <td>0.288542</td>\n",
       "    </tr>\n",
       "    <tr>\n",
       "      <th>11</th>\n",
       "      <td>caa</td>\n",
       "      <td>0.166916</td>\n",
       "    </tr>\n",
       "    <tr>\n",
       "      <th>12</th>\n",
       "      <td>thall</td>\n",
       "      <td>0.128635</td>\n",
       "    </tr>\n",
       "    <tr>\n",
       "      <th>9</th>\n",
       "      <td>oldpeak</td>\n",
       "      <td>0.091222</td>\n",
       "    </tr>\n",
       "    <tr>\n",
       "      <th>0</th>\n",
       "      <td>age</td>\n",
       "      <td>0.069067</td>\n",
       "    </tr>\n",
       "    <tr>\n",
       "      <th>7</th>\n",
       "      <td>thalachh</td>\n",
       "      <td>0.062245</td>\n",
       "    </tr>\n",
       "    <tr>\n",
       "      <th>8</th>\n",
       "      <td>exng</td>\n",
       "      <td>0.057659</td>\n",
       "    </tr>\n",
       "    <tr>\n",
       "      <th>3</th>\n",
       "      <td>trtbps</td>\n",
       "      <td>0.043706</td>\n",
       "    </tr>\n",
       "    <tr>\n",
       "      <th>1</th>\n",
       "      <td>sex</td>\n",
       "      <td>0.034271</td>\n",
       "    </tr>\n",
       "    <tr>\n",
       "      <th>4</th>\n",
       "      <td>chol</td>\n",
       "      <td>0.031958</td>\n",
       "    </tr>\n",
       "    <tr>\n",
       "      <th>10</th>\n",
       "      <td>slp</td>\n",
       "      <td>0.015906</td>\n",
       "    </tr>\n",
       "    <tr>\n",
       "      <th>6</th>\n",
       "      <td>restecg</td>\n",
       "      <td>0.009133</td>\n",
       "    </tr>\n",
       "    <tr>\n",
       "      <th>5</th>\n",
       "      <td>fbs</td>\n",
       "      <td>0.000739</td>\n",
       "    </tr>\n",
       "  </tbody>\n",
       "</table>\n",
       "</div>"
      ],
      "text/plain": [
       "     feature  importance\n",
       "2         cp    0.288542\n",
       "11       caa    0.166916\n",
       "12     thall    0.128635\n",
       "9    oldpeak    0.091222\n",
       "0        age    0.069067\n",
       "7   thalachh    0.062245\n",
       "8       exng    0.057659\n",
       "3     trtbps    0.043706\n",
       "1        sex    0.034271\n",
       "4       chol    0.031958\n",
       "10       slp    0.015906\n",
       "6    restecg    0.009133\n",
       "5        fbs    0.000739"
      ]
     },
     "execution_count": 27,
     "metadata": {},
     "output_type": "execute_result"
    }
   ],
   "source": [
    "feature_imp"
   ]
  },
  {
   "cell_type": "code",
   "execution_count": 28,
   "metadata": {},
   "outputs": [
    {
     "data": {
      "text/plain": [
       "<AxesSubplot:ylabel='feature'>"
      ]
     },
     "execution_count": 28,
     "metadata": {},
     "output_type": "execute_result"
    },
    {
     "data": {
      "image/png": "[encoded data removed]",
      "text/plain": [
       "<Figure size 432x288 with 1 Axes>"
      ]
     },
     "metadata": {
      "needs_background": "light"
     },
     "output_type": "display_data"
    }
   ],
   "source": [
    "feature_imp.plot.barh(x='feature', y='importance')"
   ]
  },
  {
   "cell_type": "markdown",
   "metadata": {},
   "source": [
    "We can see that the most important features are:\n",
    "1. cp: Chest pain type\n",
    "2. caa: Number of major vessels\n",
    "3. thall: Maximum heart rate achieved\n",
    "\n",
    "The least important features are:\n",
    "1. fbs: fasting blood sugar\n",
    "2. restecg: resting electrocardiographic results\n",
    "3. slp: ?\n",
    "\n",
    "Do these features make sense? I'm not sure, would have to do some research on actual heart attack factors from the literature.\n",
    "\n",
    "## Understand single predictions using waterfall charts\n",
    "\n",
    "When looking at a single row from the dataset we can visualize how its prediction came to be using two helper libraries:"
   ]
  },
  {
   "cell_type": "code",
   "execution_count": 29,
   "metadata": {},
   "outputs": [
    {
     "name": "stdout",
     "output_type": "stream",
     "text": [
      "Requirement already satisfied: treeinterpreter in /home/flo/miniconda3/envs/practice-ml/lib/python3.7/site-packages (0.2.3)\n",
      "Requirement already satisfied: waterfallcharts in /home/flo/miniconda3/envs/practice-ml/lib/python3.7/site-packages (3.8)\n"
     ]
    }
   ],
   "source": [
    "!pip install treeinterpreter\n",
    "!pip install waterfallcharts"
   ]
  },
  {
   "cell_type": "code",
   "execution_count": 30,
   "metadata": {},
   "outputs": [],
   "source": [
    "from treeinterpreter import treeinterpreter\n",
    "import waterfall_chart"
   ]
  },
  {
   "cell_type": "code",
   "execution_count": 31,
   "metadata": {},
   "outputs": [],
   "source": [
    "# Get predictions for test data\n",
    "prediction, bias, contributions = treeinterpreter.predict(forest, test_xs.values)"
   ]
  },
  {
   "cell_type": "code",
   "execution_count": 32,
   "metadata": {},
   "outputs": [],
   "source": [
    "# treeinterpreter yields results for each of our 2 classes, we can simplify to class zero only\n",
    "sample_idx = 0\n",
    "class_idx = 0\n",
    "contributions_class_0 = contributions[sample_idx,:,class_idx]"
   ]
  },
  {
   "cell_type": "code",
   "execution_count": 33,
   "metadata": {},
   "outputs": [
    {
     "data": {
      "text/html": [
       "<div>\n",
       "<style scoped>\n",
       "    .dataframe tbody tr th:only-of-type {\n",
       "        vertical-align: middle;\n",
       "    }\n",
       "\n",
       "    .dataframe tbody tr th {\n",
       "        vertical-align: top;\n",
       "    }\n",
       "\n",
       "    .dataframe thead th {\n",
       "        text-align: right;\n",
       "    }\n",
       "</style>\n",
       "<table border=\"1\" class=\"dataframe\">\n",
       "  <thead>\n",
       "    <tr style=\"text-align: right;\">\n",
       "      <th></th>\n",
       "      <th>age</th>\n",
       "      <th>sex</th>\n",
       "      <th>cp</th>\n",
       "      <th>trtbps</th>\n",
       "      <th>chol</th>\n",
       "      <th>fbs</th>\n",
       "      <th>restecg</th>\n",
       "      <th>thalachh</th>\n",
       "      <th>exng</th>\n",
       "      <th>oldpeak</th>\n",
       "      <th>slp</th>\n",
       "      <th>caa</th>\n",
       "      <th>thall</th>\n",
       "    </tr>\n",
       "  </thead>\n",
       "  <tbody>\n",
       "    <tr>\n",
       "      <th>231</th>\n",
       "      <td>57</td>\n",
       "      <td>1</td>\n",
       "      <td>0</td>\n",
       "      <td>165</td>\n",
       "      <td>289</td>\n",
       "      <td>1</td>\n",
       "      <td>0</td>\n",
       "      <td>124</td>\n",
       "      <td>0</td>\n",
       "      <td>1.0</td>\n",
       "      <td>1</td>\n",
       "      <td>3</td>\n",
       "      <td>3</td>\n",
       "    </tr>\n",
       "  </tbody>\n",
       "</table>\n",
       "</div>"
      ],
      "text/plain": [
       "     age  sex  cp  trtbps  chol  fbs  restecg  thalachh  exng  oldpeak  slp  \\\n",
       "231   57    1   0     165   289    1        0       124     0      1.0    1   \n",
       "\n",
       "     caa  thall  \n",
       "231    3      3  "
      ]
     },
     "execution_count": 33,
     "metadata": {},
     "output_type": "execute_result"
    }
   ],
   "source": [
    "# Let's look at the sample again\n",
    "test_xs.iloc[sample_idx:sample_idx+1]"
   ]
  },
  {
   "cell_type": "code",
   "execution_count": 34,
   "metadata": {},
   "outputs": [
    {
     "data": {
      "text/plain": [
       "<module 'matplotlib.pyplot' from '/home/flo/miniconda3/envs/practice-ml/lib/python3.7/site-packages/matplotlib/pyplot.py'>"
      ]
     },
     "execution_count": 34,
     "metadata": {},
     "output_type": "execute_result"
    },
    {
     "data": {
      "image/png": "[encoded data removed]",
      "text/plain": [
       "<Figure size 432x288 with 1 Axes>"
      ]
     },
     "metadata": {
      "needs_background": "light"
     },
     "output_type": "display_data"
    }
   ],
   "source": [
    "waterfall_chart.plot(test_xs.columns, contributions_class_0, formatting='{:,.2f}')"
   ]
  }
 ],
 "metadata": {
  "kernelspec": {
   "display_name": "Python 3",
   "language": "python",
   "name": "python3"
  },
  "language_info": {
   "codemirror_mode": {
    "name": "ipython",
    "version": 3
   },
   "file_extension": ".py",
   "mimetype": "text/x-python",
   "name": "python",
   "nbconvert_exporter": "python",
   "pygments_lexer": "ipython3",
   "version": "3.7.5"
  }
 },
 "nbformat": 4,
 "nbformat_minor": 2
}
