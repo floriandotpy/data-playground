{
 "cells": [
  {
   "cell_type": "code",
   "execution_count": 1,
   "id": "0424f6bd",
   "metadata": {},
   "outputs": [],
   "source": [
    "import torch\n",
    "from torch import tensor"
   ]
  },
  {
   "cell_type": "code",
   "execution_count": 2,
   "id": "059fc5da",
   "metadata": {},
   "outputs": [],
   "source": [
    "def matmul(a, b):\n",
    "    \"\"\"Matrix multiplication\"\"\"\n",
    "    \n",
    "    # check shapes\n",
    "    a_rows, a_cols = a.shape\n",
    "    b_rows, b_cols = b.shape\n",
    "    assert a_cols == b_rows\n",
    "\n",
    "    # output matrix in correct shape\n",
    "    c = torch.zeros(a_rows, b_cols)\n",
    "    \n",
    "    # perform matrix multiplication\n",
    "    # super slow, but explicit for clarity\n",
    "    for i in range(a_rows):\n",
    "        for j in range(b_cols):\n",
    "            for n in range(a_cols):\n",
    "                c[i,j] += a[i,n] * b[n,j]\n",
    "    return c"
   ]
  },
  {
   "cell_type": "code",
   "execution_count": 3,
   "id": "3d3ce8fc",
   "metadata": {},
   "outputs": [],
   "source": [
    "m1 = torch.randn(5,8)\n",
    "m2 = torch.randn(8, 10)"
   ]
  },
  {
   "cell_type": "code",
   "execution_count": 4,
   "id": "9548dd95",
   "metadata": {},
   "outputs": [
    {
     "data": {
      "text/plain": [
       "tensor([[-4.8683,  1.4676,  4.9832, -2.8377,  3.4170,  0.7946, -0.9857,  4.6231,\n",
       "          2.3431, -3.9925],\n",
       "        [-0.5805,  2.8860, -0.6804,  0.0826, -0.4603, -0.9135, -0.7258,  1.0232,\n",
       "          1.8894, -1.2031],\n",
       "        [-3.5207,  2.6728,  6.9291,  2.1323,  1.2464, -3.2684,  0.6533,  3.0453,\n",
       "         -0.4308, -1.0522],\n",
       "        [-0.7621, -3.7296,  0.6581, -0.3036,  1.5209,  4.4781, -1.1688,  2.3622,\n",
       "         -1.7342,  3.1560],\n",
       "        [ 2.5035,  3.7445,  1.9928,  2.1801, -1.8531, -4.4684,  1.6366, -0.5950,\n",
       "          1.0099,  2.0906]])"
      ]
     },
     "execution_count": 4,
     "metadata": {},
     "output_type": "execute_result"
    }
   ],
   "source": [
    "matmul(m1, m2)"
   ]
  },
  {
   "cell_type": "code",
   "execution_count": 9,
   "id": "7b0db920",
   "metadata": {},
   "outputs": [
    {
     "data": {
      "text/plain": [
       "tensor([[0., 0.],\n",
       "        [0., 0.],\n",
       "        [0., 0.]])"
      ]
     },
     "execution_count": 9,
     "metadata": {},
     "output_type": "execute_result"
    }
   ],
   "source": [
    "m1 = tensor([[1., 2.],\n",
    "             [3., 4.],\n",
    "             [5., 6.]])\n",
    "m2 = tensor([[0., 0.],\n",
    "             [0., 0.]])\n",
    "matmul(m1, m2)"
   ]
  },
  {
   "cell_type": "code",
   "execution_count": null,
   "id": "5951319e",
   "metadata": {},
   "outputs": [],
   "source": []
  }
 ],
 "metadata": {
  "kernelspec": {
   "display_name": "Python 3",
   "language": "python",
   "name": "python3"
  },
  "language_info": {
   "codemirror_mode": {
    "name": "ipython",
    "version": 3
   },
   "file_extension": ".py",
   "mimetype": "text/x-python",
   "name": "python",
   "nbconvert_exporter": "python",
   "pygments_lexer": "ipython3",
   "version": "3.7.0"
  }
 },
 "nbformat": 4,
 "nbformat_minor": 5
}
