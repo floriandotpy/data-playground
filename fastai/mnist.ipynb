{
 "cells": [
  {
   "cell_type": "code",
   "execution_count": 1,
   "metadata": {},
   "outputs": [],
   "source": [
    "# !pip install -Uqq fastbook"
   ]
  },
  {
   "cell_type": "code",
   "execution_count": 2,
   "metadata": {},
   "outputs": [],
   "source": [
    "# !pip install graphviz"
   ]
  },
  {
   "cell_type": "code",
   "execution_count": 3,
   "metadata": {},
   "outputs": [],
   "source": [
    "import fastbook\n",
    "fastbook.setup_book()"
   ]
  },
  {
   "cell_type": "code",
   "execution_count": 4,
   "metadata": {},
   "outputs": [],
   "source": [
    "from fastai.vision.all import *\n",
    "from fastbook import *"
   ]
  },
  {
   "cell_type": "code",
   "execution_count": 5,
   "metadata": {},
   "outputs": [
    {
     "data": {
      "text/plain": [
       "['ADULT_SAMPLE',\n",
       " 'AG_NEWS',\n",
       " 'AMAZON_REVIEWS',\n",
       " 'AMAZON_REVIEWS_POLARITY',\n",
       " 'BIWI_HEAD_POSE',\n",
       " 'BIWI_SAMPLE',\n",
       " 'CALTECH_101',\n",
       " 'CAMVID',\n",
       " 'CAMVID_TINY',\n",
       " 'CARS',\n",
       " 'CIFAR',\n",
       " 'CIFAR_100',\n",
       " 'COCO_SAMPLE',\n",
       " 'COCO_TINY',\n",
       " 'CUB_200_2011',\n",
       " 'DBPEDIA',\n",
       " 'DOGS',\n",
       " 'FLOWERS',\n",
       " 'FOOD',\n",
       " 'HUMAN_NUMBERS',\n",
       " 'IMAGENETTE',\n",
       " 'IMAGENETTE_160',\n",
       " 'IMAGENETTE_320',\n",
       " 'IMAGEWANG',\n",
       " 'IMAGEWANG_160',\n",
       " 'IMAGEWANG_320',\n",
       " 'IMAGEWOOF',\n",
       " 'IMAGEWOOF_160',\n",
       " 'IMAGEWOOF_320',\n",
       " 'IMDB',\n",
       " 'IMDB_SAMPLE',\n",
       " 'LOCAL_PATH',\n",
       " 'LSUN_BEDROOMS',\n",
       " 'MACAQUES',\n",
       " 'MDL',\n",
       " 'ML_100k',\n",
       " 'ML_SAMPLE',\n",
       " 'MNIST',\n",
       " 'MNIST_SAMPLE',\n",
       " 'MNIST_TINY',\n",
       " 'MNIST_VAR_SIZE_TINY',\n",
       " 'MT_ENG_FRA',\n",
       " 'OPENAI_TRANSFORMER',\n",
       " 'PASCAL_2007',\n",
       " 'PASCAL_2012',\n",
       " 'PETS',\n",
       " 'PLANET_SAMPLE',\n",
       " 'PLANET_TINY',\n",
       " 'S3',\n",
       " 'S3_AUDI',\n",
       " 'S3_COCO',\n",
       " 'S3_IMAGE',\n",
       " 'S3_IMAGELOC',\n",
       " 'S3_MODEL',\n",
       " 'S3_NLP',\n",
       " 'SIIM_SMALL',\n",
       " 'SOGOU_NEWS',\n",
       " 'TCGA_SMALL',\n",
       " 'URL',\n",
       " 'WIKITEXT',\n",
       " 'WIKITEXT_TINY',\n",
       " 'WT103_BWD',\n",
       " 'WT103_FWD',\n",
       " 'YAHOO_ANSWERS',\n",
       " 'YELP_REVIEWS',\n",
       " 'YELP_REVIEWS_POLARITY',\n",
       " 'ZEBRA_FINCH',\n",
       " '__class__',\n",
       " '__delattr__',\n",
       " '__dict__',\n",
       " '__dir__',\n",
       " '__doc__',\n",
       " '__eq__',\n",
       " '__format__',\n",
       " '__ge__',\n",
       " '__getattribute__',\n",
       " '__gt__',\n",
       " '__hash__',\n",
       " '__init__',\n",
       " '__init_subclass__',\n",
       " '__le__',\n",
       " '__lt__',\n",
       " '__module__',\n",
       " '__ne__',\n",
       " '__new__',\n",
       " '__reduce__',\n",
       " '__reduce_ex__',\n",
       " '__repr__',\n",
       " '__setattr__',\n",
       " '__sizeof__',\n",
       " '__str__',\n",
       " '__subclasshook__',\n",
       " '__weakref__',\n",
       " 'path']"
      ]
     },
     "execution_count": 5,
     "metadata": {},
     "output_type": "execute_result"
    }
   ],
   "source": [
    "dir(URLs)"
   ]
  },
  {
   "cell_type": "code",
   "execution_count": 6,
   "metadata": {},
   "outputs": [],
   "source": [
    "path = untar_data(URLs.MNIST_SAMPLE)"
   ]
  },
  {
   "cell_type": "code",
   "execution_count": 7,
   "metadata": {},
   "outputs": [
    {
     "data": {
      "text/plain": [
       "Path('/Users/flo/.fastai/data/mnist_sample')"
      ]
     },
     "execution_count": 7,
     "metadata": {},
     "output_type": "execute_result"
    }
   ],
   "source": [
    "path"
   ]
  },
  {
   "cell_type": "code",
   "execution_count": 8,
   "metadata": {},
   "outputs": [
    {
     "data": {
      "text/plain": [
       "(#3) [Path('/Users/flo/.fastai/data/mnist_sample/valid'),Path('/Users/flo/.fastai/data/mnist_sample/labels.csv'),Path('/Users/flo/.fastai/data/mnist_sample/train')]"
      ]
     },
     "execution_count": 8,
     "metadata": {},
     "output_type": "execute_result"
    }
   ],
   "source": [
    "path.ls()"
   ]
  },
  {
   "cell_type": "code",
   "execution_count": 9,
   "metadata": {},
   "outputs": [],
   "source": [
    "threes = (path / 'train/3').ls().sorted()\n",
    "sevens = (path / 'train/7').ls().sorted()"
   ]
  },
  {
   "cell_type": "code",
   "execution_count": 10,
   "metadata": {},
   "outputs": [
    {
     "data": {
      "image/png": "[encoded data removed]",
      "text/plain": [
       "<PIL.PngImagePlugin.PngImageFile image mode=L size=28x28 at 0x7FBAE4982860>"
      ]
     },
     "execution_count": 10,
     "metadata": {},
     "output_type": "execute_result"
    }
   ],
   "source": [
    "img = Image.open(threes[0])\n",
    "img"
   ]
  },
  {
   "cell_type": "code",
   "execution_count": 11,
   "metadata": {},
   "outputs": [],
   "source": [
    "import pandas as pd"
   ]
  },
  {
   "cell_type": "code",
   "execution_count": 50,
   "metadata": {},
   "outputs": [
    {
     "data": {
      "text/html": [
       "<style  type=\"text/css\" >\n",
       "#T_39b86fae_9c7f_11eb_9879_acde48001122row0_col0,#T_39b86fae_9c7f_11eb_9879_acde48001122row0_col1,#T_39b86fae_9c7f_11eb_9879_acde48001122row0_col2,#T_39b86fae_9c7f_11eb_9879_acde48001122row0_col3,#T_39b86fae_9c7f_11eb_9879_acde48001122row0_col4,#T_39b86fae_9c7f_11eb_9879_acde48001122row0_col5,#T_39b86fae_9c7f_11eb_9879_acde48001122row0_col6,#T_39b86fae_9c7f_11eb_9879_acde48001122row0_col7,#T_39b86fae_9c7f_11eb_9879_acde48001122row0_col8,#T_39b86fae_9c7f_11eb_9879_acde48001122row0_col9,#T_39b86fae_9c7f_11eb_9879_acde48001122row0_col10,#T_39b86fae_9c7f_11eb_9879_acde48001122row0_col11,#T_39b86fae_9c7f_11eb_9879_acde48001122row0_col12,#T_39b86fae_9c7f_11eb_9879_acde48001122row0_col13,#T_39b86fae_9c7f_11eb_9879_acde48001122row0_col14,#T_39b86fae_9c7f_11eb_9879_acde48001122row0_col15,#T_39b86fae_9c7f_11eb_9879_acde48001122row0_col16,#T_39b86fae_9c7f_11eb_9879_acde48001122row0_col17,#T_39b86fae_9c7f_11eb_9879_acde48001122row0_col18,#T_39b86fae_9c7f_11eb_9879_acde48001122row0_col19,#T_39b86fae_9c7f_11eb_9879_acde48001122row0_col20,#T_39b86fae_9c7f_11eb_9879_acde48001122row0_col21,#T_39b86fae_9c7f_11eb_9879_acde48001122row0_col22,#T_39b86fae_9c7f_11eb_9879_acde48001122row0_col23,#T_39b86fae_9c7f_11eb_9879_acde48001122row0_col24,#T_39b86fae_9c7f_11eb_9879_acde48001122row0_col25,#T_39b86fae_9c7f_11eb_9879_acde48001122row0_col26,#T_39b86fae_9c7f_11eb_9879_acde48001122row0_col27,#T_39b86fae_9c7f_11eb_9879_acde48001122row1_col0,#T_39b86fae_9c7f_11eb_9879_acde48001122row1_col1,#T_39b86fae_9c7f_11eb_9879_acde48001122row1_col2,#T_39b86fae_9c7f_11eb_9879_acde48001122row1_col3,#T_39b86fae_9c7f_11eb_9879_acde48001122row1_col4,#T_39b86fae_9c7f_11eb_9879_acde48001122row1_col5,#T_39b86fae_9c7f_11eb_9879_acde48001122row1_col6,#T_39b86fae_9c7f_11eb_9879_acde48001122row1_col7,#T_39b86fae_9c7f_11eb_9879_acde48001122row1_col8,#T_39b86fae_9c7f_11eb_9879_acde48001122row1_col9,#T_39b86fae_9c7f_11eb_9879_acde48001122row1_col10,#T_39b86fae_9c7f_11eb_9879_acde48001122row1_col11,#T_39b86fae_9c7f_11eb_9879_acde48001122row1_col12,#T_39b86fae_9c7f_11eb_9879_acde48001122row1_col13,#T_39b86fae_9c7f_11eb_9879_acde48001122row1_col14,#T_39b86fae_9c7f_11eb_9879_acde48001122row1_col15,#T_39b86fae_9c7f_11eb_9879_acde48001122row1_col16,#T_39b86fae_9c7f_11eb_9879_acde48001122row1_col17,#T_39b86fae_9c7f_11eb_9879_acde48001122row1_col18,#T_39b86fae_9c7f_11eb_9879_acde48001122row1_col19,#T_39b86fae_9c7f_11eb_9879_acde48001122row1_col20,#T_39b86fae_9c7f_11eb_9879_acde48001122row1_col21,#T_39b86fae_9c7f_11eb_9879_acde48001122row1_col22,#T_39b86fae_9c7f_11eb_9879_acde48001122row1_col23,#T_39b86fae_9c7f_11eb_9879_acde48001122row1_col24,#T_39b86fae_9c7f_11eb_9879_acde48001122row1_col25,#T_39b86fae_9c7f_11eb_9879_acde48001122row1_col26,#T_39b86fae_9c7f_11eb_9879_acde48001122row1_col27,#T_39b86fae_9c7f_11eb_9879_acde48001122row2_col0,#T_39b86fae_9c7f_11eb_9879_acde48001122row2_col1,#T_39b86fae_9c7f_11eb_9879_acde48001122row2_col2,#T_39b86fae_9c7f_11eb_9879_acde48001122row2_col3,#T_39b86fae_9c7f_11eb_9879_acde48001122row2_col4,#T_39b86fae_9c7f_11eb_9879_acde48001122row2_col5,#T_39b86fae_9c7f_11eb_9879_acde48001122row2_col6,#T_39b86fae_9c7f_11eb_9879_acde48001122row2_col7,#T_39b86fae_9c7f_11eb_9879_acde48001122row2_col8,#T_39b86fae_9c7f_11eb_9879_acde48001122row2_col9,#T_39b86fae_9c7f_11eb_9879_acde48001122row2_col10,#T_39b86fae_9c7f_11eb_9879_acde48001122row2_col11,#T_39b86fae_9c7f_11eb_9879_acde48001122row2_col12,#T_39b86fae_9c7f_11eb_9879_acde48001122row2_col13,#T_39b86fae_9c7f_11eb_9879_acde48001122row2_col14,#T_39b86fae_9c7f_11eb_9879_acde48001122row2_col15,#T_39b86fae_9c7f_11eb_9879_acde48001122row2_col16,#T_39b86fae_9c7f_11eb_9879_acde48001122row2_col17,#T_39b86fae_9c7f_11eb_9879_acde48001122row2_col18,#T_39b86fae_9c7f_11eb_9879_acde48001122row2_col19,#T_39b86fae_9c7f_11eb_9879_acde48001122row2_col20,#T_39b86fae_9c7f_11eb_9879_acde48001122row2_col21,#T_39b86fae_9c7f_11eb_9879_acde48001122row2_col22,#T_39b86fae_9c7f_11eb_9879_acde48001122row2_col23,#T_39b86fae_9c7f_11eb_9879_acde48001122row2_col24,#T_39b86fae_9c7f_11eb_9879_acde48001122row2_col25,#T_39b86fae_9c7f_11eb_9879_acde48001122row2_col26,#T_39b86fae_9c7f_11eb_9879_acde48001122row2_col27,#T_39b86fae_9c7f_11eb_9879_acde48001122row3_col0,#T_39b86fae_9c7f_11eb_9879_acde48001122row3_col1,#T_39b86fae_9c7f_11eb_9879_acde48001122row3_col2,#T_39b86fae_9c7f_11eb_9879_acde48001122row3_col3,#T_39b86fae_9c7f_11eb_9879_acde48001122row3_col4,#T_39b86fae_9c7f_11eb_9879_acde48001122row3_col5,#T_39b86fae_9c7f_11eb_9879_acde48001122row3_col6,#T_39b86fae_9c7f_11eb_9879_acde48001122row3_col7,#T_39b86fae_9c7f_11eb_9879_acde48001122row3_col8,#T_39b86fae_9c7f_11eb_9879_acde48001122row3_col9,#T_39b86fae_9c7f_11eb_9879_acde48001122row3_col10,#T_39b86fae_9c7f_11eb_9879_acde48001122row3_col11,#T_39b86fae_9c7f_11eb_9879_acde48001122row3_col12,#T_39b86fae_9c7f_11eb_9879_acde48001122row3_col13,#T_39b86fae_9c7f_11eb_9879_acde48001122row3_col14,#T_39b86fae_9c7f_11eb_9879_acde48001122row3_col15,#T_39b86fae_9c7f_11eb_9879_acde48001122row3_col16,#T_39b86fae_9c7f_11eb_9879_acde48001122row3_col17,#T_39b86fae_9c7f_11eb_9879_acde48001122row3_col18,#T_39b86fae_9c7f_11eb_9879_acde48001122row3_col19,#T_39b86fae_9c7f_11eb_9879_acde48001122row3_col20,#T_39b86fae_9c7f_11eb_9879_acde48001122row3_col21,#T_39b86fae_9c7f_11eb_9879_acde48001122row3_col22,#T_39b86fae_9c7f_11eb_9879_acde48001122row3_col23,#T_39b86fae_9c7f_11eb_9879_acde48001122row3_col24,#T_39b86fae_9c7f_11eb_9879_acde48001122row3_col25,#T_39b86fae_9c7f_11eb_9879_acde48001122row3_col26,#T_39b86fae_9c7f_11eb_9879_acde48001122row3_col27,#T_39b86fae_9c7f_11eb_9879_acde48001122row4_col0,#T_39b86fae_9c7f_11eb_9879_acde48001122row4_col1,#T_39b86fae_9c7f_11eb_9879_acde48001122row4_col2,#T_39b86fae_9c7f_11eb_9879_acde48001122row4_col3,#T_39b86fae_9c7f_11eb_9879_acde48001122row4_col4,#T_39b86fae_9c7f_11eb_9879_acde48001122row4_col5,#T_39b86fae_9c7f_11eb_9879_acde48001122row4_col6,#T_39b86fae_9c7f_11eb_9879_acde48001122row4_col7,#T_39b86fae_9c7f_11eb_9879_acde48001122row4_col8,#T_39b86fae_9c7f_11eb_9879_acde48001122row4_col9,#T_39b86fae_9c7f_11eb_9879_acde48001122row4_col10,#T_39b86fae_9c7f_11eb_9879_acde48001122row4_col18,#T_39b86fae_9c7f_11eb_9879_acde48001122row4_col19,#T_39b86fae_9c7f_11eb_9879_acde48001122row4_col20,#T_39b86fae_9c7f_11eb_9879_acde48001122row4_col21,#T_39b86fae_9c7f_11eb_9879_acde48001122row4_col22,#T_39b86fae_9c7f_11eb_9879_acde48001122row4_col23,#T_39b86fae_9c7f_11eb_9879_acde48001122row4_col24,#T_39b86fae_9c7f_11eb_9879_acde48001122row4_col25,#T_39b86fae_9c7f_11eb_9879_acde48001122row4_col26,#T_39b86fae_9c7f_11eb_9879_acde48001122row4_col27,#T_39b86fae_9c7f_11eb_9879_acde48001122row5_col0,#T_39b86fae_9c7f_11eb_9879_acde48001122row5_col1,#T_39b86fae_9c7f_11eb_9879_acde48001122row5_col2,#T_39b86fae_9c7f_11eb_9879_acde48001122row5_col3,#T_39b86fae_9c7f_11eb_9879_acde48001122row5_col4,#T_39b86fae_9c7f_11eb_9879_acde48001122row5_col5,#T_39b86fae_9c7f_11eb_9879_acde48001122row5_col6,#T_39b86fae_9c7f_11eb_9879_acde48001122row5_col7,#T_39b86fae_9c7f_11eb_9879_acde48001122row5_col8,#T_39b86fae_9c7f_11eb_9879_acde48001122row5_col9,#T_39b86fae_9c7f_11eb_9879_acde48001122row5_col18,#T_39b86fae_9c7f_11eb_9879_acde48001122row5_col19,#T_39b86fae_9c7f_11eb_9879_acde48001122row5_col20,#T_39b86fae_9c7f_11eb_9879_acde48001122row5_col21,#T_39b86fae_9c7f_11eb_9879_acde48001122row5_col22,#T_39b86fae_9c7f_11eb_9879_acde48001122row5_col23,#T_39b86fae_9c7f_11eb_9879_acde48001122row5_col24,#T_39b86fae_9c7f_11eb_9879_acde48001122row5_col25,#T_39b86fae_9c7f_11eb_9879_acde48001122row5_col26,#T_39b86fae_9c7f_11eb_9879_acde48001122row5_col27,#T_39b86fae_9c7f_11eb_9879_acde48001122row6_col0,#T_39b86fae_9c7f_11eb_9879_acde48001122row6_col1,#T_39b86fae_9c7f_11eb_9879_acde48001122row6_col2,#T_39b86fae_9c7f_11eb_9879_acde48001122row6_col3,#T_39b86fae_9c7f_11eb_9879_acde48001122row6_col4,#T_39b86fae_9c7f_11eb_9879_acde48001122row6_col5,#T_39b86fae_9c7f_11eb_9879_acde48001122row6_col6,#T_39b86fae_9c7f_11eb_9879_acde48001122row6_col7,#T_39b86fae_9c7f_11eb_9879_acde48001122row6_col8,#T_39b86fae_9c7f_11eb_9879_acde48001122row6_col9,#T_39b86fae_9c7f_11eb_9879_acde48001122row6_col19,#T_39b86fae_9c7f_11eb_9879_acde48001122row6_col20,#T_39b86fae_9c7f_11eb_9879_acde48001122row6_col21,#T_39b86fae_9c7f_11eb_9879_acde48001122row6_col22,#T_39b86fae_9c7f_11eb_9879_acde48001122row6_col23,#T_39b86fae_9c7f_11eb_9879_acde48001122row6_col24,#T_39b86fae_9c7f_11eb_9879_acde48001122row6_col25,#T_39b86fae_9c7f_11eb_9879_acde48001122row6_col26,#T_39b86fae_9c7f_11eb_9879_acde48001122row6_col27,#T_39b86fae_9c7f_11eb_9879_acde48001122row7_col0,#T_39b86fae_9c7f_11eb_9879_acde48001122row7_col1,#T_39b86fae_9c7f_11eb_9879_acde48001122row7_col2,#T_39b86fae_9c7f_11eb_9879_acde48001122row7_col3,#T_39b86fae_9c7f_11eb_9879_acde48001122row7_col4,#T_39b86fae_9c7f_11eb_9879_acde48001122row7_col5,#T_39b86fae_9c7f_11eb_9879_acde48001122row7_col6,#T_39b86fae_9c7f_11eb_9879_acde48001122row7_col7,#T_39b86fae_9c7f_11eb_9879_acde48001122row7_col8,#T_39b86fae_9c7f_11eb_9879_acde48001122row7_col9,#T_39b86fae_9c7f_11eb_9879_acde48001122row7_col10,#T_39b86fae_9c7f_11eb_9879_acde48001122row7_col19,#T_39b86fae_9c7f_11eb_9879_acde48001122row7_col20,#T_39b86fae_9c7f_11eb_9879_acde48001122row7_col21,#T_39b86fae_9c7f_11eb_9879_acde48001122row7_col22,#T_39b86fae_9c7f_11eb_9879_acde48001122row7_col23,#T_39b86fae_9c7f_11eb_9879_acde48001122row7_col24,#T_39b86fae_9c7f_11eb_9879_acde48001122row7_col25,#T_39b86fae_9c7f_11eb_9879_acde48001122row7_col26,#T_39b86fae_9c7f_11eb_9879_acde48001122row7_col27,#T_39b86fae_9c7f_11eb_9879_acde48001122row8_col0,#T_39b86fae_9c7f_11eb_9879_acde48001122row8_col1,#T_39b86fae_9c7f_11eb_9879_acde48001122row8_col2,#T_39b86fae_9c7f_11eb_9879_acde48001122row8_col3,#T_39b86fae_9c7f_11eb_9879_acde48001122row8_col4,#T_39b86fae_9c7f_11eb_9879_acde48001122row8_col5,#T_39b86fae_9c7f_11eb_9879_acde48001122row8_col6,#T_39b86fae_9c7f_11eb_9879_acde48001122row8_col7,#T_39b86fae_9c7f_11eb_9879_acde48001122row8_col8,#T_39b86fae_9c7f_11eb_9879_acde48001122row8_col9,#T_39b86fae_9c7f_11eb_9879_acde48001122row8_col10,#T_39b86fae_9c7f_11eb_9879_acde48001122row8_col11,#T_39b86fae_9c7f_11eb_9879_acde48001122row8_col19,#T_39b86fae_9c7f_11eb_9879_acde48001122row8_col20,#T_39b86fae_9c7f_11eb_9879_acde48001122row8_col21,#T_39b86fae_9c7f_11eb_9879_acde48001122row8_col22,#T_39b86fae_9c7f_11eb_9879_acde48001122row8_col23,#T_39b86fae_9c7f_11eb_9879_acde48001122row8_col24,#T_39b86fae_9c7f_11eb_9879_acde48001122row8_col25,#T_39b86fae_9c7f_11eb_9879_acde48001122row8_col26,#T_39b86fae_9c7f_11eb_9879_acde48001122row8_col27,#T_39b86fae_9c7f_11eb_9879_acde48001122row9_col0,#T_39b86fae_9c7f_11eb_9879_acde48001122row9_col1,#T_39b86fae_9c7f_11eb_9879_acde48001122row9_col2,#T_39b86fae_9c7f_11eb_9879_acde48001122row9_col3,#T_39b86fae_9c7f_11eb_9879_acde48001122row9_col4,#T_39b86fae_9c7f_11eb_9879_acde48001122row9_col5,#T_39b86fae_9c7f_11eb_9879_acde48001122row9_col6,#T_39b86fae_9c7f_11eb_9879_acde48001122row9_col7,#T_39b86fae_9c7f_11eb_9879_acde48001122row9_col8,#T_39b86fae_9c7f_11eb_9879_acde48001122row9_col9,#T_39b86fae_9c7f_11eb_9879_acde48001122row9_col10,#T_39b86fae_9c7f_11eb_9879_acde48001122row9_col11,#T_39b86fae_9c7f_11eb_9879_acde48001122row9_col19,#T_39b86fae_9c7f_11eb_9879_acde48001122row9_col20,#T_39b86fae_9c7f_11eb_9879_acde48001122row9_col21,#T_39b86fae_9c7f_11eb_9879_acde48001122row9_col22,#T_39b86fae_9c7f_11eb_9879_acde48001122row9_col23,#T_39b86fae_9c7f_11eb_9879_acde48001122row9_col24,#T_39b86fae_9c7f_11eb_9879_acde48001122row9_col25,#T_39b86fae_9c7f_11eb_9879_acde48001122row9_col26,#T_39b86fae_9c7f_11eb_9879_acde48001122row9_col27,#T_39b86fae_9c7f_11eb_9879_acde48001122row10_col0,#T_39b86fae_9c7f_11eb_9879_acde48001122row10_col1,#T_39b86fae_9c7f_11eb_9879_acde48001122row10_col2,#T_39b86fae_9c7f_11eb_9879_acde48001122row10_col3,#T_39b86fae_9c7f_11eb_9879_acde48001122row10_col4,#T_39b86fae_9c7f_11eb_9879_acde48001122row10_col5,#T_39b86fae_9c7f_11eb_9879_acde48001122row10_col6,#T_39b86fae_9c7f_11eb_9879_acde48001122row10_col7,#T_39b86fae_9c7f_11eb_9879_acde48001122row10_col8,#T_39b86fae_9c7f_11eb_9879_acde48001122row10_col9,#T_39b86fae_9c7f_11eb_9879_acde48001122row10_col10,#T_39b86fae_9c7f_11eb_9879_acde48001122row10_col11,#T_39b86fae_9c7f_11eb_9879_acde48001122row10_col12,#T_39b86fae_9c7f_11eb_9879_acde48001122row10_col19,#T_39b86fae_9c7f_11eb_9879_acde48001122row10_col20,#T_39b86fae_9c7f_11eb_9879_acde48001122row10_col21,#T_39b86fae_9c7f_11eb_9879_acde48001122row10_col22,#T_39b86fae_9c7f_11eb_9879_acde48001122row10_col23,#T_39b86fae_9c7f_11eb_9879_acde48001122row10_col24,#T_39b86fae_9c7f_11eb_9879_acde48001122row10_col25,#T_39b86fae_9c7f_11eb_9879_acde48001122row10_col26,#T_39b86fae_9c7f_11eb_9879_acde48001122row10_col27,#T_39b86fae_9c7f_11eb_9879_acde48001122row11_col0,#T_39b86fae_9c7f_11eb_9879_acde48001122row11_col1,#T_39b86fae_9c7f_11eb_9879_acde48001122row11_col2,#T_39b86fae_9c7f_11eb_9879_acde48001122row11_col3,#T_39b86fae_9c7f_11eb_9879_acde48001122row11_col4,#T_39b86fae_9c7f_11eb_9879_acde48001122row11_col5,#T_39b86fae_9c7f_11eb_9879_acde48001122row11_col6,#T_39b86fae_9c7f_11eb_9879_acde48001122row11_col7,#T_39b86fae_9c7f_11eb_9879_acde48001122row11_col8,#T_39b86fae_9c7f_11eb_9879_acde48001122row11_col9,#T_39b86fae_9c7f_11eb_9879_acde48001122row11_col10,#T_39b86fae_9c7f_11eb_9879_acde48001122row11_col11,#T_39b86fae_9c7f_11eb_9879_acde48001122row11_col19,#T_39b86fae_9c7f_11eb_9879_acde48001122row11_col20,#T_39b86fae_9c7f_11eb_9879_acde48001122row11_col21,#T_39b86fae_9c7f_11eb_9879_acde48001122row11_col22,#T_39b86fae_9c7f_11eb_9879_acde48001122row11_col23,#T_39b86fae_9c7f_11eb_9879_acde48001122row11_col24,#T_39b86fae_9c7f_11eb_9879_acde48001122row11_col25,#T_39b86fae_9c7f_11eb_9879_acde48001122row11_col26,#T_39b86fae_9c7f_11eb_9879_acde48001122row11_col27,#T_39b86fae_9c7f_11eb_9879_acde48001122row12_col0,#T_39b86fae_9c7f_11eb_9879_acde48001122row12_col1,#T_39b86fae_9c7f_11eb_9879_acde48001122row12_col2,#T_39b86fae_9c7f_11eb_9879_acde48001122row12_col3,#T_39b86fae_9c7f_11eb_9879_acde48001122row12_col4,#T_39b86fae_9c7f_11eb_9879_acde48001122row12_col5,#T_39b86fae_9c7f_11eb_9879_acde48001122row12_col6,#T_39b86fae_9c7f_11eb_9879_acde48001122row12_col7,#T_39b86fae_9c7f_11eb_9879_acde48001122row12_col8,#T_39b86fae_9c7f_11eb_9879_acde48001122row12_col9,#T_39b86fae_9c7f_11eb_9879_acde48001122row12_col19,#T_39b86fae_9c7f_11eb_9879_acde48001122row12_col20,#T_39b86fae_9c7f_11eb_9879_acde48001122row12_col21,#T_39b86fae_9c7f_11eb_9879_acde48001122row12_col22,#T_39b86fae_9c7f_11eb_9879_acde48001122row12_col23,#T_39b86fae_9c7f_11eb_9879_acde48001122row12_col24,#T_39b86fae_9c7f_11eb_9879_acde48001122row12_col25,#T_39b86fae_9c7f_11eb_9879_acde48001122row12_col26,#T_39b86fae_9c7f_11eb_9879_acde48001122row12_col27,#T_39b86fae_9c7f_11eb_9879_acde48001122row13_col0,#T_39b86fae_9c7f_11eb_9879_acde48001122row13_col1,#T_39b86fae_9c7f_11eb_9879_acde48001122row13_col2,#T_39b86fae_9c7f_11eb_9879_acde48001122row13_col3,#T_39b86fae_9c7f_11eb_9879_acde48001122row13_col4,#T_39b86fae_9c7f_11eb_9879_acde48001122row13_col5,#T_39b86fae_9c7f_11eb_9879_acde48001122row13_col6,#T_39b86fae_9c7f_11eb_9879_acde48001122row13_col7,#T_39b86fae_9c7f_11eb_9879_acde48001122row13_col8,#T_39b86fae_9c7f_11eb_9879_acde48001122row13_col9,#T_39b86fae_9c7f_11eb_9879_acde48001122row13_col19,#T_39b86fae_9c7f_11eb_9879_acde48001122row13_col20,#T_39b86fae_9c7f_11eb_9879_acde48001122row13_col21,#T_39b86fae_9c7f_11eb_9879_acde48001122row13_col22,#T_39b86fae_9c7f_11eb_9879_acde48001122row13_col23,#T_39b86fae_9c7f_11eb_9879_acde48001122row13_col24,#T_39b86fae_9c7f_11eb_9879_acde48001122row13_col25,#T_39b86fae_9c7f_11eb_9879_acde48001122row13_col26,#T_39b86fae_9c7f_11eb_9879_acde48001122row13_col27,#T_39b86fae_9c7f_11eb_9879_acde48001122row14_col0,#T_39b86fae_9c7f_11eb_9879_acde48001122row14_col1,#T_39b86fae_9c7f_11eb_9879_acde48001122row14_col2,#T_39b86fae_9c7f_11eb_9879_acde48001122row14_col3,#T_39b86fae_9c7f_11eb_9879_acde48001122row14_col4,#T_39b86fae_9c7f_11eb_9879_acde48001122row14_col5,#T_39b86fae_9c7f_11eb_9879_acde48001122row14_col6,#T_39b86fae_9c7f_11eb_9879_acde48001122row14_col7,#T_39b86fae_9c7f_11eb_9879_acde48001122row14_col8,#T_39b86fae_9c7f_11eb_9879_acde48001122row14_col9,#T_39b86fae_9c7f_11eb_9879_acde48001122row14_col10,#T_39b86fae_9c7f_11eb_9879_acde48001122row14_col19,#T_39b86fae_9c7f_11eb_9879_acde48001122row14_col20,#T_39b86fae_9c7f_11eb_9879_acde48001122row14_col21,#T_39b86fae_9c7f_11eb_9879_acde48001122row14_col22,#T_39b86fae_9c7f_11eb_9879_acde48001122row14_col23,#T_39b86fae_9c7f_11eb_9879_acde48001122row14_col24,#T_39b86fae_9c7f_11eb_9879_acde48001122row14_col25,#T_39b86fae_9c7f_11eb_9879_acde48001122row14_col26,#T_39b86fae_9c7f_11eb_9879_acde48001122row14_col27,#T_39b86fae_9c7f_11eb_9879_acde48001122row15_col0,#T_39b86fae_9c7f_11eb_9879_acde48001122row15_col1,#T_39b86fae_9c7f_11eb_9879_acde48001122row15_col2,#T_39b86fae_9c7f_11eb_9879_acde48001122row15_col3,#T_39b86fae_9c7f_11eb_9879_acde48001122row15_col4,#T_39b86fae_9c7f_11eb_9879_acde48001122row15_col5,#T_39b86fae_9c7f_11eb_9879_acde48001122row15_col6,#T_39b86fae_9c7f_11eb_9879_acde48001122row15_col7,#T_39b86fae_9c7f_11eb_9879_acde48001122row15_col8,#T_39b86fae_9c7f_11eb_9879_acde48001122row15_col9,#T_39b86fae_9c7f_11eb_9879_acde48001122row15_col10,#T_39b86fae_9c7f_11eb_9879_acde48001122row15_col11,#T_39b86fae_9c7f_11eb_9879_acde48001122row15_col19,#T_39b86fae_9c7f_11eb_9879_acde48001122row15_col20,#T_39b86fae_9c7f_11eb_9879_acde48001122row15_col21,#T_39b86fae_9c7f_11eb_9879_acde48001122row15_col22,#T_39b86fae_9c7f_11eb_9879_acde48001122row15_col23,#T_39b86fae_9c7f_11eb_9879_acde48001122row15_col24,#T_39b86fae_9c7f_11eb_9879_acde48001122row15_col25,#T_39b86fae_9c7f_11eb_9879_acde48001122row15_col26,#T_39b86fae_9c7f_11eb_9879_acde48001122row15_col27,#T_39b86fae_9c7f_11eb_9879_acde48001122row16_col0,#T_39b86fae_9c7f_11eb_9879_acde48001122row16_col1,#T_39b86fae_9c7f_11eb_9879_acde48001122row16_col2,#T_39b86fae_9c7f_11eb_9879_acde48001122row16_col3,#T_39b86fae_9c7f_11eb_9879_acde48001122row16_col4,#T_39b86fae_9c7f_11eb_9879_acde48001122row16_col5,#T_39b86fae_9c7f_11eb_9879_acde48001122row16_col6,#T_39b86fae_9c7f_11eb_9879_acde48001122row16_col7,#T_39b86fae_9c7f_11eb_9879_acde48001122row16_col8,#T_39b86fae_9c7f_11eb_9879_acde48001122row16_col9,#T_39b86fae_9c7f_11eb_9879_acde48001122row16_col10,#T_39b86fae_9c7f_11eb_9879_acde48001122row16_col11,#T_39b86fae_9c7f_11eb_9879_acde48001122row16_col12,#T_39b86fae_9c7f_11eb_9879_acde48001122row16_col13,#T_39b86fae_9c7f_11eb_9879_acde48001122row16_col14,#T_39b86fae_9c7f_11eb_9879_acde48001122row16_col15,#T_39b86fae_9c7f_11eb_9879_acde48001122row16_col20,#T_39b86fae_9c7f_11eb_9879_acde48001122row16_col21,#T_39b86fae_9c7f_11eb_9879_acde48001122row16_col22,#T_39b86fae_9c7f_11eb_9879_acde48001122row16_col23,#T_39b86fae_9c7f_11eb_9879_acde48001122row16_col24,#T_39b86fae_9c7f_11eb_9879_acde48001122row16_col25,#T_39b86fae_9c7f_11eb_9879_acde48001122row16_col26,#T_39b86fae_9c7f_11eb_9879_acde48001122row16_col27,#T_39b86fae_9c7f_11eb_9879_acde48001122row17_col0,#T_39b86fae_9c7f_11eb_9879_acde48001122row17_col1,#T_39b86fae_9c7f_11eb_9879_acde48001122row17_col2,#T_39b86fae_9c7f_11eb_9879_acde48001122row17_col3,#T_39b86fae_9c7f_11eb_9879_acde48001122row17_col4,#T_39b86fae_9c7f_11eb_9879_acde48001122row17_col5,#T_39b86fae_9c7f_11eb_9879_acde48001122row17_col6,#T_39b86fae_9c7f_11eb_9879_acde48001122row17_col7,#T_39b86fae_9c7f_11eb_9879_acde48001122row17_col8,#T_39b86fae_9c7f_11eb_9879_acde48001122row17_col9,#T_39b86fae_9c7f_11eb_9879_acde48001122row17_col10,#T_39b86fae_9c7f_11eb_9879_acde48001122row17_col11,#T_39b86fae_9c7f_11eb_9879_acde48001122row17_col12,#T_39b86fae_9c7f_11eb_9879_acde48001122row17_col13,#T_39b86fae_9c7f_11eb_9879_acde48001122row17_col14,#T_39b86fae_9c7f_11eb_9879_acde48001122row17_col20,#T_39b86fae_9c7f_11eb_9879_acde48001122row17_col21,#T_39b86fae_9c7f_11eb_9879_acde48001122row17_col22,#T_39b86fae_9c7f_11eb_9879_acde48001122row17_col23,#T_39b86fae_9c7f_11eb_9879_acde48001122row17_col24,#T_39b86fae_9c7f_11eb_9879_acde48001122row17_col25,#T_39b86fae_9c7f_11eb_9879_acde48001122row17_col26,#T_39b86fae_9c7f_11eb_9879_acde48001122row17_col27,#T_39b86fae_9c7f_11eb_9879_acde48001122row18_col0,#T_39b86fae_9c7f_11eb_9879_acde48001122row18_col1,#T_39b86fae_9c7f_11eb_9879_acde48001122row18_col2,#T_39b86fae_9c7f_11eb_9879_acde48001122row18_col3,#T_39b86fae_9c7f_11eb_9879_acde48001122row18_col4,#T_39b86fae_9c7f_11eb_9879_acde48001122row18_col5,#T_39b86fae_9c7f_11eb_9879_acde48001122row18_col6,#T_39b86fae_9c7f_11eb_9879_acde48001122row18_col7,#T_39b86fae_9c7f_11eb_9879_acde48001122row18_col8,#T_39b86fae_9c7f_11eb_9879_acde48001122row18_col9,#T_39b86fae_9c7f_11eb_9879_acde48001122row18_col10,#T_39b86fae_9c7f_11eb_9879_acde48001122row18_col11,#T_39b86fae_9c7f_11eb_9879_acde48001122row18_col12,#T_39b86fae_9c7f_11eb_9879_acde48001122row18_col13,#T_39b86fae_9c7f_11eb_9879_acde48001122row18_col14,#T_39b86fae_9c7f_11eb_9879_acde48001122row18_col19,#T_39b86fae_9c7f_11eb_9879_acde48001122row18_col20,#T_39b86fae_9c7f_11eb_9879_acde48001122row18_col21,#T_39b86fae_9c7f_11eb_9879_acde48001122row18_col22,#T_39b86fae_9c7f_11eb_9879_acde48001122row18_col23,#T_39b86fae_9c7f_11eb_9879_acde48001122row18_col24,#T_39b86fae_9c7f_11eb_9879_acde48001122row18_col25,#T_39b86fae_9c7f_11eb_9879_acde48001122row18_col26,#T_39b86fae_9c7f_11eb_9879_acde48001122row18_col27,#T_39b86fae_9c7f_11eb_9879_acde48001122row19_col0,#T_39b86fae_9c7f_11eb_9879_acde48001122row19_col1,#T_39b86fae_9c7f_11eb_9879_acde48001122row19_col2,#T_39b86fae_9c7f_11eb_9879_acde48001122row19_col3,#T_39b86fae_9c7f_11eb_9879_acde48001122row19_col4,#T_39b86fae_9c7f_11eb_9879_acde48001122row19_col5,#T_39b86fae_9c7f_11eb_9879_acde48001122row19_col9,#T_39b86fae_9c7f_11eb_9879_acde48001122row19_col10,#T_39b86fae_9c7f_11eb_9879_acde48001122row19_col11,#T_39b86fae_9c7f_11eb_9879_acde48001122row19_col12,#T_39b86fae_9c7f_11eb_9879_acde48001122row19_col13,#T_39b86fae_9c7f_11eb_9879_acde48001122row19_col19,#T_39b86fae_9c7f_11eb_9879_acde48001122row19_col20,#T_39b86fae_9c7f_11eb_9879_acde48001122row19_col21,#T_39b86fae_9c7f_11eb_9879_acde48001122row19_col22,#T_39b86fae_9c7f_11eb_9879_acde48001122row19_col23,#T_39b86fae_9c7f_11eb_9879_acde48001122row19_col24,#T_39b86fae_9c7f_11eb_9879_acde48001122row19_col25,#T_39b86fae_9c7f_11eb_9879_acde48001122row19_col26,#T_39b86fae_9c7f_11eb_9879_acde48001122row19_col27,#T_39b86fae_9c7f_11eb_9879_acde48001122row20_col0,#T_39b86fae_9c7f_11eb_9879_acde48001122row20_col1,#T_39b86fae_9c7f_11eb_9879_acde48001122row20_col2,#T_39b86fae_9c7f_11eb_9879_acde48001122row20_col3,#T_39b86fae_9c7f_11eb_9879_acde48001122row20_col4,#T_39b86fae_9c7f_11eb_9879_acde48001122row20_col5,#T_39b86fae_9c7f_11eb_9879_acde48001122row20_col11,#T_39b86fae_9c7f_11eb_9879_acde48001122row20_col19,#T_39b86fae_9c7f_11eb_9879_acde48001122row20_col20,#T_39b86fae_9c7f_11eb_9879_acde48001122row20_col21,#T_39b86fae_9c7f_11eb_9879_acde48001122row20_col22,#T_39b86fae_9c7f_11eb_9879_acde48001122row20_col23,#T_39b86fae_9c7f_11eb_9879_acde48001122row20_col24,#T_39b86fae_9c7f_11eb_9879_acde48001122row20_col25,#T_39b86fae_9c7f_11eb_9879_acde48001122row20_col26,#T_39b86fae_9c7f_11eb_9879_acde48001122row20_col27,#T_39b86fae_9c7f_11eb_9879_acde48001122row21_col0,#T_39b86fae_9c7f_11eb_9879_acde48001122row21_col1,#T_39b86fae_9c7f_11eb_9879_acde48001122row21_col2,#T_39b86fae_9c7f_11eb_9879_acde48001122row21_col3,#T_39b86fae_9c7f_11eb_9879_acde48001122row21_col4,#T_39b86fae_9c7f_11eb_9879_acde48001122row21_col5,#T_39b86fae_9c7f_11eb_9879_acde48001122row21_col18,#T_39b86fae_9c7f_11eb_9879_acde48001122row21_col19,#T_39b86fae_9c7f_11eb_9879_acde48001122row21_col20,#T_39b86fae_9c7f_11eb_9879_acde48001122row21_col21,#T_39b86fae_9c7f_11eb_9879_acde48001122row21_col22,#T_39b86fae_9c7f_11eb_9879_acde48001122row21_col23,#T_39b86fae_9c7f_11eb_9879_acde48001122row21_col24,#T_39b86fae_9c7f_11eb_9879_acde48001122row21_col25,#T_39b86fae_9c7f_11eb_9879_acde48001122row21_col26,#T_39b86fae_9c7f_11eb_9879_acde48001122row21_col27,#T_39b86fae_9c7f_11eb_9879_acde48001122row22_col0,#T_39b86fae_9c7f_11eb_9879_acde48001122row22_col1,#T_39b86fae_9c7f_11eb_9879_acde48001122row22_col2,#T_39b86fae_9c7f_11eb_9879_acde48001122row22_col3,#T_39b86fae_9c7f_11eb_9879_acde48001122row22_col4,#T_39b86fae_9c7f_11eb_9879_acde48001122row22_col5,#T_39b86fae_9c7f_11eb_9879_acde48001122row22_col6,#T_39b86fae_9c7f_11eb_9879_acde48001122row22_col16,#T_39b86fae_9c7f_11eb_9879_acde48001122row22_col17,#T_39b86fae_9c7f_11eb_9879_acde48001122row22_col18,#T_39b86fae_9c7f_11eb_9879_acde48001122row22_col19,#T_39b86fae_9c7f_11eb_9879_acde48001122row22_col20,#T_39b86fae_9c7f_11eb_9879_acde48001122row22_col21,#T_39b86fae_9c7f_11eb_9879_acde48001122row22_col22,#T_39b86fae_9c7f_11eb_9879_acde48001122row22_col23,#T_39b86fae_9c7f_11eb_9879_acde48001122row22_col24,#T_39b86fae_9c7f_11eb_9879_acde48001122row22_col25,#T_39b86fae_9c7f_11eb_9879_acde48001122row22_col26,#T_39b86fae_9c7f_11eb_9879_acde48001122row22_col27,#T_39b86fae_9c7f_11eb_9879_acde48001122row23_col0,#T_39b86fae_9c7f_11eb_9879_acde48001122row23_col1,#T_39b86fae_9c7f_11eb_9879_acde48001122row23_col2,#T_39b86fae_9c7f_11eb_9879_acde48001122row23_col3,#T_39b86fae_9c7f_11eb_9879_acde48001122row23_col4,#T_39b86fae_9c7f_11eb_9879_acde48001122row23_col5,#T_39b86fae_9c7f_11eb_9879_acde48001122row23_col6,#T_39b86fae_9c7f_11eb_9879_acde48001122row23_col7,#T_39b86fae_9c7f_11eb_9879_acde48001122row23_col16,#T_39b86fae_9c7f_11eb_9879_acde48001122row23_col17,#T_39b86fae_9c7f_11eb_9879_acde48001122row23_col18,#T_39b86fae_9c7f_11eb_9879_acde48001122row23_col19,#T_39b86fae_9c7f_11eb_9879_acde48001122row23_col20,#T_39b86fae_9c7f_11eb_9879_acde48001122row23_col21,#T_39b86fae_9c7f_11eb_9879_acde48001122row23_col22,#T_39b86fae_9c7f_11eb_9879_acde48001122row23_col23,#T_39b86fae_9c7f_11eb_9879_acde48001122row23_col24,#T_39b86fae_9c7f_11eb_9879_acde48001122row23_col25,#T_39b86fae_9c7f_11eb_9879_acde48001122row23_col26,#T_39b86fae_9c7f_11eb_9879_acde48001122row23_col27,#T_39b86fae_9c7f_11eb_9879_acde48001122row24_col0,#T_39b86fae_9c7f_11eb_9879_acde48001122row24_col1,#T_39b86fae_9c7f_11eb_9879_acde48001122row24_col2,#T_39b86fae_9c7f_11eb_9879_acde48001122row24_col3,#T_39b86fae_9c7f_11eb_9879_acde48001122row24_col4,#T_39b86fae_9c7f_11eb_9879_acde48001122row24_col5,#T_39b86fae_9c7f_11eb_9879_acde48001122row24_col6,#T_39b86fae_9c7f_11eb_9879_acde48001122row24_col7,#T_39b86fae_9c7f_11eb_9879_acde48001122row24_col8,#T_39b86fae_9c7f_11eb_9879_acde48001122row24_col9,#T_39b86fae_9c7f_11eb_9879_acde48001122row24_col10,#T_39b86fae_9c7f_11eb_9879_acde48001122row24_col11,#T_39b86fae_9c7f_11eb_9879_acde48001122row24_col12,#T_39b86fae_9c7f_11eb_9879_acde48001122row24_col13,#T_39b86fae_9c7f_11eb_9879_acde48001122row24_col14,#T_39b86fae_9c7f_11eb_9879_acde48001122row24_col15,#T_39b86fae_9c7f_11eb_9879_acde48001122row24_col16,#T_39b86fae_9c7f_11eb_9879_acde48001122row24_col17,#T_39b86fae_9c7f_11eb_9879_acde48001122row24_col18,#T_39b86fae_9c7f_11eb_9879_acde48001122row24_col19,#T_39b86fae_9c7f_11eb_9879_acde48001122row24_col20,#T_39b86fae_9c7f_11eb_9879_acde48001122row24_col21,#T_39b86fae_9c7f_11eb_9879_acde48001122row24_col22,#T_39b86fae_9c7f_11eb_9879_acde48001122row24_col23,#T_39b86fae_9c7f_11eb_9879_acde48001122row24_col24,#T_39b86fae_9c7f_11eb_9879_acde48001122row24_col25,#T_39b86fae_9c7f_11eb_9879_acde48001122row24_col26,#T_39b86fae_9c7f_11eb_9879_acde48001122row24_col27,#T_39b86fae_9c7f_11eb_9879_acde48001122row25_col0,#T_39b86fae_9c7f_11eb_9879_acde48001122row25_col1,#T_39b86fae_9c7f_11eb_9879_acde48001122row25_col2,#T_39b86fae_9c7f_11eb_9879_acde48001122row25_col3,#T_39b86fae_9c7f_11eb_9879_acde48001122row25_col4,#T_39b86fae_9c7f_11eb_9879_acde48001122row25_col5,#T_39b86fae_9c7f_11eb_9879_acde48001122row25_col6,#T_39b86fae_9c7f_11eb_9879_acde48001122row25_col7,#T_39b86fae_9c7f_11eb_9879_acde48001122row25_col8,#T_39b86fae_9c7f_11eb_9879_acde48001122row25_col9,#T_39b86fae_9c7f_11eb_9879_acde48001122row25_col10,#T_39b86fae_9c7f_11eb_9879_acde48001122row25_col11,#T_39b86fae_9c7f_11eb_9879_acde48001122row25_col12,#T_39b86fae_9c7f_11eb_9879_acde48001122row25_col13,#T_39b86fae_9c7f_11eb_9879_acde48001122row25_col14,#T_39b86fae_9c7f_11eb_9879_acde48001122row25_col15,#T_39b86fae_9c7f_11eb_9879_acde48001122row25_col16,#T_39b86fae_9c7f_11eb_9879_acde48001122row25_col17,#T_39b86fae_9c7f_11eb_9879_acde48001122row25_col18,#T_39b86fae_9c7f_11eb_9879_acde48001122row25_col19,#T_39b86fae_9c7f_11eb_9879_acde48001122row25_col20,#T_39b86fae_9c7f_11eb_9879_acde48001122row25_col21,#T_39b86fae_9c7f_11eb_9879_acde48001122row25_col22,#T_39b86fae_9c7f_11eb_9879_acde48001122row25_col23,#T_39b86fae_9c7f_11eb_9879_acde48001122row25_col24,#T_39b86fae_9c7f_11eb_9879_acde48001122row25_col25,#T_39b86fae_9c7f_11eb_9879_acde48001122row25_col26,#T_39b86fae_9c7f_11eb_9879_acde48001122row25_col27,#T_39b86fae_9c7f_11eb_9879_acde48001122row26_col0,#T_39b86fae_9c7f_11eb_9879_acde48001122row26_col1,#T_39b86fae_9c7f_11eb_9879_acde48001122row26_col2,#T_39b86fae_9c7f_11eb_9879_acde48001122row26_col3,#T_39b86fae_9c7f_11eb_9879_acde48001122row26_col4,#T_39b86fae_9c7f_11eb_9879_acde48001122row26_col5,#T_39b86fae_9c7f_11eb_9879_acde48001122row26_col6,#T_39b86fae_9c7f_11eb_9879_acde48001122row26_col7,#T_39b86fae_9c7f_11eb_9879_acde48001122row26_col8,#T_39b86fae_9c7f_11eb_9879_acde48001122row26_col9,#T_39b86fae_9c7f_11eb_9879_acde48001122row26_col10,#T_39b86fae_9c7f_11eb_9879_acde48001122row26_col11,#T_39b86fae_9c7f_11eb_9879_acde48001122row26_col12,#T_39b86fae_9c7f_11eb_9879_acde48001122row26_col13,#T_39b86fae_9c7f_11eb_9879_acde48001122row26_col14,#T_39b86fae_9c7f_11eb_9879_acde48001122row26_col15,#T_39b86fae_9c7f_11eb_9879_acde48001122row26_col16,#T_39b86fae_9c7f_11eb_9879_acde48001122row26_col17,#T_39b86fae_9c7f_11eb_9879_acde48001122row26_col18,#T_39b86fae_9c7f_11eb_9879_acde48001122row26_col19,#T_39b86fae_9c7f_11eb_9879_acde48001122row26_col20,#T_39b86fae_9c7f_11eb_9879_acde48001122row26_col21,#T_39b86fae_9c7f_11eb_9879_acde48001122row26_col22,#T_39b86fae_9c7f_11eb_9879_acde48001122row26_col23,#T_39b86fae_9c7f_11eb_9879_acde48001122row26_col24,#T_39b86fae_9c7f_11eb_9879_acde48001122row26_col25,#T_39b86fae_9c7f_11eb_9879_acde48001122row26_col26,#T_39b86fae_9c7f_11eb_9879_acde48001122row26_col27,#T_39b86fae_9c7f_11eb_9879_acde48001122row27_col0,#T_39b86fae_9c7f_11eb_9879_acde48001122row27_col1,#T_39b86fae_9c7f_11eb_9879_acde48001122row27_col2,#T_39b86fae_9c7f_11eb_9879_acde48001122row27_col3,#T_39b86fae_9c7f_11eb_9879_acde48001122row27_col4,#T_39b86fae_9c7f_11eb_9879_acde48001122row27_col5,#T_39b86fae_9c7f_11eb_9879_acde48001122row27_col6,#T_39b86fae_9c7f_11eb_9879_acde48001122row27_col7,#T_39b86fae_9c7f_11eb_9879_acde48001122row27_col8,#T_39b86fae_9c7f_11eb_9879_acde48001122row27_col9,#T_39b86fae_9c7f_11eb_9879_acde48001122row27_col10,#T_39b86fae_9c7f_11eb_9879_acde48001122row27_col11,#T_39b86fae_9c7f_11eb_9879_acde48001122row27_col12,#T_39b86fae_9c7f_11eb_9879_acde48001122row27_col13,#T_39b86fae_9c7f_11eb_9879_acde48001122row27_col14,#T_39b86fae_9c7f_11eb_9879_acde48001122row27_col15,#T_39b86fae_9c7f_11eb_9879_acde48001122row27_col16,#T_39b86fae_9c7f_11eb_9879_acde48001122row27_col17,#T_39b86fae_9c7f_11eb_9879_acde48001122row27_col18,#T_39b86fae_9c7f_11eb_9879_acde48001122row27_col19,#T_39b86fae_9c7f_11eb_9879_acde48001122row27_col20,#T_39b86fae_9c7f_11eb_9879_acde48001122row27_col21,#T_39b86fae_9c7f_11eb_9879_acde48001122row27_col22,#T_39b86fae_9c7f_11eb_9879_acde48001122row27_col23,#T_39b86fae_9c7f_11eb_9879_acde48001122row27_col24,#T_39b86fae_9c7f_11eb_9879_acde48001122row27_col25,#T_39b86fae_9c7f_11eb_9879_acde48001122row27_col26,#T_39b86fae_9c7f_11eb_9879_acde48001122row27_col27{\n",
       "            font_size:  3pt;\n",
       "            background-color:  #ffffff;\n",
       "            color:  #000000;\n",
       "        }#T_39b86fae_9c7f_11eb_9879_acde48001122row4_col11{\n",
       "            font_size:  3pt;\n",
       "            background-color:  #e9e9e9;\n",
       "            color:  #000000;\n",
       "        }#T_39b86fae_9c7f_11eb_9879_acde48001122row4_col12,#T_39b86fae_9c7f_11eb_9879_acde48001122row4_col15,#T_39b86fae_9c7f_11eb_9879_acde48001122row4_col16{\n",
       "            font_size:  3pt;\n",
       "            background-color:  #a2a2a2;\n",
       "            color:  #000000;\n",
       "        }#T_39b86fae_9c7f_11eb_9879_acde48001122row4_col13{\n",
       "            font_size:  3pt;\n",
       "            background-color:  #292929;\n",
       "            color:  #f1f1f1;\n",
       "        }#T_39b86fae_9c7f_11eb_9879_acde48001122row4_col14{\n",
       "            font_size:  3pt;\n",
       "            background-color:  #6b6b6b;\n",
       "            color:  #000000;\n",
       "        }#T_39b86fae_9c7f_11eb_9879_acde48001122row4_col17,#T_39b86fae_9c7f_11eb_9879_acde48001122row17_col15,#T_39b86fae_9c7f_11eb_9879_acde48001122row23_col8{\n",
       "            font_size:  3pt;\n",
       "            background-color:  #fcfcfc;\n",
       "            color:  #000000;\n",
       "        }#T_39b86fae_9c7f_11eb_9879_acde48001122row5_col10{\n",
       "            font_size:  3pt;\n",
       "            background-color:  #b4b4b4;\n",
       "            color:  #000000;\n",
       "        }#T_39b86fae_9c7f_11eb_9879_acde48001122row5_col11{\n",
       "            font_size:  3pt;\n",
       "            background-color:  #0e0e0e;\n",
       "            color:  #f1f1f1;\n",
       "        }#T_39b86fae_9c7f_11eb_9879_acde48001122row5_col12,#T_39b86fae_9c7f_11eb_9879_acde48001122row5_col13,#T_39b86fae_9c7f_11eb_9879_acde48001122row5_col14,#T_39b86fae_9c7f_11eb_9879_acde48001122row5_col15,#T_39b86fae_9c7f_11eb_9879_acde48001122row5_col16,#T_39b86fae_9c7f_11eb_9879_acde48001122row6_col12,#T_39b86fae_9c7f_11eb_9879_acde48001122row6_col13,#T_39b86fae_9c7f_11eb_9879_acde48001122row6_col14,#T_39b86fae_9c7f_11eb_9879_acde48001122row6_col15,#T_39b86fae_9c7f_11eb_9879_acde48001122row6_col16,#T_39b86fae_9c7f_11eb_9879_acde48001122row7_col13,#T_39b86fae_9c7f_11eb_9879_acde48001122row7_col15,#T_39b86fae_9c7f_11eb_9879_acde48001122row7_col16,#T_39b86fae_9c7f_11eb_9879_acde48001122row7_col17,#T_39b86fae_9c7f_11eb_9879_acde48001122row8_col13,#T_39b86fae_9c7f_11eb_9879_acde48001122row8_col15,#T_39b86fae_9c7f_11eb_9879_acde48001122row8_col16,#T_39b86fae_9c7f_11eb_9879_acde48001122row8_col17,#T_39b86fae_9c7f_11eb_9879_acde48001122row9_col14,#T_39b86fae_9c7f_11eb_9879_acde48001122row9_col15,#T_39b86fae_9c7f_11eb_9879_acde48001122row9_col16,#T_39b86fae_9c7f_11eb_9879_acde48001122row9_col17,#T_39b86fae_9c7f_11eb_9879_acde48001122row10_col15,#T_39b86fae_9c7f_11eb_9879_acde48001122row10_col16,#T_39b86fae_9c7f_11eb_9879_acde48001122row10_col17,#T_39b86fae_9c7f_11eb_9879_acde48001122row11_col15,#T_39b86fae_9c7f_11eb_9879_acde48001122row11_col16,#T_39b86fae_9c7f_11eb_9879_acde48001122row11_col17,#T_39b86fae_9c7f_11eb_9879_acde48001122row12_col13,#T_39b86fae_9c7f_11eb_9879_acde48001122row12_col14,#T_39b86fae_9c7f_11eb_9879_acde48001122row12_col15,#T_39b86fae_9c7f_11eb_9879_acde48001122row12_col16,#T_39b86fae_9c7f_11eb_9879_acde48001122row12_col17,#T_39b86fae_9c7f_11eb_9879_acde48001122row13_col12,#T_39b86fae_9c7f_11eb_9879_acde48001122row13_col13,#T_39b86fae_9c7f_11eb_9879_acde48001122row13_col14,#T_39b86fae_9c7f_11eb_9879_acde48001122row13_col15,#T_39b86fae_9c7f_11eb_9879_acde48001122row13_col16,#T_39b86fae_9c7f_11eb_9879_acde48001122row13_col17,#T_39b86fae_9c7f_11eb_9879_acde48001122row14_col13,#T_39b86fae_9c7f_11eb_9879_acde48001122row14_col14,#T_39b86fae_9c7f_11eb_9879_acde48001122row14_col15,#T_39b86fae_9c7f_11eb_9879_acde48001122row14_col16,#T_39b86fae_9c7f_11eb_9879_acde48001122row14_col17,#T_39b86fae_9c7f_11eb_9879_acde48001122row15_col17,#T_39b86fae_9c7f_11eb_9879_acde48001122row16_col17,#T_39b86fae_9c7f_11eb_9879_acde48001122row16_col18,#T_39b86fae_9c7f_11eb_9879_acde48001122row16_col19,#T_39b86fae_9c7f_11eb_9879_acde48001122row17_col16,#T_39b86fae_9c7f_11eb_9879_acde48001122row17_col17,#T_39b86fae_9c7f_11eb_9879_acde48001122row18_col16,#T_39b86fae_9c7f_11eb_9879_acde48001122row18_col17,#T_39b86fae_9c7f_11eb_9879_acde48001122row19_col16,#T_39b86fae_9c7f_11eb_9879_acde48001122row19_col17,#T_39b86fae_9c7f_11eb_9879_acde48001122row20_col6,#T_39b86fae_9c7f_11eb_9879_acde48001122row20_col7,#T_39b86fae_9c7f_11eb_9879_acde48001122row20_col15,#T_39b86fae_9c7f_11eb_9879_acde48001122row20_col16,#T_39b86fae_9c7f_11eb_9879_acde48001122row21_col8,#T_39b86fae_9c7f_11eb_9879_acde48001122row21_col9,#T_39b86fae_9c7f_11eb_9879_acde48001122row21_col13,#T_39b86fae_9c7f_11eb_9879_acde48001122row21_col14,#T_39b86fae_9c7f_11eb_9879_acde48001122row22_col9,#T_39b86fae_9c7f_11eb_9879_acde48001122row22_col10,#T_39b86fae_9c7f_11eb_9879_acde48001122row22_col11,#T_39b86fae_9c7f_11eb_9879_acde48001122row22_col12,#T_39b86fae_9c7f_11eb_9879_acde48001122row22_col13,#T_39b86fae_9c7f_11eb_9879_acde48001122row22_col14,#T_39b86fae_9c7f_11eb_9879_acde48001122row23_col12,#T_39b86fae_9c7f_11eb_9879_acde48001122row23_col13{\n",
       "            font_size:  3pt;\n",
       "            background-color:  #000000;\n",
       "            color:  #f1f1f1;\n",
       "        }#T_39b86fae_9c7f_11eb_9879_acde48001122row5_col17{\n",
       "            font_size:  3pt;\n",
       "            background-color:  #d7d7d7;\n",
       "            color:  #000000;\n",
       "        }#T_39b86fae_9c7f_11eb_9879_acde48001122row6_col10{\n",
       "            font_size:  3pt;\n",
       "            background-color:  #f7f7f7;\n",
       "            color:  #000000;\n",
       "        }#T_39b86fae_9c7f_11eb_9879_acde48001122row6_col11{\n",
       "            font_size:  3pt;\n",
       "            background-color:  #1a1a1a;\n",
       "            color:  #f1f1f1;\n",
       "        }#T_39b86fae_9c7f_11eb_9879_acde48001122row6_col17{\n",
       "            font_size:  3pt;\n",
       "            background-color:  #131313;\n",
       "            color:  #f1f1f1;\n",
       "        }#T_39b86fae_9c7f_11eb_9879_acde48001122row6_col18,#T_39b86fae_9c7f_11eb_9879_acde48001122row13_col10{\n",
       "            font_size:  3pt;\n",
       "            background-color:  #cacaca;\n",
       "            color:  #000000;\n",
       "        }#T_39b86fae_9c7f_11eb_9879_acde48001122row7_col11{\n",
       "            font_size:  3pt;\n",
       "            background-color:  #b3b3b3;\n",
       "            color:  #000000;\n",
       "        }#T_39b86fae_9c7f_11eb_9879_acde48001122row7_col12{\n",
       "            font_size:  3pt;\n",
       "            background-color:  #0c0c0c;\n",
       "            color:  #f1f1f1;\n",
       "        }#T_39b86fae_9c7f_11eb_9879_acde48001122row7_col14{\n",
       "            font_size:  3pt;\n",
       "            background-color:  #232323;\n",
       "            color:  #f1f1f1;\n",
       "        }#T_39b86fae_9c7f_11eb_9879_acde48001122row7_col18{\n",
       "            font_size:  3pt;\n",
       "            background-color:  #6e6e6e;\n",
       "            color:  #000000;\n",
       "        }#T_39b86fae_9c7f_11eb_9879_acde48001122row8_col12{\n",
       "            font_size:  3pt;\n",
       "            background-color:  #3a3a3a;\n",
       "            color:  #f1f1f1;\n",
       "        }#T_39b86fae_9c7f_11eb_9879_acde48001122row8_col14{\n",
       "            font_size:  3pt;\n",
       "            background-color:  #363636;\n",
       "            color:  #f1f1f1;\n",
       "        }#T_39b86fae_9c7f_11eb_9879_acde48001122row8_col18,#T_39b86fae_9c7f_11eb_9879_acde48001122row12_col18,#T_39b86fae_9c7f_11eb_9879_acde48001122row19_col18{\n",
       "            font_size:  3pt;\n",
       "            background-color:  #ebebeb;\n",
       "            color:  #000000;\n",
       "        }#T_39b86fae_9c7f_11eb_9879_acde48001122row9_col12{\n",
       "            font_size:  3pt;\n",
       "            background-color:  #c7c7c7;\n",
       "            color:  #000000;\n",
       "        }#T_39b86fae_9c7f_11eb_9879_acde48001122row9_col13,#T_39b86fae_9c7f_11eb_9879_acde48001122row20_col14{\n",
       "            font_size:  3pt;\n",
       "            background-color:  #3c3c3c;\n",
       "            color:  #f1f1f1;\n",
       "        }#T_39b86fae_9c7f_11eb_9879_acde48001122row9_col18{\n",
       "            font_size:  3pt;\n",
       "            background-color:  #e5e5e5;\n",
       "            color:  #000000;\n",
       "        }#T_39b86fae_9c7f_11eb_9879_acde48001122row10_col13{\n",
       "            font_size:  3pt;\n",
       "            background-color:  #f4f4f4;\n",
       "            color:  #000000;\n",
       "        }#T_39b86fae_9c7f_11eb_9879_acde48001122row10_col14{\n",
       "            font_size:  3pt;\n",
       "            background-color:  #383838;\n",
       "            color:  #f1f1f1;\n",
       "        }#T_39b86fae_9c7f_11eb_9879_acde48001122row10_col18,#T_39b86fae_9c7f_11eb_9879_acde48001122row14_col18,#T_39b86fae_9c7f_11eb_9879_acde48001122row15_col18{\n",
       "            font_size:  3pt;\n",
       "            background-color:  #474747;\n",
       "            color:  #f1f1f1;\n",
       "        }#T_39b86fae_9c7f_11eb_9879_acde48001122row11_col12{\n",
       "            font_size:  3pt;\n",
       "            background-color:  #c1c1c1;\n",
       "            color:  #000000;\n",
       "        }#T_39b86fae_9c7f_11eb_9879_acde48001122row11_col13{\n",
       "            font_size:  3pt;\n",
       "            background-color:  #8a8a8a;\n",
       "            color:  #000000;\n",
       "        }#T_39b86fae_9c7f_11eb_9879_acde48001122row11_col14,#T_39b86fae_9c7f_11eb_9879_acde48001122row21_col15{\n",
       "            font_size:  3pt;\n",
       "            background-color:  #010101;\n",
       "            color:  #f1f1f1;\n",
       "        }#T_39b86fae_9c7f_11eb_9879_acde48001122row11_col18{\n",
       "            font_size:  3pt;\n",
       "            background-color:  #939393;\n",
       "            color:  #000000;\n",
       "        }#T_39b86fae_9c7f_11eb_9879_acde48001122row12_col10{\n",
       "            font_size:  3pt;\n",
       "            background-color:  #eaeaea;\n",
       "            color:  #000000;\n",
       "        }#T_39b86fae_9c7f_11eb_9879_acde48001122row12_col11{\n",
       "            font_size:  3pt;\n",
       "            background-color:  #303030;\n",
       "            color:  #f1f1f1;\n",
       "        }#T_39b86fae_9c7f_11eb_9879_acde48001122row12_col12{\n",
       "            font_size:  3pt;\n",
       "            background-color:  #050505;\n",
       "            color:  #f1f1f1;\n",
       "        }#T_39b86fae_9c7f_11eb_9879_acde48001122row13_col11{\n",
       "            font_size:  3pt;\n",
       "            background-color:  #080808;\n",
       "            color:  #f1f1f1;\n",
       "        }#T_39b86fae_9c7f_11eb_9879_acde48001122row13_col18{\n",
       "            font_size:  3pt;\n",
       "            background-color:  #686868;\n",
       "            color:  #f1f1f1;\n",
       "        }#T_39b86fae_9c7f_11eb_9879_acde48001122row14_col11{\n",
       "            font_size:  3pt;\n",
       "            background-color:  #ababab;\n",
       "            color:  #000000;\n",
       "        }#T_39b86fae_9c7f_11eb_9879_acde48001122row14_col12{\n",
       "            font_size:  3pt;\n",
       "            background-color:  #090909;\n",
       "            color:  #f1f1f1;\n",
       "        }#T_39b86fae_9c7f_11eb_9879_acde48001122row15_col12{\n",
       "            font_size:  3pt;\n",
       "            background-color:  #d1d1d1;\n",
       "            color:  #000000;\n",
       "        }#T_39b86fae_9c7f_11eb_9879_acde48001122row15_col13,#T_39b86fae_9c7f_11eb_9879_acde48001122row15_col14,#T_39b86fae_9c7f_11eb_9879_acde48001122row20_col13{\n",
       "            font_size:  3pt;\n",
       "            background-color:  #c3c3c3;\n",
       "            color:  #000000;\n",
       "        }#T_39b86fae_9c7f_11eb_9879_acde48001122row15_col15{\n",
       "            font_size:  3pt;\n",
       "            background-color:  #bfbfbf;\n",
       "            color:  #000000;\n",
       "        }#T_39b86fae_9c7f_11eb_9879_acde48001122row15_col16,#T_39b86fae_9c7f_11eb_9879_acde48001122row19_col15{\n",
       "            font_size:  3pt;\n",
       "            background-color:  #101010;\n",
       "            color:  #f1f1f1;\n",
       "        }#T_39b86fae_9c7f_11eb_9879_acde48001122row16_col16{\n",
       "            font_size:  3pt;\n",
       "            background-color:  #949494;\n",
       "            color:  #000000;\n",
       "        }#T_39b86fae_9c7f_11eb_9879_acde48001122row17_col18{\n",
       "            font_size:  3pt;\n",
       "            background-color:  #060606;\n",
       "            color:  #f1f1f1;\n",
       "        }#T_39b86fae_9c7f_11eb_9879_acde48001122row17_col19{\n",
       "            font_size:  3pt;\n",
       "            background-color:  #1c1c1c;\n",
       "            color:  #f1f1f1;\n",
       "        }#T_39b86fae_9c7f_11eb_9879_acde48001122row18_col15{\n",
       "            font_size:  3pt;\n",
       "            background-color:  #898989;\n",
       "            color:  #000000;\n",
       "        }#T_39b86fae_9c7f_11eb_9879_acde48001122row18_col18{\n",
       "            font_size:  3pt;\n",
       "            background-color:  #8e8e8e;\n",
       "            color:  #000000;\n",
       "        }#T_39b86fae_9c7f_11eb_9879_acde48001122row19_col6{\n",
       "            font_size:  3pt;\n",
       "            background-color:  #f1f1f1;\n",
       "            color:  #000000;\n",
       "        }#T_39b86fae_9c7f_11eb_9879_acde48001122row19_col7{\n",
       "            font_size:  3pt;\n",
       "            background-color:  #606060;\n",
       "            color:  #f1f1f1;\n",
       "        }#T_39b86fae_9c7f_11eb_9879_acde48001122row19_col8{\n",
       "            font_size:  3pt;\n",
       "            background-color:  #c2c2c2;\n",
       "            color:  #000000;\n",
       "        }#T_39b86fae_9c7f_11eb_9879_acde48001122row19_col14{\n",
       "            font_size:  3pt;\n",
       "            background-color:  #f3f3f3;\n",
       "            color:  #000000;\n",
       "        }#T_39b86fae_9c7f_11eb_9879_acde48001122row20_col8{\n",
       "            font_size:  3pt;\n",
       "            background-color:  #2f2f2f;\n",
       "            color:  #f1f1f1;\n",
       "        }#T_39b86fae_9c7f_11eb_9879_acde48001122row20_col9{\n",
       "            font_size:  3pt;\n",
       "            background-color:  #dadada;\n",
       "            color:  #000000;\n",
       "        }#T_39b86fae_9c7f_11eb_9879_acde48001122row20_col10{\n",
       "            font_size:  3pt;\n",
       "            background-color:  #ededed;\n",
       "            color:  #000000;\n",
       "        }#T_39b86fae_9c7f_11eb_9879_acde48001122row20_col12{\n",
       "            font_size:  3pt;\n",
       "            background-color:  #e2e2e2;\n",
       "            color:  #000000;\n",
       "        }#T_39b86fae_9c7f_11eb_9879_acde48001122row20_col17{\n",
       "            font_size:  3pt;\n",
       "            background-color:  #888888;\n",
       "            color:  #000000;\n",
       "        }#T_39b86fae_9c7f_11eb_9879_acde48001122row20_col18{\n",
       "            font_size:  3pt;\n",
       "            background-color:  #fbfbfb;\n",
       "            color:  #000000;\n",
       "        }#T_39b86fae_9c7f_11eb_9879_acde48001122row21_col6{\n",
       "            font_size:  3pt;\n",
       "            background-color:  #c4c4c4;\n",
       "            color:  #000000;\n",
       "        }#T_39b86fae_9c7f_11eb_9879_acde48001122row21_col7{\n",
       "            font_size:  3pt;\n",
       "            background-color:  #484848;\n",
       "            color:  #f1f1f1;\n",
       "        }#T_39b86fae_9c7f_11eb_9879_acde48001122row21_col10{\n",
       "            font_size:  3pt;\n",
       "            background-color:  #252525;\n",
       "            color:  #f1f1f1;\n",
       "        }#T_39b86fae_9c7f_11eb_9879_acde48001122row21_col11{\n",
       "            font_size:  3pt;\n",
       "            background-color:  #5d5d5d;\n",
       "            color:  #f1f1f1;\n",
       "        }#T_39b86fae_9c7f_11eb_9879_acde48001122row21_col12{\n",
       "            font_size:  3pt;\n",
       "            background-color:  #0f0f0f;\n",
       "            color:  #f1f1f1;\n",
       "        }#T_39b86fae_9c7f_11eb_9879_acde48001122row21_col16{\n",
       "            font_size:  3pt;\n",
       "            background-color:  #323232;\n",
       "            color:  #f1f1f1;\n",
       "        }#T_39b86fae_9c7f_11eb_9879_acde48001122row21_col17{\n",
       "            font_size:  3pt;\n",
       "            background-color:  #fafafa;\n",
       "            color:  #000000;\n",
       "        }#T_39b86fae_9c7f_11eb_9879_acde48001122row22_col7{\n",
       "            font_size:  3pt;\n",
       "            background-color:  #878787;\n",
       "            color:  #000000;\n",
       "        }#T_39b86fae_9c7f_11eb_9879_acde48001122row22_col8{\n",
       "            font_size:  3pt;\n",
       "            background-color:  #b2b2b2;\n",
       "            color:  #000000;\n",
       "        }#T_39b86fae_9c7f_11eb_9879_acde48001122row22_col15{\n",
       "            font_size:  3pt;\n",
       "            background-color:  #151515;\n",
       "            color:  #f1f1f1;\n",
       "        }#T_39b86fae_9c7f_11eb_9879_acde48001122row23_col9,#T_39b86fae_9c7f_11eb_9879_acde48001122row23_col10{\n",
       "            font_size:  3pt;\n",
       "            background-color:  #a3a3a3;\n",
       "            color:  #000000;\n",
       "        }#T_39b86fae_9c7f_11eb_9879_acde48001122row23_col11{\n",
       "            font_size:  3pt;\n",
       "            background-color:  #6c6c6c;\n",
       "            color:  #000000;\n",
       "        }#T_39b86fae_9c7f_11eb_9879_acde48001122row23_col14{\n",
       "            font_size:  3pt;\n",
       "            background-color:  #111111;\n",
       "            color:  #f1f1f1;\n",
       "        }#T_39b86fae_9c7f_11eb_9879_acde48001122row23_col15{\n",
       "            font_size:  3pt;\n",
       "            background-color:  #e3e3e3;\n",
       "            color:  #000000;\n",
       "        }</style><table id=\"T_39b86fae_9c7f_11eb_9879_acde48001122\" ><thead>    <tr>        <th class=\"blank level0\" ></th>        <th class=\"col_heading level0 col0\" >0</th>        <th class=\"col_heading level0 col1\" >1</th>        <th class=\"col_heading level0 col2\" >2</th>        <th class=\"col_heading level0 col3\" >3</th>        <th class=\"col_heading level0 col4\" >4</th>        <th class=\"col_heading level0 col5\" >5</th>        <th class=\"col_heading level0 col6\" >6</th>        <th class=\"col_heading level0 col7\" >7</th>        <th class=\"col_heading level0 col8\" >8</th>        <th class=\"col_heading level0 col9\" >9</th>        <th class=\"col_heading level0 col10\" >10</th>        <th class=\"col_heading level0 col11\" >11</th>        <th class=\"col_heading level0 col12\" >12</th>        <th class=\"col_heading level0 col13\" >13</th>        <th class=\"col_heading level0 col14\" >14</th>        <th class=\"col_heading level0 col15\" >15</th>        <th class=\"col_heading level0 col16\" >16</th>        <th class=\"col_heading level0 col17\" >17</th>        <th class=\"col_heading level0 col18\" >18</th>        <th class=\"col_heading level0 col19\" >19</th>        <th class=\"col_heading level0 col20\" >20</th>        <th class=\"col_heading level0 col21\" >21</th>        <th class=\"col_heading level0 col22\" >22</th>        <th class=\"col_heading level0 col23\" >23</th>        <th class=\"col_heading level0 col24\" >24</th>        <th class=\"col_heading level0 col25\" >25</th>        <th class=\"col_heading level0 col26\" >26</th>        <th class=\"col_heading level0 col27\" >27</th>    </tr></thead><tbody>\n",
       "                <tr>\n",
       "                        <th id=\"T_39b86fae_9c7f_11eb_9879_acde48001122level0_row0\" class=\"row_heading level0 row0\" >0</th>\n",
       "                        <td id=\"T_39b86fae_9c7f_11eb_9879_acde48001122row0_col0\" class=\"data row0 col0\" >0</td>\n",
       "                        <td id=\"T_39b86fae_9c7f_11eb_9879_acde48001122row0_col1\" class=\"data row0 col1\" >0</td>\n",
       "                        <td id=\"T_39b86fae_9c7f_11eb_9879_acde48001122row0_col2\" class=\"data row0 col2\" >0</td>\n",
       "                        <td id=\"T_39b86fae_9c7f_11eb_9879_acde48001122row0_col3\" class=\"data row0 col3\" >0</td>\n",
       "                        <td id=\"T_39b86fae_9c7f_11eb_9879_acde48001122row0_col4\" class=\"data row0 col4\" >0</td>\n",
       "                        <td id=\"T_39b86fae_9c7f_11eb_9879_acde48001122row0_col5\" class=\"data row0 col5\" >0</td>\n",
       "                        <td id=\"T_39b86fae_9c7f_11eb_9879_acde48001122row0_col6\" class=\"data row0 col6\" >0</td>\n",
       "                        <td id=\"T_39b86fae_9c7f_11eb_9879_acde48001122row0_col7\" class=\"data row0 col7\" >0</td>\n",
       "                        <td id=\"T_39b86fae_9c7f_11eb_9879_acde48001122row0_col8\" class=\"data row0 col8\" >0</td>\n",
       "                        <td id=\"T_39b86fae_9c7f_11eb_9879_acde48001122row0_col9\" class=\"data row0 col9\" >0</td>\n",
       "                        <td id=\"T_39b86fae_9c7f_11eb_9879_acde48001122row0_col10\" class=\"data row0 col10\" >0</td>\n",
       "                        <td id=\"T_39b86fae_9c7f_11eb_9879_acde48001122row0_col11\" class=\"data row0 col11\" >0</td>\n",
       "                        <td id=\"T_39b86fae_9c7f_11eb_9879_acde48001122row0_col12\" class=\"data row0 col12\" >0</td>\n",
       "                        <td id=\"T_39b86fae_9c7f_11eb_9879_acde48001122row0_col13\" class=\"data row0 col13\" >0</td>\n",
       "                        <td id=\"T_39b86fae_9c7f_11eb_9879_acde48001122row0_col14\" class=\"data row0 col14\" >0</td>\n",
       "                        <td id=\"T_39b86fae_9c7f_11eb_9879_acde48001122row0_col15\" class=\"data row0 col15\" >0</td>\n",
       "                        <td id=\"T_39b86fae_9c7f_11eb_9879_acde48001122row0_col16\" class=\"data row0 col16\" >0</td>\n",
       "                        <td id=\"T_39b86fae_9c7f_11eb_9879_acde48001122row0_col17\" class=\"data row0 col17\" >0</td>\n",
       "                        <td id=\"T_39b86fae_9c7f_11eb_9879_acde48001122row0_col18\" class=\"data row0 col18\" >0</td>\n",
       "                        <td id=\"T_39b86fae_9c7f_11eb_9879_acde48001122row0_col19\" class=\"data row0 col19\" >0</td>\n",
       "                        <td id=\"T_39b86fae_9c7f_11eb_9879_acde48001122row0_col20\" class=\"data row0 col20\" >0</td>\n",
       "                        <td id=\"T_39b86fae_9c7f_11eb_9879_acde48001122row0_col21\" class=\"data row0 col21\" >0</td>\n",
       "                        <td id=\"T_39b86fae_9c7f_11eb_9879_acde48001122row0_col22\" class=\"data row0 col22\" >0</td>\n",
       "                        <td id=\"T_39b86fae_9c7f_11eb_9879_acde48001122row0_col23\" class=\"data row0 col23\" >0</td>\n",
       "                        <td id=\"T_39b86fae_9c7f_11eb_9879_acde48001122row0_col24\" class=\"data row0 col24\" >0</td>\n",
       "                        <td id=\"T_39b86fae_9c7f_11eb_9879_acde48001122row0_col25\" class=\"data row0 col25\" >0</td>\n",
       "                        <td id=\"T_39b86fae_9c7f_11eb_9879_acde48001122row0_col26\" class=\"data row0 col26\" >0</td>\n",
       "                        <td id=\"T_39b86fae_9c7f_11eb_9879_acde48001122row0_col27\" class=\"data row0 col27\" >0</td>\n",
       "            </tr>\n",
       "            <tr>\n",
       "                        <th id=\"T_39b86fae_9c7f_11eb_9879_acde48001122level0_row1\" class=\"row_heading level0 row1\" >1</th>\n",
       "                        <td id=\"T_39b86fae_9c7f_11eb_9879_acde48001122row1_col0\" class=\"data row1 col0\" >0</td>\n",
       "                        <td id=\"T_39b86fae_9c7f_11eb_9879_acde48001122row1_col1\" class=\"data row1 col1\" >0</td>\n",
       "                        <td id=\"T_39b86fae_9c7f_11eb_9879_acde48001122row1_col2\" class=\"data row1 col2\" >0</td>\n",
       "                        <td id=\"T_39b86fae_9c7f_11eb_9879_acde48001122row1_col3\" class=\"data row1 col3\" >0</td>\n",
       "                        <td id=\"T_39b86fae_9c7f_11eb_9879_acde48001122row1_col4\" class=\"data row1 col4\" >0</td>\n",
       "                        <td id=\"T_39b86fae_9c7f_11eb_9879_acde48001122row1_col5\" class=\"data row1 col5\" >0</td>\n",
       "                        <td id=\"T_39b86fae_9c7f_11eb_9879_acde48001122row1_col6\" class=\"data row1 col6\" >0</td>\n",
       "                        <td id=\"T_39b86fae_9c7f_11eb_9879_acde48001122row1_col7\" class=\"data row1 col7\" >0</td>\n",
       "                        <td id=\"T_39b86fae_9c7f_11eb_9879_acde48001122row1_col8\" class=\"data row1 col8\" >0</td>\n",
       "                        <td id=\"T_39b86fae_9c7f_11eb_9879_acde48001122row1_col9\" class=\"data row1 col9\" >0</td>\n",
       "                        <td id=\"T_39b86fae_9c7f_11eb_9879_acde48001122row1_col10\" class=\"data row1 col10\" >0</td>\n",
       "                        <td id=\"T_39b86fae_9c7f_11eb_9879_acde48001122row1_col11\" class=\"data row1 col11\" >0</td>\n",
       "                        <td id=\"T_39b86fae_9c7f_11eb_9879_acde48001122row1_col12\" class=\"data row1 col12\" >0</td>\n",
       "                        <td id=\"T_39b86fae_9c7f_11eb_9879_acde48001122row1_col13\" class=\"data row1 col13\" >0</td>\n",
       "                        <td id=\"T_39b86fae_9c7f_11eb_9879_acde48001122row1_col14\" class=\"data row1 col14\" >0</td>\n",
       "                        <td id=\"T_39b86fae_9c7f_11eb_9879_acde48001122row1_col15\" class=\"data row1 col15\" >0</td>\n",
       "                        <td id=\"T_39b86fae_9c7f_11eb_9879_acde48001122row1_col16\" class=\"data row1 col16\" >0</td>\n",
       "                        <td id=\"T_39b86fae_9c7f_11eb_9879_acde48001122row1_col17\" class=\"data row1 col17\" >0</td>\n",
       "                        <td id=\"T_39b86fae_9c7f_11eb_9879_acde48001122row1_col18\" class=\"data row1 col18\" >0</td>\n",
       "                        <td id=\"T_39b86fae_9c7f_11eb_9879_acde48001122row1_col19\" class=\"data row1 col19\" >0</td>\n",
       "                        <td id=\"T_39b86fae_9c7f_11eb_9879_acde48001122row1_col20\" class=\"data row1 col20\" >0</td>\n",
       "                        <td id=\"T_39b86fae_9c7f_11eb_9879_acde48001122row1_col21\" class=\"data row1 col21\" >0</td>\n",
       "                        <td id=\"T_39b86fae_9c7f_11eb_9879_acde48001122row1_col22\" class=\"data row1 col22\" >0</td>\n",
       "                        <td id=\"T_39b86fae_9c7f_11eb_9879_acde48001122row1_col23\" class=\"data row1 col23\" >0</td>\n",
       "                        <td id=\"T_39b86fae_9c7f_11eb_9879_acde48001122row1_col24\" class=\"data row1 col24\" >0</td>\n",
       "                        <td id=\"T_39b86fae_9c7f_11eb_9879_acde48001122row1_col25\" class=\"data row1 col25\" >0</td>\n",
       "                        <td id=\"T_39b86fae_9c7f_11eb_9879_acde48001122row1_col26\" class=\"data row1 col26\" >0</td>\n",
       "                        <td id=\"T_39b86fae_9c7f_11eb_9879_acde48001122row1_col27\" class=\"data row1 col27\" >0</td>\n",
       "            </tr>\n",
       "            <tr>\n",
       "                        <th id=\"T_39b86fae_9c7f_11eb_9879_acde48001122level0_row2\" class=\"row_heading level0 row2\" >2</th>\n",
       "                        <td id=\"T_39b86fae_9c7f_11eb_9879_acde48001122row2_col0\" class=\"data row2 col0\" >0</td>\n",
       "                        <td id=\"T_39b86fae_9c7f_11eb_9879_acde48001122row2_col1\" class=\"data row2 col1\" >0</td>\n",
       "                        <td id=\"T_39b86fae_9c7f_11eb_9879_acde48001122row2_col2\" class=\"data row2 col2\" >0</td>\n",
       "                        <td id=\"T_39b86fae_9c7f_11eb_9879_acde48001122row2_col3\" class=\"data row2 col3\" >0</td>\n",
       "                        <td id=\"T_39b86fae_9c7f_11eb_9879_acde48001122row2_col4\" class=\"data row2 col4\" >0</td>\n",
       "                        <td id=\"T_39b86fae_9c7f_11eb_9879_acde48001122row2_col5\" class=\"data row2 col5\" >0</td>\n",
       "                        <td id=\"T_39b86fae_9c7f_11eb_9879_acde48001122row2_col6\" class=\"data row2 col6\" >0</td>\n",
       "                        <td id=\"T_39b86fae_9c7f_11eb_9879_acde48001122row2_col7\" class=\"data row2 col7\" >0</td>\n",
       "                        <td id=\"T_39b86fae_9c7f_11eb_9879_acde48001122row2_col8\" class=\"data row2 col8\" >0</td>\n",
       "                        <td id=\"T_39b86fae_9c7f_11eb_9879_acde48001122row2_col9\" class=\"data row2 col9\" >0</td>\n",
       "                        <td id=\"T_39b86fae_9c7f_11eb_9879_acde48001122row2_col10\" class=\"data row2 col10\" >0</td>\n",
       "                        <td id=\"T_39b86fae_9c7f_11eb_9879_acde48001122row2_col11\" class=\"data row2 col11\" >0</td>\n",
       "                        <td id=\"T_39b86fae_9c7f_11eb_9879_acde48001122row2_col12\" class=\"data row2 col12\" >0</td>\n",
       "                        <td id=\"T_39b86fae_9c7f_11eb_9879_acde48001122row2_col13\" class=\"data row2 col13\" >0</td>\n",
       "                        <td id=\"T_39b86fae_9c7f_11eb_9879_acde48001122row2_col14\" class=\"data row2 col14\" >0</td>\n",
       "                        <td id=\"T_39b86fae_9c7f_11eb_9879_acde48001122row2_col15\" class=\"data row2 col15\" >0</td>\n",
       "                        <td id=\"T_39b86fae_9c7f_11eb_9879_acde48001122row2_col16\" class=\"data row2 col16\" >0</td>\n",
       "                        <td id=\"T_39b86fae_9c7f_11eb_9879_acde48001122row2_col17\" class=\"data row2 col17\" >0</td>\n",
       "                        <td id=\"T_39b86fae_9c7f_11eb_9879_acde48001122row2_col18\" class=\"data row2 col18\" >0</td>\n",
       "                        <td id=\"T_39b86fae_9c7f_11eb_9879_acde48001122row2_col19\" class=\"data row2 col19\" >0</td>\n",
       "                        <td id=\"T_39b86fae_9c7f_11eb_9879_acde48001122row2_col20\" class=\"data row2 col20\" >0</td>\n",
       "                        <td id=\"T_39b86fae_9c7f_11eb_9879_acde48001122row2_col21\" class=\"data row2 col21\" >0</td>\n",
       "                        <td id=\"T_39b86fae_9c7f_11eb_9879_acde48001122row2_col22\" class=\"data row2 col22\" >0</td>\n",
       "                        <td id=\"T_39b86fae_9c7f_11eb_9879_acde48001122row2_col23\" class=\"data row2 col23\" >0</td>\n",
       "                        <td id=\"T_39b86fae_9c7f_11eb_9879_acde48001122row2_col24\" class=\"data row2 col24\" >0</td>\n",
       "                        <td id=\"T_39b86fae_9c7f_11eb_9879_acde48001122row2_col25\" class=\"data row2 col25\" >0</td>\n",
       "                        <td id=\"T_39b86fae_9c7f_11eb_9879_acde48001122row2_col26\" class=\"data row2 col26\" >0</td>\n",
       "                        <td id=\"T_39b86fae_9c7f_11eb_9879_acde48001122row2_col27\" class=\"data row2 col27\" >0</td>\n",
       "            </tr>\n",
       "            <tr>\n",
       "                        <th id=\"T_39b86fae_9c7f_11eb_9879_acde48001122level0_row3\" class=\"row_heading level0 row3\" >3</th>\n",
       "                        <td id=\"T_39b86fae_9c7f_11eb_9879_acde48001122row3_col0\" class=\"data row3 col0\" >0</td>\n",
       "                        <td id=\"T_39b86fae_9c7f_11eb_9879_acde48001122row3_col1\" class=\"data row3 col1\" >0</td>\n",
       "                        <td id=\"T_39b86fae_9c7f_11eb_9879_acde48001122row3_col2\" class=\"data row3 col2\" >0</td>\n",
       "                        <td id=\"T_39b86fae_9c7f_11eb_9879_acde48001122row3_col3\" class=\"data row3 col3\" >0</td>\n",
       "                        <td id=\"T_39b86fae_9c7f_11eb_9879_acde48001122row3_col4\" class=\"data row3 col4\" >0</td>\n",
       "                        <td id=\"T_39b86fae_9c7f_11eb_9879_acde48001122row3_col5\" class=\"data row3 col5\" >0</td>\n",
       "                        <td id=\"T_39b86fae_9c7f_11eb_9879_acde48001122row3_col6\" class=\"data row3 col6\" >0</td>\n",
       "                        <td id=\"T_39b86fae_9c7f_11eb_9879_acde48001122row3_col7\" class=\"data row3 col7\" >0</td>\n",
       "                        <td id=\"T_39b86fae_9c7f_11eb_9879_acde48001122row3_col8\" class=\"data row3 col8\" >0</td>\n",
       "                        <td id=\"T_39b86fae_9c7f_11eb_9879_acde48001122row3_col9\" class=\"data row3 col9\" >0</td>\n",
       "                        <td id=\"T_39b86fae_9c7f_11eb_9879_acde48001122row3_col10\" class=\"data row3 col10\" >0</td>\n",
       "                        <td id=\"T_39b86fae_9c7f_11eb_9879_acde48001122row3_col11\" class=\"data row3 col11\" >0</td>\n",
       "                        <td id=\"T_39b86fae_9c7f_11eb_9879_acde48001122row3_col12\" class=\"data row3 col12\" >0</td>\n",
       "                        <td id=\"T_39b86fae_9c7f_11eb_9879_acde48001122row3_col13\" class=\"data row3 col13\" >0</td>\n",
       "                        <td id=\"T_39b86fae_9c7f_11eb_9879_acde48001122row3_col14\" class=\"data row3 col14\" >0</td>\n",
       "                        <td id=\"T_39b86fae_9c7f_11eb_9879_acde48001122row3_col15\" class=\"data row3 col15\" >0</td>\n",
       "                        <td id=\"T_39b86fae_9c7f_11eb_9879_acde48001122row3_col16\" class=\"data row3 col16\" >0</td>\n",
       "                        <td id=\"T_39b86fae_9c7f_11eb_9879_acde48001122row3_col17\" class=\"data row3 col17\" >0</td>\n",
       "                        <td id=\"T_39b86fae_9c7f_11eb_9879_acde48001122row3_col18\" class=\"data row3 col18\" >0</td>\n",
       "                        <td id=\"T_39b86fae_9c7f_11eb_9879_acde48001122row3_col19\" class=\"data row3 col19\" >0</td>\n",
       "                        <td id=\"T_39b86fae_9c7f_11eb_9879_acde48001122row3_col20\" class=\"data row3 col20\" >0</td>\n",
       "                        <td id=\"T_39b86fae_9c7f_11eb_9879_acde48001122row3_col21\" class=\"data row3 col21\" >0</td>\n",
       "                        <td id=\"T_39b86fae_9c7f_11eb_9879_acde48001122row3_col22\" class=\"data row3 col22\" >0</td>\n",
       "                        <td id=\"T_39b86fae_9c7f_11eb_9879_acde48001122row3_col23\" class=\"data row3 col23\" >0</td>\n",
       "                        <td id=\"T_39b86fae_9c7f_11eb_9879_acde48001122row3_col24\" class=\"data row3 col24\" >0</td>\n",
       "                        <td id=\"T_39b86fae_9c7f_11eb_9879_acde48001122row3_col25\" class=\"data row3 col25\" >0</td>\n",
       "                        <td id=\"T_39b86fae_9c7f_11eb_9879_acde48001122row3_col26\" class=\"data row3 col26\" >0</td>\n",
       "                        <td id=\"T_39b86fae_9c7f_11eb_9879_acde48001122row3_col27\" class=\"data row3 col27\" >0</td>\n",
       "            </tr>\n",
       "            <tr>\n",
       "                        <th id=\"T_39b86fae_9c7f_11eb_9879_acde48001122level0_row4\" class=\"row_heading level0 row4\" >4</th>\n",
       "                        <td id=\"T_39b86fae_9c7f_11eb_9879_acde48001122row4_col0\" class=\"data row4 col0\" >0</td>\n",
       "                        <td id=\"T_39b86fae_9c7f_11eb_9879_acde48001122row4_col1\" class=\"data row4 col1\" >0</td>\n",
       "                        <td id=\"T_39b86fae_9c7f_11eb_9879_acde48001122row4_col2\" class=\"data row4 col2\" >0</td>\n",
       "                        <td id=\"T_39b86fae_9c7f_11eb_9879_acde48001122row4_col3\" class=\"data row4 col3\" >0</td>\n",
       "                        <td id=\"T_39b86fae_9c7f_11eb_9879_acde48001122row4_col4\" class=\"data row4 col4\" >0</td>\n",
       "                        <td id=\"T_39b86fae_9c7f_11eb_9879_acde48001122row4_col5\" class=\"data row4 col5\" >0</td>\n",
       "                        <td id=\"T_39b86fae_9c7f_11eb_9879_acde48001122row4_col6\" class=\"data row4 col6\" >0</td>\n",
       "                        <td id=\"T_39b86fae_9c7f_11eb_9879_acde48001122row4_col7\" class=\"data row4 col7\" >0</td>\n",
       "                        <td id=\"T_39b86fae_9c7f_11eb_9879_acde48001122row4_col8\" class=\"data row4 col8\" >0</td>\n",
       "                        <td id=\"T_39b86fae_9c7f_11eb_9879_acde48001122row4_col9\" class=\"data row4 col9\" >0</td>\n",
       "                        <td id=\"T_39b86fae_9c7f_11eb_9879_acde48001122row4_col10\" class=\"data row4 col10\" >0</td>\n",
       "                        <td id=\"T_39b86fae_9c7f_11eb_9879_acde48001122row4_col11\" class=\"data row4 col11\" >42</td>\n",
       "                        <td id=\"T_39b86fae_9c7f_11eb_9879_acde48001122row4_col12\" class=\"data row4 col12\" >118</td>\n",
       "                        <td id=\"T_39b86fae_9c7f_11eb_9879_acde48001122row4_col13\" class=\"data row4 col13\" >219</td>\n",
       "                        <td id=\"T_39b86fae_9c7f_11eb_9879_acde48001122row4_col14\" class=\"data row4 col14\" >166</td>\n",
       "                        <td id=\"T_39b86fae_9c7f_11eb_9879_acde48001122row4_col15\" class=\"data row4 col15\" >118</td>\n",
       "                        <td id=\"T_39b86fae_9c7f_11eb_9879_acde48001122row4_col16\" class=\"data row4 col16\" >118</td>\n",
       "                        <td id=\"T_39b86fae_9c7f_11eb_9879_acde48001122row4_col17\" class=\"data row4 col17\" >6</td>\n",
       "                        <td id=\"T_39b86fae_9c7f_11eb_9879_acde48001122row4_col18\" class=\"data row4 col18\" >0</td>\n",
       "                        <td id=\"T_39b86fae_9c7f_11eb_9879_acde48001122row4_col19\" class=\"data row4 col19\" >0</td>\n",
       "                        <td id=\"T_39b86fae_9c7f_11eb_9879_acde48001122row4_col20\" class=\"data row4 col20\" >0</td>\n",
       "                        <td id=\"T_39b86fae_9c7f_11eb_9879_acde48001122row4_col21\" class=\"data row4 col21\" >0</td>\n",
       "                        <td id=\"T_39b86fae_9c7f_11eb_9879_acde48001122row4_col22\" class=\"data row4 col22\" >0</td>\n",
       "                        <td id=\"T_39b86fae_9c7f_11eb_9879_acde48001122row4_col23\" class=\"data row4 col23\" >0</td>\n",
       "                        <td id=\"T_39b86fae_9c7f_11eb_9879_acde48001122row4_col24\" class=\"data row4 col24\" >0</td>\n",
       "                        <td id=\"T_39b86fae_9c7f_11eb_9879_acde48001122row4_col25\" class=\"data row4 col25\" >0</td>\n",
       "                        <td id=\"T_39b86fae_9c7f_11eb_9879_acde48001122row4_col26\" class=\"data row4 col26\" >0</td>\n",
       "                        <td id=\"T_39b86fae_9c7f_11eb_9879_acde48001122row4_col27\" class=\"data row4 col27\" >0</td>\n",
       "            </tr>\n",
       "            <tr>\n",
       "                        <th id=\"T_39b86fae_9c7f_11eb_9879_acde48001122level0_row5\" class=\"row_heading level0 row5\" >5</th>\n",
       "                        <td id=\"T_39b86fae_9c7f_11eb_9879_acde48001122row5_col0\" class=\"data row5 col0\" >0</td>\n",
       "                        <td id=\"T_39b86fae_9c7f_11eb_9879_acde48001122row5_col1\" class=\"data row5 col1\" >0</td>\n",
       "                        <td id=\"T_39b86fae_9c7f_11eb_9879_acde48001122row5_col2\" class=\"data row5 col2\" >0</td>\n",
       "                        <td id=\"T_39b86fae_9c7f_11eb_9879_acde48001122row5_col3\" class=\"data row5 col3\" >0</td>\n",
       "                        <td id=\"T_39b86fae_9c7f_11eb_9879_acde48001122row5_col4\" class=\"data row5 col4\" >0</td>\n",
       "                        <td id=\"T_39b86fae_9c7f_11eb_9879_acde48001122row5_col5\" class=\"data row5 col5\" >0</td>\n",
       "                        <td id=\"T_39b86fae_9c7f_11eb_9879_acde48001122row5_col6\" class=\"data row5 col6\" >0</td>\n",
       "                        <td id=\"T_39b86fae_9c7f_11eb_9879_acde48001122row5_col7\" class=\"data row5 col7\" >0</td>\n",
       "                        <td id=\"T_39b86fae_9c7f_11eb_9879_acde48001122row5_col8\" class=\"data row5 col8\" >0</td>\n",
       "                        <td id=\"T_39b86fae_9c7f_11eb_9879_acde48001122row5_col9\" class=\"data row5 col9\" >0</td>\n",
       "                        <td id=\"T_39b86fae_9c7f_11eb_9879_acde48001122row5_col10\" class=\"data row5 col10\" >103</td>\n",
       "                        <td id=\"T_39b86fae_9c7f_11eb_9879_acde48001122row5_col11\" class=\"data row5 col11\" >242</td>\n",
       "                        <td id=\"T_39b86fae_9c7f_11eb_9879_acde48001122row5_col12\" class=\"data row5 col12\" >254</td>\n",
       "                        <td id=\"T_39b86fae_9c7f_11eb_9879_acde48001122row5_col13\" class=\"data row5 col13\" >254</td>\n",
       "                        <td id=\"T_39b86fae_9c7f_11eb_9879_acde48001122row5_col14\" class=\"data row5 col14\" >254</td>\n",
       "                        <td id=\"T_39b86fae_9c7f_11eb_9879_acde48001122row5_col15\" class=\"data row5 col15\" >254</td>\n",
       "                        <td id=\"T_39b86fae_9c7f_11eb_9879_acde48001122row5_col16\" class=\"data row5 col16\" >254</td>\n",
       "                        <td id=\"T_39b86fae_9c7f_11eb_9879_acde48001122row5_col17\" class=\"data row5 col17\" >66</td>\n",
       "                        <td id=\"T_39b86fae_9c7f_11eb_9879_acde48001122row5_col18\" class=\"data row5 col18\" >0</td>\n",
       "                        <td id=\"T_39b86fae_9c7f_11eb_9879_acde48001122row5_col19\" class=\"data row5 col19\" >0</td>\n",
       "                        <td id=\"T_39b86fae_9c7f_11eb_9879_acde48001122row5_col20\" class=\"data row5 col20\" >0</td>\n",
       "                        <td id=\"T_39b86fae_9c7f_11eb_9879_acde48001122row5_col21\" class=\"data row5 col21\" >0</td>\n",
       "                        <td id=\"T_39b86fae_9c7f_11eb_9879_acde48001122row5_col22\" class=\"data row5 col22\" >0</td>\n",
       "                        <td id=\"T_39b86fae_9c7f_11eb_9879_acde48001122row5_col23\" class=\"data row5 col23\" >0</td>\n",
       "                        <td id=\"T_39b86fae_9c7f_11eb_9879_acde48001122row5_col24\" class=\"data row5 col24\" >0</td>\n",
       "                        <td id=\"T_39b86fae_9c7f_11eb_9879_acde48001122row5_col25\" class=\"data row5 col25\" >0</td>\n",
       "                        <td id=\"T_39b86fae_9c7f_11eb_9879_acde48001122row5_col26\" class=\"data row5 col26\" >0</td>\n",
       "                        <td id=\"T_39b86fae_9c7f_11eb_9879_acde48001122row5_col27\" class=\"data row5 col27\" >0</td>\n",
       "            </tr>\n",
       "            <tr>\n",
       "                        <th id=\"T_39b86fae_9c7f_11eb_9879_acde48001122level0_row6\" class=\"row_heading level0 row6\" >6</th>\n",
       "                        <td id=\"T_39b86fae_9c7f_11eb_9879_acde48001122row6_col0\" class=\"data row6 col0\" >0</td>\n",
       "                        <td id=\"T_39b86fae_9c7f_11eb_9879_acde48001122row6_col1\" class=\"data row6 col1\" >0</td>\n",
       "                        <td id=\"T_39b86fae_9c7f_11eb_9879_acde48001122row6_col2\" class=\"data row6 col2\" >0</td>\n",
       "                        <td id=\"T_39b86fae_9c7f_11eb_9879_acde48001122row6_col3\" class=\"data row6 col3\" >0</td>\n",
       "                        <td id=\"T_39b86fae_9c7f_11eb_9879_acde48001122row6_col4\" class=\"data row6 col4\" >0</td>\n",
       "                        <td id=\"T_39b86fae_9c7f_11eb_9879_acde48001122row6_col5\" class=\"data row6 col5\" >0</td>\n",
       "                        <td id=\"T_39b86fae_9c7f_11eb_9879_acde48001122row6_col6\" class=\"data row6 col6\" >0</td>\n",
       "                        <td id=\"T_39b86fae_9c7f_11eb_9879_acde48001122row6_col7\" class=\"data row6 col7\" >0</td>\n",
       "                        <td id=\"T_39b86fae_9c7f_11eb_9879_acde48001122row6_col8\" class=\"data row6 col8\" >0</td>\n",
       "                        <td id=\"T_39b86fae_9c7f_11eb_9879_acde48001122row6_col9\" class=\"data row6 col9\" >0</td>\n",
       "                        <td id=\"T_39b86fae_9c7f_11eb_9879_acde48001122row6_col10\" class=\"data row6 col10\" >18</td>\n",
       "                        <td id=\"T_39b86fae_9c7f_11eb_9879_acde48001122row6_col11\" class=\"data row6 col11\" >232</td>\n",
       "                        <td id=\"T_39b86fae_9c7f_11eb_9879_acde48001122row6_col12\" class=\"data row6 col12\" >254</td>\n",
       "                        <td id=\"T_39b86fae_9c7f_11eb_9879_acde48001122row6_col13\" class=\"data row6 col13\" >254</td>\n",
       "                        <td id=\"T_39b86fae_9c7f_11eb_9879_acde48001122row6_col14\" class=\"data row6 col14\" >254</td>\n",
       "                        <td id=\"T_39b86fae_9c7f_11eb_9879_acde48001122row6_col15\" class=\"data row6 col15\" >254</td>\n",
       "                        <td id=\"T_39b86fae_9c7f_11eb_9879_acde48001122row6_col16\" class=\"data row6 col16\" >254</td>\n",
       "                        <td id=\"T_39b86fae_9c7f_11eb_9879_acde48001122row6_col17\" class=\"data row6 col17\" >238</td>\n",
       "                        <td id=\"T_39b86fae_9c7f_11eb_9879_acde48001122row6_col18\" class=\"data row6 col18\" >70</td>\n",
       "                        <td id=\"T_39b86fae_9c7f_11eb_9879_acde48001122row6_col19\" class=\"data row6 col19\" >0</td>\n",
       "                        <td id=\"T_39b86fae_9c7f_11eb_9879_acde48001122row6_col20\" class=\"data row6 col20\" >0</td>\n",
       "                        <td id=\"T_39b86fae_9c7f_11eb_9879_acde48001122row6_col21\" class=\"data row6 col21\" >0</td>\n",
       "                        <td id=\"T_39b86fae_9c7f_11eb_9879_acde48001122row6_col22\" class=\"data row6 col22\" >0</td>\n",
       "                        <td id=\"T_39b86fae_9c7f_11eb_9879_acde48001122row6_col23\" class=\"data row6 col23\" >0</td>\n",
       "                        <td id=\"T_39b86fae_9c7f_11eb_9879_acde48001122row6_col24\" class=\"data row6 col24\" >0</td>\n",
       "                        <td id=\"T_39b86fae_9c7f_11eb_9879_acde48001122row6_col25\" class=\"data row6 col25\" >0</td>\n",
       "                        <td id=\"T_39b86fae_9c7f_11eb_9879_acde48001122row6_col26\" class=\"data row6 col26\" >0</td>\n",
       "                        <td id=\"T_39b86fae_9c7f_11eb_9879_acde48001122row6_col27\" class=\"data row6 col27\" >0</td>\n",
       "            </tr>\n",
       "            <tr>\n",
       "                        <th id=\"T_39b86fae_9c7f_11eb_9879_acde48001122level0_row7\" class=\"row_heading level0 row7\" >7</th>\n",
       "                        <td id=\"T_39b86fae_9c7f_11eb_9879_acde48001122row7_col0\" class=\"data row7 col0\" >0</td>\n",
       "                        <td id=\"T_39b86fae_9c7f_11eb_9879_acde48001122row7_col1\" class=\"data row7 col1\" >0</td>\n",
       "                        <td id=\"T_39b86fae_9c7f_11eb_9879_acde48001122row7_col2\" class=\"data row7 col2\" >0</td>\n",
       "                        <td id=\"T_39b86fae_9c7f_11eb_9879_acde48001122row7_col3\" class=\"data row7 col3\" >0</td>\n",
       "                        <td id=\"T_39b86fae_9c7f_11eb_9879_acde48001122row7_col4\" class=\"data row7 col4\" >0</td>\n",
       "                        <td id=\"T_39b86fae_9c7f_11eb_9879_acde48001122row7_col5\" class=\"data row7 col5\" >0</td>\n",
       "                        <td id=\"T_39b86fae_9c7f_11eb_9879_acde48001122row7_col6\" class=\"data row7 col6\" >0</td>\n",
       "                        <td id=\"T_39b86fae_9c7f_11eb_9879_acde48001122row7_col7\" class=\"data row7 col7\" >0</td>\n",
       "                        <td id=\"T_39b86fae_9c7f_11eb_9879_acde48001122row7_col8\" class=\"data row7 col8\" >0</td>\n",
       "                        <td id=\"T_39b86fae_9c7f_11eb_9879_acde48001122row7_col9\" class=\"data row7 col9\" >0</td>\n",
       "                        <td id=\"T_39b86fae_9c7f_11eb_9879_acde48001122row7_col10\" class=\"data row7 col10\" >0</td>\n",
       "                        <td id=\"T_39b86fae_9c7f_11eb_9879_acde48001122row7_col11\" class=\"data row7 col11\" >104</td>\n",
       "                        <td id=\"T_39b86fae_9c7f_11eb_9879_acde48001122row7_col12\" class=\"data row7 col12\" >244</td>\n",
       "                        <td id=\"T_39b86fae_9c7f_11eb_9879_acde48001122row7_col13\" class=\"data row7 col13\" >254</td>\n",
       "                        <td id=\"T_39b86fae_9c7f_11eb_9879_acde48001122row7_col14\" class=\"data row7 col14\" >224</td>\n",
       "                        <td id=\"T_39b86fae_9c7f_11eb_9879_acde48001122row7_col15\" class=\"data row7 col15\" >254</td>\n",
       "                        <td id=\"T_39b86fae_9c7f_11eb_9879_acde48001122row7_col16\" class=\"data row7 col16\" >254</td>\n",
       "                        <td id=\"T_39b86fae_9c7f_11eb_9879_acde48001122row7_col17\" class=\"data row7 col17\" >254</td>\n",
       "                        <td id=\"T_39b86fae_9c7f_11eb_9879_acde48001122row7_col18\" class=\"data row7 col18\" >141</td>\n",
       "                        <td id=\"T_39b86fae_9c7f_11eb_9879_acde48001122row7_col19\" class=\"data row7 col19\" >0</td>\n",
       "                        <td id=\"T_39b86fae_9c7f_11eb_9879_acde48001122row7_col20\" class=\"data row7 col20\" >0</td>\n",
       "                        <td id=\"T_39b86fae_9c7f_11eb_9879_acde48001122row7_col21\" class=\"data row7 col21\" >0</td>\n",
       "                        <td id=\"T_39b86fae_9c7f_11eb_9879_acde48001122row7_col22\" class=\"data row7 col22\" >0</td>\n",
       "                        <td id=\"T_39b86fae_9c7f_11eb_9879_acde48001122row7_col23\" class=\"data row7 col23\" >0</td>\n",
       "                        <td id=\"T_39b86fae_9c7f_11eb_9879_acde48001122row7_col24\" class=\"data row7 col24\" >0</td>\n",
       "                        <td id=\"T_39b86fae_9c7f_11eb_9879_acde48001122row7_col25\" class=\"data row7 col25\" >0</td>\n",
       "                        <td id=\"T_39b86fae_9c7f_11eb_9879_acde48001122row7_col26\" class=\"data row7 col26\" >0</td>\n",
       "                        <td id=\"T_39b86fae_9c7f_11eb_9879_acde48001122row7_col27\" class=\"data row7 col27\" >0</td>\n",
       "            </tr>\n",
       "            <tr>\n",
       "                        <th id=\"T_39b86fae_9c7f_11eb_9879_acde48001122level0_row8\" class=\"row_heading level0 row8\" >8</th>\n",
       "                        <td id=\"T_39b86fae_9c7f_11eb_9879_acde48001122row8_col0\" class=\"data row8 col0\" >0</td>\n",
       "                        <td id=\"T_39b86fae_9c7f_11eb_9879_acde48001122row8_col1\" class=\"data row8 col1\" >0</td>\n",
       "                        <td id=\"T_39b86fae_9c7f_11eb_9879_acde48001122row8_col2\" class=\"data row8 col2\" >0</td>\n",
       "                        <td id=\"T_39b86fae_9c7f_11eb_9879_acde48001122row8_col3\" class=\"data row8 col3\" >0</td>\n",
       "                        <td id=\"T_39b86fae_9c7f_11eb_9879_acde48001122row8_col4\" class=\"data row8 col4\" >0</td>\n",
       "                        <td id=\"T_39b86fae_9c7f_11eb_9879_acde48001122row8_col5\" class=\"data row8 col5\" >0</td>\n",
       "                        <td id=\"T_39b86fae_9c7f_11eb_9879_acde48001122row8_col6\" class=\"data row8 col6\" >0</td>\n",
       "                        <td id=\"T_39b86fae_9c7f_11eb_9879_acde48001122row8_col7\" class=\"data row8 col7\" >0</td>\n",
       "                        <td id=\"T_39b86fae_9c7f_11eb_9879_acde48001122row8_col8\" class=\"data row8 col8\" >0</td>\n",
       "                        <td id=\"T_39b86fae_9c7f_11eb_9879_acde48001122row8_col9\" class=\"data row8 col9\" >0</td>\n",
       "                        <td id=\"T_39b86fae_9c7f_11eb_9879_acde48001122row8_col10\" class=\"data row8 col10\" >0</td>\n",
       "                        <td id=\"T_39b86fae_9c7f_11eb_9879_acde48001122row8_col11\" class=\"data row8 col11\" >0</td>\n",
       "                        <td id=\"T_39b86fae_9c7f_11eb_9879_acde48001122row8_col12\" class=\"data row8 col12\" >207</td>\n",
       "                        <td id=\"T_39b86fae_9c7f_11eb_9879_acde48001122row8_col13\" class=\"data row8 col13\" >254</td>\n",
       "                        <td id=\"T_39b86fae_9c7f_11eb_9879_acde48001122row8_col14\" class=\"data row8 col14\" >210</td>\n",
       "                        <td id=\"T_39b86fae_9c7f_11eb_9879_acde48001122row8_col15\" class=\"data row8 col15\" >254</td>\n",
       "                        <td id=\"T_39b86fae_9c7f_11eb_9879_acde48001122row8_col16\" class=\"data row8 col16\" >254</td>\n",
       "                        <td id=\"T_39b86fae_9c7f_11eb_9879_acde48001122row8_col17\" class=\"data row8 col17\" >254</td>\n",
       "                        <td id=\"T_39b86fae_9c7f_11eb_9879_acde48001122row8_col18\" class=\"data row8 col18\" >34</td>\n",
       "                        <td id=\"T_39b86fae_9c7f_11eb_9879_acde48001122row8_col19\" class=\"data row8 col19\" >0</td>\n",
       "                        <td id=\"T_39b86fae_9c7f_11eb_9879_acde48001122row8_col20\" class=\"data row8 col20\" >0</td>\n",
       "                        <td id=\"T_39b86fae_9c7f_11eb_9879_acde48001122row8_col21\" class=\"data row8 col21\" >0</td>\n",
       "                        <td id=\"T_39b86fae_9c7f_11eb_9879_acde48001122row8_col22\" class=\"data row8 col22\" >0</td>\n",
       "                        <td id=\"T_39b86fae_9c7f_11eb_9879_acde48001122row8_col23\" class=\"data row8 col23\" >0</td>\n",
       "                        <td id=\"T_39b86fae_9c7f_11eb_9879_acde48001122row8_col24\" class=\"data row8 col24\" >0</td>\n",
       "                        <td id=\"T_39b86fae_9c7f_11eb_9879_acde48001122row8_col25\" class=\"data row8 col25\" >0</td>\n",
       "                        <td id=\"T_39b86fae_9c7f_11eb_9879_acde48001122row8_col26\" class=\"data row8 col26\" >0</td>\n",
       "                        <td id=\"T_39b86fae_9c7f_11eb_9879_acde48001122row8_col27\" class=\"data row8 col27\" >0</td>\n",
       "            </tr>\n",
       "            <tr>\n",
       "                        <th id=\"T_39b86fae_9c7f_11eb_9879_acde48001122level0_row9\" class=\"row_heading level0 row9\" >9</th>\n",
       "                        <td id=\"T_39b86fae_9c7f_11eb_9879_acde48001122row9_col0\" class=\"data row9 col0\" >0</td>\n",
       "                        <td id=\"T_39b86fae_9c7f_11eb_9879_acde48001122row9_col1\" class=\"data row9 col1\" >0</td>\n",
       "                        <td id=\"T_39b86fae_9c7f_11eb_9879_acde48001122row9_col2\" class=\"data row9 col2\" >0</td>\n",
       "                        <td id=\"T_39b86fae_9c7f_11eb_9879_acde48001122row9_col3\" class=\"data row9 col3\" >0</td>\n",
       "                        <td id=\"T_39b86fae_9c7f_11eb_9879_acde48001122row9_col4\" class=\"data row9 col4\" >0</td>\n",
       "                        <td id=\"T_39b86fae_9c7f_11eb_9879_acde48001122row9_col5\" class=\"data row9 col5\" >0</td>\n",
       "                        <td id=\"T_39b86fae_9c7f_11eb_9879_acde48001122row9_col6\" class=\"data row9 col6\" >0</td>\n",
       "                        <td id=\"T_39b86fae_9c7f_11eb_9879_acde48001122row9_col7\" class=\"data row9 col7\" >0</td>\n",
       "                        <td id=\"T_39b86fae_9c7f_11eb_9879_acde48001122row9_col8\" class=\"data row9 col8\" >0</td>\n",
       "                        <td id=\"T_39b86fae_9c7f_11eb_9879_acde48001122row9_col9\" class=\"data row9 col9\" >0</td>\n",
       "                        <td id=\"T_39b86fae_9c7f_11eb_9879_acde48001122row9_col10\" class=\"data row9 col10\" >0</td>\n",
       "                        <td id=\"T_39b86fae_9c7f_11eb_9879_acde48001122row9_col11\" class=\"data row9 col11\" >0</td>\n",
       "                        <td id=\"T_39b86fae_9c7f_11eb_9879_acde48001122row9_col12\" class=\"data row9 col12\" >84</td>\n",
       "                        <td id=\"T_39b86fae_9c7f_11eb_9879_acde48001122row9_col13\" class=\"data row9 col13\" >206</td>\n",
       "                        <td id=\"T_39b86fae_9c7f_11eb_9879_acde48001122row9_col14\" class=\"data row9 col14\" >254</td>\n",
       "                        <td id=\"T_39b86fae_9c7f_11eb_9879_acde48001122row9_col15\" class=\"data row9 col15\" >254</td>\n",
       "                        <td id=\"T_39b86fae_9c7f_11eb_9879_acde48001122row9_col16\" class=\"data row9 col16\" >254</td>\n",
       "                        <td id=\"T_39b86fae_9c7f_11eb_9879_acde48001122row9_col17\" class=\"data row9 col17\" >254</td>\n",
       "                        <td id=\"T_39b86fae_9c7f_11eb_9879_acde48001122row9_col18\" class=\"data row9 col18\" >41</td>\n",
       "                        <td id=\"T_39b86fae_9c7f_11eb_9879_acde48001122row9_col19\" class=\"data row9 col19\" >0</td>\n",
       "                        <td id=\"T_39b86fae_9c7f_11eb_9879_acde48001122row9_col20\" class=\"data row9 col20\" >0</td>\n",
       "                        <td id=\"T_39b86fae_9c7f_11eb_9879_acde48001122row9_col21\" class=\"data row9 col21\" >0</td>\n",
       "                        <td id=\"T_39b86fae_9c7f_11eb_9879_acde48001122row9_col22\" class=\"data row9 col22\" >0</td>\n",
       "                        <td id=\"T_39b86fae_9c7f_11eb_9879_acde48001122row9_col23\" class=\"data row9 col23\" >0</td>\n",
       "                        <td id=\"T_39b86fae_9c7f_11eb_9879_acde48001122row9_col24\" class=\"data row9 col24\" >0</td>\n",
       "                        <td id=\"T_39b86fae_9c7f_11eb_9879_acde48001122row9_col25\" class=\"data row9 col25\" >0</td>\n",
       "                        <td id=\"T_39b86fae_9c7f_11eb_9879_acde48001122row9_col26\" class=\"data row9 col26\" >0</td>\n",
       "                        <td id=\"T_39b86fae_9c7f_11eb_9879_acde48001122row9_col27\" class=\"data row9 col27\" >0</td>\n",
       "            </tr>\n",
       "            <tr>\n",
       "                        <th id=\"T_39b86fae_9c7f_11eb_9879_acde48001122level0_row10\" class=\"row_heading level0 row10\" >10</th>\n",
       "                        <td id=\"T_39b86fae_9c7f_11eb_9879_acde48001122row10_col0\" class=\"data row10 col0\" >0</td>\n",
       "                        <td id=\"T_39b86fae_9c7f_11eb_9879_acde48001122row10_col1\" class=\"data row10 col1\" >0</td>\n",
       "                        <td id=\"T_39b86fae_9c7f_11eb_9879_acde48001122row10_col2\" class=\"data row10 col2\" >0</td>\n",
       "                        <td id=\"T_39b86fae_9c7f_11eb_9879_acde48001122row10_col3\" class=\"data row10 col3\" >0</td>\n",
       "                        <td id=\"T_39b86fae_9c7f_11eb_9879_acde48001122row10_col4\" class=\"data row10 col4\" >0</td>\n",
       "                        <td id=\"T_39b86fae_9c7f_11eb_9879_acde48001122row10_col5\" class=\"data row10 col5\" >0</td>\n",
       "                        <td id=\"T_39b86fae_9c7f_11eb_9879_acde48001122row10_col6\" class=\"data row10 col6\" >0</td>\n",
       "                        <td id=\"T_39b86fae_9c7f_11eb_9879_acde48001122row10_col7\" class=\"data row10 col7\" >0</td>\n",
       "                        <td id=\"T_39b86fae_9c7f_11eb_9879_acde48001122row10_col8\" class=\"data row10 col8\" >0</td>\n",
       "                        <td id=\"T_39b86fae_9c7f_11eb_9879_acde48001122row10_col9\" class=\"data row10 col9\" >0</td>\n",
       "                        <td id=\"T_39b86fae_9c7f_11eb_9879_acde48001122row10_col10\" class=\"data row10 col10\" >0</td>\n",
       "                        <td id=\"T_39b86fae_9c7f_11eb_9879_acde48001122row10_col11\" class=\"data row10 col11\" >0</td>\n",
       "                        <td id=\"T_39b86fae_9c7f_11eb_9879_acde48001122row10_col12\" class=\"data row10 col12\" >0</td>\n",
       "                        <td id=\"T_39b86fae_9c7f_11eb_9879_acde48001122row10_col13\" class=\"data row10 col13\" >24</td>\n",
       "                        <td id=\"T_39b86fae_9c7f_11eb_9879_acde48001122row10_col14\" class=\"data row10 col14\" >209</td>\n",
       "                        <td id=\"T_39b86fae_9c7f_11eb_9879_acde48001122row10_col15\" class=\"data row10 col15\" >254</td>\n",
       "                        <td id=\"T_39b86fae_9c7f_11eb_9879_acde48001122row10_col16\" class=\"data row10 col16\" >254</td>\n",
       "                        <td id=\"T_39b86fae_9c7f_11eb_9879_acde48001122row10_col17\" class=\"data row10 col17\" >254</td>\n",
       "                        <td id=\"T_39b86fae_9c7f_11eb_9879_acde48001122row10_col18\" class=\"data row10 col18\" >171</td>\n",
       "                        <td id=\"T_39b86fae_9c7f_11eb_9879_acde48001122row10_col19\" class=\"data row10 col19\" >0</td>\n",
       "                        <td id=\"T_39b86fae_9c7f_11eb_9879_acde48001122row10_col20\" class=\"data row10 col20\" >0</td>\n",
       "                        <td id=\"T_39b86fae_9c7f_11eb_9879_acde48001122row10_col21\" class=\"data row10 col21\" >0</td>\n",
       "                        <td id=\"T_39b86fae_9c7f_11eb_9879_acde48001122row10_col22\" class=\"data row10 col22\" >0</td>\n",
       "                        <td id=\"T_39b86fae_9c7f_11eb_9879_acde48001122row10_col23\" class=\"data row10 col23\" >0</td>\n",
       "                        <td id=\"T_39b86fae_9c7f_11eb_9879_acde48001122row10_col24\" class=\"data row10 col24\" >0</td>\n",
       "                        <td id=\"T_39b86fae_9c7f_11eb_9879_acde48001122row10_col25\" class=\"data row10 col25\" >0</td>\n",
       "                        <td id=\"T_39b86fae_9c7f_11eb_9879_acde48001122row10_col26\" class=\"data row10 col26\" >0</td>\n",
       "                        <td id=\"T_39b86fae_9c7f_11eb_9879_acde48001122row10_col27\" class=\"data row10 col27\" >0</td>\n",
       "            </tr>\n",
       "            <tr>\n",
       "                        <th id=\"T_39b86fae_9c7f_11eb_9879_acde48001122level0_row11\" class=\"row_heading level0 row11\" >11</th>\n",
       "                        <td id=\"T_39b86fae_9c7f_11eb_9879_acde48001122row11_col0\" class=\"data row11 col0\" >0</td>\n",
       "                        <td id=\"T_39b86fae_9c7f_11eb_9879_acde48001122row11_col1\" class=\"data row11 col1\" >0</td>\n",
       "                        <td id=\"T_39b86fae_9c7f_11eb_9879_acde48001122row11_col2\" class=\"data row11 col2\" >0</td>\n",
       "                        <td id=\"T_39b86fae_9c7f_11eb_9879_acde48001122row11_col3\" class=\"data row11 col3\" >0</td>\n",
       "                        <td id=\"T_39b86fae_9c7f_11eb_9879_acde48001122row11_col4\" class=\"data row11 col4\" >0</td>\n",
       "                        <td id=\"T_39b86fae_9c7f_11eb_9879_acde48001122row11_col5\" class=\"data row11 col5\" >0</td>\n",
       "                        <td id=\"T_39b86fae_9c7f_11eb_9879_acde48001122row11_col6\" class=\"data row11 col6\" >0</td>\n",
       "                        <td id=\"T_39b86fae_9c7f_11eb_9879_acde48001122row11_col7\" class=\"data row11 col7\" >0</td>\n",
       "                        <td id=\"T_39b86fae_9c7f_11eb_9879_acde48001122row11_col8\" class=\"data row11 col8\" >0</td>\n",
       "                        <td id=\"T_39b86fae_9c7f_11eb_9879_acde48001122row11_col9\" class=\"data row11 col9\" >0</td>\n",
       "                        <td id=\"T_39b86fae_9c7f_11eb_9879_acde48001122row11_col10\" class=\"data row11 col10\" >0</td>\n",
       "                        <td id=\"T_39b86fae_9c7f_11eb_9879_acde48001122row11_col11\" class=\"data row11 col11\" >0</td>\n",
       "                        <td id=\"T_39b86fae_9c7f_11eb_9879_acde48001122row11_col12\" class=\"data row11 col12\" >91</td>\n",
       "                        <td id=\"T_39b86fae_9c7f_11eb_9879_acde48001122row11_col13\" class=\"data row11 col13\" >137</td>\n",
       "                        <td id=\"T_39b86fae_9c7f_11eb_9879_acde48001122row11_col14\" class=\"data row11 col14\" >253</td>\n",
       "                        <td id=\"T_39b86fae_9c7f_11eb_9879_acde48001122row11_col15\" class=\"data row11 col15\" >254</td>\n",
       "                        <td id=\"T_39b86fae_9c7f_11eb_9879_acde48001122row11_col16\" class=\"data row11 col16\" >254</td>\n",
       "                        <td id=\"T_39b86fae_9c7f_11eb_9879_acde48001122row11_col17\" class=\"data row11 col17\" >254</td>\n",
       "                        <td id=\"T_39b86fae_9c7f_11eb_9879_acde48001122row11_col18\" class=\"data row11 col18\" >112</td>\n",
       "                        <td id=\"T_39b86fae_9c7f_11eb_9879_acde48001122row11_col19\" class=\"data row11 col19\" >0</td>\n",
       "                        <td id=\"T_39b86fae_9c7f_11eb_9879_acde48001122row11_col20\" class=\"data row11 col20\" >0</td>\n",
       "                        <td id=\"T_39b86fae_9c7f_11eb_9879_acde48001122row11_col21\" class=\"data row11 col21\" >0</td>\n",
       "                        <td id=\"T_39b86fae_9c7f_11eb_9879_acde48001122row11_col22\" class=\"data row11 col22\" >0</td>\n",
       "                        <td id=\"T_39b86fae_9c7f_11eb_9879_acde48001122row11_col23\" class=\"data row11 col23\" >0</td>\n",
       "                        <td id=\"T_39b86fae_9c7f_11eb_9879_acde48001122row11_col24\" class=\"data row11 col24\" >0</td>\n",
       "                        <td id=\"T_39b86fae_9c7f_11eb_9879_acde48001122row11_col25\" class=\"data row11 col25\" >0</td>\n",
       "                        <td id=\"T_39b86fae_9c7f_11eb_9879_acde48001122row11_col26\" class=\"data row11 col26\" >0</td>\n",
       "                        <td id=\"T_39b86fae_9c7f_11eb_9879_acde48001122row11_col27\" class=\"data row11 col27\" >0</td>\n",
       "            </tr>\n",
       "            <tr>\n",
       "                        <th id=\"T_39b86fae_9c7f_11eb_9879_acde48001122level0_row12\" class=\"row_heading level0 row12\" >12</th>\n",
       "                        <td id=\"T_39b86fae_9c7f_11eb_9879_acde48001122row12_col0\" class=\"data row12 col0\" >0</td>\n",
       "                        <td id=\"T_39b86fae_9c7f_11eb_9879_acde48001122row12_col1\" class=\"data row12 col1\" >0</td>\n",
       "                        <td id=\"T_39b86fae_9c7f_11eb_9879_acde48001122row12_col2\" class=\"data row12 col2\" >0</td>\n",
       "                        <td id=\"T_39b86fae_9c7f_11eb_9879_acde48001122row12_col3\" class=\"data row12 col3\" >0</td>\n",
       "                        <td id=\"T_39b86fae_9c7f_11eb_9879_acde48001122row12_col4\" class=\"data row12 col4\" >0</td>\n",
       "                        <td id=\"T_39b86fae_9c7f_11eb_9879_acde48001122row12_col5\" class=\"data row12 col5\" >0</td>\n",
       "                        <td id=\"T_39b86fae_9c7f_11eb_9879_acde48001122row12_col6\" class=\"data row12 col6\" >0</td>\n",
       "                        <td id=\"T_39b86fae_9c7f_11eb_9879_acde48001122row12_col7\" class=\"data row12 col7\" >0</td>\n",
       "                        <td id=\"T_39b86fae_9c7f_11eb_9879_acde48001122row12_col8\" class=\"data row12 col8\" >0</td>\n",
       "                        <td id=\"T_39b86fae_9c7f_11eb_9879_acde48001122row12_col9\" class=\"data row12 col9\" >0</td>\n",
       "                        <td id=\"T_39b86fae_9c7f_11eb_9879_acde48001122row12_col10\" class=\"data row12 col10\" >40</td>\n",
       "                        <td id=\"T_39b86fae_9c7f_11eb_9879_acde48001122row12_col11\" class=\"data row12 col11\" >214</td>\n",
       "                        <td id=\"T_39b86fae_9c7f_11eb_9879_acde48001122row12_col12\" class=\"data row12 col12\" >250</td>\n",
       "                        <td id=\"T_39b86fae_9c7f_11eb_9879_acde48001122row12_col13\" class=\"data row12 col13\" >254</td>\n",
       "                        <td id=\"T_39b86fae_9c7f_11eb_9879_acde48001122row12_col14\" class=\"data row12 col14\" >254</td>\n",
       "                        <td id=\"T_39b86fae_9c7f_11eb_9879_acde48001122row12_col15\" class=\"data row12 col15\" >254</td>\n",
       "                        <td id=\"T_39b86fae_9c7f_11eb_9879_acde48001122row12_col16\" class=\"data row12 col16\" >254</td>\n",
       "                        <td id=\"T_39b86fae_9c7f_11eb_9879_acde48001122row12_col17\" class=\"data row12 col17\" >254</td>\n",
       "                        <td id=\"T_39b86fae_9c7f_11eb_9879_acde48001122row12_col18\" class=\"data row12 col18\" >34</td>\n",
       "                        <td id=\"T_39b86fae_9c7f_11eb_9879_acde48001122row12_col19\" class=\"data row12 col19\" >0</td>\n",
       "                        <td id=\"T_39b86fae_9c7f_11eb_9879_acde48001122row12_col20\" class=\"data row12 col20\" >0</td>\n",
       "                        <td id=\"T_39b86fae_9c7f_11eb_9879_acde48001122row12_col21\" class=\"data row12 col21\" >0</td>\n",
       "                        <td id=\"T_39b86fae_9c7f_11eb_9879_acde48001122row12_col22\" class=\"data row12 col22\" >0</td>\n",
       "                        <td id=\"T_39b86fae_9c7f_11eb_9879_acde48001122row12_col23\" class=\"data row12 col23\" >0</td>\n",
       "                        <td id=\"T_39b86fae_9c7f_11eb_9879_acde48001122row12_col24\" class=\"data row12 col24\" >0</td>\n",
       "                        <td id=\"T_39b86fae_9c7f_11eb_9879_acde48001122row12_col25\" class=\"data row12 col25\" >0</td>\n",
       "                        <td id=\"T_39b86fae_9c7f_11eb_9879_acde48001122row12_col26\" class=\"data row12 col26\" >0</td>\n",
       "                        <td id=\"T_39b86fae_9c7f_11eb_9879_acde48001122row12_col27\" class=\"data row12 col27\" >0</td>\n",
       "            </tr>\n",
       "            <tr>\n",
       "                        <th id=\"T_39b86fae_9c7f_11eb_9879_acde48001122level0_row13\" class=\"row_heading level0 row13\" >13</th>\n",
       "                        <td id=\"T_39b86fae_9c7f_11eb_9879_acde48001122row13_col0\" class=\"data row13 col0\" >0</td>\n",
       "                        <td id=\"T_39b86fae_9c7f_11eb_9879_acde48001122row13_col1\" class=\"data row13 col1\" >0</td>\n",
       "                        <td id=\"T_39b86fae_9c7f_11eb_9879_acde48001122row13_col2\" class=\"data row13 col2\" >0</td>\n",
       "                        <td id=\"T_39b86fae_9c7f_11eb_9879_acde48001122row13_col3\" class=\"data row13 col3\" >0</td>\n",
       "                        <td id=\"T_39b86fae_9c7f_11eb_9879_acde48001122row13_col4\" class=\"data row13 col4\" >0</td>\n",
       "                        <td id=\"T_39b86fae_9c7f_11eb_9879_acde48001122row13_col5\" class=\"data row13 col5\" >0</td>\n",
       "                        <td id=\"T_39b86fae_9c7f_11eb_9879_acde48001122row13_col6\" class=\"data row13 col6\" >0</td>\n",
       "                        <td id=\"T_39b86fae_9c7f_11eb_9879_acde48001122row13_col7\" class=\"data row13 col7\" >0</td>\n",
       "                        <td id=\"T_39b86fae_9c7f_11eb_9879_acde48001122row13_col8\" class=\"data row13 col8\" >0</td>\n",
       "                        <td id=\"T_39b86fae_9c7f_11eb_9879_acde48001122row13_col9\" class=\"data row13 col9\" >0</td>\n",
       "                        <td id=\"T_39b86fae_9c7f_11eb_9879_acde48001122row13_col10\" class=\"data row13 col10\" >81</td>\n",
       "                        <td id=\"T_39b86fae_9c7f_11eb_9879_acde48001122row13_col11\" class=\"data row13 col11\" >247</td>\n",
       "                        <td id=\"T_39b86fae_9c7f_11eb_9879_acde48001122row13_col12\" class=\"data row13 col12\" >254</td>\n",
       "                        <td id=\"T_39b86fae_9c7f_11eb_9879_acde48001122row13_col13\" class=\"data row13 col13\" >254</td>\n",
       "                        <td id=\"T_39b86fae_9c7f_11eb_9879_acde48001122row13_col14\" class=\"data row13 col14\" >254</td>\n",
       "                        <td id=\"T_39b86fae_9c7f_11eb_9879_acde48001122row13_col15\" class=\"data row13 col15\" >254</td>\n",
       "                        <td id=\"T_39b86fae_9c7f_11eb_9879_acde48001122row13_col16\" class=\"data row13 col16\" >254</td>\n",
       "                        <td id=\"T_39b86fae_9c7f_11eb_9879_acde48001122row13_col17\" class=\"data row13 col17\" >254</td>\n",
       "                        <td id=\"T_39b86fae_9c7f_11eb_9879_acde48001122row13_col18\" class=\"data row13 col18\" >146</td>\n",
       "                        <td id=\"T_39b86fae_9c7f_11eb_9879_acde48001122row13_col19\" class=\"data row13 col19\" >0</td>\n",
       "                        <td id=\"T_39b86fae_9c7f_11eb_9879_acde48001122row13_col20\" class=\"data row13 col20\" >0</td>\n",
       "                        <td id=\"T_39b86fae_9c7f_11eb_9879_acde48001122row13_col21\" class=\"data row13 col21\" >0</td>\n",
       "                        <td id=\"T_39b86fae_9c7f_11eb_9879_acde48001122row13_col22\" class=\"data row13 col22\" >0</td>\n",
       "                        <td id=\"T_39b86fae_9c7f_11eb_9879_acde48001122row13_col23\" class=\"data row13 col23\" >0</td>\n",
       "                        <td id=\"T_39b86fae_9c7f_11eb_9879_acde48001122row13_col24\" class=\"data row13 col24\" >0</td>\n",
       "                        <td id=\"T_39b86fae_9c7f_11eb_9879_acde48001122row13_col25\" class=\"data row13 col25\" >0</td>\n",
       "                        <td id=\"T_39b86fae_9c7f_11eb_9879_acde48001122row13_col26\" class=\"data row13 col26\" >0</td>\n",
       "                        <td id=\"T_39b86fae_9c7f_11eb_9879_acde48001122row13_col27\" class=\"data row13 col27\" >0</td>\n",
       "            </tr>\n",
       "            <tr>\n",
       "                        <th id=\"T_39b86fae_9c7f_11eb_9879_acde48001122level0_row14\" class=\"row_heading level0 row14\" >14</th>\n",
       "                        <td id=\"T_39b86fae_9c7f_11eb_9879_acde48001122row14_col0\" class=\"data row14 col0\" >0</td>\n",
       "                        <td id=\"T_39b86fae_9c7f_11eb_9879_acde48001122row14_col1\" class=\"data row14 col1\" >0</td>\n",
       "                        <td id=\"T_39b86fae_9c7f_11eb_9879_acde48001122row14_col2\" class=\"data row14 col2\" >0</td>\n",
       "                        <td id=\"T_39b86fae_9c7f_11eb_9879_acde48001122row14_col3\" class=\"data row14 col3\" >0</td>\n",
       "                        <td id=\"T_39b86fae_9c7f_11eb_9879_acde48001122row14_col4\" class=\"data row14 col4\" >0</td>\n",
       "                        <td id=\"T_39b86fae_9c7f_11eb_9879_acde48001122row14_col5\" class=\"data row14 col5\" >0</td>\n",
       "                        <td id=\"T_39b86fae_9c7f_11eb_9879_acde48001122row14_col6\" class=\"data row14 col6\" >0</td>\n",
       "                        <td id=\"T_39b86fae_9c7f_11eb_9879_acde48001122row14_col7\" class=\"data row14 col7\" >0</td>\n",
       "                        <td id=\"T_39b86fae_9c7f_11eb_9879_acde48001122row14_col8\" class=\"data row14 col8\" >0</td>\n",
       "                        <td id=\"T_39b86fae_9c7f_11eb_9879_acde48001122row14_col9\" class=\"data row14 col9\" >0</td>\n",
       "                        <td id=\"T_39b86fae_9c7f_11eb_9879_acde48001122row14_col10\" class=\"data row14 col10\" >0</td>\n",
       "                        <td id=\"T_39b86fae_9c7f_11eb_9879_acde48001122row14_col11\" class=\"data row14 col11\" >110</td>\n",
       "                        <td id=\"T_39b86fae_9c7f_11eb_9879_acde48001122row14_col12\" class=\"data row14 col12\" >246</td>\n",
       "                        <td id=\"T_39b86fae_9c7f_11eb_9879_acde48001122row14_col13\" class=\"data row14 col13\" >254</td>\n",
       "                        <td id=\"T_39b86fae_9c7f_11eb_9879_acde48001122row14_col14\" class=\"data row14 col14\" >254</td>\n",
       "                        <td id=\"T_39b86fae_9c7f_11eb_9879_acde48001122row14_col15\" class=\"data row14 col15\" >254</td>\n",
       "                        <td id=\"T_39b86fae_9c7f_11eb_9879_acde48001122row14_col16\" class=\"data row14 col16\" >254</td>\n",
       "                        <td id=\"T_39b86fae_9c7f_11eb_9879_acde48001122row14_col17\" class=\"data row14 col17\" >254</td>\n",
       "                        <td id=\"T_39b86fae_9c7f_11eb_9879_acde48001122row14_col18\" class=\"data row14 col18\" >171</td>\n",
       "                        <td id=\"T_39b86fae_9c7f_11eb_9879_acde48001122row14_col19\" class=\"data row14 col19\" >0</td>\n",
       "                        <td id=\"T_39b86fae_9c7f_11eb_9879_acde48001122row14_col20\" class=\"data row14 col20\" >0</td>\n",
       "                        <td id=\"T_39b86fae_9c7f_11eb_9879_acde48001122row14_col21\" class=\"data row14 col21\" >0</td>\n",
       "                        <td id=\"T_39b86fae_9c7f_11eb_9879_acde48001122row14_col22\" class=\"data row14 col22\" >0</td>\n",
       "                        <td id=\"T_39b86fae_9c7f_11eb_9879_acde48001122row14_col23\" class=\"data row14 col23\" >0</td>\n",
       "                        <td id=\"T_39b86fae_9c7f_11eb_9879_acde48001122row14_col24\" class=\"data row14 col24\" >0</td>\n",
       "                        <td id=\"T_39b86fae_9c7f_11eb_9879_acde48001122row14_col25\" class=\"data row14 col25\" >0</td>\n",
       "                        <td id=\"T_39b86fae_9c7f_11eb_9879_acde48001122row14_col26\" class=\"data row14 col26\" >0</td>\n",
       "                        <td id=\"T_39b86fae_9c7f_11eb_9879_acde48001122row14_col27\" class=\"data row14 col27\" >0</td>\n",
       "            </tr>\n",
       "            <tr>\n",
       "                        <th id=\"T_39b86fae_9c7f_11eb_9879_acde48001122level0_row15\" class=\"row_heading level0 row15\" >15</th>\n",
       "                        <td id=\"T_39b86fae_9c7f_11eb_9879_acde48001122row15_col0\" class=\"data row15 col0\" >0</td>\n",
       "                        <td id=\"T_39b86fae_9c7f_11eb_9879_acde48001122row15_col1\" class=\"data row15 col1\" >0</td>\n",
       "                        <td id=\"T_39b86fae_9c7f_11eb_9879_acde48001122row15_col2\" class=\"data row15 col2\" >0</td>\n",
       "                        <td id=\"T_39b86fae_9c7f_11eb_9879_acde48001122row15_col3\" class=\"data row15 col3\" >0</td>\n",
       "                        <td id=\"T_39b86fae_9c7f_11eb_9879_acde48001122row15_col4\" class=\"data row15 col4\" >0</td>\n",
       "                        <td id=\"T_39b86fae_9c7f_11eb_9879_acde48001122row15_col5\" class=\"data row15 col5\" >0</td>\n",
       "                        <td id=\"T_39b86fae_9c7f_11eb_9879_acde48001122row15_col6\" class=\"data row15 col6\" >0</td>\n",
       "                        <td id=\"T_39b86fae_9c7f_11eb_9879_acde48001122row15_col7\" class=\"data row15 col7\" >0</td>\n",
       "                        <td id=\"T_39b86fae_9c7f_11eb_9879_acde48001122row15_col8\" class=\"data row15 col8\" >0</td>\n",
       "                        <td id=\"T_39b86fae_9c7f_11eb_9879_acde48001122row15_col9\" class=\"data row15 col9\" >0</td>\n",
       "                        <td id=\"T_39b86fae_9c7f_11eb_9879_acde48001122row15_col10\" class=\"data row15 col10\" >0</td>\n",
       "                        <td id=\"T_39b86fae_9c7f_11eb_9879_acde48001122row15_col11\" class=\"data row15 col11\" >0</td>\n",
       "                        <td id=\"T_39b86fae_9c7f_11eb_9879_acde48001122row15_col12\" class=\"data row15 col12\" >73</td>\n",
       "                        <td id=\"T_39b86fae_9c7f_11eb_9879_acde48001122row15_col13\" class=\"data row15 col13\" >89</td>\n",
       "                        <td id=\"T_39b86fae_9c7f_11eb_9879_acde48001122row15_col14\" class=\"data row15 col14\" >89</td>\n",
       "                        <td id=\"T_39b86fae_9c7f_11eb_9879_acde48001122row15_col15\" class=\"data row15 col15\" >93</td>\n",
       "                        <td id=\"T_39b86fae_9c7f_11eb_9879_acde48001122row15_col16\" class=\"data row15 col16\" >240</td>\n",
       "                        <td id=\"T_39b86fae_9c7f_11eb_9879_acde48001122row15_col17\" class=\"data row15 col17\" >254</td>\n",
       "                        <td id=\"T_39b86fae_9c7f_11eb_9879_acde48001122row15_col18\" class=\"data row15 col18\" >171</td>\n",
       "                        <td id=\"T_39b86fae_9c7f_11eb_9879_acde48001122row15_col19\" class=\"data row15 col19\" >0</td>\n",
       "                        <td id=\"T_39b86fae_9c7f_11eb_9879_acde48001122row15_col20\" class=\"data row15 col20\" >0</td>\n",
       "                        <td id=\"T_39b86fae_9c7f_11eb_9879_acde48001122row15_col21\" class=\"data row15 col21\" >0</td>\n",
       "                        <td id=\"T_39b86fae_9c7f_11eb_9879_acde48001122row15_col22\" class=\"data row15 col22\" >0</td>\n",
       "                        <td id=\"T_39b86fae_9c7f_11eb_9879_acde48001122row15_col23\" class=\"data row15 col23\" >0</td>\n",
       "                        <td id=\"T_39b86fae_9c7f_11eb_9879_acde48001122row15_col24\" class=\"data row15 col24\" >0</td>\n",
       "                        <td id=\"T_39b86fae_9c7f_11eb_9879_acde48001122row15_col25\" class=\"data row15 col25\" >0</td>\n",
       "                        <td id=\"T_39b86fae_9c7f_11eb_9879_acde48001122row15_col26\" class=\"data row15 col26\" >0</td>\n",
       "                        <td id=\"T_39b86fae_9c7f_11eb_9879_acde48001122row15_col27\" class=\"data row15 col27\" >0</td>\n",
       "            </tr>\n",
       "            <tr>\n",
       "                        <th id=\"T_39b86fae_9c7f_11eb_9879_acde48001122level0_row16\" class=\"row_heading level0 row16\" >16</th>\n",
       "                        <td id=\"T_39b86fae_9c7f_11eb_9879_acde48001122row16_col0\" class=\"data row16 col0\" >0</td>\n",
       "                        <td id=\"T_39b86fae_9c7f_11eb_9879_acde48001122row16_col1\" class=\"data row16 col1\" >0</td>\n",
       "                        <td id=\"T_39b86fae_9c7f_11eb_9879_acde48001122row16_col2\" class=\"data row16 col2\" >0</td>\n",
       "                        <td id=\"T_39b86fae_9c7f_11eb_9879_acde48001122row16_col3\" class=\"data row16 col3\" >0</td>\n",
       "                        <td id=\"T_39b86fae_9c7f_11eb_9879_acde48001122row16_col4\" class=\"data row16 col4\" >0</td>\n",
       "                        <td id=\"T_39b86fae_9c7f_11eb_9879_acde48001122row16_col5\" class=\"data row16 col5\" >0</td>\n",
       "                        <td id=\"T_39b86fae_9c7f_11eb_9879_acde48001122row16_col6\" class=\"data row16 col6\" >0</td>\n",
       "                        <td id=\"T_39b86fae_9c7f_11eb_9879_acde48001122row16_col7\" class=\"data row16 col7\" >0</td>\n",
       "                        <td id=\"T_39b86fae_9c7f_11eb_9879_acde48001122row16_col8\" class=\"data row16 col8\" >0</td>\n",
       "                        <td id=\"T_39b86fae_9c7f_11eb_9879_acde48001122row16_col9\" class=\"data row16 col9\" >0</td>\n",
       "                        <td id=\"T_39b86fae_9c7f_11eb_9879_acde48001122row16_col10\" class=\"data row16 col10\" >0</td>\n",
       "                        <td id=\"T_39b86fae_9c7f_11eb_9879_acde48001122row16_col11\" class=\"data row16 col11\" >0</td>\n",
       "                        <td id=\"T_39b86fae_9c7f_11eb_9879_acde48001122row16_col12\" class=\"data row16 col12\" >0</td>\n",
       "                        <td id=\"T_39b86fae_9c7f_11eb_9879_acde48001122row16_col13\" class=\"data row16 col13\" >0</td>\n",
       "                        <td id=\"T_39b86fae_9c7f_11eb_9879_acde48001122row16_col14\" class=\"data row16 col14\" >0</td>\n",
       "                        <td id=\"T_39b86fae_9c7f_11eb_9879_acde48001122row16_col15\" class=\"data row16 col15\" >1</td>\n",
       "                        <td id=\"T_39b86fae_9c7f_11eb_9879_acde48001122row16_col16\" class=\"data row16 col16\" >128</td>\n",
       "                        <td id=\"T_39b86fae_9c7f_11eb_9879_acde48001122row16_col17\" class=\"data row16 col17\" >254</td>\n",
       "                        <td id=\"T_39b86fae_9c7f_11eb_9879_acde48001122row16_col18\" class=\"data row16 col18\" >219</td>\n",
       "                        <td id=\"T_39b86fae_9c7f_11eb_9879_acde48001122row16_col19\" class=\"data row16 col19\" >31</td>\n",
       "                        <td id=\"T_39b86fae_9c7f_11eb_9879_acde48001122row16_col20\" class=\"data row16 col20\" >0</td>\n",
       "                        <td id=\"T_39b86fae_9c7f_11eb_9879_acde48001122row16_col21\" class=\"data row16 col21\" >0</td>\n",
       "                        <td id=\"T_39b86fae_9c7f_11eb_9879_acde48001122row16_col22\" class=\"data row16 col22\" >0</td>\n",
       "                        <td id=\"T_39b86fae_9c7f_11eb_9879_acde48001122row16_col23\" class=\"data row16 col23\" >0</td>\n",
       "                        <td id=\"T_39b86fae_9c7f_11eb_9879_acde48001122row16_col24\" class=\"data row16 col24\" >0</td>\n",
       "                        <td id=\"T_39b86fae_9c7f_11eb_9879_acde48001122row16_col25\" class=\"data row16 col25\" >0</td>\n",
       "                        <td id=\"T_39b86fae_9c7f_11eb_9879_acde48001122row16_col26\" class=\"data row16 col26\" >0</td>\n",
       "                        <td id=\"T_39b86fae_9c7f_11eb_9879_acde48001122row16_col27\" class=\"data row16 col27\" >0</td>\n",
       "            </tr>\n",
       "            <tr>\n",
       "                        <th id=\"T_39b86fae_9c7f_11eb_9879_acde48001122level0_row17\" class=\"row_heading level0 row17\" >17</th>\n",
       "                        <td id=\"T_39b86fae_9c7f_11eb_9879_acde48001122row17_col0\" class=\"data row17 col0\" >0</td>\n",
       "                        <td id=\"T_39b86fae_9c7f_11eb_9879_acde48001122row17_col1\" class=\"data row17 col1\" >0</td>\n",
       "                        <td id=\"T_39b86fae_9c7f_11eb_9879_acde48001122row17_col2\" class=\"data row17 col2\" >0</td>\n",
       "                        <td id=\"T_39b86fae_9c7f_11eb_9879_acde48001122row17_col3\" class=\"data row17 col3\" >0</td>\n",
       "                        <td id=\"T_39b86fae_9c7f_11eb_9879_acde48001122row17_col4\" class=\"data row17 col4\" >0</td>\n",
       "                        <td id=\"T_39b86fae_9c7f_11eb_9879_acde48001122row17_col5\" class=\"data row17 col5\" >0</td>\n",
       "                        <td id=\"T_39b86fae_9c7f_11eb_9879_acde48001122row17_col6\" class=\"data row17 col6\" >0</td>\n",
       "                        <td id=\"T_39b86fae_9c7f_11eb_9879_acde48001122row17_col7\" class=\"data row17 col7\" >0</td>\n",
       "                        <td id=\"T_39b86fae_9c7f_11eb_9879_acde48001122row17_col8\" class=\"data row17 col8\" >0</td>\n",
       "                        <td id=\"T_39b86fae_9c7f_11eb_9879_acde48001122row17_col9\" class=\"data row17 col9\" >0</td>\n",
       "                        <td id=\"T_39b86fae_9c7f_11eb_9879_acde48001122row17_col10\" class=\"data row17 col10\" >0</td>\n",
       "                        <td id=\"T_39b86fae_9c7f_11eb_9879_acde48001122row17_col11\" class=\"data row17 col11\" >0</td>\n",
       "                        <td id=\"T_39b86fae_9c7f_11eb_9879_acde48001122row17_col12\" class=\"data row17 col12\" >0</td>\n",
       "                        <td id=\"T_39b86fae_9c7f_11eb_9879_acde48001122row17_col13\" class=\"data row17 col13\" >0</td>\n",
       "                        <td id=\"T_39b86fae_9c7f_11eb_9879_acde48001122row17_col14\" class=\"data row17 col14\" >0</td>\n",
       "                        <td id=\"T_39b86fae_9c7f_11eb_9879_acde48001122row17_col15\" class=\"data row17 col15\" >7</td>\n",
       "                        <td id=\"T_39b86fae_9c7f_11eb_9879_acde48001122row17_col16\" class=\"data row17 col16\" >254</td>\n",
       "                        <td id=\"T_39b86fae_9c7f_11eb_9879_acde48001122row17_col17\" class=\"data row17 col17\" >254</td>\n",
       "                        <td id=\"T_39b86fae_9c7f_11eb_9879_acde48001122row17_col18\" class=\"data row17 col18\" >214</td>\n",
       "                        <td id=\"T_39b86fae_9c7f_11eb_9879_acde48001122row17_col19\" class=\"data row17 col19\" >28</td>\n",
       "                        <td id=\"T_39b86fae_9c7f_11eb_9879_acde48001122row17_col20\" class=\"data row17 col20\" >0</td>\n",
       "                        <td id=\"T_39b86fae_9c7f_11eb_9879_acde48001122row17_col21\" class=\"data row17 col21\" >0</td>\n",
       "                        <td id=\"T_39b86fae_9c7f_11eb_9879_acde48001122row17_col22\" class=\"data row17 col22\" >0</td>\n",
       "                        <td id=\"T_39b86fae_9c7f_11eb_9879_acde48001122row17_col23\" class=\"data row17 col23\" >0</td>\n",
       "                        <td id=\"T_39b86fae_9c7f_11eb_9879_acde48001122row17_col24\" class=\"data row17 col24\" >0</td>\n",
       "                        <td id=\"T_39b86fae_9c7f_11eb_9879_acde48001122row17_col25\" class=\"data row17 col25\" >0</td>\n",
       "                        <td id=\"T_39b86fae_9c7f_11eb_9879_acde48001122row17_col26\" class=\"data row17 col26\" >0</td>\n",
       "                        <td id=\"T_39b86fae_9c7f_11eb_9879_acde48001122row17_col27\" class=\"data row17 col27\" >0</td>\n",
       "            </tr>\n",
       "            <tr>\n",
       "                        <th id=\"T_39b86fae_9c7f_11eb_9879_acde48001122level0_row18\" class=\"row_heading level0 row18\" >18</th>\n",
       "                        <td id=\"T_39b86fae_9c7f_11eb_9879_acde48001122row18_col0\" class=\"data row18 col0\" >0</td>\n",
       "                        <td id=\"T_39b86fae_9c7f_11eb_9879_acde48001122row18_col1\" class=\"data row18 col1\" >0</td>\n",
       "                        <td id=\"T_39b86fae_9c7f_11eb_9879_acde48001122row18_col2\" class=\"data row18 col2\" >0</td>\n",
       "                        <td id=\"T_39b86fae_9c7f_11eb_9879_acde48001122row18_col3\" class=\"data row18 col3\" >0</td>\n",
       "                        <td id=\"T_39b86fae_9c7f_11eb_9879_acde48001122row18_col4\" class=\"data row18 col4\" >0</td>\n",
       "                        <td id=\"T_39b86fae_9c7f_11eb_9879_acde48001122row18_col5\" class=\"data row18 col5\" >0</td>\n",
       "                        <td id=\"T_39b86fae_9c7f_11eb_9879_acde48001122row18_col6\" class=\"data row18 col6\" >0</td>\n",
       "                        <td id=\"T_39b86fae_9c7f_11eb_9879_acde48001122row18_col7\" class=\"data row18 col7\" >0</td>\n",
       "                        <td id=\"T_39b86fae_9c7f_11eb_9879_acde48001122row18_col8\" class=\"data row18 col8\" >0</td>\n",
       "                        <td id=\"T_39b86fae_9c7f_11eb_9879_acde48001122row18_col9\" class=\"data row18 col9\" >0</td>\n",
       "                        <td id=\"T_39b86fae_9c7f_11eb_9879_acde48001122row18_col10\" class=\"data row18 col10\" >0</td>\n",
       "                        <td id=\"T_39b86fae_9c7f_11eb_9879_acde48001122row18_col11\" class=\"data row18 col11\" >0</td>\n",
       "                        <td id=\"T_39b86fae_9c7f_11eb_9879_acde48001122row18_col12\" class=\"data row18 col12\" >0</td>\n",
       "                        <td id=\"T_39b86fae_9c7f_11eb_9879_acde48001122row18_col13\" class=\"data row18 col13\" >0</td>\n",
       "                        <td id=\"T_39b86fae_9c7f_11eb_9879_acde48001122row18_col14\" class=\"data row18 col14\" >0</td>\n",
       "                        <td id=\"T_39b86fae_9c7f_11eb_9879_acde48001122row18_col15\" class=\"data row18 col15\" >138</td>\n",
       "                        <td id=\"T_39b86fae_9c7f_11eb_9879_acde48001122row18_col16\" class=\"data row18 col16\" >254</td>\n",
       "                        <td id=\"T_39b86fae_9c7f_11eb_9879_acde48001122row18_col17\" class=\"data row18 col17\" >254</td>\n",
       "                        <td id=\"T_39b86fae_9c7f_11eb_9879_acde48001122row18_col18\" class=\"data row18 col18\" >116</td>\n",
       "                        <td id=\"T_39b86fae_9c7f_11eb_9879_acde48001122row18_col19\" class=\"data row18 col19\" >0</td>\n",
       "                        <td id=\"T_39b86fae_9c7f_11eb_9879_acde48001122row18_col20\" class=\"data row18 col20\" >0</td>\n",
       "                        <td id=\"T_39b86fae_9c7f_11eb_9879_acde48001122row18_col21\" class=\"data row18 col21\" >0</td>\n",
       "                        <td id=\"T_39b86fae_9c7f_11eb_9879_acde48001122row18_col22\" class=\"data row18 col22\" >0</td>\n",
       "                        <td id=\"T_39b86fae_9c7f_11eb_9879_acde48001122row18_col23\" class=\"data row18 col23\" >0</td>\n",
       "                        <td id=\"T_39b86fae_9c7f_11eb_9879_acde48001122row18_col24\" class=\"data row18 col24\" >0</td>\n",
       "                        <td id=\"T_39b86fae_9c7f_11eb_9879_acde48001122row18_col25\" class=\"data row18 col25\" >0</td>\n",
       "                        <td id=\"T_39b86fae_9c7f_11eb_9879_acde48001122row18_col26\" class=\"data row18 col26\" >0</td>\n",
       "                        <td id=\"T_39b86fae_9c7f_11eb_9879_acde48001122row18_col27\" class=\"data row18 col27\" >0</td>\n",
       "            </tr>\n",
       "            <tr>\n",
       "                        <th id=\"T_39b86fae_9c7f_11eb_9879_acde48001122level0_row19\" class=\"row_heading level0 row19\" >19</th>\n",
       "                        <td id=\"T_39b86fae_9c7f_11eb_9879_acde48001122row19_col0\" class=\"data row19 col0\" >0</td>\n",
       "                        <td id=\"T_39b86fae_9c7f_11eb_9879_acde48001122row19_col1\" class=\"data row19 col1\" >0</td>\n",
       "                        <td id=\"T_39b86fae_9c7f_11eb_9879_acde48001122row19_col2\" class=\"data row19 col2\" >0</td>\n",
       "                        <td id=\"T_39b86fae_9c7f_11eb_9879_acde48001122row19_col3\" class=\"data row19 col3\" >0</td>\n",
       "                        <td id=\"T_39b86fae_9c7f_11eb_9879_acde48001122row19_col4\" class=\"data row19 col4\" >0</td>\n",
       "                        <td id=\"T_39b86fae_9c7f_11eb_9879_acde48001122row19_col5\" class=\"data row19 col5\" >0</td>\n",
       "                        <td id=\"T_39b86fae_9c7f_11eb_9879_acde48001122row19_col6\" class=\"data row19 col6\" >19</td>\n",
       "                        <td id=\"T_39b86fae_9c7f_11eb_9879_acde48001122row19_col7\" class=\"data row19 col7\" >177</td>\n",
       "                        <td id=\"T_39b86fae_9c7f_11eb_9879_acde48001122row19_col8\" class=\"data row19 col8\" >90</td>\n",
       "                        <td id=\"T_39b86fae_9c7f_11eb_9879_acde48001122row19_col9\" class=\"data row19 col9\" >0</td>\n",
       "                        <td id=\"T_39b86fae_9c7f_11eb_9879_acde48001122row19_col10\" class=\"data row19 col10\" >0</td>\n",
       "                        <td id=\"T_39b86fae_9c7f_11eb_9879_acde48001122row19_col11\" class=\"data row19 col11\" >0</td>\n",
       "                        <td id=\"T_39b86fae_9c7f_11eb_9879_acde48001122row19_col12\" class=\"data row19 col12\" >0</td>\n",
       "                        <td id=\"T_39b86fae_9c7f_11eb_9879_acde48001122row19_col13\" class=\"data row19 col13\" >0</td>\n",
       "                        <td id=\"T_39b86fae_9c7f_11eb_9879_acde48001122row19_col14\" class=\"data row19 col14\" >25</td>\n",
       "                        <td id=\"T_39b86fae_9c7f_11eb_9879_acde48001122row19_col15\" class=\"data row19 col15\" >240</td>\n",
       "                        <td id=\"T_39b86fae_9c7f_11eb_9879_acde48001122row19_col16\" class=\"data row19 col16\" >254</td>\n",
       "                        <td id=\"T_39b86fae_9c7f_11eb_9879_acde48001122row19_col17\" class=\"data row19 col17\" >254</td>\n",
       "                        <td id=\"T_39b86fae_9c7f_11eb_9879_acde48001122row19_col18\" class=\"data row19 col18\" >34</td>\n",
       "                        <td id=\"T_39b86fae_9c7f_11eb_9879_acde48001122row19_col19\" class=\"data row19 col19\" >0</td>\n",
       "                        <td id=\"T_39b86fae_9c7f_11eb_9879_acde48001122row19_col20\" class=\"data row19 col20\" >0</td>\n",
       "                        <td id=\"T_39b86fae_9c7f_11eb_9879_acde48001122row19_col21\" class=\"data row19 col21\" >0</td>\n",
       "                        <td id=\"T_39b86fae_9c7f_11eb_9879_acde48001122row19_col22\" class=\"data row19 col22\" >0</td>\n",
       "                        <td id=\"T_39b86fae_9c7f_11eb_9879_acde48001122row19_col23\" class=\"data row19 col23\" >0</td>\n",
       "                        <td id=\"T_39b86fae_9c7f_11eb_9879_acde48001122row19_col24\" class=\"data row19 col24\" >0</td>\n",
       "                        <td id=\"T_39b86fae_9c7f_11eb_9879_acde48001122row19_col25\" class=\"data row19 col25\" >0</td>\n",
       "                        <td id=\"T_39b86fae_9c7f_11eb_9879_acde48001122row19_col26\" class=\"data row19 col26\" >0</td>\n",
       "                        <td id=\"T_39b86fae_9c7f_11eb_9879_acde48001122row19_col27\" class=\"data row19 col27\" >0</td>\n",
       "            </tr>\n",
       "            <tr>\n",
       "                        <th id=\"T_39b86fae_9c7f_11eb_9879_acde48001122level0_row20\" class=\"row_heading level0 row20\" >20</th>\n",
       "                        <td id=\"T_39b86fae_9c7f_11eb_9879_acde48001122row20_col0\" class=\"data row20 col0\" >0</td>\n",
       "                        <td id=\"T_39b86fae_9c7f_11eb_9879_acde48001122row20_col1\" class=\"data row20 col1\" >0</td>\n",
       "                        <td id=\"T_39b86fae_9c7f_11eb_9879_acde48001122row20_col2\" class=\"data row20 col2\" >0</td>\n",
       "                        <td id=\"T_39b86fae_9c7f_11eb_9879_acde48001122row20_col3\" class=\"data row20 col3\" >0</td>\n",
       "                        <td id=\"T_39b86fae_9c7f_11eb_9879_acde48001122row20_col4\" class=\"data row20 col4\" >0</td>\n",
       "                        <td id=\"T_39b86fae_9c7f_11eb_9879_acde48001122row20_col5\" class=\"data row20 col5\" >0</td>\n",
       "                        <td id=\"T_39b86fae_9c7f_11eb_9879_acde48001122row20_col6\" class=\"data row20 col6\" >164</td>\n",
       "                        <td id=\"T_39b86fae_9c7f_11eb_9879_acde48001122row20_col7\" class=\"data row20 col7\" >254</td>\n",
       "                        <td id=\"T_39b86fae_9c7f_11eb_9879_acde48001122row20_col8\" class=\"data row20 col8\" >215</td>\n",
       "                        <td id=\"T_39b86fae_9c7f_11eb_9879_acde48001122row20_col9\" class=\"data row20 col9\" >63</td>\n",
       "                        <td id=\"T_39b86fae_9c7f_11eb_9879_acde48001122row20_col10\" class=\"data row20 col10\" >36</td>\n",
       "                        <td id=\"T_39b86fae_9c7f_11eb_9879_acde48001122row20_col11\" class=\"data row20 col11\" >0</td>\n",
       "                        <td id=\"T_39b86fae_9c7f_11eb_9879_acde48001122row20_col12\" class=\"data row20 col12\" >51</td>\n",
       "                        <td id=\"T_39b86fae_9c7f_11eb_9879_acde48001122row20_col13\" class=\"data row20 col13\" >89</td>\n",
       "                        <td id=\"T_39b86fae_9c7f_11eb_9879_acde48001122row20_col14\" class=\"data row20 col14\" >206</td>\n",
       "                        <td id=\"T_39b86fae_9c7f_11eb_9879_acde48001122row20_col15\" class=\"data row20 col15\" >254</td>\n",
       "                        <td id=\"T_39b86fae_9c7f_11eb_9879_acde48001122row20_col16\" class=\"data row20 col16\" >254</td>\n",
       "                        <td id=\"T_39b86fae_9c7f_11eb_9879_acde48001122row20_col17\" class=\"data row20 col17\" >139</td>\n",
       "                        <td id=\"T_39b86fae_9c7f_11eb_9879_acde48001122row20_col18\" class=\"data row20 col18\" >8</td>\n",
       "                        <td id=\"T_39b86fae_9c7f_11eb_9879_acde48001122row20_col19\" class=\"data row20 col19\" >0</td>\n",
       "                        <td id=\"T_39b86fae_9c7f_11eb_9879_acde48001122row20_col20\" class=\"data row20 col20\" >0</td>\n",
       "                        <td id=\"T_39b86fae_9c7f_11eb_9879_acde48001122row20_col21\" class=\"data row20 col21\" >0</td>\n",
       "                        <td id=\"T_39b86fae_9c7f_11eb_9879_acde48001122row20_col22\" class=\"data row20 col22\" >0</td>\n",
       "                        <td id=\"T_39b86fae_9c7f_11eb_9879_acde48001122row20_col23\" class=\"data row20 col23\" >0</td>\n",
       "                        <td id=\"T_39b86fae_9c7f_11eb_9879_acde48001122row20_col24\" class=\"data row20 col24\" >0</td>\n",
       "                        <td id=\"T_39b86fae_9c7f_11eb_9879_acde48001122row20_col25\" class=\"data row20 col25\" >0</td>\n",
       "                        <td id=\"T_39b86fae_9c7f_11eb_9879_acde48001122row20_col26\" class=\"data row20 col26\" >0</td>\n",
       "                        <td id=\"T_39b86fae_9c7f_11eb_9879_acde48001122row20_col27\" class=\"data row20 col27\" >0</td>\n",
       "            </tr>\n",
       "            <tr>\n",
       "                        <th id=\"T_39b86fae_9c7f_11eb_9879_acde48001122level0_row21\" class=\"row_heading level0 row21\" >21</th>\n",
       "                        <td id=\"T_39b86fae_9c7f_11eb_9879_acde48001122row21_col0\" class=\"data row21 col0\" >0</td>\n",
       "                        <td id=\"T_39b86fae_9c7f_11eb_9879_acde48001122row21_col1\" class=\"data row21 col1\" >0</td>\n",
       "                        <td id=\"T_39b86fae_9c7f_11eb_9879_acde48001122row21_col2\" class=\"data row21 col2\" >0</td>\n",
       "                        <td id=\"T_39b86fae_9c7f_11eb_9879_acde48001122row21_col3\" class=\"data row21 col3\" >0</td>\n",
       "                        <td id=\"T_39b86fae_9c7f_11eb_9879_acde48001122row21_col4\" class=\"data row21 col4\" >0</td>\n",
       "                        <td id=\"T_39b86fae_9c7f_11eb_9879_acde48001122row21_col5\" class=\"data row21 col5\" >0</td>\n",
       "                        <td id=\"T_39b86fae_9c7f_11eb_9879_acde48001122row21_col6\" class=\"data row21 col6\" >57</td>\n",
       "                        <td id=\"T_39b86fae_9c7f_11eb_9879_acde48001122row21_col7\" class=\"data row21 col7\" >197</td>\n",
       "                        <td id=\"T_39b86fae_9c7f_11eb_9879_acde48001122row21_col8\" class=\"data row21 col8\" >254</td>\n",
       "                        <td id=\"T_39b86fae_9c7f_11eb_9879_acde48001122row21_col9\" class=\"data row21 col9\" >254</td>\n",
       "                        <td id=\"T_39b86fae_9c7f_11eb_9879_acde48001122row21_col10\" class=\"data row21 col10\" >222</td>\n",
       "                        <td id=\"T_39b86fae_9c7f_11eb_9879_acde48001122row21_col11\" class=\"data row21 col11\" >180</td>\n",
       "                        <td id=\"T_39b86fae_9c7f_11eb_9879_acde48001122row21_col12\" class=\"data row21 col12\" >241</td>\n",
       "                        <td id=\"T_39b86fae_9c7f_11eb_9879_acde48001122row21_col13\" class=\"data row21 col13\" >254</td>\n",
       "                        <td id=\"T_39b86fae_9c7f_11eb_9879_acde48001122row21_col14\" class=\"data row21 col14\" >254</td>\n",
       "                        <td id=\"T_39b86fae_9c7f_11eb_9879_acde48001122row21_col15\" class=\"data row21 col15\" >253</td>\n",
       "                        <td id=\"T_39b86fae_9c7f_11eb_9879_acde48001122row21_col16\" class=\"data row21 col16\" >213</td>\n",
       "                        <td id=\"T_39b86fae_9c7f_11eb_9879_acde48001122row21_col17\" class=\"data row21 col17\" >11</td>\n",
       "                        <td id=\"T_39b86fae_9c7f_11eb_9879_acde48001122row21_col18\" class=\"data row21 col18\" >0</td>\n",
       "                        <td id=\"T_39b86fae_9c7f_11eb_9879_acde48001122row21_col19\" class=\"data row21 col19\" >0</td>\n",
       "                        <td id=\"T_39b86fae_9c7f_11eb_9879_acde48001122row21_col20\" class=\"data row21 col20\" >0</td>\n",
       "                        <td id=\"T_39b86fae_9c7f_11eb_9879_acde48001122row21_col21\" class=\"data row21 col21\" >0</td>\n",
       "                        <td id=\"T_39b86fae_9c7f_11eb_9879_acde48001122row21_col22\" class=\"data row21 col22\" >0</td>\n",
       "                        <td id=\"T_39b86fae_9c7f_11eb_9879_acde48001122row21_col23\" class=\"data row21 col23\" >0</td>\n",
       "                        <td id=\"T_39b86fae_9c7f_11eb_9879_acde48001122row21_col24\" class=\"data row21 col24\" >0</td>\n",
       "                        <td id=\"T_39b86fae_9c7f_11eb_9879_acde48001122row21_col25\" class=\"data row21 col25\" >0</td>\n",
       "                        <td id=\"T_39b86fae_9c7f_11eb_9879_acde48001122row21_col26\" class=\"data row21 col26\" >0</td>\n",
       "                        <td id=\"T_39b86fae_9c7f_11eb_9879_acde48001122row21_col27\" class=\"data row21 col27\" >0</td>\n",
       "            </tr>\n",
       "            <tr>\n",
       "                        <th id=\"T_39b86fae_9c7f_11eb_9879_acde48001122level0_row22\" class=\"row_heading level0 row22\" >22</th>\n",
       "                        <td id=\"T_39b86fae_9c7f_11eb_9879_acde48001122row22_col0\" class=\"data row22 col0\" >0</td>\n",
       "                        <td id=\"T_39b86fae_9c7f_11eb_9879_acde48001122row22_col1\" class=\"data row22 col1\" >0</td>\n",
       "                        <td id=\"T_39b86fae_9c7f_11eb_9879_acde48001122row22_col2\" class=\"data row22 col2\" >0</td>\n",
       "                        <td id=\"T_39b86fae_9c7f_11eb_9879_acde48001122row22_col3\" class=\"data row22 col3\" >0</td>\n",
       "                        <td id=\"T_39b86fae_9c7f_11eb_9879_acde48001122row22_col4\" class=\"data row22 col4\" >0</td>\n",
       "                        <td id=\"T_39b86fae_9c7f_11eb_9879_acde48001122row22_col5\" class=\"data row22 col5\" >0</td>\n",
       "                        <td id=\"T_39b86fae_9c7f_11eb_9879_acde48001122row22_col6\" class=\"data row22 col6\" >0</td>\n",
       "                        <td id=\"T_39b86fae_9c7f_11eb_9879_acde48001122row22_col7\" class=\"data row22 col7\" >140</td>\n",
       "                        <td id=\"T_39b86fae_9c7f_11eb_9879_acde48001122row22_col8\" class=\"data row22 col8\" >105</td>\n",
       "                        <td id=\"T_39b86fae_9c7f_11eb_9879_acde48001122row22_col9\" class=\"data row22 col9\" >254</td>\n",
       "                        <td id=\"T_39b86fae_9c7f_11eb_9879_acde48001122row22_col10\" class=\"data row22 col10\" >254</td>\n",
       "                        <td id=\"T_39b86fae_9c7f_11eb_9879_acde48001122row22_col11\" class=\"data row22 col11\" >254</td>\n",
       "                        <td id=\"T_39b86fae_9c7f_11eb_9879_acde48001122row22_col12\" class=\"data row22 col12\" >254</td>\n",
       "                        <td id=\"T_39b86fae_9c7f_11eb_9879_acde48001122row22_col13\" class=\"data row22 col13\" >254</td>\n",
       "                        <td id=\"T_39b86fae_9c7f_11eb_9879_acde48001122row22_col14\" class=\"data row22 col14\" >254</td>\n",
       "                        <td id=\"T_39b86fae_9c7f_11eb_9879_acde48001122row22_col15\" class=\"data row22 col15\" >236</td>\n",
       "                        <td id=\"T_39b86fae_9c7f_11eb_9879_acde48001122row22_col16\" class=\"data row22 col16\" >0</td>\n",
       "                        <td id=\"T_39b86fae_9c7f_11eb_9879_acde48001122row22_col17\" class=\"data row22 col17\" >0</td>\n",
       "                        <td id=\"T_39b86fae_9c7f_11eb_9879_acde48001122row22_col18\" class=\"data row22 col18\" >0</td>\n",
       "                        <td id=\"T_39b86fae_9c7f_11eb_9879_acde48001122row22_col19\" class=\"data row22 col19\" >0</td>\n",
       "                        <td id=\"T_39b86fae_9c7f_11eb_9879_acde48001122row22_col20\" class=\"data row22 col20\" >0</td>\n",
       "                        <td id=\"T_39b86fae_9c7f_11eb_9879_acde48001122row22_col21\" class=\"data row22 col21\" >0</td>\n",
       "                        <td id=\"T_39b86fae_9c7f_11eb_9879_acde48001122row22_col22\" class=\"data row22 col22\" >0</td>\n",
       "                        <td id=\"T_39b86fae_9c7f_11eb_9879_acde48001122row22_col23\" class=\"data row22 col23\" >0</td>\n",
       "                        <td id=\"T_39b86fae_9c7f_11eb_9879_acde48001122row22_col24\" class=\"data row22 col24\" >0</td>\n",
       "                        <td id=\"T_39b86fae_9c7f_11eb_9879_acde48001122row22_col25\" class=\"data row22 col25\" >0</td>\n",
       "                        <td id=\"T_39b86fae_9c7f_11eb_9879_acde48001122row22_col26\" class=\"data row22 col26\" >0</td>\n",
       "                        <td id=\"T_39b86fae_9c7f_11eb_9879_acde48001122row22_col27\" class=\"data row22 col27\" >0</td>\n",
       "            </tr>\n",
       "            <tr>\n",
       "                        <th id=\"T_39b86fae_9c7f_11eb_9879_acde48001122level0_row23\" class=\"row_heading level0 row23\" >23</th>\n",
       "                        <td id=\"T_39b86fae_9c7f_11eb_9879_acde48001122row23_col0\" class=\"data row23 col0\" >0</td>\n",
       "                        <td id=\"T_39b86fae_9c7f_11eb_9879_acde48001122row23_col1\" class=\"data row23 col1\" >0</td>\n",
       "                        <td id=\"T_39b86fae_9c7f_11eb_9879_acde48001122row23_col2\" class=\"data row23 col2\" >0</td>\n",
       "                        <td id=\"T_39b86fae_9c7f_11eb_9879_acde48001122row23_col3\" class=\"data row23 col3\" >0</td>\n",
       "                        <td id=\"T_39b86fae_9c7f_11eb_9879_acde48001122row23_col4\" class=\"data row23 col4\" >0</td>\n",
       "                        <td id=\"T_39b86fae_9c7f_11eb_9879_acde48001122row23_col5\" class=\"data row23 col5\" >0</td>\n",
       "                        <td id=\"T_39b86fae_9c7f_11eb_9879_acde48001122row23_col6\" class=\"data row23 col6\" >0</td>\n",
       "                        <td id=\"T_39b86fae_9c7f_11eb_9879_acde48001122row23_col7\" class=\"data row23 col7\" >0</td>\n",
       "                        <td id=\"T_39b86fae_9c7f_11eb_9879_acde48001122row23_col8\" class=\"data row23 col8\" >7</td>\n",
       "                        <td id=\"T_39b86fae_9c7f_11eb_9879_acde48001122row23_col9\" class=\"data row23 col9\" >117</td>\n",
       "                        <td id=\"T_39b86fae_9c7f_11eb_9879_acde48001122row23_col10\" class=\"data row23 col10\" >117</td>\n",
       "                        <td id=\"T_39b86fae_9c7f_11eb_9879_acde48001122row23_col11\" class=\"data row23 col11\" >165</td>\n",
       "                        <td id=\"T_39b86fae_9c7f_11eb_9879_acde48001122row23_col12\" class=\"data row23 col12\" >254</td>\n",
       "                        <td id=\"T_39b86fae_9c7f_11eb_9879_acde48001122row23_col13\" class=\"data row23 col13\" >254</td>\n",
       "                        <td id=\"T_39b86fae_9c7f_11eb_9879_acde48001122row23_col14\" class=\"data row23 col14\" >239</td>\n",
       "                        <td id=\"T_39b86fae_9c7f_11eb_9879_acde48001122row23_col15\" class=\"data row23 col15\" >50</td>\n",
       "                        <td id=\"T_39b86fae_9c7f_11eb_9879_acde48001122row23_col16\" class=\"data row23 col16\" >0</td>\n",
       "                        <td id=\"T_39b86fae_9c7f_11eb_9879_acde48001122row23_col17\" class=\"data row23 col17\" >0</td>\n",
       "                        <td id=\"T_39b86fae_9c7f_11eb_9879_acde48001122row23_col18\" class=\"data row23 col18\" >0</td>\n",
       "                        <td id=\"T_39b86fae_9c7f_11eb_9879_acde48001122row23_col19\" class=\"data row23 col19\" >0</td>\n",
       "                        <td id=\"T_39b86fae_9c7f_11eb_9879_acde48001122row23_col20\" class=\"data row23 col20\" >0</td>\n",
       "                        <td id=\"T_39b86fae_9c7f_11eb_9879_acde48001122row23_col21\" class=\"data row23 col21\" >0</td>\n",
       "                        <td id=\"T_39b86fae_9c7f_11eb_9879_acde48001122row23_col22\" class=\"data row23 col22\" >0</td>\n",
       "                        <td id=\"T_39b86fae_9c7f_11eb_9879_acde48001122row23_col23\" class=\"data row23 col23\" >0</td>\n",
       "                        <td id=\"T_39b86fae_9c7f_11eb_9879_acde48001122row23_col24\" class=\"data row23 col24\" >0</td>\n",
       "                        <td id=\"T_39b86fae_9c7f_11eb_9879_acde48001122row23_col25\" class=\"data row23 col25\" >0</td>\n",
       "                        <td id=\"T_39b86fae_9c7f_11eb_9879_acde48001122row23_col26\" class=\"data row23 col26\" >0</td>\n",
       "                        <td id=\"T_39b86fae_9c7f_11eb_9879_acde48001122row23_col27\" class=\"data row23 col27\" >0</td>\n",
       "            </tr>\n",
       "            <tr>\n",
       "                        <th id=\"T_39b86fae_9c7f_11eb_9879_acde48001122level0_row24\" class=\"row_heading level0 row24\" >24</th>\n",
       "                        <td id=\"T_39b86fae_9c7f_11eb_9879_acde48001122row24_col0\" class=\"data row24 col0\" >0</td>\n",
       "                        <td id=\"T_39b86fae_9c7f_11eb_9879_acde48001122row24_col1\" class=\"data row24 col1\" >0</td>\n",
       "                        <td id=\"T_39b86fae_9c7f_11eb_9879_acde48001122row24_col2\" class=\"data row24 col2\" >0</td>\n",
       "                        <td id=\"T_39b86fae_9c7f_11eb_9879_acde48001122row24_col3\" class=\"data row24 col3\" >0</td>\n",
       "                        <td id=\"T_39b86fae_9c7f_11eb_9879_acde48001122row24_col4\" class=\"data row24 col4\" >0</td>\n",
       "                        <td id=\"T_39b86fae_9c7f_11eb_9879_acde48001122row24_col5\" class=\"data row24 col5\" >0</td>\n",
       "                        <td id=\"T_39b86fae_9c7f_11eb_9879_acde48001122row24_col6\" class=\"data row24 col6\" >0</td>\n",
       "                        <td id=\"T_39b86fae_9c7f_11eb_9879_acde48001122row24_col7\" class=\"data row24 col7\" >0</td>\n",
       "                        <td id=\"T_39b86fae_9c7f_11eb_9879_acde48001122row24_col8\" class=\"data row24 col8\" >0</td>\n",
       "                        <td id=\"T_39b86fae_9c7f_11eb_9879_acde48001122row24_col9\" class=\"data row24 col9\" >0</td>\n",
       "                        <td id=\"T_39b86fae_9c7f_11eb_9879_acde48001122row24_col10\" class=\"data row24 col10\" >0</td>\n",
       "                        <td id=\"T_39b86fae_9c7f_11eb_9879_acde48001122row24_col11\" class=\"data row24 col11\" >0</td>\n",
       "                        <td id=\"T_39b86fae_9c7f_11eb_9879_acde48001122row24_col12\" class=\"data row24 col12\" >0</td>\n",
       "                        <td id=\"T_39b86fae_9c7f_11eb_9879_acde48001122row24_col13\" class=\"data row24 col13\" >0</td>\n",
       "                        <td id=\"T_39b86fae_9c7f_11eb_9879_acde48001122row24_col14\" class=\"data row24 col14\" >0</td>\n",
       "                        <td id=\"T_39b86fae_9c7f_11eb_9879_acde48001122row24_col15\" class=\"data row24 col15\" >0</td>\n",
       "                        <td id=\"T_39b86fae_9c7f_11eb_9879_acde48001122row24_col16\" class=\"data row24 col16\" >0</td>\n",
       "                        <td id=\"T_39b86fae_9c7f_11eb_9879_acde48001122row24_col17\" class=\"data row24 col17\" >0</td>\n",
       "                        <td id=\"T_39b86fae_9c7f_11eb_9879_acde48001122row24_col18\" class=\"data row24 col18\" >0</td>\n",
       "                        <td id=\"T_39b86fae_9c7f_11eb_9879_acde48001122row24_col19\" class=\"data row24 col19\" >0</td>\n",
       "                        <td id=\"T_39b86fae_9c7f_11eb_9879_acde48001122row24_col20\" class=\"data row24 col20\" >0</td>\n",
       "                        <td id=\"T_39b86fae_9c7f_11eb_9879_acde48001122row24_col21\" class=\"data row24 col21\" >0</td>\n",
       "                        <td id=\"T_39b86fae_9c7f_11eb_9879_acde48001122row24_col22\" class=\"data row24 col22\" >0</td>\n",
       "                        <td id=\"T_39b86fae_9c7f_11eb_9879_acde48001122row24_col23\" class=\"data row24 col23\" >0</td>\n",
       "                        <td id=\"T_39b86fae_9c7f_11eb_9879_acde48001122row24_col24\" class=\"data row24 col24\" >0</td>\n",
       "                        <td id=\"T_39b86fae_9c7f_11eb_9879_acde48001122row24_col25\" class=\"data row24 col25\" >0</td>\n",
       "                        <td id=\"T_39b86fae_9c7f_11eb_9879_acde48001122row24_col26\" class=\"data row24 col26\" >0</td>\n",
       "                        <td id=\"T_39b86fae_9c7f_11eb_9879_acde48001122row24_col27\" class=\"data row24 col27\" >0</td>\n",
       "            </tr>\n",
       "            <tr>\n",
       "                        <th id=\"T_39b86fae_9c7f_11eb_9879_acde48001122level0_row25\" class=\"row_heading level0 row25\" >25</th>\n",
       "                        <td id=\"T_39b86fae_9c7f_11eb_9879_acde48001122row25_col0\" class=\"data row25 col0\" >0</td>\n",
       "                        <td id=\"T_39b86fae_9c7f_11eb_9879_acde48001122row25_col1\" class=\"data row25 col1\" >0</td>\n",
       "                        <td id=\"T_39b86fae_9c7f_11eb_9879_acde48001122row25_col2\" class=\"data row25 col2\" >0</td>\n",
       "                        <td id=\"T_39b86fae_9c7f_11eb_9879_acde48001122row25_col3\" class=\"data row25 col3\" >0</td>\n",
       "                        <td id=\"T_39b86fae_9c7f_11eb_9879_acde48001122row25_col4\" class=\"data row25 col4\" >0</td>\n",
       "                        <td id=\"T_39b86fae_9c7f_11eb_9879_acde48001122row25_col5\" class=\"data row25 col5\" >0</td>\n",
       "                        <td id=\"T_39b86fae_9c7f_11eb_9879_acde48001122row25_col6\" class=\"data row25 col6\" >0</td>\n",
       "                        <td id=\"T_39b86fae_9c7f_11eb_9879_acde48001122row25_col7\" class=\"data row25 col7\" >0</td>\n",
       "                        <td id=\"T_39b86fae_9c7f_11eb_9879_acde48001122row25_col8\" class=\"data row25 col8\" >0</td>\n",
       "                        <td id=\"T_39b86fae_9c7f_11eb_9879_acde48001122row25_col9\" class=\"data row25 col9\" >0</td>\n",
       "                        <td id=\"T_39b86fae_9c7f_11eb_9879_acde48001122row25_col10\" class=\"data row25 col10\" >0</td>\n",
       "                        <td id=\"T_39b86fae_9c7f_11eb_9879_acde48001122row25_col11\" class=\"data row25 col11\" >0</td>\n",
       "                        <td id=\"T_39b86fae_9c7f_11eb_9879_acde48001122row25_col12\" class=\"data row25 col12\" >0</td>\n",
       "                        <td id=\"T_39b86fae_9c7f_11eb_9879_acde48001122row25_col13\" class=\"data row25 col13\" >0</td>\n",
       "                        <td id=\"T_39b86fae_9c7f_11eb_9879_acde48001122row25_col14\" class=\"data row25 col14\" >0</td>\n",
       "                        <td id=\"T_39b86fae_9c7f_11eb_9879_acde48001122row25_col15\" class=\"data row25 col15\" >0</td>\n",
       "                        <td id=\"T_39b86fae_9c7f_11eb_9879_acde48001122row25_col16\" class=\"data row25 col16\" >0</td>\n",
       "                        <td id=\"T_39b86fae_9c7f_11eb_9879_acde48001122row25_col17\" class=\"data row25 col17\" >0</td>\n",
       "                        <td id=\"T_39b86fae_9c7f_11eb_9879_acde48001122row25_col18\" class=\"data row25 col18\" >0</td>\n",
       "                        <td id=\"T_39b86fae_9c7f_11eb_9879_acde48001122row25_col19\" class=\"data row25 col19\" >0</td>\n",
       "                        <td id=\"T_39b86fae_9c7f_11eb_9879_acde48001122row25_col20\" class=\"data row25 col20\" >0</td>\n",
       "                        <td id=\"T_39b86fae_9c7f_11eb_9879_acde48001122row25_col21\" class=\"data row25 col21\" >0</td>\n",
       "                        <td id=\"T_39b86fae_9c7f_11eb_9879_acde48001122row25_col22\" class=\"data row25 col22\" >0</td>\n",
       "                        <td id=\"T_39b86fae_9c7f_11eb_9879_acde48001122row25_col23\" class=\"data row25 col23\" >0</td>\n",
       "                        <td id=\"T_39b86fae_9c7f_11eb_9879_acde48001122row25_col24\" class=\"data row25 col24\" >0</td>\n",
       "                        <td id=\"T_39b86fae_9c7f_11eb_9879_acde48001122row25_col25\" class=\"data row25 col25\" >0</td>\n",
       "                        <td id=\"T_39b86fae_9c7f_11eb_9879_acde48001122row25_col26\" class=\"data row25 col26\" >0</td>\n",
       "                        <td id=\"T_39b86fae_9c7f_11eb_9879_acde48001122row25_col27\" class=\"data row25 col27\" >0</td>\n",
       "            </tr>\n",
       "            <tr>\n",
       "                        <th id=\"T_39b86fae_9c7f_11eb_9879_acde48001122level0_row26\" class=\"row_heading level0 row26\" >26</th>\n",
       "                        <td id=\"T_39b86fae_9c7f_11eb_9879_acde48001122row26_col0\" class=\"data row26 col0\" >0</td>\n",
       "                        <td id=\"T_39b86fae_9c7f_11eb_9879_acde48001122row26_col1\" class=\"data row26 col1\" >0</td>\n",
       "                        <td id=\"T_39b86fae_9c7f_11eb_9879_acde48001122row26_col2\" class=\"data row26 col2\" >0</td>\n",
       "                        <td id=\"T_39b86fae_9c7f_11eb_9879_acde48001122row26_col3\" class=\"data row26 col3\" >0</td>\n",
       "                        <td id=\"T_39b86fae_9c7f_11eb_9879_acde48001122row26_col4\" class=\"data row26 col4\" >0</td>\n",
       "                        <td id=\"T_39b86fae_9c7f_11eb_9879_acde48001122row26_col5\" class=\"data row26 col5\" >0</td>\n",
       "                        <td id=\"T_39b86fae_9c7f_11eb_9879_acde48001122row26_col6\" class=\"data row26 col6\" >0</td>\n",
       "                        <td id=\"T_39b86fae_9c7f_11eb_9879_acde48001122row26_col7\" class=\"data row26 col7\" >0</td>\n",
       "                        <td id=\"T_39b86fae_9c7f_11eb_9879_acde48001122row26_col8\" class=\"data row26 col8\" >0</td>\n",
       "                        <td id=\"T_39b86fae_9c7f_11eb_9879_acde48001122row26_col9\" class=\"data row26 col9\" >0</td>\n",
       "                        <td id=\"T_39b86fae_9c7f_11eb_9879_acde48001122row26_col10\" class=\"data row26 col10\" >0</td>\n",
       "                        <td id=\"T_39b86fae_9c7f_11eb_9879_acde48001122row26_col11\" class=\"data row26 col11\" >0</td>\n",
       "                        <td id=\"T_39b86fae_9c7f_11eb_9879_acde48001122row26_col12\" class=\"data row26 col12\" >0</td>\n",
       "                        <td id=\"T_39b86fae_9c7f_11eb_9879_acde48001122row26_col13\" class=\"data row26 col13\" >0</td>\n",
       "                        <td id=\"T_39b86fae_9c7f_11eb_9879_acde48001122row26_col14\" class=\"data row26 col14\" >0</td>\n",
       "                        <td id=\"T_39b86fae_9c7f_11eb_9879_acde48001122row26_col15\" class=\"data row26 col15\" >0</td>\n",
       "                        <td id=\"T_39b86fae_9c7f_11eb_9879_acde48001122row26_col16\" class=\"data row26 col16\" >0</td>\n",
       "                        <td id=\"T_39b86fae_9c7f_11eb_9879_acde48001122row26_col17\" class=\"data row26 col17\" >0</td>\n",
       "                        <td id=\"T_39b86fae_9c7f_11eb_9879_acde48001122row26_col18\" class=\"data row26 col18\" >0</td>\n",
       "                        <td id=\"T_39b86fae_9c7f_11eb_9879_acde48001122row26_col19\" class=\"data row26 col19\" >0</td>\n",
       "                        <td id=\"T_39b86fae_9c7f_11eb_9879_acde48001122row26_col20\" class=\"data row26 col20\" >0</td>\n",
       "                        <td id=\"T_39b86fae_9c7f_11eb_9879_acde48001122row26_col21\" class=\"data row26 col21\" >0</td>\n",
       "                        <td id=\"T_39b86fae_9c7f_11eb_9879_acde48001122row26_col22\" class=\"data row26 col22\" >0</td>\n",
       "                        <td id=\"T_39b86fae_9c7f_11eb_9879_acde48001122row26_col23\" class=\"data row26 col23\" >0</td>\n",
       "                        <td id=\"T_39b86fae_9c7f_11eb_9879_acde48001122row26_col24\" class=\"data row26 col24\" >0</td>\n",
       "                        <td id=\"T_39b86fae_9c7f_11eb_9879_acde48001122row26_col25\" class=\"data row26 col25\" >0</td>\n",
       "                        <td id=\"T_39b86fae_9c7f_11eb_9879_acde48001122row26_col26\" class=\"data row26 col26\" >0</td>\n",
       "                        <td id=\"T_39b86fae_9c7f_11eb_9879_acde48001122row26_col27\" class=\"data row26 col27\" >0</td>\n",
       "            </tr>\n",
       "            <tr>\n",
       "                        <th id=\"T_39b86fae_9c7f_11eb_9879_acde48001122level0_row27\" class=\"row_heading level0 row27\" >27</th>\n",
       "                        <td id=\"T_39b86fae_9c7f_11eb_9879_acde48001122row27_col0\" class=\"data row27 col0\" >0</td>\n",
       "                        <td id=\"T_39b86fae_9c7f_11eb_9879_acde48001122row27_col1\" class=\"data row27 col1\" >0</td>\n",
       "                        <td id=\"T_39b86fae_9c7f_11eb_9879_acde48001122row27_col2\" class=\"data row27 col2\" >0</td>\n",
       "                        <td id=\"T_39b86fae_9c7f_11eb_9879_acde48001122row27_col3\" class=\"data row27 col3\" >0</td>\n",
       "                        <td id=\"T_39b86fae_9c7f_11eb_9879_acde48001122row27_col4\" class=\"data row27 col4\" >0</td>\n",
       "                        <td id=\"T_39b86fae_9c7f_11eb_9879_acde48001122row27_col5\" class=\"data row27 col5\" >0</td>\n",
       "                        <td id=\"T_39b86fae_9c7f_11eb_9879_acde48001122row27_col6\" class=\"data row27 col6\" >0</td>\n",
       "                        <td id=\"T_39b86fae_9c7f_11eb_9879_acde48001122row27_col7\" class=\"data row27 col7\" >0</td>\n",
       "                        <td id=\"T_39b86fae_9c7f_11eb_9879_acde48001122row27_col8\" class=\"data row27 col8\" >0</td>\n",
       "                        <td id=\"T_39b86fae_9c7f_11eb_9879_acde48001122row27_col9\" class=\"data row27 col9\" >0</td>\n",
       "                        <td id=\"T_39b86fae_9c7f_11eb_9879_acde48001122row27_col10\" class=\"data row27 col10\" >0</td>\n",
       "                        <td id=\"T_39b86fae_9c7f_11eb_9879_acde48001122row27_col11\" class=\"data row27 col11\" >0</td>\n",
       "                        <td id=\"T_39b86fae_9c7f_11eb_9879_acde48001122row27_col12\" class=\"data row27 col12\" >0</td>\n",
       "                        <td id=\"T_39b86fae_9c7f_11eb_9879_acde48001122row27_col13\" class=\"data row27 col13\" >0</td>\n",
       "                        <td id=\"T_39b86fae_9c7f_11eb_9879_acde48001122row27_col14\" class=\"data row27 col14\" >0</td>\n",
       "                        <td id=\"T_39b86fae_9c7f_11eb_9879_acde48001122row27_col15\" class=\"data row27 col15\" >0</td>\n",
       "                        <td id=\"T_39b86fae_9c7f_11eb_9879_acde48001122row27_col16\" class=\"data row27 col16\" >0</td>\n",
       "                        <td id=\"T_39b86fae_9c7f_11eb_9879_acde48001122row27_col17\" class=\"data row27 col17\" >0</td>\n",
       "                        <td id=\"T_39b86fae_9c7f_11eb_9879_acde48001122row27_col18\" class=\"data row27 col18\" >0</td>\n",
       "                        <td id=\"T_39b86fae_9c7f_11eb_9879_acde48001122row27_col19\" class=\"data row27 col19\" >0</td>\n",
       "                        <td id=\"T_39b86fae_9c7f_11eb_9879_acde48001122row27_col20\" class=\"data row27 col20\" >0</td>\n",
       "                        <td id=\"T_39b86fae_9c7f_11eb_9879_acde48001122row27_col21\" class=\"data row27 col21\" >0</td>\n",
       "                        <td id=\"T_39b86fae_9c7f_11eb_9879_acde48001122row27_col22\" class=\"data row27 col22\" >0</td>\n",
       "                        <td id=\"T_39b86fae_9c7f_11eb_9879_acde48001122row27_col23\" class=\"data row27 col23\" >0</td>\n",
       "                        <td id=\"T_39b86fae_9c7f_11eb_9879_acde48001122row27_col24\" class=\"data row27 col24\" >0</td>\n",
       "                        <td id=\"T_39b86fae_9c7f_11eb_9879_acde48001122row27_col25\" class=\"data row27 col25\" >0</td>\n",
       "                        <td id=\"T_39b86fae_9c7f_11eb_9879_acde48001122row27_col26\" class=\"data row27 col26\" >0</td>\n",
       "                        <td id=\"T_39b86fae_9c7f_11eb_9879_acde48001122row27_col27\" class=\"data row27 col27\" >0</td>\n",
       "            </tr>\n",
       "    </tbody></table>"
      ],
      "text/plain": [
       "<pandas.io.formats.style.Styler at 0x7fbacab33240>"
      ]
     },
     "execution_count": 50,
     "metadata": {},
     "output_type": "execute_result"
    }
   ],
   "source": [
    "df = pd.DataFrame(array(img))\n",
    "df.style.set_properties(font_size='3pt').background_gradient('Greys')\n",
    "# df"
   ]
  },
  {
   "cell_type": "code",
   "execution_count": 13,
   "metadata": {},
   "outputs": [],
   "source": [
    "seven_tensors = [tensor(Image.open(p)) for p in sevens]\n",
    "three_tensors = [tensor(Image.open(p)) for p in threes]"
   ]
  },
  {
   "cell_type": "code",
   "execution_count": 14,
   "metadata": {},
   "outputs": [
    {
     "data": {
      "text/plain": [
       "(torch.Size([6265, 28, 28]), torch.Size([6131, 28, 28]))"
      ]
     },
     "execution_count": 14,
     "metadata": {},
     "output_type": "execute_result"
    }
   ],
   "source": [
    "stacked_sevens = torch.stack(seven_tensors).float()/255\n",
    "stacked_threes = torch.stack(three_tensors).float()/255\n",
    "stacked_sevens.shape, stacked_threes.shape"
   ]
  },
  {
   "cell_type": "code",
   "execution_count": 15,
   "metadata": {},
   "outputs": [
    {
     "data": {
      "text/plain": [
       "<AxesSubplot:>"
      ]
     },
     "execution_count": 15,
     "metadata": {},
     "output_type": "execute_result"
    },
    {
     "data": {
      "image/png": "[encoded data removed]",
      "text/plain": [
       "<Figure size 72x72 with 1 Axes>"
      ]
     },
     "metadata": {
      "needs_background": "light"
     },
     "output_type": "display_data"
    }
   ],
   "source": [
    "matplotlib.rc('image', cmap='Greys')\n",
    "\n",
    "show_image(stacked_threes.mean(0))"
   ]
  },
  {
   "cell_type": "markdown",
   "metadata": {},
   "source": [
    "## Functions and gradients"
   ]
  },
  {
   "cell_type": "code",
   "execution_count": 16,
   "metadata": {},
   "outputs": [
    {
     "name": "stderr",
     "output_type": "stream",
     "text": [
      "/Users/flo/miniconda3/envs/learn-ml/lib/python3.7/site-packages/fastbook/__init__.py:73: UserWarning: Not providing a value for linspace's steps is deprecated and will throw a runtime error in a future release. This warning will appear only once per process. (Triggered internally at  ../aten/src/ATen/native/RangeFactories.cpp:23.)\n",
      "  x = torch.linspace(min,max)\n"
     ]
    },
    {
     "data": {
      "image/png": "[encoded data removed]",
      "text/plain": [
       "<Figure size 432x288 with 1 Axes>"
      ]
     },
     "metadata": {
      "needs_background": "light"
     },
     "output_type": "display_data"
    }
   ],
   "source": [
    "def f(x): return x**2\n",
    "plot_function(f, 'x', 'y')"
   ]
  },
  {
   "cell_type": "code",
   "execution_count": 17,
   "metadata": {},
   "outputs": [],
   "source": [
    "# Create a tensor to hold a value and tell it that\n",
    "# we want gradients tracked while that value is used in functions\n",
    "xt = tensor(3.).requires_grad_()"
   ]
  },
  {
   "cell_type": "code",
   "execution_count": 18,
   "metadata": {},
   "outputs": [
    {
     "data": {
      "text/plain": [
       "tensor(9., grad_fn=<PowBackward0>)"
      ]
     },
     "execution_count": 18,
     "metadata": {},
     "output_type": "execute_result"
    }
   ],
   "source": [
    "# The result of the function returns a new tensor\n",
    "yt = f(xt)\n",
    "yt"
   ]
  },
  {
   "cell_type": "code",
   "execution_count": 19,
   "metadata": {},
   "outputs": [
    {
     "data": {
      "text/plain": [
       "tensor(3., requires_grad=True)"
      ]
     },
     "execution_count": 19,
     "metadata": {},
     "output_type": "execute_result"
    }
   ],
   "source": [
    "# The input tensor is still unmodified\n",
    "xt"
   ]
  },
  {
   "cell_type": "code",
   "execution_count": 20,
   "metadata": {},
   "outputs": [],
   "source": [
    "# No gradients are computed yet\n",
    "xt.grad"
   ]
  },
  {
   "cell_type": "code",
   "execution_count": 21,
   "metadata": {},
   "outputs": [],
   "source": [
    "# xt.backward()"
   ]
  },
  {
   "cell_type": "code",
   "execution_count": 22,
   "metadata": {},
   "outputs": [],
   "source": [
    "# xt.grad"
   ]
  },
  {
   "cell_type": "code",
   "execution_count": 23,
   "metadata": {},
   "outputs": [],
   "source": [
    "# Compute the gradient on the resulting tensor, which propagates it back to all input tensors (?)\n",
    "yt.backward()"
   ]
  },
  {
   "cell_type": "code",
   "execution_count": 24,
   "metadata": {},
   "outputs": [
    {
     "data": {
      "text/plain": [
       "tensor(6.)"
      ]
     },
     "execution_count": 24,
     "metadata": {},
     "output_type": "execute_result"
    }
   ],
   "source": [
    "# Now the gradient on the input tensor is correct\n",
    "xt.grad"
   ]
  },
  {
   "cell_type": "code",
   "execution_count": 25,
   "metadata": {},
   "outputs": [],
   "source": [
    "# reset it before calling backward() again, otherwise the gradients are accumulated\n",
    "xt.grad = None\n",
    "xt.grad"
   ]
  },
  {
   "cell_type": "markdown",
   "metadata": {},
   "source": [
    "## MNIST training"
   ]
  },
  {
   "cell_type": "markdown",
   "metadata": {},
   "source": [
    "### Train dataset"
   ]
  },
  {
   "cell_type": "code",
   "execution_count": 26,
   "metadata": {},
   "outputs": [
    {
     "data": {
      "text/plain": [
       "torch.Size([12396, 784])"
      ]
     },
     "execution_count": 26,
     "metadata": {},
     "output_type": "execute_result"
    }
   ],
   "source": [
    "train_x = torch.cat([stacked_threes, stacked_sevens]).view(-1, 28*28)\n",
    "train_x.shape"
   ]
  },
  {
   "cell_type": "code",
   "execution_count": 81,
   "metadata": {},
   "outputs": [
    {
     "data": {
      "text/plain": [
       "torch.Size([12396, 1])"
      ]
     },
     "execution_count": 81,
     "metadata": {},
     "output_type": "execute_result"
    }
   ],
   "source": [
    "train_y = tensor([1] * len(threes) + [0] * len(sevens)).unsqueeze(1)\n",
    "train_y.shape"
   ]
  },
  {
   "cell_type": "code",
   "execution_count": 82,
   "metadata": {},
   "outputs": [
    {
     "data": {
      "text/plain": [
       "tensor([1])"
      ]
     },
     "execution_count": 82,
     "metadata": {},
     "output_type": "execute_result"
    }
   ],
   "source": [
    "train_y[0]"
   ]
  },
  {
   "cell_type": "code",
   "execution_count": 62,
   "metadata": {},
   "outputs": [],
   "source": [
    "data_train = list(zip(train_x, train_y))"
   ]
  },
  {
   "cell_type": "markdown",
   "metadata": {},
   "source": [
    "### Validation dataset"
   ]
  },
  {
   "cell_type": "code",
   "execution_count": 63,
   "metadata": {},
   "outputs": [],
   "source": [
    "sevens_valid_tensors = [tensor(Image.open(p)) for p in (path / 'valid/7').ls().sorted()]\n",
    "threes_valid_tensors = [tensor(Image.open(p)) for p in (path / 'valid/3').ls().sorted()]"
   ]
  },
  {
   "cell_type": "code",
   "execution_count": 64,
   "metadata": {},
   "outputs": [],
   "source": [
    "threes_valid_stacked = torch.stack(threes_valid_tensors).float()/255\n",
    "sevens_valid_stacked = torch.stack(sevens_valid_tensors).float()/255"
   ]
  },
  {
   "cell_type": "code",
   "execution_count": 65,
   "metadata": {},
   "outputs": [
    {
     "data": {
      "text/plain": [
       "torch.Size([2038, 784])"
      ]
     },
     "execution_count": 65,
     "metadata": {},
     "output_type": "execute_result"
    }
   ],
   "source": [
    "valid_x = torch.cat([threes_valid_stacked, sevens_valid_stacked]).view(-1, 28*28)\n",
    "valid_x.shape"
   ]
  },
  {
   "cell_type": "code",
   "execution_count": 66,
   "metadata": {},
   "outputs": [
    {
     "data": {
      "text/plain": [
       "torch.Size([12396, 1])"
      ]
     },
     "execution_count": 66,
     "metadata": {},
     "output_type": "execute_result"
    }
   ],
   "source": [
    "valid_y = tensor(\n",
    "    [1] * len(threes) + [0] * len(sevens)\n",
    ").unsqueeze(1)\n",
    "valid_y.shape"
   ]
  },
  {
   "cell_type": "code",
   "execution_count": 67,
   "metadata": {},
   "outputs": [],
   "source": [
    "data_valid = list(zip(valid_x, valid_y))"
   ]
  },
  {
   "cell_type": "markdown",
   "metadata": {},
   "source": [
    "### Model parameters"
   ]
  },
  {
   "cell_type": "code",
   "execution_count": 68,
   "metadata": {},
   "outputs": [],
   "source": [
    "def init_params(size, std=1.):\n",
    "    return (torch.randn(size) * std).requires_grad_()"
   ]
  },
  {
   "cell_type": "code",
   "execution_count": 69,
   "metadata": {},
   "outputs": [
    {
     "data": {
      "text/plain": [
       "torch.Size([784, 1])"
      ]
     },
     "execution_count": 69,
     "metadata": {},
     "output_type": "execute_result"
    }
   ],
   "source": [
    "weights = init_params((28*28, 1))\n",
    "weights.shape"
   ]
  },
  {
   "cell_type": "code",
   "execution_count": 70,
   "metadata": {},
   "outputs": [
    {
     "data": {
      "text/plain": [
       "torch.Size([1])"
      ]
     },
     "execution_count": 70,
     "metadata": {},
     "output_type": "execute_result"
    }
   ],
   "source": [
    "bias = init_params(1)\n",
    "bias.shape"
   ]
  },
  {
   "cell_type": "markdown",
   "metadata": {},
   "source": [
    "### Predictions"
   ]
  },
  {
   "cell_type": "code",
   "execution_count": 71,
   "metadata": {},
   "outputs": [
    {
     "data": {
      "text/plain": [
       "tensor([14.0882], grad_fn=<AddBackward0>)"
      ]
     },
     "execution_count": 71,
     "metadata": {},
     "output_type": "execute_result"
    }
   ],
   "source": [
    "# Correct: weights must be transposed!\n",
    "(train_x[0] * weights.T).sum() + bias"
   ]
  },
  {
   "cell_type": "code",
   "execution_count": 72,
   "metadata": {},
   "outputs": [
    {
     "data": {
      "text/plain": [
       "tensor([-1122.7035], grad_fn=<AddBackward0>)"
      ]
     },
     "execution_count": 72,
     "metadata": {},
     "output_type": "execute_result"
    }
   ],
   "source": [
    "# Careful: forgetting to transpose does not raise an error!\n",
    "(train_x[0] * weights).sum() + bias"
   ]
  },
  {
   "cell_type": "code",
   "execution_count": 73,
   "metadata": {},
   "outputs": [],
   "source": [
    "def linear1(xb):\n",
    "    return xb@weights + bias"
   ]
  },
  {
   "cell_type": "code",
   "execution_count": 74,
   "metadata": {},
   "outputs": [],
   "source": [
    "preds = linear1(train_x)"
   ]
  },
  {
   "cell_type": "code",
   "execution_count": 75,
   "metadata": {},
   "outputs": [
    {
     "data": {
      "text/plain": [
       "torch.Size([12396, 1])"
      ]
     },
     "execution_count": 75,
     "metadata": {},
     "output_type": "execute_result"
    }
   ],
   "source": [
    "preds.shape"
   ]
  },
  {
   "cell_type": "code",
   "execution_count": 76,
   "metadata": {},
   "outputs": [
    {
     "data": {
      "text/plain": [
       "tensor([[14.0882],\n",
       "        [13.9915],\n",
       "        [16.0442],\n",
       "        ...,\n",
       "        [ 1.2085],\n",
       "        [ 1.7146],\n",
       "        [ 2.6879]], grad_fn=<AddBackward0>)"
      ]
     },
     "execution_count": 76,
     "metadata": {},
     "output_type": "execute_result"
    }
   ],
   "source": [
    "preds"
   ]
  },
  {
   "cell_type": "code",
   "execution_count": 77,
   "metadata": {},
   "outputs": [
    {
     "data": {
      "text/plain": [
       "0.4960688054561615"
      ]
     },
     "execution_count": 77,
     "metadata": {},
     "output_type": "execute_result"
    }
   ],
   "source": [
    "corrects = ((preds > 0.0).float() == train_y).float().mean().item()\n",
    "\n",
    "# weird: in the book example, this is at close to 50%\n",
    "corrects"
   ]
  },
  {
   "cell_type": "markdown",
   "metadata": {},
   "source": [
    "### MNIST Loss"
   ]
  },
  {
   "cell_type": "code",
   "execution_count": 78,
   "metadata": {},
   "outputs": [
    {
     "data": {
      "image/png": "[encoded data removed]",
      "text/plain": [
       "<Figure size 432x288 with 1 Axes>"
      ]
     },
     "metadata": {
      "needs_background": "light"
     },
     "output_type": "display_data"
    }
   ],
   "source": [
    "def sigmoid(x):\n",
    "    return 1 / (1+torch.exp(-x))\n",
    "plot_function(sigmoid, min=-10, max=+10)"
   ]
  },
  {
   "cell_type": "code",
   "execution_count": 79,
   "metadata": {},
   "outputs": [],
   "source": [
    "def mnist_loss(predictions, targets):\n",
    "    predictions = predictions.sigmoid()  # pytorch builtin\n",
    "    return torch.where(targets==1, 1-predictions, predictions).mean()"
   ]
  },
  {
   "cell_type": "code",
   "execution_count": 80,
   "metadata": {},
   "outputs": [
    {
     "data": {
      "text/plain": [
       "tensor(0.5038, grad_fn=<MeanBackward0>)"
      ]
     },
     "execution_count": 80,
     "metadata": {},
     "output_type": "execute_result"
    }
   ],
   "source": [
    "mnist_loss(preds, train_y)"
   ]
  },
  {
   "cell_type": "code",
   "execution_count": 83,
   "metadata": {},
   "outputs": [
    {
     "data": {
      "text/plain": [
       "<function fastbook.plot_function(f, tx=None, ty=None, title=None, min=-2, max=2, figsize=(6, 4))>"
      ]
     },
     "execution_count": 83,
     "metadata": {},
     "output_type": "execute_result"
    }
   ],
   "source": [
    "plot_function"
   ]
  },
  {
   "cell_type": "code",
   "execution_count": null,
   "metadata": {},
   "outputs": [],
   "source": []
  },
  {
   "cell_type": "code",
   "execution_count": null,
   "metadata": {},
   "outputs": [],
   "source": []
  },
  {
   "cell_type": "code",
   "execution_count": null,
   "metadata": {},
   "outputs": [],
   "source": []
  }
 ],
 "metadata": {
  "kernelspec": {
   "display_name": "Python 3",
   "language": "python",
   "name": "python3"
  },
  "language_info": {
   "codemirror_mode": {
    "name": "ipython",
    "version": 3
   },
   "file_extension": ".py",
   "mimetype": "text/x-python",
   "name": "python",
   "nbconvert_exporter": "python",
   "pygments_lexer": "ipython3",
   "version": "3.7.0"
  }
 },
 "nbformat": 4,
 "nbformat_minor": 2
}
