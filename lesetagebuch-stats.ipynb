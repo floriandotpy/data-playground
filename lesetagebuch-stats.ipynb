{
 "cells": [
  {
   "cell_type": "code",
   "execution_count": 1,
   "metadata": {},
   "outputs": [],
   "source": [
    "import pandas as pd\n",
    "import json\n",
    "import seaborn as sns\n"
   ]
  },
  {
   "cell_type": "code",
   "execution_count": 2,
   "metadata": {},
   "outputs": [],
   "source": [
    "%matplotlib inline"
   ]
  },
  {
   "cell_type": "markdown",
   "metadata": {},
   "source": [
    "# Load data from json"
   ]
  },
  {
   "cell_type": "code",
   "execution_count": 3,
   "metadata": {},
   "outputs": [
    {
     "data": {
      "text/html": [
       "<div>\n",
       "<style scoped>\n",
       "    .dataframe tbody tr th:only-of-type {\n",
       "        vertical-align: middle;\n",
       "    }\n",
       "\n",
       "    .dataframe tbody tr th {\n",
       "        vertical-align: top;\n",
       "    }\n",
       "\n",
       "    .dataframe thead th {\n",
       "        text-align: right;\n",
       "    }\n",
       "</style>\n",
       "<table border=\"1\" class=\"dataframe\">\n",
       "  <thead>\n",
       "    <tr style=\"text-align: right;\">\n",
       "      <th></th>\n",
       "      <th>entries</th>\n",
       "      <th>name</th>\n",
       "      <th>url</th>\n",
       "      <th>username</th>\n",
       "    </tr>\n",
       "  </thead>\n",
       "  <tbody>\n",
       "    <tr>\n",
       "      <th>0</th>\n",
       "      <td>{'book': {'authors': [{'id': 7675, 'name': 'Ta...</td>\n",
       "      <td>Florian</td>\n",
       "      <td>/von/florian</td>\n",
       "      <td>florian</td>\n",
       "    </tr>\n",
       "    <tr>\n",
       "      <th>1</th>\n",
       "      <td>{'book': {'authors': [{'id': 78, 'name': 'J. R...</td>\n",
       "      <td>Florian</td>\n",
       "      <td>/von/florian</td>\n",
       "      <td>florian</td>\n",
       "    </tr>\n",
       "    <tr>\n",
       "      <th>2</th>\n",
       "      <td>{'book': {'authors': [{'id': 8279, 'name': 'Gr...</td>\n",
       "      <td>Florian</td>\n",
       "      <td>/von/florian</td>\n",
       "      <td>florian</td>\n",
       "    </tr>\n",
       "    <tr>\n",
       "      <th>3</th>\n",
       "      <td>{'book': {'authors': [{'id': 12393, 'name': 'M...</td>\n",
       "      <td>Florian</td>\n",
       "      <td>/von/florian</td>\n",
       "      <td>florian</td>\n",
       "    </tr>\n",
       "    <tr>\n",
       "      <th>4</th>\n",
       "      <td>{'book': {'authors': [{'id': 12379, 'name': 'T...</td>\n",
       "      <td>Florian</td>\n",
       "      <td>/von/florian</td>\n",
       "      <td>florian</td>\n",
       "    </tr>\n",
       "    <tr>\n",
       "      <th>...</th>\n",
       "      <td>...</td>\n",
       "      <td>...</td>\n",
       "      <td>...</td>\n",
       "      <td>...</td>\n",
       "    </tr>\n",
       "    <tr>\n",
       "      <th>176</th>\n",
       "      <td>{'book': {'authors': [{'id': 278, 'name': 'Sam...</td>\n",
       "      <td>Florian</td>\n",
       "      <td>/von/florian</td>\n",
       "      <td>florian</td>\n",
       "    </tr>\n",
       "    <tr>\n",
       "      <th>177</th>\n",
       "      <td>{'book': {'authors': [{'id': 24, 'name': 'Malc...</td>\n",
       "      <td>Florian</td>\n",
       "      <td>/von/florian</td>\n",
       "      <td>florian</td>\n",
       "    </tr>\n",
       "    <tr>\n",
       "      <th>178</th>\n",
       "      <td>{'book': {'authors': [{'id': 12, 'name': 'Volk...</td>\n",
       "      <td>Florian</td>\n",
       "      <td>/von/florian</td>\n",
       "      <td>florian</td>\n",
       "    </tr>\n",
       "    <tr>\n",
       "      <th>179</th>\n",
       "      <td>{'book': {'authors': [{'id': 2477, 'name': 'Jo...</td>\n",
       "      <td>Florian</td>\n",
       "      <td>/von/florian</td>\n",
       "      <td>florian</td>\n",
       "    </tr>\n",
       "    <tr>\n",
       "      <th>180</th>\n",
       "      <td>{'book': {'authors': [{'id': 466, 'name': 'Phi...</td>\n",
       "      <td>Florian</td>\n",
       "      <td>/von/florian</td>\n",
       "      <td>florian</td>\n",
       "    </tr>\n",
       "  </tbody>\n",
       "</table>\n",
       "<p>181 rows × 4 columns</p>\n",
       "</div>"
      ],
      "text/plain": [
       "                                               entries     name           url  \\\n",
       "0    {'book': {'authors': [{'id': 7675, 'name': 'Ta...  Florian  /von/florian   \n",
       "1    {'book': {'authors': [{'id': 78, 'name': 'J. R...  Florian  /von/florian   \n",
       "2    {'book': {'authors': [{'id': 8279, 'name': 'Gr...  Florian  /von/florian   \n",
       "3    {'book': {'authors': [{'id': 12393, 'name': 'M...  Florian  /von/florian   \n",
       "4    {'book': {'authors': [{'id': 12379, 'name': 'T...  Florian  /von/florian   \n",
       "..                                                 ...      ...           ...   \n",
       "176  {'book': {'authors': [{'id': 278, 'name': 'Sam...  Florian  /von/florian   \n",
       "177  {'book': {'authors': [{'id': 24, 'name': 'Malc...  Florian  /von/florian   \n",
       "178  {'book': {'authors': [{'id': 12, 'name': 'Volk...  Florian  /von/florian   \n",
       "179  {'book': {'authors': [{'id': 2477, 'name': 'Jo...  Florian  /von/florian   \n",
       "180  {'book': {'authors': [{'id': 466, 'name': 'Phi...  Florian  /von/florian   \n",
       "\n",
       "    username  \n",
       "0    florian  \n",
       "1    florian  \n",
       "2    florian  \n",
       "3    florian  \n",
       "4    florian  \n",
       "..       ...  \n",
       "176  florian  \n",
       "177  florian  \n",
       "178  florian  \n",
       "179  florian  \n",
       "180  florian  \n",
       "\n",
       "[181 rows x 4 columns]"
      ]
     },
     "execution_count": 3,
     "metadata": {},
     "output_type": "execute_result"
    }
   ],
   "source": [
    "DATA_PATH = 'data/lesetagebuch-florian.json'\n",
    "df = pd.read_json(DATA_PATH)\n",
    "df"
   ]
  },
  {
   "cell_type": "code",
   "execution_count": 4,
   "metadata": {},
   "outputs": [],
   "source": [
    "with open(DATA_PATH) as fp:\n",
    "    books = json.load(fp)\n"
   ]
  },
  {
   "cell_type": "markdown",
   "metadata": {},
   "source": [
    "# Set up dataframe with desired structure and types"
   ]
  },
  {
   "cell_type": "code",
   "execution_count": 5,
   "metadata": {},
   "outputs": [
    {
     "data": {
      "text/plain": [
       "{'book': {'authors': [{'id': 7675,\n",
       "    'name': 'Tara Westover',\n",
       "    'url': '/autor/tara-westover'}],\n",
       "  'id': 16492,\n",
       "  'pages': 352,\n",
       "  'title': 'Educated',\n",
       "  'url': '/buch/educated'},\n",
       " 'book_type': 'book',\n",
       " 'comment': 'An intense memoir about a childhood that was defined by religious fanaticism and a manipulative family. Crazy to think Tara Westover is only two years older than me, as her story sounds like it comes from a different age, from a different world even.',\n",
       " 'date': '2021-12-06',\n",
       " 'id': 46975,\n",
       " 'pinned': False,\n",
       " 'private': False,\n",
       " 'rating': 5,\n",
       " 'tags': ['author_f', 'english', 'nonfiction', 'biography'],\n",
       " 'type': 'finished',\n",
       " 'url': '/eintrag/46975',\n",
       " 'user': {'username': 'florian'}}"
      ]
     },
     "execution_count": 5,
     "metadata": {},
     "output_type": "execute_result"
    }
   ],
   "source": [
    "books['entries'][0]"
   ]
  },
  {
   "cell_type": "code",
   "execution_count": 7,
   "metadata": {},
   "outputs": [
    {
     "data": {
      "text/html": [
       "<div>\n",
       "<style scoped>\n",
       "    .dataframe tbody tr th:only-of-type {\n",
       "        vertical-align: middle;\n",
       "    }\n",
       "\n",
       "    .dataframe tbody tr th {\n",
       "        vertical-align: top;\n",
       "    }\n",
       "\n",
       "    .dataframe thead th {\n",
       "        text-align: right;\n",
       "    }\n",
       "</style>\n",
       "<table border=\"1\" class=\"dataframe\">\n",
       "  <thead>\n",
       "    <tr style=\"text-align: right;\">\n",
       "      <th></th>\n",
       "      <th>book_type</th>\n",
       "      <th>comment</th>\n",
       "      <th>date</th>\n",
       "      <th>id</th>\n",
       "      <th>pinned</th>\n",
       "      <th>private</th>\n",
       "      <th>rating</th>\n",
       "      <th>tags</th>\n",
       "      <th>type</th>\n",
       "      <th>url</th>\n",
       "      <th>author</th>\n",
       "      <th>title</th>\n",
       "      <th>book_pages</th>\n",
       "      <th>username</th>\n",
       "      <th>language</th>\n",
       "      <th>author_gender</th>\n",
       "      <th>genre</th>\n",
       "    </tr>\n",
       "  </thead>\n",
       "  <tbody>\n",
       "    <tr>\n",
       "      <th>0</th>\n",
       "      <td>book</td>\n",
       "      <td>An intense memoir about a childhood that was d...</td>\n",
       "      <td>2021-12-06</td>\n",
       "      <td>46975</td>\n",
       "      <td>False</td>\n",
       "      <td>False</td>\n",
       "      <td>5.0</td>\n",
       "      <td>[author_f, english, nonfiction, biography]</td>\n",
       "      <td>finished</td>\n",
       "      <td>/eintrag/46975</td>\n",
       "      <td>Tara Westover</td>\n",
       "      <td>Educated</td>\n",
       "      <td>352</td>\n",
       "      <td>florian</td>\n",
       "      <td>English</td>\n",
       "      <td>Female</td>\n",
       "      <td>nonfiction</td>\n",
       "    </tr>\n",
       "    <tr>\n",
       "      <th>1</th>\n",
       "      <td>audio_book</td>\n",
       "      <td>Meine jährliche Dosis Tolkien, das macht mich ...</td>\n",
       "      <td>2021-11-28</td>\n",
       "      <td>46936</td>\n",
       "      <td>False</td>\n",
       "      <td>False</td>\n",
       "      <td>5.0</td>\n",
       "      <td>[german, author_m, fiction, fantasy]</td>\n",
       "      <td>finished</td>\n",
       "      <td>/eintrag/46936</td>\n",
       "      <td>J. R. R. Tolkien</td>\n",
       "      <td>Der Herr  der Ringe: Die Gefährten</td>\n",
       "      <td>526</td>\n",
       "      <td>florian</td>\n",
       "      <td>German</td>\n",
       "      <td>Male</td>\n",
       "      <td>fiction</td>\n",
       "    </tr>\n",
       "    <tr>\n",
       "      <th>2</th>\n",
       "      <td>book</td>\n",
       "      <td>Der Inhalt der Texte ist natürlich gut. Aber d...</td>\n",
       "      <td>2021-11-14</td>\n",
       "      <td>46737</td>\n",
       "      <td>False</td>\n",
       "      <td>False</td>\n",
       "      <td>2.0</td>\n",
       "      <td>[german, nonfiction, author_f]</td>\n",
       "      <td>finished</td>\n",
       "      <td>/eintrag/46737</td>\n",
       "      <td>Greta Thunberg</td>\n",
       "      <td>Ich will, dass ihr in Panik geratet!</td>\n",
       "      <td>112</td>\n",
       "      <td>florian</td>\n",
       "      <td>German</td>\n",
       "      <td>Female</td>\n",
       "      <td>nonfiction</td>\n",
       "    </tr>\n",
       "    <tr>\n",
       "      <th>3</th>\n",
       "      <td>book</td>\n",
       "      <td>Ich habe gelernt: Es gibt das Genre „Weinkrimi...</td>\n",
       "      <td>2021-10-18</td>\n",
       "      <td>44373</td>\n",
       "      <td>False</td>\n",
       "      <td>False</td>\n",
       "      <td>3.0</td>\n",
       "      <td>[german, nonfiction, author_m, novel]</td>\n",
       "      <td>finished</td>\n",
       "      <td>/eintrag/44373</td>\n",
       "      <td>Michael Böckler</td>\n",
       "      <td>Tod oder Reben</td>\n",
       "      <td>432</td>\n",
       "      <td>florian</td>\n",
       "      <td>German</td>\n",
       "      <td>Male</td>\n",
       "      <td>nonfiction</td>\n",
       "    </tr>\n",
       "    <tr>\n",
       "      <th>4</th>\n",
       "      <td>book</td>\n",
       "      <td>Kompakte Übersicht über das Thema \"Data Engine...</td>\n",
       "      <td>2021-10-10</td>\n",
       "      <td>44298</td>\n",
       "      <td>False</td>\n",
       "      <td>False</td>\n",
       "      <td>3.0</td>\n",
       "      <td>[english, author_m, nonfiction, coding]</td>\n",
       "      <td>finished</td>\n",
       "      <td>/eintrag/44298</td>\n",
       "      <td>Ted Malaska</td>\n",
       "      <td>Rebuilding Reliable Data Pipelines Through Mod...</td>\n",
       "      <td>97</td>\n",
       "      <td>florian</td>\n",
       "      <td>English</td>\n",
       "      <td>Male</td>\n",
       "      <td>nonfiction</td>\n",
       "    </tr>\n",
       "    <tr>\n",
       "      <th>...</th>\n",
       "      <td>...</td>\n",
       "      <td>...</td>\n",
       "      <td>...</td>\n",
       "      <td>...</td>\n",
       "      <td>...</td>\n",
       "      <td>...</td>\n",
       "      <td>...</td>\n",
       "      <td>...</td>\n",
       "      <td>...</td>\n",
       "      <td>...</td>\n",
       "      <td>...</td>\n",
       "      <td>...</td>\n",
       "      <td>...</td>\n",
       "      <td>...</td>\n",
       "      <td>...</td>\n",
       "      <td>...</td>\n",
       "      <td>...</td>\n",
       "    </tr>\n",
       "    <tr>\n",
       "      <th>174</th>\n",
       "      <td>book</td>\n",
       "      <td>I've started reading through some of the class...</td>\n",
       "      <td>2013-02-25</td>\n",
       "      <td>1583</td>\n",
       "      <td>False</td>\n",
       "      <td>False</td>\n",
       "      <td>5.0</td>\n",
       "      <td>[author_m, fiction, novel, scifi, english]</td>\n",
       "      <td>finished</td>\n",
       "      <td>/eintrag/1583</td>\n",
       "      <td>H.G. Wells</td>\n",
       "      <td>The Time Machine</td>\n",
       "      <td>128</td>\n",
       "      <td>florian</td>\n",
       "      <td>English</td>\n",
       "      <td>Male</td>\n",
       "      <td>fiction</td>\n",
       "    </tr>\n",
       "    <tr>\n",
       "      <th>175</th>\n",
       "      <td>book</td>\n",
       "      <td>Interesting read to learn about Apple's histor...</td>\n",
       "      <td>2013-02-22</td>\n",
       "      <td>1552</td>\n",
       "      <td>False</td>\n",
       "      <td>False</td>\n",
       "      <td>3.0</td>\n",
       "      <td>[author_m, nonfiction, tech, biography, english]</td>\n",
       "      <td>finished</td>\n",
       "      <td>/eintrag/1552</td>\n",
       "      <td>Leander Kahney</td>\n",
       "      <td>Inside Steve's Brain</td>\n",
       "      <td>320</td>\n",
       "      <td>florian</td>\n",
       "      <td>English</td>\n",
       "      <td>Male</td>\n",
       "      <td>nonfiction</td>\n",
       "    </tr>\n",
       "    <tr>\n",
       "      <th>176</th>\n",
       "      <td>book</td>\n",
       "      <td>Some kind of biography about Richard Stallman ...</td>\n",
       "      <td>2013-02-12</td>\n",
       "      <td>1457</td>\n",
       "      <td>False</td>\n",
       "      <td>False</td>\n",
       "      <td>4.0</td>\n",
       "      <td>[author_m, nonfiction, tech, biography, english]</td>\n",
       "      <td>finished</td>\n",
       "      <td>/eintrag/1457</td>\n",
       "      <td>Sam Williams</td>\n",
       "      <td>Free as in Freedom</td>\n",
       "      <td>264</td>\n",
       "      <td>florian</td>\n",
       "      <td>English</td>\n",
       "      <td>Male</td>\n",
       "      <td>nonfiction</td>\n",
       "    </tr>\n",
       "    <tr>\n",
       "      <th>177</th>\n",
       "      <td>book</td>\n",
       "      <td>Interessant zu erfahren, dass manchmal eine sp...</td>\n",
       "      <td>2013-01-23</td>\n",
       "      <td>1019</td>\n",
       "      <td>False</td>\n",
       "      <td>False</td>\n",
       "      <td>3.0</td>\n",
       "      <td>[author_m, nonfiction, english]</td>\n",
       "      <td>finished</td>\n",
       "      <td>/eintrag/1019</td>\n",
       "      <td>Malcolm Gladwell</td>\n",
       "      <td>Blink!</td>\n",
       "      <td>304</td>\n",
       "      <td>florian</td>\n",
       "      <td>English</td>\n",
       "      <td>Male</td>\n",
       "      <td>nonfiction</td>\n",
       "    </tr>\n",
       "    <tr>\n",
       "      <th>178</th>\n",
       "      <td>book</td>\n",
       "      <td>Tolle Atmosphäre im Berlin der 1920er Jahre. S...</td>\n",
       "      <td>2013-01-07</td>\n",
       "      <td>1004</td>\n",
       "      <td>False</td>\n",
       "      <td>False</td>\n",
       "      <td>4.0</td>\n",
       "      <td>[german, fiction, novel, author_m, crime]</td>\n",
       "      <td>finished</td>\n",
       "      <td>/eintrag/1004</td>\n",
       "      <td>Volker Kutscher</td>\n",
       "      <td>Der nasse Fisch</td>\n",
       "      <td>560</td>\n",
       "      <td>florian</td>\n",
       "      <td>German</td>\n",
       "      <td>Male</td>\n",
       "      <td>fiction</td>\n",
       "    </tr>\n",
       "  </tbody>\n",
       "</table>\n",
       "<p>178 rows × 17 columns</p>\n",
       "</div>"
      ],
      "text/plain": [
       "      book_type                                            comment       date  \\\n",
       "0          book  An intense memoir about a childhood that was d... 2021-12-06   \n",
       "1    audio_book  Meine jährliche Dosis Tolkien, das macht mich ... 2021-11-28   \n",
       "2          book  Der Inhalt der Texte ist natürlich gut. Aber d... 2021-11-14   \n",
       "3          book  Ich habe gelernt: Es gibt das Genre „Weinkrimi... 2021-10-18   \n",
       "4          book  Kompakte Übersicht über das Thema \"Data Engine... 2021-10-10   \n",
       "..          ...                                                ...        ...   \n",
       "174        book  I've started reading through some of the class... 2013-02-25   \n",
       "175        book  Interesting read to learn about Apple's histor... 2013-02-22   \n",
       "176        book  Some kind of biography about Richard Stallman ... 2013-02-12   \n",
       "177        book  Interessant zu erfahren, dass manchmal eine sp... 2013-01-23   \n",
       "178        book  Tolle Atmosphäre im Berlin der 1920er Jahre. S... 2013-01-07   \n",
       "\n",
       "        id  pinned  private  rating  \\\n",
       "0    46975   False    False     5.0   \n",
       "1    46936   False    False     5.0   \n",
       "2    46737   False    False     2.0   \n",
       "3    44373   False    False     3.0   \n",
       "4    44298   False    False     3.0   \n",
       "..     ...     ...      ...     ...   \n",
       "174   1583   False    False     5.0   \n",
       "175   1552   False    False     3.0   \n",
       "176   1457   False    False     4.0   \n",
       "177   1019   False    False     3.0   \n",
       "178   1004   False    False     4.0   \n",
       "\n",
       "                                                 tags      type  \\\n",
       "0          [author_f, english, nonfiction, biography]  finished   \n",
       "1                [german, author_m, fiction, fantasy]  finished   \n",
       "2                      [german, nonfiction, author_f]  finished   \n",
       "3               [german, nonfiction, author_m, novel]  finished   \n",
       "4             [english, author_m, nonfiction, coding]  finished   \n",
       "..                                                ...       ...   \n",
       "174        [author_m, fiction, novel, scifi, english]  finished   \n",
       "175  [author_m, nonfiction, tech, biography, english]  finished   \n",
       "176  [author_m, nonfiction, tech, biography, english]  finished   \n",
       "177                   [author_m, nonfiction, english]  finished   \n",
       "178         [german, fiction, novel, author_m, crime]  finished   \n",
       "\n",
       "                url            author  \\\n",
       "0    /eintrag/46975     Tara Westover   \n",
       "1    /eintrag/46936  J. R. R. Tolkien   \n",
       "2    /eintrag/46737    Greta Thunberg   \n",
       "3    /eintrag/44373   Michael Böckler   \n",
       "4    /eintrag/44298       Ted Malaska   \n",
       "..              ...               ...   \n",
       "174   /eintrag/1583        H.G. Wells   \n",
       "175   /eintrag/1552    Leander Kahney   \n",
       "176   /eintrag/1457      Sam Williams   \n",
       "177   /eintrag/1019  Malcolm Gladwell   \n",
       "178   /eintrag/1004   Volker Kutscher   \n",
       "\n",
       "                                                 title  book_pages username  \\\n",
       "0                                             Educated         352  florian   \n",
       "1                   Der Herr  der Ringe: Die Gefährten         526  florian   \n",
       "2                 Ich will, dass ihr in Panik geratet!         112  florian   \n",
       "3                                       Tod oder Reben         432  florian   \n",
       "4    Rebuilding Reliable Data Pipelines Through Mod...          97  florian   \n",
       "..                                                 ...         ...      ...   \n",
       "174                                   The Time Machine         128  florian   \n",
       "175                               Inside Steve's Brain         320  florian   \n",
       "176                                 Free as in Freedom         264  florian   \n",
       "177                                             Blink!         304  florian   \n",
       "178                                    Der nasse Fisch         560  florian   \n",
       "\n",
       "    language author_gender       genre  \n",
       "0    English        Female  nonfiction  \n",
       "1     German          Male     fiction  \n",
       "2     German        Female  nonfiction  \n",
       "3     German          Male  nonfiction  \n",
       "4    English          Male  nonfiction  \n",
       "..       ...           ...         ...  \n",
       "174  English          Male     fiction  \n",
       "175  English          Male  nonfiction  \n",
       "176  English          Male  nonfiction  \n",
       "177  English          Male  nonfiction  \n",
       "178   German          Male     fiction  \n",
       "\n",
       "[178 rows x 17 columns]"
      ]
     },
     "execution_count": 7,
     "metadata": {},
     "output_type": "execute_result"
    }
   ],
   "source": [
    "def _author_gender(tags):\n",
    "    gender_tags = {\n",
    "        'author_m': 'Male',\n",
    "        'author_f': 'Female',\n",
    "        'author_d': 'Diverse / Multiple',\n",
    "    }\n",
    "    for tag in tags:\n",
    "        if tag.lower() in gender_tags:\n",
    "            return gender_tags[tag]\n",
    "    return 'Unknown'\n",
    "\n",
    "def _language(tags):\n",
    "    for lang in ('German', 'English'):\n",
    "        if lang.lower() in tags:\n",
    "            return lang\n",
    "    return 'Unknown'\n",
    "\n",
    "def _genre(tags):\n",
    "    nonfiction_tags = [\n",
    "        'nonfiction',\n",
    "        'history',\n",
    "        'finance',\n",
    "        'science',\n",
    "        'ww2',\n",
    "        'business',\n",
    "        'biography',\n",
    "        'coding',\n",
    "        'philosophy',\n",
    "        'feminism']\n",
    "    fiction_tags = [\n",
    "        'fiction',\n",
    "        'novel',\n",
    "        'fantasy']\n",
    "    \n",
    "    if any(t in tags for t in nonfiction_tags):\n",
    "        return 'nonfiction'\n",
    "    if any(t in tags for t in fiction_tags):\n",
    "        return 'fiction'\n",
    "    \n",
    "    return 'unknown'\n",
    "\n",
    "drop_keys = ['book', 'user']\n",
    "books_flat = [\n",
    "    {\n",
    "        **{k:v for k, v in book.items() if k not in drop_keys},\n",
    "        **{\n",
    "            'author': book['book']['authors'][0]['name'],\n",
    "            'title': book['book']['title'],\n",
    "            'book_pages': book['book']['pages'],\n",
    "            'username': book['user']['username'],\n",
    "            'language': _language(book.get('tags')),\n",
    "            'author_gender': _author_gender(book.get('tags')),\n",
    "            'genre': _genre(book.get('tags'))\n",
    "         }\n",
    "    }\n",
    "    for book in books['entries']\n",
    "]\n",
    "\n",
    "df = pd.DataFrame(books_flat)\n",
    "df['date'] = df.date.str.replace('00', '01')  # fallback dates were day not specified\n",
    "df['date'] = pd.to_datetime(df['date'], format='%Y-%m-%d')\n",
    "\n",
    "# ignore 'wished' items\n",
    "df = df[df.type=='finished']\n",
    "df"
   ]
  },
  {
   "cell_type": "code",
   "execution_count": null,
   "metadata": {},
   "outputs": [],
   "source": []
  },
  {
   "cell_type": "markdown",
   "metadata": {},
   "source": [
    "# Genre"
   ]
  },
  {
   "cell_type": "code",
   "execution_count": 8,
   "metadata": {},
   "outputs": [
    {
     "data": {
      "text/plain": [
       "fiction       95\n",
       "nonfiction    83\n",
       "Name: genre, dtype: int64"
      ]
     },
     "execution_count": 8,
     "metadata": {},
     "output_type": "execute_result"
    }
   ],
   "source": [
    "df.genre.value_counts()"
   ]
  },
  {
   "cell_type": "code",
   "execution_count": 9,
   "metadata": {},
   "outputs": [
    {
     "data": {
      "text/html": [
       "<div>\n",
       "<style scoped>\n",
       "    .dataframe tbody tr th:only-of-type {\n",
       "        vertical-align: middle;\n",
       "    }\n",
       "\n",
       "    .dataframe tbody tr th {\n",
       "        vertical-align: top;\n",
       "    }\n",
       "\n",
       "    .dataframe thead th {\n",
       "        text-align: right;\n",
       "    }\n",
       "</style>\n",
       "<table border=\"1\" class=\"dataframe\">\n",
       "  <thead>\n",
       "    <tr style=\"text-align: right;\">\n",
       "      <th></th>\n",
       "      <th>id</th>\n",
       "      <th>title</th>\n",
       "      <th>tags</th>\n",
       "    </tr>\n",
       "  </thead>\n",
       "  <tbody>\n",
       "  </tbody>\n",
       "</table>\n",
       "</div>"
      ],
      "text/plain": [
       "Empty DataFrame\n",
       "Columns: [id, title, tags]\n",
       "Index: []"
      ]
     },
     "execution_count": 9,
     "metadata": {},
     "output_type": "execute_result"
    }
   ],
   "source": [
    "df[df.genre=='unknown'].loc[:,['id', 'title', 'tags']]"
   ]
  },
  {
   "cell_type": "markdown",
   "metadata": {},
   "source": [
    "#  Mostly paper books, few audio books"
   ]
  },
  {
   "cell_type": "code",
   "execution_count": 7,
   "metadata": {},
   "outputs": [],
   "source": [
    "# df.book_type.value_counts().plot(kind='pie', leg)"
   ]
  },
  {
   "cell_type": "markdown",
   "metadata": {},
   "source": [
    "# How many books per year"
   ]
  },
  {
   "cell_type": "code",
   "execution_count": 10,
   "metadata": {},
   "outputs": [
    {
     "data": {
      "text/html": [
       "<div>\n",
       "<style scoped>\n",
       "    .dataframe tbody tr th:only-of-type {\n",
       "        vertical-align: middle;\n",
       "    }\n",
       "\n",
       "    .dataframe tbody tr th {\n",
       "        vertical-align: top;\n",
       "    }\n",
       "\n",
       "    .dataframe thead th {\n",
       "        text-align: right;\n",
       "    }\n",
       "</style>\n",
       "<table border=\"1\" class=\"dataframe\">\n",
       "  <thead>\n",
       "    <tr style=\"text-align: right;\">\n",
       "      <th></th>\n",
       "      <th>title</th>\n",
       "      <th>book_pages</th>\n",
       "    </tr>\n",
       "    <tr>\n",
       "      <th>year</th>\n",
       "      <th></th>\n",
       "      <th></th>\n",
       "    </tr>\n",
       "  </thead>\n",
       "  <tbody>\n",
       "    <tr>\n",
       "      <th>2013</th>\n",
       "      <td>24</td>\n",
       "      <td>6237</td>\n",
       "    </tr>\n",
       "    <tr>\n",
       "      <th>2014</th>\n",
       "      <td>13</td>\n",
       "      <td>4688</td>\n",
       "    </tr>\n",
       "    <tr>\n",
       "      <th>2015</th>\n",
       "      <td>8</td>\n",
       "      <td>3119</td>\n",
       "    </tr>\n",
       "    <tr>\n",
       "      <th>2016</th>\n",
       "      <td>15</td>\n",
       "      <td>5724</td>\n",
       "    </tr>\n",
       "    <tr>\n",
       "      <th>2017</th>\n",
       "      <td>23</td>\n",
       "      <td>8161</td>\n",
       "    </tr>\n",
       "    <tr>\n",
       "      <th>2018</th>\n",
       "      <td>20</td>\n",
       "      <td>6458</td>\n",
       "    </tr>\n",
       "    <tr>\n",
       "      <th>2019</th>\n",
       "      <td>29</td>\n",
       "      <td>9727</td>\n",
       "    </tr>\n",
       "    <tr>\n",
       "      <th>2020</th>\n",
       "      <td>24</td>\n",
       "      <td>9677</td>\n",
       "    </tr>\n",
       "    <tr>\n",
       "      <th>2021</th>\n",
       "      <td>22</td>\n",
       "      <td>7669</td>\n",
       "    </tr>\n",
       "  </tbody>\n",
       "</table>\n",
       "</div>"
      ],
      "text/plain": [
       "      title  book_pages\n",
       "year                   \n",
       "2013     24        6237\n",
       "2014     13        4688\n",
       "2015      8        3119\n",
       "2016     15        5724\n",
       "2017     23        8161\n",
       "2018     20        6458\n",
       "2019     29        9727\n",
       "2020     24        9677\n",
       "2021     22        7669"
      ]
     },
     "execution_count": 10,
     "metadata": {},
     "output_type": "execute_result"
    }
   ],
   "source": [
    "yearly_stats = (\n",
    "    df.assign(\n",
    "        year=lambda entry: entry['date'].dt.year\n",
    "    )\n",
    "    .groupby('year')[['title', 'book_pages']]\n",
    ").agg({\n",
    "    'title': 'count',\n",
    "    'book_pages': 'sum'\n",
    "})\n",
    "yearly_stats"
   ]
  },
  {
   "cell_type": "markdown",
   "metadata": {},
   "source": [
    "## How many _books_ have I read each year?"
   ]
  },
  {
   "cell_type": "code",
   "execution_count": 11,
   "metadata": {},
   "outputs": [
    {
     "data": {
      "text/plain": [
       "<matplotlib.axes._subplots.AxesSubplot at 0x7fbb71f76518>"
      ]
     },
     "execution_count": 11,
     "metadata": {},
     "output_type": "execute_result"
    },
    {
     "data": {
      "image/png": "[encoded data removed]",
      "text/plain": [
       "<Figure size 432x288 with 1 Axes>"
      ]
     },
     "metadata": {
      "needs_background": "light"
     },
     "output_type": "display_data"
    }
   ],
   "source": [
    "yearly_stats['title'].sort_index(ascending=False).plot(kind='bar')"
   ]
  },
  {
   "cell_type": "markdown",
   "metadata": {},
   "source": [
    "## How many _pages_ have I read each year?"
   ]
  },
  {
   "cell_type": "code",
   "execution_count": 12,
   "metadata": {},
   "outputs": [
    {
     "data": {
      "text/plain": [
       "<matplotlib.axes._subplots.AxesSubplot at 0x7fbb72630b00>"
      ]
     },
     "execution_count": 12,
     "metadata": {},
     "output_type": "execute_result"
    },
    {
     "data": {
      "image/png": "[encoded data removed]",
      "text/plain": [
       "<Figure size 432x288 with 1 Axes>"
      ]
     },
     "metadata": {
      "needs_background": "light"
     },
     "output_type": "display_data"
    }
   ],
   "source": [
    "yearly_stats['book_pages'].sort_index(ascending=False).plot(kind='bar')"
   ]
  },
  {
   "cell_type": "markdown",
   "metadata": {},
   "source": [
    "# What's the month where I read the most?"
   ]
  },
  {
   "cell_type": "code",
   "execution_count": 13,
   "metadata": {},
   "outputs": [
    {
     "data": {
      "text/plain": [
       "9"
      ]
     },
     "execution_count": 13,
     "metadata": {},
     "output_type": "execute_result"
    }
   ],
   "source": [
    "years = df.assign(\n",
    "    year=lambda entry: entry['date'].dt.year\n",
    ")['year']\n",
    "num_years = len(years.unique())\n",
    "num_years"
   ]
  },
  {
   "cell_type": "code",
   "execution_count": 14,
   "metadata": {},
   "outputs": [
    {
     "data": {
      "text/html": [
       "<div>\n",
       "<style scoped>\n",
       "    .dataframe tbody tr th:only-of-type {\n",
       "        vertical-align: middle;\n",
       "    }\n",
       "\n",
       "    .dataframe tbody tr th {\n",
       "        vertical-align: top;\n",
       "    }\n",
       "\n",
       "    .dataframe thead th {\n",
       "        text-align: right;\n",
       "    }\n",
       "</style>\n",
       "<table border=\"1\" class=\"dataframe\">\n",
       "  <thead>\n",
       "    <tr style=\"text-align: right;\">\n",
       "      <th></th>\n",
       "      <th>pages_per_month</th>\n",
       "      <th>books_per_month</th>\n",
       "    </tr>\n",
       "    <tr>\n",
       "      <th>month</th>\n",
       "      <th></th>\n",
       "      <th></th>\n",
       "    </tr>\n",
       "  </thead>\n",
       "  <tbody>\n",
       "    <tr>\n",
       "      <th>1</th>\n",
       "      <td>311.105263</td>\n",
       "      <td>2.111111</td>\n",
       "    </tr>\n",
       "    <tr>\n",
       "      <th>2</th>\n",
       "      <td>367.900000</td>\n",
       "      <td>2.222222</td>\n",
       "    </tr>\n",
       "    <tr>\n",
       "      <th>3</th>\n",
       "      <td>390.111111</td>\n",
       "      <td>1.000000</td>\n",
       "    </tr>\n",
       "    <tr>\n",
       "      <th>4</th>\n",
       "      <td>404.700000</td>\n",
       "      <td>1.111111</td>\n",
       "    </tr>\n",
       "    <tr>\n",
       "      <th>5</th>\n",
       "      <td>416.000000</td>\n",
       "      <td>1.111111</td>\n",
       "    </tr>\n",
       "    <tr>\n",
       "      <th>6</th>\n",
       "      <td>438.333333</td>\n",
       "      <td>0.666667</td>\n",
       "    </tr>\n",
       "    <tr>\n",
       "      <th>7</th>\n",
       "      <td>315.090909</td>\n",
       "      <td>1.222222</td>\n",
       "    </tr>\n",
       "    <tr>\n",
       "      <th>8</th>\n",
       "      <td>329.416667</td>\n",
       "      <td>1.333333</td>\n",
       "    </tr>\n",
       "    <tr>\n",
       "      <th>9</th>\n",
       "      <td>419.352941</td>\n",
       "      <td>1.888889</td>\n",
       "    </tr>\n",
       "    <tr>\n",
       "      <th>10</th>\n",
       "      <td>337.111111</td>\n",
       "      <td>2.000000</td>\n",
       "    </tr>\n",
       "    <tr>\n",
       "      <th>11</th>\n",
       "      <td>309.500000</td>\n",
       "      <td>2.000000</td>\n",
       "    </tr>\n",
       "    <tr>\n",
       "      <th>12</th>\n",
       "      <td>273.428571</td>\n",
       "      <td>3.111111</td>\n",
       "    </tr>\n",
       "  </tbody>\n",
       "</table>\n",
       "</div>"
      ],
      "text/plain": [
       "       pages_per_month  books_per_month\n",
       "month                                  \n",
       "1           311.105263         2.111111\n",
       "2           367.900000         2.222222\n",
       "3           390.111111         1.000000\n",
       "4           404.700000         1.111111\n",
       "5           416.000000         1.111111\n",
       "6           438.333333         0.666667\n",
       "7           315.090909         1.222222\n",
       "8           329.416667         1.333333\n",
       "9           419.352941         1.888889\n",
       "10          337.111111         2.000000\n",
       "11          309.500000         2.000000\n",
       "12          273.428571         3.111111"
      ]
     },
     "execution_count": 14,
     "metadata": {},
     "output_type": "execute_result"
    }
   ],
   "source": [
    "monthly_stats = (\n",
    "    df.assign(\n",
    "        month=lambda entry: entry['date'].dt.month\n",
    "    )\n",
    "    .groupby('month')[['title', 'book_pages']]\n",
    ").agg({\n",
    "    'title': 'count',  # FIXME: I need the mean of the count instead!\n",
    "    'book_pages': 'mean'\n",
    "}).rename(\n",
    "    columns={\n",
    "        'title': 'books_num_total',\n",
    "        'book_pages': 'pages_per_month'\n",
    "    }\n",
    ").assign(\n",
    "    books_per_month=lambda entry: (entry['books_num_total'] / num_years)\n",
    ")[\n",
    "    ['pages_per_month', 'books_per_month']\n",
    "]\n",
    "monthly_stats"
   ]
  },
  {
   "cell_type": "markdown",
   "metadata": {},
   "source": [
    "## December is when I read most books\n",
    "...to hit the reading goal?"
   ]
  },
  {
   "cell_type": "code",
   "execution_count": 15,
   "metadata": {},
   "outputs": [
    {
     "data": {
      "text/plain": [
       "<matplotlib.axes._subplots.AxesSubplot at 0x7fbb726fc048>"
      ]
     },
     "execution_count": 15,
     "metadata": {},
     "output_type": "execute_result"
    },
    {
     "data": {
      "image/png": "[encoded data removed]",
      "text/plain": [
       "<Figure size 432x288 with 1 Axes>"
      ]
     },
     "metadata": {
      "needs_background": "light"
     },
     "output_type": "display_data"
    }
   ],
   "source": [
    "monthly_stats['books_per_month'].sort_index().plot(kind='bar')"
   ]
  },
  {
   "cell_type": "markdown",
   "metadata": {},
   "source": [
    "## However, books read in December are shorter on average\n",
    "Is it easier to hit the reading goal that way?"
   ]
  },
  {
   "cell_type": "code",
   "execution_count": 16,
   "metadata": {},
   "outputs": [
    {
     "data": {
      "text/plain": [
       "<matplotlib.axes._subplots.AxesSubplot at 0x7fbb730400b8>"
      ]
     },
     "execution_count": 16,
     "metadata": {},
     "output_type": "execute_result"
    },
    {
     "data": {
      "image/png": "[encoded data removed]",
      "text/plain": [
       "<Figure size 432x288 with 1 Axes>"
      ]
     },
     "metadata": {
      "needs_background": "light"
     },
     "output_type": "display_data"
    }
   ],
   "source": [
    "monthly_stats['pages_per_month'].sort_index().plot(kind='bar')"
   ]
  },
  {
   "cell_type": "code",
   "execution_count": 15,
   "metadata": {},
   "outputs": [],
   "source": [
    "# Do I like the books I read?"
   ]
  },
  {
   "cell_type": "markdown",
   "metadata": {},
   "source": [
    "# Ratings"
   ]
  },
  {
   "cell_type": "code",
   "execution_count": 17,
   "metadata": {},
   "outputs": [
    {
     "data": {
      "text/plain": [
       "<matplotlib.axes._subplots.AxesSubplot at 0x7fbb73047f60>"
      ]
     },
     "execution_count": 17,
     "metadata": {},
     "output_type": "execute_result"
    },
    {
     "data": {
      "image/png": "[encoded data removed]",
      "text/plain": [
       "<Figure size 432x288 with 1 Axes>"
      ]
     },
     "metadata": {
      "needs_background": "light"
     },
     "output_type": "display_data"
    }
   ],
   "source": [
    "df_rated = (\n",
    "    df\n",
    "    [df.rating.notnull()]\n",
    "    [df.rating>0]\n",
    ")\n",
    "df_rated.rating.value_counts().sort_index().plot(kind='bar')"
   ]
  },
  {
   "cell_type": "code",
   "execution_count": 18,
   "metadata": {},
   "outputs": [
    {
     "name": "stdout",
     "output_type": "stream",
     "text": [
      "0\n",
      "0\n",
      "1\n"
     ]
    },
    {
     "data": {
      "text/html": [
       "<div>\n",
       "<style scoped>\n",
       "    .dataframe tbody tr th:only-of-type {\n",
       "        vertical-align: middle;\n",
       "    }\n",
       "\n",
       "    .dataframe tbody tr th {\n",
       "        vertical-align: top;\n",
       "    }\n",
       "\n",
       "    .dataframe thead th {\n",
       "        text-align: right;\n",
       "    }\n",
       "</style>\n",
       "<table border=\"1\" class=\"dataframe\">\n",
       "  <thead>\n",
       "    <tr style=\"text-align: right;\">\n",
       "      <th></th>\n",
       "      <th>book_type</th>\n",
       "      <th>comment</th>\n",
       "      <th>date</th>\n",
       "      <th>id</th>\n",
       "      <th>pinned</th>\n",
       "      <th>private</th>\n",
       "      <th>rating</th>\n",
       "      <th>tags</th>\n",
       "      <th>type</th>\n",
       "      <th>url</th>\n",
       "      <th>author</th>\n",
       "      <th>title</th>\n",
       "      <th>book_pages</th>\n",
       "      <th>username</th>\n",
       "      <th>language</th>\n",
       "      <th>author_gender</th>\n",
       "      <th>genre</th>\n",
       "    </tr>\n",
       "  </thead>\n",
       "  <tbody>\n",
       "    <tr>\n",
       "      <th>40</th>\n",
       "      <td>book</td>\n",
       "      <td>Read this as part of our \"Data Science Study G...</td>\n",
       "      <td>2020-07-13</td>\n",
       "      <td>37486</td>\n",
       "      <td>False</td>\n",
       "      <td>False</td>\n",
       "      <td>0.0</td>\n",
       "      <td>[english, science, tech, author_m, coding]</td>\n",
       "      <td>finished</td>\n",
       "      <td>/eintrag/37486</td>\n",
       "      <td>Steven S. Skiena</td>\n",
       "      <td>The Data Science Design Manual</td>\n",
       "      <td>445</td>\n",
       "      <td>florian</td>\n",
       "      <td>English</td>\n",
       "      <td>Male</td>\n",
       "      <td>nonfiction</td>\n",
       "    </tr>\n",
       "  </tbody>\n",
       "</table>\n",
       "</div>"
      ],
      "text/plain": [
       "   book_type                                            comment       date  \\\n",
       "40      book  Read this as part of our \"Data Science Study G... 2020-07-13   \n",
       "\n",
       "       id  pinned  private  rating  \\\n",
       "40  37486   False    False     0.0   \n",
       "\n",
       "                                          tags      type             url  \\\n",
       "40  [english, science, tech, author_m, coding]  finished  /eintrag/37486   \n",
       "\n",
       "              author                           title  book_pages username  \\\n",
       "40  Steven S. Skiena  The Data Science Design Manual         445  florian   \n",
       "\n",
       "   language author_gender       genre  \n",
       "40  English          Male  nonfiction  "
      ]
     },
     "execution_count": 18,
     "metadata": {},
     "output_type": "execute_result"
    }
   ],
   "source": [
    "# Odd: some non-rated books have rating None, some have rating 0.0\n",
    "print(len(df[df.rating.isna()]))\n",
    "print(len(df[df.rating.isnull()]))\n",
    "print(len(df[df.rating==0.0]))\n",
    "df[df.rating==0.0]"
   ]
  },
  {
   "cell_type": "markdown",
   "metadata": {},
   "source": [
    "## Distribution of book lengths"
   ]
  },
  {
   "cell_type": "code",
   "execution_count": 19,
   "metadata": {},
   "outputs": [
    {
     "data": {
      "text/plain": [
       "<matplotlib.axes._subplots.AxesSubplot at 0x7fbb731e7eb8>"
      ]
     },
     "execution_count": 19,
     "metadata": {},
     "output_type": "execute_result"
    },
    {
     "data": {
      "image/png": "[encoded data removed]",
      "text/plain": [
       "<Figure size 432x288 with 1 Axes>"
      ]
     },
     "metadata": {
      "needs_background": "light"
     },
     "output_type": "display_data"
    }
   ],
   "source": [
    "df_rated.book_pages.plot.hist(bins=20)"
   ]
  },
  {
   "cell_type": "markdown",
   "metadata": {},
   "source": [
    "## Do I rate longer books higher?"
   ]
  },
  {
   "cell_type": "code",
   "execution_count": 20,
   "metadata": {},
   "outputs": [
    {
     "data": {
      "text/plain": [
       "<matplotlib.axes._subplots.AxesSubplot at 0x7fbb732ee7f0>"
      ]
     },
     "execution_count": 20,
     "metadata": {},
     "output_type": "execute_result"
    },
    {
     "data": {
      "image/png": "[encoded data removed]",
      "text/plain": [
       "<Figure size 432x288 with 1 Axes>"
      ]
     },
     "metadata": {
      "needs_background": "light"
     },
     "output_type": "display_data"
    }
   ],
   "source": [
    "df_rated.plot.scatter(x='book_pages', y='rating')"
   ]
  },
  {
   "cell_type": "markdown",
   "metadata": {},
   "source": [
    "# Split books in short / medium / long"
   ]
  },
  {
   "cell_type": "code",
   "execution_count": 21,
   "metadata": {},
   "outputs": [
    {
     "data": {
      "text/plain": [
       "(271.0, 368.0]     63\n",
       "(58.999, 271.0]    60\n",
       "(368.0, 1080.0]    55\n",
       "Name: book_pages, dtype: int64"
      ]
     },
     "execution_count": 21,
     "metadata": {},
     "output_type": "execute_result"
    }
   ],
   "source": [
    "# auto split is not to my taste. \"long\" should start later\n",
    "pd.qcut(df.book_pages, 3).value_counts()"
   ]
  },
  {
   "cell_type": "code",
   "execution_count": 22,
   "metadata": {},
   "outputs": [
    {
     "data": {
      "text/plain": [
       "(228.0, 416.0]     89\n",
       "(58.999, 228.0]    45\n",
       "(416.0, 1080.0]    44\n",
       "Name: book_pages, dtype: int64"
      ]
     },
     "execution_count": 22,
     "metadata": {},
     "output_type": "execute_result"
    }
   ],
   "source": [
    "# I want to call the middle 50% \"Medium\" and distribute the other lengths equally to the sides\n",
    "pd.qcut(df.book_pages, [0, 0.25, 0.75, 1.]).value_counts()"
   ]
  },
  {
   "cell_type": "code",
   "execution_count": 23,
   "metadata": {},
   "outputs": [
    {
     "data": {
      "text/plain": [
       "Medium    89\n",
       "Short     45\n",
       "Long      44\n",
       "Name: book_pages, dtype: int64"
      ]
     },
     "execution_count": 23,
     "metadata": {},
     "output_type": "execute_result"
    }
   ],
   "source": [
    "# Now actually assign some names\n",
    "book_length = pd.qcut(df.book_pages, [0, 0.25, 0.75, 1.], labels=['Short', 'Medium', 'Long'])\n",
    "book_length.value_counts()"
   ]
  },
  {
   "cell_type": "markdown",
   "metadata": {},
   "source": [
    "# How do ratings vary by book length and paper vs. audio book (pivot table!)"
   ]
  },
  {
   "cell_type": "code",
   "execution_count": 24,
   "metadata": {},
   "outputs": [
    {
     "data": {
      "text/html": [
       "<div>\n",
       "<style scoped>\n",
       "    .dataframe tbody tr th:only-of-type {\n",
       "        vertical-align: middle;\n",
       "    }\n",
       "\n",
       "    .dataframe tbody tr th {\n",
       "        vertical-align: top;\n",
       "    }\n",
       "\n",
       "    .dataframe thead th {\n",
       "        text-align: right;\n",
       "    }\n",
       "</style>\n",
       "<table border=\"1\" class=\"dataframe\">\n",
       "  <thead>\n",
       "    <tr style=\"text-align: right;\">\n",
       "      <th>book_type</th>\n",
       "      <th>audio_book</th>\n",
       "      <th>book</th>\n",
       "    </tr>\n",
       "    <tr>\n",
       "      <th>book_length</th>\n",
       "      <th></th>\n",
       "      <th></th>\n",
       "    </tr>\n",
       "  </thead>\n",
       "  <tbody>\n",
       "    <tr>\n",
       "      <th>Short</th>\n",
       "      <td>NaN</td>\n",
       "      <td>3.688889</td>\n",
       "    </tr>\n",
       "    <tr>\n",
       "      <th>Medium</th>\n",
       "      <td>4.125</td>\n",
       "      <td>3.975309</td>\n",
       "    </tr>\n",
       "    <tr>\n",
       "      <th>Long</th>\n",
       "      <td>4.250</td>\n",
       "      <td>3.850000</td>\n",
       "    </tr>\n",
       "  </tbody>\n",
       "</table>\n",
       "</div>"
      ],
      "text/plain": [
       "book_type    audio_book      book\n",
       "book_length                      \n",
       "Short               NaN  3.688889\n",
       "Medium            4.125  3.975309\n",
       "Long              4.250  3.850000"
      ]
     },
     "execution_count": 24,
     "metadata": {},
     "output_type": "execute_result"
    }
   ],
   "source": [
    "rating_per_length_and_type = df.assign(\n",
    "    book_length=book_length\n",
    ").pivot_table(\n",
    "    values='rating',\n",
    "    index='book_length',\n",
    "    columns='book_type'\n",
    ")\n",
    "rating_per_length_and_type"
   ]
  },
  {
   "cell_type": "code",
   "execution_count": 25,
   "metadata": {},
   "outputs": [
    {
     "data": {
      "text/plain": [
       "<matplotlib.axes._subplots.AxesSubplot at 0x7fbb733d2278>"
      ]
     },
     "execution_count": 25,
     "metadata": {},
     "output_type": "execute_result"
    },
    {
     "data": {
      "image/png": "[encoded data removed]",
      "text/plain": [
       "<Figure size 432x288 with 1 Axes>"
      ]
     },
     "metadata": {
      "needs_background": "light"
     },
     "output_type": "display_data"
    }
   ],
   "source": [
    "rating_per_length_and_type.plot.bar()"
   ]
  },
  {
   "cell_type": "code",
   "execution_count": 26,
   "metadata": {},
   "outputs": [
    {
     "data": {
      "text/html": [
       "<div>\n",
       "<style scoped>\n",
       "    .dataframe tbody tr th:only-of-type {\n",
       "        vertical-align: middle;\n",
       "    }\n",
       "\n",
       "    .dataframe tbody tr th {\n",
       "        vertical-align: top;\n",
       "    }\n",
       "\n",
       "    .dataframe thead tr th {\n",
       "        text-align: left;\n",
       "    }\n",
       "\n",
       "    .dataframe thead tr:last-of-type th {\n",
       "        text-align: right;\n",
       "    }\n",
       "</style>\n",
       "<table border=\"1\" class=\"dataframe\">\n",
       "  <thead>\n",
       "    <tr>\n",
       "      <th></th>\n",
       "      <th colspan=\"2\" halign=\"left\">book_pages</th>\n",
       "    </tr>\n",
       "    <tr>\n",
       "      <th></th>\n",
       "      <th>mean</th>\n",
       "      <th>std</th>\n",
       "    </tr>\n",
       "    <tr>\n",
       "      <th>rating</th>\n",
       "      <th></th>\n",
       "      <th></th>\n",
       "    </tr>\n",
       "  </thead>\n",
       "  <tbody>\n",
       "    <tr>\n",
       "      <th>1.0</th>\n",
       "      <td>202.000000</td>\n",
       "      <td>0.000000</td>\n",
       "    </tr>\n",
       "    <tr>\n",
       "      <th>2.0</th>\n",
       "      <td>297.000000</td>\n",
       "      <td>163.594349</td>\n",
       "    </tr>\n",
       "    <tr>\n",
       "      <th>3.0</th>\n",
       "      <td>336.588235</td>\n",
       "      <td>197.600932</td>\n",
       "    </tr>\n",
       "    <tr>\n",
       "      <th>4.0</th>\n",
       "      <td>350.021978</td>\n",
       "      <td>195.866053</td>\n",
       "    </tr>\n",
       "    <tr>\n",
       "      <th>5.0</th>\n",
       "      <td>354.804878</td>\n",
       "      <td>143.483661</td>\n",
       "    </tr>\n",
       "  </tbody>\n",
       "</table>\n",
       "</div>"
      ],
      "text/plain": [
       "        book_pages            \n",
       "              mean         std\n",
       "rating                        \n",
       "1.0     202.000000    0.000000\n",
       "2.0     297.000000  163.594349\n",
       "3.0     336.588235  197.600932\n",
       "4.0     350.021978  195.866053\n",
       "5.0     354.804878  143.483661"
      ]
     },
     "execution_count": 26,
     "metadata": {},
     "output_type": "execute_result"
    }
   ],
   "source": [
    "pages_per_rating = df_rated[\n",
    "    ['rating', 'book_pages']\n",
    "].groupby('rating').agg(['mean', 'std']).fillna(0)\n",
    "pages_per_rating"
   ]
  },
  {
   "cell_type": "code",
   "execution_count": 27,
   "metadata": {},
   "outputs": [
    {
     "data": {
      "text/plain": [
       "<matplotlib.axes._subplots.AxesSubplot at 0x7fbb734e4f28>"
      ]
     },
     "execution_count": 27,
     "metadata": {},
     "output_type": "execute_result"
    },
    {
     "data": {
      "image/png": "[encoded data removed]",
      "text/plain": [
       "<Figure size 432x288 with 1 Axes>"
      ]
     },
     "metadata": {
      "needs_background": "light"
     },
     "output_type": "display_data"
    }
   ],
   "source": [
    "pages_per_rating.book_pages.plot.bar(y='mean', yerr='std')"
   ]
  },
  {
   "cell_type": "markdown",
   "metadata": {},
   "source": [
    "# Do I write longer comments for longer books?"
   ]
  },
  {
   "cell_type": "code",
   "execution_count": 28,
   "metadata": {},
   "outputs": [
    {
     "data": {
      "text/plain": [
       "<matplotlib.axes._subplots.AxesSubplot at 0x7fbb735a59e8>"
      ]
     },
     "execution_count": 28,
     "metadata": {},
     "output_type": "execute_result"
    },
    {
     "data": {
      "image/png": "[encoded data removed]",
      "text/plain": [
       "<Figure size 720x720 with 2 Axes>"
      ]
     },
     "metadata": {
      "needs_background": "light"
     },
     "output_type": "display_data"
    }
   ],
   "source": [
    "df.assign(\n",
    "    comment_length=lambda entry: entry.comment.str.len()\n",
    ").fillna(0).plot.scatter(\n",
    "    x='book_pages',\n",
    "    y='comment_length',\n",
    "    c='rating',\n",
    "    colormap='coolwarm_r',\n",
    "    figsize=(10,10),\n",
    "    s=50  # marker size\n",
    ")"
   ]
  },
  {
   "cell_type": "markdown",
   "metadata": {},
   "source": [
    "# Compare language and genre preferences over time\n",
    "Currently not all books are tagged"
   ]
  },
  {
   "cell_type": "code",
   "execution_count": 29,
   "metadata": {},
   "outputs": [
    {
     "name": "stdout",
     "output_type": "stream",
     "text": [
      "<a href=\"https://lesetagebu.ch/eintrag/39711/edit\">Edit book</a><br>\n",
      "<a href=\"https://lesetagebu.ch/eintrag/38297/edit\">Edit book</a><br>\n",
      "<a href=\"https://lesetagebu.ch/eintrag/19299/edit\">Edit book</a><br>\n",
      "<a href=\"https://lesetagebu.ch/eintrag/19285/edit\">Edit book</a><br>\n",
      "<a href=\"https://lesetagebu.ch/eintrag/19227/edit\">Edit book</a><br>\n",
      "<a href=\"https://lesetagebu.ch/eintrag/4626/edit\">Edit book</a><br>\n",
      "<a href=\"https://lesetagebu.ch/eintrag/4004/edit\">Edit book</a><br>\n"
     ]
    }
   ],
   "source": [
    "for _id in df[df.language=='Unknown']['id']:\n",
    "    print(f'<a href=\"https://lesetagebu.ch/eintrag/{_id}/edit\">Edit book</a><br>')\n"
   ]
  },
  {
   "cell_type": "code",
   "execution_count": 30,
   "metadata": {},
   "outputs": [
    {
     "data": {
      "text/html": [
       "<div>\n",
       "<style scoped>\n",
       "    .dataframe tbody tr th:only-of-type {\n",
       "        vertical-align: middle;\n",
       "    }\n",
       "\n",
       "    .dataframe tbody tr th {\n",
       "        vertical-align: top;\n",
       "    }\n",
       "\n",
       "    .dataframe thead th {\n",
       "        text-align: right;\n",
       "    }\n",
       "</style>\n",
       "<table border=\"1\" class=\"dataframe\">\n",
       "  <thead>\n",
       "    <tr style=\"text-align: right;\">\n",
       "      <th>language</th>\n",
       "      <th>English</th>\n",
       "      <th>German</th>\n",
       "      <th>Unknown</th>\n",
       "      <th>All</th>\n",
       "    </tr>\n",
       "    <tr>\n",
       "      <th>year</th>\n",
       "      <th></th>\n",
       "      <th></th>\n",
       "      <th></th>\n",
       "      <th></th>\n",
       "    </tr>\n",
       "  </thead>\n",
       "  <tbody>\n",
       "    <tr>\n",
       "      <th>2013</th>\n",
       "      <td>11</td>\n",
       "      <td>11</td>\n",
       "      <td>2</td>\n",
       "      <td>24</td>\n",
       "    </tr>\n",
       "    <tr>\n",
       "      <th>2014</th>\n",
       "      <td>8</td>\n",
       "      <td>5</td>\n",
       "      <td>0</td>\n",
       "      <td>13</td>\n",
       "    </tr>\n",
       "    <tr>\n",
       "      <th>2015</th>\n",
       "      <td>4</td>\n",
       "      <td>4</td>\n",
       "      <td>0</td>\n",
       "      <td>8</td>\n",
       "    </tr>\n",
       "    <tr>\n",
       "      <th>2016</th>\n",
       "      <td>10</td>\n",
       "      <td>5</td>\n",
       "      <td>0</td>\n",
       "      <td>15</td>\n",
       "    </tr>\n",
       "    <tr>\n",
       "      <th>2017</th>\n",
       "      <td>11</td>\n",
       "      <td>9</td>\n",
       "      <td>3</td>\n",
       "      <td>23</td>\n",
       "    </tr>\n",
       "    <tr>\n",
       "      <th>2018</th>\n",
       "      <td>9</td>\n",
       "      <td>11</td>\n",
       "      <td>0</td>\n",
       "      <td>20</td>\n",
       "    </tr>\n",
       "    <tr>\n",
       "      <th>2019</th>\n",
       "      <td>18</td>\n",
       "      <td>11</td>\n",
       "      <td>0</td>\n",
       "      <td>29</td>\n",
       "    </tr>\n",
       "    <tr>\n",
       "      <th>2020</th>\n",
       "      <td>18</td>\n",
       "      <td>5</td>\n",
       "      <td>1</td>\n",
       "      <td>24</td>\n",
       "    </tr>\n",
       "    <tr>\n",
       "      <th>2021</th>\n",
       "      <td>15</td>\n",
       "      <td>6</td>\n",
       "      <td>1</td>\n",
       "      <td>22</td>\n",
       "    </tr>\n",
       "    <tr>\n",
       "      <th>All</th>\n",
       "      <td>104</td>\n",
       "      <td>67</td>\n",
       "      <td>7</td>\n",
       "      <td>178</td>\n",
       "    </tr>\n",
       "  </tbody>\n",
       "</table>\n",
       "</div>"
      ],
      "text/plain": [
       "language  English  German  Unknown  All\n",
       "year                                   \n",
       "2013           11      11        2   24\n",
       "2014            8       5        0   13\n",
       "2015            4       4        0    8\n",
       "2016           10       5        0   15\n",
       "2017           11       9        3   23\n",
       "2018            9      11        0   20\n",
       "2019           18      11        0   29\n",
       "2020           18       5        1   24\n",
       "2021           15       6        1   22\n",
       "All           104      67        7  178"
      ]
     },
     "execution_count": 30,
     "metadata": {},
     "output_type": "execute_result"
    }
   ],
   "source": [
    "table_1 = pd.pivot_table(\n",
    "    df.assign(\n",
    "        year=lambda entry: entry['date'].dt.year\n",
    "    ),\n",
    "    index='year',\n",
    "    columns='language',\n",
    "    \n",
    "    # count number of books (=number of titles)\n",
    "    values='title',\n",
    "    aggfunc='count',\n",
    "    \n",
    "    # prepare so that we can calculate percentages in next step\n",
    "    fill_value=0,\n",
    "    margins=True\n",
    ")\n",
    "table_1"
   ]
  },
  {
   "cell_type": "code",
   "execution_count": 31,
   "metadata": {},
   "outputs": [
    {
     "data": {
      "text/html": [
       "<div>\n",
       "<style scoped>\n",
       "    .dataframe tbody tr th:only-of-type {\n",
       "        vertical-align: middle;\n",
       "    }\n",
       "\n",
       "    .dataframe tbody tr th {\n",
       "        vertical-align: top;\n",
       "    }\n",
       "\n",
       "    .dataframe thead th {\n",
       "        text-align: right;\n",
       "    }\n",
       "</style>\n",
       "<table border=\"1\" class=\"dataframe\">\n",
       "  <thead>\n",
       "    <tr style=\"text-align: right;\">\n",
       "      <th>language</th>\n",
       "      <th>English</th>\n",
       "      <th>German</th>\n",
       "      <th>Unknown</th>\n",
       "      <th>All</th>\n",
       "    </tr>\n",
       "    <tr>\n",
       "      <th>year</th>\n",
       "      <th></th>\n",
       "      <th></th>\n",
       "      <th></th>\n",
       "      <th></th>\n",
       "    </tr>\n",
       "  </thead>\n",
       "  <tbody>\n",
       "    <tr>\n",
       "      <th>2013</th>\n",
       "      <td>0.458333</td>\n",
       "      <td>0.458333</td>\n",
       "      <td>0.083333</td>\n",
       "      <td>1.0</td>\n",
       "    </tr>\n",
       "    <tr>\n",
       "      <th>2014</th>\n",
       "      <td>0.615385</td>\n",
       "      <td>0.384615</td>\n",
       "      <td>0.000000</td>\n",
       "      <td>1.0</td>\n",
       "    </tr>\n",
       "    <tr>\n",
       "      <th>2015</th>\n",
       "      <td>0.500000</td>\n",
       "      <td>0.500000</td>\n",
       "      <td>0.000000</td>\n",
       "      <td>1.0</td>\n",
       "    </tr>\n",
       "    <tr>\n",
       "      <th>2016</th>\n",
       "      <td>0.666667</td>\n",
       "      <td>0.333333</td>\n",
       "      <td>0.000000</td>\n",
       "      <td>1.0</td>\n",
       "    </tr>\n",
       "    <tr>\n",
       "      <th>2017</th>\n",
       "      <td>0.478261</td>\n",
       "      <td>0.391304</td>\n",
       "      <td>0.130435</td>\n",
       "      <td>1.0</td>\n",
       "    </tr>\n",
       "    <tr>\n",
       "      <th>2018</th>\n",
       "      <td>0.450000</td>\n",
       "      <td>0.550000</td>\n",
       "      <td>0.000000</td>\n",
       "      <td>1.0</td>\n",
       "    </tr>\n",
       "    <tr>\n",
       "      <th>2019</th>\n",
       "      <td>0.620690</td>\n",
       "      <td>0.379310</td>\n",
       "      <td>0.000000</td>\n",
       "      <td>1.0</td>\n",
       "    </tr>\n",
       "    <tr>\n",
       "      <th>2020</th>\n",
       "      <td>0.750000</td>\n",
       "      <td>0.208333</td>\n",
       "      <td>0.041667</td>\n",
       "      <td>1.0</td>\n",
       "    </tr>\n",
       "    <tr>\n",
       "      <th>2021</th>\n",
       "      <td>0.681818</td>\n",
       "      <td>0.272727</td>\n",
       "      <td>0.045455</td>\n",
       "      <td>1.0</td>\n",
       "    </tr>\n",
       "    <tr>\n",
       "      <th>All</th>\n",
       "      <td>0.584270</td>\n",
       "      <td>0.376404</td>\n",
       "      <td>0.039326</td>\n",
       "      <td>1.0</td>\n",
       "    </tr>\n",
       "  </tbody>\n",
       "</table>\n",
       "</div>"
      ],
      "text/plain": [
       "language   English    German   Unknown  All\n",
       "year                                       \n",
       "2013      0.458333  0.458333  0.083333  1.0\n",
       "2014      0.615385  0.384615  0.000000  1.0\n",
       "2015      0.500000  0.500000  0.000000  1.0\n",
       "2016      0.666667  0.333333  0.000000  1.0\n",
       "2017      0.478261  0.391304  0.130435  1.0\n",
       "2018      0.450000  0.550000  0.000000  1.0\n",
       "2019      0.620690  0.379310  0.000000  1.0\n",
       "2020      0.750000  0.208333  0.041667  1.0\n",
       "2021      0.681818  0.272727  0.045455  1.0\n",
       "All       0.584270  0.376404  0.039326  1.0"
      ]
     },
     "execution_count": 31,
     "metadata": {},
     "output_type": "execute_result"
    }
   ],
   "source": [
    "# Display percentages\n",
    "table_2 = table_1.div(table_1.All, axis=0)\n",
    "table_2"
   ]
  },
  {
   "cell_type": "code",
   "execution_count": 32,
   "metadata": {},
   "outputs": [
    {
     "data": {
      "text/plain": [
       "<matplotlib.axes._subplots.AxesSubplot at 0x7fbb73ac42b0>"
      ]
     },
     "execution_count": 32,
     "metadata": {},
     "output_type": "execute_result"
    },
    {
     "data": {
      "image/png": "[encoded data removed]",
      "text/plain": [
       "<Figure size 432x288 with 1 Axes>"
      ]
     },
     "metadata": {
      "needs_background": "light"
     },
     "output_type": "display_data"
    },
    {
     "data": {
      "image/png": "[encoded data removed]",
      "text/plain": [
       "<Figure size 432x288 with 1 Axes>"
      ]
     },
     "metadata": {
      "needs_background": "light"
     },
     "output_type": "display_data"
    }
   ],
   "source": [
    "tagged_years = table_2.loc[\n",
    "    [2013, 2014, 2015, 2016, 2017, 2018, 2019, 2020]\n",
    "][\n",
    "    ['English', 'German', 'Unknown']  # hide 'All'\n",
    "]\n",
    "tagged_years.plot.line()\n",
    "tagged_years.plot.bar(stacked=True)"
   ]
  },
  {
   "cell_type": "markdown",
   "metadata": {},
   "source": [
    "## Author gender distribution"
   ]
  },
  {
   "cell_type": "code",
   "execution_count": 33,
   "metadata": {},
   "outputs": [
    {
     "data": {
      "text/html": [
       "<div>\n",
       "<style scoped>\n",
       "    .dataframe tbody tr th:only-of-type {\n",
       "        vertical-align: middle;\n",
       "    }\n",
       "\n",
       "    .dataframe tbody tr th {\n",
       "        vertical-align: top;\n",
       "    }\n",
       "\n",
       "    .dataframe thead th {\n",
       "        text-align: right;\n",
       "    }\n",
       "</style>\n",
       "<table border=\"1\" class=\"dataframe\">\n",
       "  <thead>\n",
       "    <tr style=\"text-align: right;\">\n",
       "      <th>author_gender</th>\n",
       "      <th>Diverse / Multiple</th>\n",
       "      <th>Female</th>\n",
       "      <th>Male</th>\n",
       "      <th>All</th>\n",
       "    </tr>\n",
       "    <tr>\n",
       "      <th>year</th>\n",
       "      <th></th>\n",
       "      <th></th>\n",
       "      <th></th>\n",
       "      <th></th>\n",
       "    </tr>\n",
       "  </thead>\n",
       "  <tbody>\n",
       "    <tr>\n",
       "      <th>2013</th>\n",
       "      <td>0</td>\n",
       "      <td>3</td>\n",
       "      <td>21</td>\n",
       "      <td>24</td>\n",
       "    </tr>\n",
       "    <tr>\n",
       "      <th>2014</th>\n",
       "      <td>0</td>\n",
       "      <td>4</td>\n",
       "      <td>9</td>\n",
       "      <td>13</td>\n",
       "    </tr>\n",
       "    <tr>\n",
       "      <th>2015</th>\n",
       "      <td>0</td>\n",
       "      <td>0</td>\n",
       "      <td>8</td>\n",
       "      <td>8</td>\n",
       "    </tr>\n",
       "    <tr>\n",
       "      <th>2016</th>\n",
       "      <td>0</td>\n",
       "      <td>2</td>\n",
       "      <td>13</td>\n",
       "      <td>15</td>\n",
       "    </tr>\n",
       "    <tr>\n",
       "      <th>2017</th>\n",
       "      <td>0</td>\n",
       "      <td>4</td>\n",
       "      <td>19</td>\n",
       "      <td>23</td>\n",
       "    </tr>\n",
       "    <tr>\n",
       "      <th>2018</th>\n",
       "      <td>0</td>\n",
       "      <td>3</td>\n",
       "      <td>17</td>\n",
       "      <td>20</td>\n",
       "    </tr>\n",
       "    <tr>\n",
       "      <th>2019</th>\n",
       "      <td>1</td>\n",
       "      <td>5</td>\n",
       "      <td>23</td>\n",
       "      <td>29</td>\n",
       "    </tr>\n",
       "    <tr>\n",
       "      <th>2020</th>\n",
       "      <td>0</td>\n",
       "      <td>2</td>\n",
       "      <td>22</td>\n",
       "      <td>24</td>\n",
       "    </tr>\n",
       "    <tr>\n",
       "      <th>2021</th>\n",
       "      <td>1</td>\n",
       "      <td>10</td>\n",
       "      <td>11</td>\n",
       "      <td>22</td>\n",
       "    </tr>\n",
       "    <tr>\n",
       "      <th>All</th>\n",
       "      <td>2</td>\n",
       "      <td>33</td>\n",
       "      <td>143</td>\n",
       "      <td>178</td>\n",
       "    </tr>\n",
       "  </tbody>\n",
       "</table>\n",
       "</div>"
      ],
      "text/plain": [
       "author_gender  Diverse / Multiple  Female  Male  All\n",
       "year                                                \n",
       "2013                            0       3    21   24\n",
       "2014                            0       4     9   13\n",
       "2015                            0       0     8    8\n",
       "2016                            0       2    13   15\n",
       "2017                            0       4    19   23\n",
       "2018                            0       3    17   20\n",
       "2019                            1       5    23   29\n",
       "2020                            0       2    22   24\n",
       "2021                            1      10    11   22\n",
       "All                             2      33   143  178"
      ]
     },
     "execution_count": 33,
     "metadata": {},
     "output_type": "execute_result"
    }
   ],
   "source": [
    "table_gender_1 = pd.pivot_table(\n",
    "    df.assign(\n",
    "        year=lambda entry: entry['date'].dt.year\n",
    "    ),\n",
    "    index='year',\n",
    "    columns='author_gender',\n",
    "    \n",
    "    # count number of books (=number of titles)\n",
    "    values='title',\n",
    "    aggfunc='count',\n",
    "    \n",
    "    # prepare so that we can calculate percentages in next step\n",
    "    fill_value=0,\n",
    "    margins=True\n",
    ")\n",
    "table_gender_1"
   ]
  },
  {
   "cell_type": "code",
   "execution_count": 34,
   "metadata": {},
   "outputs": [
    {
     "data": {
      "text/html": [
       "<div>\n",
       "<style scoped>\n",
       "    .dataframe tbody tr th:only-of-type {\n",
       "        vertical-align: middle;\n",
       "    }\n",
       "\n",
       "    .dataframe tbody tr th {\n",
       "        vertical-align: top;\n",
       "    }\n",
       "\n",
       "    .dataframe thead th {\n",
       "        text-align: right;\n",
       "    }\n",
       "</style>\n",
       "<table border=\"1\" class=\"dataframe\">\n",
       "  <thead>\n",
       "    <tr style=\"text-align: right;\">\n",
       "      <th>author_gender</th>\n",
       "      <th>Diverse / Multiple</th>\n",
       "      <th>Female</th>\n",
       "      <th>Male</th>\n",
       "      <th>All</th>\n",
       "    </tr>\n",
       "    <tr>\n",
       "      <th>year</th>\n",
       "      <th></th>\n",
       "      <th></th>\n",
       "      <th></th>\n",
       "      <th></th>\n",
       "    </tr>\n",
       "  </thead>\n",
       "  <tbody>\n",
       "    <tr>\n",
       "      <th>2013</th>\n",
       "      <td>0.000000</td>\n",
       "      <td>0.125000</td>\n",
       "      <td>0.875000</td>\n",
       "      <td>1.0</td>\n",
       "    </tr>\n",
       "    <tr>\n",
       "      <th>2014</th>\n",
       "      <td>0.000000</td>\n",
       "      <td>0.307692</td>\n",
       "      <td>0.692308</td>\n",
       "      <td>1.0</td>\n",
       "    </tr>\n",
       "    <tr>\n",
       "      <th>2015</th>\n",
       "      <td>0.000000</td>\n",
       "      <td>0.000000</td>\n",
       "      <td>1.000000</td>\n",
       "      <td>1.0</td>\n",
       "    </tr>\n",
       "    <tr>\n",
       "      <th>2016</th>\n",
       "      <td>0.000000</td>\n",
       "      <td>0.133333</td>\n",
       "      <td>0.866667</td>\n",
       "      <td>1.0</td>\n",
       "    </tr>\n",
       "    <tr>\n",
       "      <th>2017</th>\n",
       "      <td>0.000000</td>\n",
       "      <td>0.173913</td>\n",
       "      <td>0.826087</td>\n",
       "      <td>1.0</td>\n",
       "    </tr>\n",
       "    <tr>\n",
       "      <th>2018</th>\n",
       "      <td>0.000000</td>\n",
       "      <td>0.150000</td>\n",
       "      <td>0.850000</td>\n",
       "      <td>1.0</td>\n",
       "    </tr>\n",
       "    <tr>\n",
       "      <th>2019</th>\n",
       "      <td>0.034483</td>\n",
       "      <td>0.172414</td>\n",
       "      <td>0.793103</td>\n",
       "      <td>1.0</td>\n",
       "    </tr>\n",
       "    <tr>\n",
       "      <th>2020</th>\n",
       "      <td>0.000000</td>\n",
       "      <td>0.083333</td>\n",
       "      <td>0.916667</td>\n",
       "      <td>1.0</td>\n",
       "    </tr>\n",
       "    <tr>\n",
       "      <th>2021</th>\n",
       "      <td>0.045455</td>\n",
       "      <td>0.454545</td>\n",
       "      <td>0.500000</td>\n",
       "      <td>1.0</td>\n",
       "    </tr>\n",
       "    <tr>\n",
       "      <th>All</th>\n",
       "      <td>0.011236</td>\n",
       "      <td>0.185393</td>\n",
       "      <td>0.803371</td>\n",
       "      <td>1.0</td>\n",
       "    </tr>\n",
       "  </tbody>\n",
       "</table>\n",
       "</div>"
      ],
      "text/plain": [
       "author_gender  Diverse / Multiple    Female      Male  All\n",
       "year                                                      \n",
       "2013                     0.000000  0.125000  0.875000  1.0\n",
       "2014                     0.000000  0.307692  0.692308  1.0\n",
       "2015                     0.000000  0.000000  1.000000  1.0\n",
       "2016                     0.000000  0.133333  0.866667  1.0\n",
       "2017                     0.000000  0.173913  0.826087  1.0\n",
       "2018                     0.000000  0.150000  0.850000  1.0\n",
       "2019                     0.034483  0.172414  0.793103  1.0\n",
       "2020                     0.000000  0.083333  0.916667  1.0\n",
       "2021                     0.045455  0.454545  0.500000  1.0\n",
       "All                      0.011236  0.185393  0.803371  1.0"
      ]
     },
     "execution_count": 34,
     "metadata": {},
     "output_type": "execute_result"
    }
   ],
   "source": [
    "# Display percentages\n",
    "table_gender_2 = table_gender_1.div(table_gender_1.All, axis=0)\n",
    "table_gender_2"
   ]
  },
  {
   "cell_type": "code",
   "execution_count": 36,
   "metadata": {},
   "outputs": [
    {
     "data": {
      "text/plain": [
       "<matplotlib.legend.Legend at 0x7fbb73c02780>"
      ]
     },
     "execution_count": 36,
     "metadata": {},
     "output_type": "execute_result"
    },
    {
     "data": {
      "image/png": "[encoded data removed]",
      "text/plain": [
       "<Figure size 432x288 with 1 Axes>"
      ]
     },
     "metadata": {
      "needs_background": "light"
     },
     "output_type": "display_data"
    },
    {
     "data": {
      "image/png": "[encoded data removed]",
      "text/plain": [
       "<Figure size 720x360 with 1 Axes>"
      ]
     },
     "metadata": {
      "needs_background": "light"
     },
     "output_type": "display_data"
    }
   ],
   "source": [
    "tagged_years = table_gender_2.loc[\n",
    "    [2013, 2014, 2015, 2016, 2017, 2018, 2019, 2020, 2021]\n",
    "][\n",
    "    ['Male', 'Female', 'Diverse / Multiple']  # hide 'All'\n",
    "]\n",
    "tagged_years.plot.line()\n",
    "ax = tagged_years.plot.bar(\n",
    "    title='Gender of the authors I have read over the years',\n",
    "    stacked=True,\n",
    "    yticks=([0, 0.25, 0.5, 0.75, 1.0]),\n",
    "    figsize=(10,5),\n",
    "#     colormap='tab20b'\n",
    ")\n",
    "ax.set_yticklabels(['0%', '25%', '50%', '75%', '100%'])\n",
    "ax.legend(loc='center left', bbox_to_anchor=(1.0, 0.5))\n",
    "\n"
   ]
  },
  {
   "cell_type": "code",
   "execution_count": null,
   "metadata": {},
   "outputs": [],
   "source": []
  }
 ],
 "metadata": {
  "kernelspec": {
   "display_name": "Python 3",
   "language": "python",
   "name": "python3"
  },
  "language_info": {
   "codemirror_mode": {
    "name": "ipython",
    "version": 3
   },
   "file_extension": ".py",
   "mimetype": "text/x-python",
   "name": "python",
   "nbconvert_exporter": "python",
   "pygments_lexer": "ipython3",
   "version": "3.7.0"
  }
 },
 "nbformat": 4,
 "nbformat_minor": 4
}
