{
 "cells": [
  {
   "cell_type": "code",
   "execution_count": 6,
   "metadata": {},
   "outputs": [],
   "source": [
    "from sklearn.datasets import load_wine"
   ]
  },
  {
   "cell_type": "code",
   "execution_count": 7,
   "metadata": {},
   "outputs": [],
   "source": [
    "from sklearn.linear_model import LogisticRegression"
   ]
  },
  {
   "cell_type": "code",
   "execution_count": 8,
   "metadata": {},
   "outputs": [],
   "source": [
    "from sklearn.preprocessing import StandardScaler"
   ]
  },
  {
   "cell_type": "code",
   "execution_count": 9,
   "metadata": {},
   "outputs": [],
   "source": [
    "import numpy as np"
   ]
  },
  {
   "cell_type": "markdown",
   "metadata": {},
   "source": [
    "## Dataset: Wine"
   ]
  },
  {
   "cell_type": "code",
   "execution_count": 10,
   "metadata": {},
   "outputs": [],
   "source": [
    "wine = load_wine(as_frame=True)"
   ]
  },
  {
   "cell_type": "code",
   "execution_count": 11,
   "metadata": {},
   "outputs": [
    {
     "data": {
      "text/plain": [
       "['DESCR', 'data', 'feature_names', 'frame', 'target', 'target_names']"
      ]
     },
     "execution_count": 11,
     "metadata": {},
     "output_type": "execute_result"
    }
   ],
   "source": [
    "dir(wine)"
   ]
  },
  {
   "cell_type": "markdown",
   "metadata": {},
   "source": [
    "The dataset contains 178 samples of wine, each with 13 features (each a chemical property)"
   ]
  },
  {
   "cell_type": "code",
   "execution_count": 12,
   "metadata": {},
   "outputs": [
    {
     "data": {
      "text/plain": [
       "(178, 13)"
      ]
     },
     "execution_count": 12,
     "metadata": {},
     "output_type": "execute_result"
    }
   ],
   "source": [
    "wine.data.shape"
   ]
  },
  {
   "cell_type": "markdown",
   "metadata": {},
   "source": [
    "There are three different wine in the dataset."
   ]
  },
  {
   "cell_type": "code",
   "execution_count": 13,
   "metadata": {},
   "outputs": [
    {
     "data": {
      "text/plain": [
       "{0, 1, 2}"
      ]
     },
     "execution_count": 13,
     "metadata": {},
     "output_type": "execute_result"
    }
   ],
   "source": [
    "set(wine.target)"
   ]
  },
  {
   "cell_type": "code",
   "execution_count": 14,
   "metadata": {},
   "outputs": [
    {
     "data": {
      "text/plain": [
       "array(['class_0', 'class_1', 'class_2'], dtype='<U7')"
      ]
     },
     "execution_count": 14,
     "metadata": {},
     "output_type": "execute_result"
    }
   ],
   "source": [
    "wine.target_names"
   ]
  },
  {
   "cell_type": "markdown",
   "metadata": {},
   "source": [
    "## Simplify dataset to binary classification\n",
    "\n",
    "To get started, let us simplify the dataset to contain only 2 classes, not 3. We simply discard wine_2."
   ]
  },
  {
   "cell_type": "code",
   "execution_count": 15,
   "metadata": {},
   "outputs": [
    {
     "data": {
      "text/html": [
       "<div>\n",
       "<style scoped>\n",
       "    .dataframe tbody tr th:only-of-type {\n",
       "        vertical-align: middle;\n",
       "    }\n",
       "\n",
       "    .dataframe tbody tr th {\n",
       "        vertical-align: top;\n",
       "    }\n",
       "\n",
       "    .dataframe thead th {\n",
       "        text-align: right;\n",
       "    }\n",
       "</style>\n",
       "<table border=\"1\" class=\"dataframe\">\n",
       "  <thead>\n",
       "    <tr style=\"text-align: right;\">\n",
       "      <th></th>\n",
       "      <th>alcohol</th>\n",
       "      <th>malic_acid</th>\n",
       "      <th>ash</th>\n",
       "      <th>alcalinity_of_ash</th>\n",
       "      <th>magnesium</th>\n",
       "      <th>total_phenols</th>\n",
       "      <th>flavanoids</th>\n",
       "      <th>nonflavanoid_phenols</th>\n",
       "      <th>proanthocyanins</th>\n",
       "      <th>color_intensity</th>\n",
       "      <th>hue</th>\n",
       "      <th>od280/od315_of_diluted_wines</th>\n",
       "      <th>proline</th>\n",
       "    </tr>\n",
       "  </thead>\n",
       "  <tbody>\n",
       "    <tr>\n",
       "      <th>0</th>\n",
       "      <td>14.23</td>\n",
       "      <td>1.71</td>\n",
       "      <td>2.43</td>\n",
       "      <td>15.6</td>\n",
       "      <td>127.0</td>\n",
       "      <td>2.80</td>\n",
       "      <td>3.06</td>\n",
       "      <td>0.28</td>\n",
       "      <td>2.29</td>\n",
       "      <td>5.64</td>\n",
       "      <td>1.04</td>\n",
       "      <td>3.92</td>\n",
       "      <td>1065.0</td>\n",
       "    </tr>\n",
       "    <tr>\n",
       "      <th>1</th>\n",
       "      <td>13.20</td>\n",
       "      <td>1.78</td>\n",
       "      <td>2.14</td>\n",
       "      <td>11.2</td>\n",
       "      <td>100.0</td>\n",
       "      <td>2.65</td>\n",
       "      <td>2.76</td>\n",
       "      <td>0.26</td>\n",
       "      <td>1.28</td>\n",
       "      <td>4.38</td>\n",
       "      <td>1.05</td>\n",
       "      <td>3.40</td>\n",
       "      <td>1050.0</td>\n",
       "    </tr>\n",
       "    <tr>\n",
       "      <th>2</th>\n",
       "      <td>13.16</td>\n",
       "      <td>2.36</td>\n",
       "      <td>2.67</td>\n",
       "      <td>18.6</td>\n",
       "      <td>101.0</td>\n",
       "      <td>2.80</td>\n",
       "      <td>3.24</td>\n",
       "      <td>0.30</td>\n",
       "      <td>2.81</td>\n",
       "      <td>5.68</td>\n",
       "      <td>1.03</td>\n",
       "      <td>3.17</td>\n",
       "      <td>1185.0</td>\n",
       "    </tr>\n",
       "    <tr>\n",
       "      <th>3</th>\n",
       "      <td>14.37</td>\n",
       "      <td>1.95</td>\n",
       "      <td>2.50</td>\n",
       "      <td>16.8</td>\n",
       "      <td>113.0</td>\n",
       "      <td>3.85</td>\n",
       "      <td>3.49</td>\n",
       "      <td>0.24</td>\n",
       "      <td>2.18</td>\n",
       "      <td>7.80</td>\n",
       "      <td>0.86</td>\n",
       "      <td>3.45</td>\n",
       "      <td>1480.0</td>\n",
       "    </tr>\n",
       "    <tr>\n",
       "      <th>4</th>\n",
       "      <td>13.24</td>\n",
       "      <td>2.59</td>\n",
       "      <td>2.87</td>\n",
       "      <td>21.0</td>\n",
       "      <td>118.0</td>\n",
       "      <td>2.80</td>\n",
       "      <td>2.69</td>\n",
       "      <td>0.39</td>\n",
       "      <td>1.82</td>\n",
       "      <td>4.32</td>\n",
       "      <td>1.04</td>\n",
       "      <td>2.93</td>\n",
       "      <td>735.0</td>\n",
       "    </tr>\n",
       "    <tr>\n",
       "      <th>...</th>\n",
       "      <td>...</td>\n",
       "      <td>...</td>\n",
       "      <td>...</td>\n",
       "      <td>...</td>\n",
       "      <td>...</td>\n",
       "      <td>...</td>\n",
       "      <td>...</td>\n",
       "      <td>...</td>\n",
       "      <td>...</td>\n",
       "      <td>...</td>\n",
       "      <td>...</td>\n",
       "      <td>...</td>\n",
       "      <td>...</td>\n",
       "    </tr>\n",
       "    <tr>\n",
       "      <th>125</th>\n",
       "      <td>12.07</td>\n",
       "      <td>2.16</td>\n",
       "      <td>2.17</td>\n",
       "      <td>21.0</td>\n",
       "      <td>85.0</td>\n",
       "      <td>2.60</td>\n",
       "      <td>2.65</td>\n",
       "      <td>0.37</td>\n",
       "      <td>1.35</td>\n",
       "      <td>2.76</td>\n",
       "      <td>0.86</td>\n",
       "      <td>3.28</td>\n",
       "      <td>378.0</td>\n",
       "    </tr>\n",
       "    <tr>\n",
       "      <th>126</th>\n",
       "      <td>12.43</td>\n",
       "      <td>1.53</td>\n",
       "      <td>2.29</td>\n",
       "      <td>21.5</td>\n",
       "      <td>86.0</td>\n",
       "      <td>2.74</td>\n",
       "      <td>3.15</td>\n",
       "      <td>0.39</td>\n",
       "      <td>1.77</td>\n",
       "      <td>3.94</td>\n",
       "      <td>0.69</td>\n",
       "      <td>2.84</td>\n",
       "      <td>352.0</td>\n",
       "    </tr>\n",
       "    <tr>\n",
       "      <th>127</th>\n",
       "      <td>11.79</td>\n",
       "      <td>2.13</td>\n",
       "      <td>2.78</td>\n",
       "      <td>28.5</td>\n",
       "      <td>92.0</td>\n",
       "      <td>2.13</td>\n",
       "      <td>2.24</td>\n",
       "      <td>0.58</td>\n",
       "      <td>1.76</td>\n",
       "      <td>3.00</td>\n",
       "      <td>0.97</td>\n",
       "      <td>2.44</td>\n",
       "      <td>466.0</td>\n",
       "    </tr>\n",
       "    <tr>\n",
       "      <th>128</th>\n",
       "      <td>12.37</td>\n",
       "      <td>1.63</td>\n",
       "      <td>2.30</td>\n",
       "      <td>24.5</td>\n",
       "      <td>88.0</td>\n",
       "      <td>2.22</td>\n",
       "      <td>2.45</td>\n",
       "      <td>0.40</td>\n",
       "      <td>1.90</td>\n",
       "      <td>2.12</td>\n",
       "      <td>0.89</td>\n",
       "      <td>2.78</td>\n",
       "      <td>342.0</td>\n",
       "    </tr>\n",
       "    <tr>\n",
       "      <th>129</th>\n",
       "      <td>12.04</td>\n",
       "      <td>4.30</td>\n",
       "      <td>2.38</td>\n",
       "      <td>22.0</td>\n",
       "      <td>80.0</td>\n",
       "      <td>2.10</td>\n",
       "      <td>1.75</td>\n",
       "      <td>0.42</td>\n",
       "      <td>1.35</td>\n",
       "      <td>2.60</td>\n",
       "      <td>0.79</td>\n",
       "      <td>2.57</td>\n",
       "      <td>580.0</td>\n",
       "    </tr>\n",
       "  </tbody>\n",
       "</table>\n",
       "<p>130 rows × 13 columns</p>\n",
       "</div>"
      ],
      "text/plain": [
       "     alcohol  malic_acid   ash  alcalinity_of_ash  magnesium  total_phenols  \\\n",
       "0      14.23        1.71  2.43               15.6      127.0           2.80   \n",
       "1      13.20        1.78  2.14               11.2      100.0           2.65   \n",
       "2      13.16        2.36  2.67               18.6      101.0           2.80   \n",
       "3      14.37        1.95  2.50               16.8      113.0           3.85   \n",
       "4      13.24        2.59  2.87               21.0      118.0           2.80   \n",
       "..       ...         ...   ...                ...        ...            ...   \n",
       "125    12.07        2.16  2.17               21.0       85.0           2.60   \n",
       "126    12.43        1.53  2.29               21.5       86.0           2.74   \n",
       "127    11.79        2.13  2.78               28.5       92.0           2.13   \n",
       "128    12.37        1.63  2.30               24.5       88.0           2.22   \n",
       "129    12.04        4.30  2.38               22.0       80.0           2.10   \n",
       "\n",
       "     flavanoids  nonflavanoid_phenols  proanthocyanins  color_intensity   hue  \\\n",
       "0          3.06                  0.28             2.29             5.64  1.04   \n",
       "1          2.76                  0.26             1.28             4.38  1.05   \n",
       "2          3.24                  0.30             2.81             5.68  1.03   \n",
       "3          3.49                  0.24             2.18             7.80  0.86   \n",
       "4          2.69                  0.39             1.82             4.32  1.04   \n",
       "..          ...                   ...              ...              ...   ...   \n",
       "125        2.65                  0.37             1.35             2.76  0.86   \n",
       "126        3.15                  0.39             1.77             3.94  0.69   \n",
       "127        2.24                  0.58             1.76             3.00  0.97   \n",
       "128        2.45                  0.40             1.90             2.12  0.89   \n",
       "129        1.75                  0.42             1.35             2.60  0.79   \n",
       "\n",
       "     od280/od315_of_diluted_wines  proline  \n",
       "0                            3.92   1065.0  \n",
       "1                            3.40   1050.0  \n",
       "2                            3.17   1185.0  \n",
       "3                            3.45   1480.0  \n",
       "4                            2.93    735.0  \n",
       "..                            ...      ...  \n",
       "125                          3.28    378.0  \n",
       "126                          2.84    352.0  \n",
       "127                          2.44    466.0  \n",
       "128                          2.78    342.0  \n",
       "129                          2.57    580.0  \n",
       "\n",
       "[130 rows x 13 columns]"
      ]
     },
     "execution_count": 15,
     "metadata": {},
     "output_type": "execute_result"
    }
   ],
   "source": [
    "x_binary = wine.data[wine.target < 2]  # ignore wine 2\n",
    "x_binary"
   ]
  },
  {
   "cell_type": "code",
   "execution_count": 16,
   "metadata": {},
   "outputs": [
    {
     "data": {
      "text/plain": [
       "0      0\n",
       "1      0\n",
       "2      0\n",
       "3      0\n",
       "4      0\n",
       "      ..\n",
       "125    1\n",
       "126    1\n",
       "127    1\n",
       "128    1\n",
       "129    1\n",
       "Name: target, Length: 130, dtype: int64"
      ]
     },
     "execution_count": 16,
     "metadata": {},
     "output_type": "execute_result"
    }
   ],
   "source": [
    "y_binary = wine.target[wine.target < 2]\n",
    "y_binary"
   ]
  },
  {
   "cell_type": "markdown",
   "metadata": {},
   "source": [
    "## Preprocess data to ensure convergence"
   ]
  },
  {
   "cell_type": "code",
   "execution_count": 17,
   "metadata": {},
   "outputs": [
    {
     "data": {
      "text/plain": [
       "StandardScaler()"
      ]
     },
     "execution_count": 17,
     "metadata": {},
     "output_type": "execute_result"
    }
   ],
   "source": [
    "scaler = StandardScaler()\n",
    "scaler.fit(x_binary)"
   ]
  },
  {
   "cell_type": "code",
   "execution_count": 19,
   "metadata": {},
   "outputs": [
    {
     "data": {
      "text/plain": [
       "array([[ 1.452455  , -0.29441432,  0.30247764, ..., -0.11242761,\n",
       "         2.04002469,  0.782868  ],\n",
       "       [ 0.28906609, -0.21455828, -0.67719651, ..., -0.05291788,\n",
       "         0.94143735,  0.74015178],\n",
       "       [ 0.24388594,  0.4471061 ,  1.11324246, ..., -0.17193734,\n",
       "         0.45552372,  1.12459784],\n",
       "       ...,\n",
       "       [-1.30353427,  0.18472195,  1.484843  , ..., -0.52899571,\n",
       "        -1.0867239 , -0.92293343],\n",
       "       [-0.64842207, -0.38567837, -0.13668663, ..., -1.00507355,\n",
       "        -0.36841679, -1.27605426],\n",
       "       [-1.02115832,  2.66025935,  0.13356831, ..., -1.60017084,\n",
       "        -0.81207706, -0.59829008]])"
      ]
     },
     "execution_count": 19,
     "metadata": {},
     "output_type": "execute_result"
    }
   ],
   "source": [
    "# transform X into its z-scores (zero mean, and standard deviation of 1)\n",
    "x_binary_norm = scaler.transform(x_binary)\n",
    "x_binary_norm"
   ]
  },
  {
   "cell_type": "markdown",
   "metadata": {},
   "source": [
    "## Train binary classifier"
   ]
  },
  {
   "cell_type": "code",
   "execution_count": 20,
   "metadata": {},
   "outputs": [],
   "source": [
    "bin_classifier = LogisticRegression(random_state=0).fit(x_binary_norm, y_binary)"
   ]
  },
  {
   "cell_type": "markdown",
   "metadata": {},
   "source": [
    "## Using the classifier for prediction"
   ]
  },
  {
   "cell_type": "code",
   "execution_count": 23,
   "metadata": {},
   "outputs": [
    {
     "data": {
      "text/plain": [
       "array([0, 0, 0, 0, 0, 0, 0, 0, 0, 0, 0, 0, 0, 0, 0, 0, 0, 0, 0, 0, 0, 0,\n",
       "       0, 0, 0, 0, 0, 0, 0, 0, 0, 0, 0, 0, 0, 0, 0, 0, 0, 0, 0, 0, 0, 0,\n",
       "       0, 0, 0, 0, 0, 0, 0, 0, 0, 0, 0, 0, 0, 0, 0, 1, 1, 1, 1, 1, 1, 1,\n",
       "       1, 1, 1, 1, 1, 1, 1, 1, 1, 1, 1, 1, 1, 1, 1, 1, 1, 1, 1, 1, 1, 1,\n",
       "       1, 1, 1, 1, 1, 1, 1, 1, 1, 1, 1, 1, 1, 1, 1, 1, 1, 1, 1, 1, 1, 1,\n",
       "       1, 1, 1, 1, 1, 1, 1, 1, 1, 1, 1, 1, 1, 1, 1, 1, 1, 1, 1, 1])"
      ]
     },
     "execution_count": 23,
     "metadata": {},
     "output_type": "execute_result"
    }
   ],
   "source": [
    "bin_classifier.predict(x_binary_norm)\n",
    "# >>> clf.predict(X[:2, :])\n",
    "# array([0, 0])\n",
    "# >>> clf.predict_proba(X[:2, :])\n",
    "# array([[9.8...e-01, 1.8...e-02, 1.4...e-08],\n",
    "#        [9.7...e-01, 2.8...e-02, ...e-08]])\n",
    "# >>> clf.score(X, y)\n",
    "# 0.97..."
   ]
  },
  {
   "cell_type": "code",
   "execution_count": 24,
   "metadata": {},
   "outputs": [
    {
     "data": {
      "text/plain": [
       "1.0"
      ]
     },
     "execution_count": 24,
     "metadata": {},
     "output_type": "execute_result"
    }
   ],
   "source": [
    "bin_classifier.score(x_binary_norm, y_binary)"
   ]
  },
  {
   "cell_type": "markdown",
   "metadata": {},
   "source": [
    "## Which features does the model take into account the most?"
   ]
  },
  {
   "cell_type": "code",
   "execution_count": 25,
   "metadata": {},
   "outputs": [
    {
     "data": {
      "text/plain": [
       "(1, 13)"
      ]
     },
     "execution_count": 25,
     "metadata": {},
     "output_type": "execute_result"
    }
   ],
   "source": [
    "bin_classifier.coef_.shape"
   ]
  },
  {
   "cell_type": "code",
   "execution_count": 26,
   "metadata": {},
   "outputs": [
    {
     "name": "stdout",
     "output_type": "stream",
     "text": [
      "0.21404 alcohol\n",
      "0.61018 malic_acid\n",
      "0.37851 ash\n",
      "3.45508 alcalinity_of_ash\n",
      "0.78857 magnesium\n",
      "0.96703 total_phenols\n",
      "0.71856 flavanoids\n",
      "1.19135 nonflavanoid_phenols\n",
      "1.20535 proanthocyanins\n",
      "0.45094 color_intensity\n",
      "1.16339 hue\n",
      "0.53400 od280/od315_of_diluted_wines\n",
      "0.16310 proline\n"
     ]
    }
   ],
   "source": [
    "for coef, feat in zip(np.exp(bin_classifier.coef_[0]), wine.feature_names):\n",
    "    print(f\"{coef:.5f} {feat}\")"
   ]
  },
  {
   "cell_type": "markdown",
   "metadata": {},
   "source": [
    "## Multi-class logistic regression"
   ]
  },
  {
   "cell_type": "code",
   "execution_count": 27,
   "metadata": {},
   "outputs": [
    {
     "data": {
      "text/plain": [
       "((178, 13), (178,))"
      ]
     },
     "execution_count": 27,
     "metadata": {},
     "output_type": "execute_result"
    }
   ],
   "source": [
    "# dataset\n",
    "x, y = wine.data, wine.target\n",
    "x.shape, y.shape"
   ]
  },
  {
   "cell_type": "code",
   "execution_count": 28,
   "metadata": {},
   "outputs": [],
   "source": [
    "# scale data\n",
    "multi_scaler = StandardScaler().fit(x)\n",
    "x_norm = multi_scaler.transform(x)"
   ]
  },
  {
   "cell_type": "code",
   "execution_count": 29,
   "metadata": {},
   "outputs": [],
   "source": [
    "multi_classifier = LogisticRegression(multi_class='ovr'  # ovr: one-vs-rest\n",
    "                                     ).fit(x_norm, y)"
   ]
  },
  {
   "cell_type": "code",
   "execution_count": 30,
   "metadata": {},
   "outputs": [
    {
     "data": {
      "text/plain": [
       "array([0, 0, 0, 0, 0, 0, 0, 0, 0, 0, 0, 0, 0, 0, 0, 0, 0, 0, 0, 0, 0, 0,\n",
       "       0, 0, 0, 0, 0, 0, 0, 0, 0, 0, 0, 0, 0, 0, 0, 0, 0, 0, 0, 0, 0, 0,\n",
       "       0, 0, 0, 0, 0, 0, 0, 0, 0, 0, 0, 0, 0, 0, 0, 1, 1, 1, 1, 1, 1, 1,\n",
       "       1, 1, 1, 1, 1, 1, 1, 1, 1, 1, 1, 1, 1, 1, 1, 1, 1, 1, 1, 1, 1, 1,\n",
       "       1, 1, 1, 1, 1, 1, 1, 1, 1, 1, 1, 1, 1, 1, 1, 1, 1, 1, 1, 1, 1, 1,\n",
       "       1, 1, 1, 1, 1, 1, 1, 1, 1, 1, 1, 1, 1, 1, 1, 1, 1, 1, 1, 1, 2, 2,\n",
       "       2, 2, 2, 2, 2, 2, 2, 2, 2, 2, 2, 2, 2, 2, 2, 2, 2, 2, 2, 2, 2, 2,\n",
       "       2, 2, 2, 2, 2, 2, 2, 2, 2, 2, 2, 2, 2, 2, 2, 2, 2, 2, 2, 2, 2, 2,\n",
       "       2, 2])"
      ]
     },
     "execution_count": 30,
     "metadata": {},
     "output_type": "execute_result"
    }
   ],
   "source": [
    "multi_classifier.predict(x_norm)"
   ]
  },
  {
   "cell_type": "code",
   "execution_count": 31,
   "metadata": {},
   "outputs": [
    {
     "name": "stdout",
     "output_type": "stream",
     "text": [
      "0.998  0.002  0.000\n",
      "0.968  0.032  0.000\n",
      "0.994  0.005  0.001\n",
      "0.997  0.000  0.003\n",
      "0.895  0.095  0.010\n",
      "0.998  0.000  0.002\n",
      "0.998  0.000  0.002\n",
      "0.992  0.000  0.008\n",
      "0.996  0.003  0.001\n",
      "0.997  0.002  0.001\n",
      "0.999  0.001  0.000\n",
      "0.994  0.003  0.004\n",
      "0.997  0.002  0.002\n",
      "0.998  0.002  0.000\n",
      "1.000  0.000  0.000\n",
      "0.994  0.000  0.006\n",
      "0.985  0.000  0.014\n",
      "0.991  0.003  0.006\n",
      "0.999  0.000  0.001\n",
      "0.994  0.003  0.003\n",
      "0.968  0.032  0.000\n",
      "0.944  0.052  0.003\n",
      "0.952  0.048  0.000\n",
      "0.883  0.117  0.001\n",
      "0.828  0.171  0.000\n",
      "0.801  0.192  0.007\n",
      "0.995  0.003  0.003\n",
      "0.968  0.028  0.004\n",
      "0.969  0.031  0.001\n",
      "0.985  0.015  0.001\n",
      "0.993  0.006  0.001\n",
      "0.997  0.001  0.002\n",
      "0.847  0.153  0.000\n",
      "0.990  0.005  0.005\n",
      "0.979  0.014  0.007\n",
      "0.914  0.085  0.001\n",
      "0.980  0.014  0.007\n",
      "0.948  0.046  0.006\n",
      "0.670  0.329  0.000\n",
      "0.996  0.001  0.003\n",
      "0.959  0.041  0.000\n",
      "0.960  0.033  0.007\n",
      "0.999  0.001  0.001\n",
      "0.889  0.098  0.013\n",
      "0.807  0.193  0.000\n",
      "0.962  0.000  0.037\n",
      "0.997  0.002  0.001\n",
      "0.990  0.010  0.000\n",
      "0.992  0.004  0.003\n",
      "0.998  0.000  0.002\n",
      "0.988  0.012  0.000\n",
      "0.997  0.002  0.000\n",
      "0.999  0.001  0.000\n",
      "0.993  0.000  0.007\n",
      "0.992  0.004  0.004\n",
      "0.992  0.005  0.004\n",
      "0.996  0.002  0.002\n",
      "0.996  0.001  0.003\n",
      "0.998  0.000  0.002\n",
      "0.001  0.992  0.007\n",
      "0.005  0.948  0.047\n",
      "0.001  0.779  0.220\n",
      "0.051  0.943  0.006\n",
      "0.022  0.978  0.000\n",
      "0.002  0.995  0.003\n",
      "0.087  0.911  0.001\n",
      "0.112  0.888  0.000\n",
      "0.005  0.994  0.001\n",
      "0.155  0.638  0.207\n",
      "0.013  0.987  0.000\n",
      "0.002  0.818  0.180\n",
      "0.114  0.886  0.000\n",
      "0.005  0.963  0.032\n",
      "0.206  0.794  0.000\n",
      "0.080  0.919  0.001\n",
      "0.000  0.997  0.003\n",
      "0.004  0.995  0.001\n",
      "0.003  0.963  0.034\n",
      "0.026  0.973  0.001\n",
      "0.029  0.970  0.000\n",
      "0.001  0.999  0.000\n",
      "0.134  0.866  0.000\n",
      "0.001  0.998  0.001\n",
      "0.002  0.577  0.421\n",
      "0.027  0.972  0.001\n",
      "0.024  0.975  0.000\n",
      "0.000  0.998  0.002\n",
      "0.001  0.998  0.001\n",
      "0.002  0.991  0.007\n",
      "0.001  0.998  0.001\n",
      "0.001  0.994  0.005\n",
      "0.000  0.985  0.015\n",
      "0.000  0.967  0.032\n",
      "0.015  0.985  0.000\n",
      "0.007  0.993  0.000\n",
      "0.153  0.847  0.000\n",
      "0.005  0.816  0.179\n",
      "0.011  0.989  0.000\n",
      "0.108  0.892  0.000\n",
      "0.024  0.976  0.000\n",
      "0.012  0.988  0.000\n",
      "0.002  0.995  0.003\n",
      "0.024  0.970  0.005\n",
      "0.000  0.998  0.002\n",
      "0.017  0.982  0.000\n",
      "0.001  0.993  0.006\n",
      "0.005  0.994  0.001\n",
      "0.001  0.970  0.030\n",
      "0.001  0.999  0.000\n",
      "0.087  0.913  0.000\n",
      "0.002  0.998  0.000\n",
      "0.003  0.995  0.002\n",
      "0.028  0.949  0.022\n",
      "0.000  0.998  0.002\n",
      "0.003  0.995  0.002\n",
      "0.000  1.000  0.000\n",
      "0.001  0.999  0.001\n",
      "0.001  0.998  0.001\n",
      "0.003  0.749  0.249\n",
      "0.004  0.995  0.001\n",
      "0.039  0.961  0.000\n",
      "0.097  0.903  0.000\n",
      "0.004  0.978  0.018\n",
      "0.055  0.939  0.006\n",
      "0.033  0.966  0.000\n",
      "0.004  0.996  0.001\n",
      "0.005  0.994  0.002\n",
      "0.000  0.983  0.017\n",
      "0.000  0.998  0.001\n",
      "0.004  0.940  0.056\n",
      "0.006  0.188  0.806\n",
      "0.003  0.054  0.943\n",
      "0.000  0.101  0.899\n",
      "0.002  0.078  0.919\n",
      "0.001  0.329  0.670\n",
      "0.001  0.049  0.949\n",
      "0.001  0.090  0.909\n",
      "0.000  0.138  0.861\n",
      "0.004  0.046  0.949\n",
      "0.002  0.198  0.800\n",
      "0.010  0.054  0.936\n",
      "0.036  0.007  0.957\n",
      "0.006  0.062  0.932\n",
      "0.035  0.052  0.912\n",
      "0.013  0.002  0.985\n",
      "0.005  0.039  0.956\n",
      "0.002  0.009  0.989\n",
      "0.005  0.001  0.994\n",
      "0.004  0.001  0.995\n",
      "0.003  0.001  0.996\n",
      "0.004  0.001  0.995\n",
      "0.001  0.000  0.998\n",
      "0.001  0.020  0.980\n",
      "0.007  0.000  0.993\n",
      "0.000  0.077  0.923\n",
      "0.003  0.001  0.995\n",
      "0.012  0.000  0.988\n",
      "0.001  0.010  0.989\n",
      "0.026  0.000  0.974\n",
      "0.007  0.000  0.993\n",
      "0.001  0.022  0.977\n",
      "0.046  0.006  0.948\n",
      "0.003  0.096  0.901\n",
      "0.012  0.015  0.973\n",
      "0.003  0.001  0.996\n",
      "0.002  0.015  0.984\n",
      "0.011  0.000  0.988\n",
      "0.004  0.001  0.995\n",
      "0.011  0.000  0.989\n",
      "0.030  0.000  0.970\n",
      "0.001  0.146  0.854\n",
      "0.000  0.003  0.996\n",
      "0.037  0.000  0.963\n",
      "0.061  0.000  0.939\n",
      "0.008  0.001  0.990\n",
      "0.022  0.000  0.978\n",
      "0.013  0.000  0.987\n",
      "0.012  0.000  0.988\n"
     ]
    }
   ],
   "source": [
    "for prob_0, prob_1, prob_2 in multi_classifier.predict_proba(x_norm):\n",
    "    print(f'{prob_0:.3f}  {prob_1:.3f}  {prob_2:.3f}')"
   ]
  },
  {
   "cell_type": "code",
   "execution_count": 32,
   "metadata": {},
   "outputs": [
    {
     "data": {
      "text/plain": [
       "1.0"
      ]
     },
     "execution_count": 32,
     "metadata": {},
     "output_type": "execute_result"
    }
   ],
   "source": [
    "multi_classifier.score(x_norm, y)"
   ]
  },
  {
   "cell_type": "markdown",
   "metadata": {},
   "source": [
    "## Multiclass logistic regression: Multinomial vs one-vs-rest\n",
    "\n",
    "Multinomial: https://en.wikipedia.org/wiki/Multinomial_logistic_regression\n",
    "TODO"
   ]
  },
  {
   "cell_type": "markdown",
   "metadata": {},
   "source": [
    "## Binary logistic regression with Keras"
   ]
  },
  {
   "cell_type": "code",
   "execution_count": 3,
   "metadata": {},
   "outputs": [],
   "source": [
    "from tensorflow import keras"
   ]
  },
  {
   "cell_type": "code",
   "execution_count": 47,
   "metadata": {},
   "outputs": [],
   "source": [
    "from matplotlib import pyplot as plt\n"
   ]
  },
  {
   "cell_type": "code",
   "execution_count": 35,
   "metadata": {},
   "outputs": [],
   "source": [
    "num_features = 13\n",
    "model_binary = keras.Sequential()\n",
    "model_binary.add(keras.layers.Dense(1, input_shape=(num_features,), activation='sigmoid'))"
   ]
  },
  {
   "cell_type": "code",
   "execution_count": 39,
   "metadata": {},
   "outputs": [],
   "source": []
  },
  {
   "cell_type": "code",
   "execution_count": 58,
   "metadata": {},
   "outputs": [],
   "source": [
    "# Without normalization: Tough\n",
    "model_binary.compile(optimizer='sgd', loss='binary_crossentropy', metrics=['binary_accuracy'])\n",
    "history_binary = model_binary.fit(\n",
    "  x=x_binary,\n",
    "  y=y_binary,\n",
    "  shuffle=True,\n",
    "  epochs=100,\n",
    "  batch_size=8,\n",
    "  verbose=0\n",
    ")"
   ]
  },
  {
   "cell_type": "code",
   "execution_count": 59,
   "metadata": {},
   "outputs": [],
   "source": [
    "# With normalized data: better!\n",
    "model_binary.compile(optimizer='sgd', loss='binary_crossentropy', metrics=['binary_accuracy'])\n",
    "history_binary_norm = model_binary.fit(\n",
    "  x=x_binary_norm,\n",
    "  y=y_binary,\n",
    "  shuffle=True,\n",
    "  epochs=100,\n",
    "  batch_size=8,\n",
    "  verbose=0\n",
    ")"
   ]
  },
  {
   "cell_type": "code",
   "execution_count": 60,
   "metadata": {},
   "outputs": [
    {
     "data": {
      "image/png": "[encoded data removed]",
      "text/plain": [
       "<Figure size 432x288 with 1 Axes>"
      ]
     },
     "metadata": {
      "needs_background": "light"
     },
     "output_type": "display_data"
    }
   ],
   "source": [
    "plt.plot(history_binary.history['binary_accuracy'], label='Accuracy (not normalized)')\n",
    "plt.plot(history_binary_norm.history['binary_accuracy'], label='Accuracy (normalized)')\n",
    "plt.title('Model accuracy')\n",
    "plt.ylabel('Accuracy')\n",
    "plt.xlabel('Epoch')\n",
    "plt.legend(loc='upper left')\n",
    "plt.show()"
   ]
  },
  {
   "cell_type": "code",
   "execution_count": null,
   "metadata": {},
   "outputs": [],
   "source": []
  }
 ],
 "metadata": {
  "kernelspec": {
   "display_name": "Python 3",
   "language": "python",
   "name": "python3"
  },
  "language_info": {
   "codemirror_mode": {
    "name": "ipython",
    "version": 3
   },
   "file_extension": ".py",
   "mimetype": "text/x-python",
   "name": "python",
   "nbconvert_exporter": "python",
   "pygments_lexer": "ipython3",
   "version": "3.7.0"
  }
 },
 "nbformat": 4,
 "nbformat_minor": 4
}
