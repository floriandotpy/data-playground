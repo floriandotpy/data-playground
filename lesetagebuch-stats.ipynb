{
 "cells": [
  {
   "cell_type": "code",
   "execution_count": 3,
   "metadata": {},
   "outputs": [],
   "source": [
    "import pandas as pd\n",
    "import json"
   ]
  },
  {
   "cell_type": "code",
   "execution_count": 38,
   "metadata": {},
   "outputs": [],
   "source": [
    "%matplotlib inline"
   ]
  },
  {
   "cell_type": "markdown",
   "metadata": {},
   "source": [
    "# Load data from json"
   ]
  },
  {
   "cell_type": "code",
   "execution_count": 4,
   "metadata": {},
   "outputs": [
    {
     "data": {
      "text/html": [
       "<div>\n",
       "<style scoped>\n",
       "    .dataframe tbody tr th:only-of-type {\n",
       "        vertical-align: middle;\n",
       "    }\n",
       "\n",
       "    .dataframe tbody tr th {\n",
       "        vertical-align: top;\n",
       "    }\n",
       "\n",
       "    .dataframe thead th {\n",
       "        text-align: right;\n",
       "    }\n",
       "</style>\n",
       "<table border=\"1\" class=\"dataframe\">\n",
       "  <thead>\n",
       "    <tr style=\"text-align: right;\">\n",
       "      <th></th>\n",
       "      <th>entries</th>\n",
       "      <th>name</th>\n",
       "      <th>url</th>\n",
       "      <th>username</th>\n",
       "    </tr>\n",
       "  </thead>\n",
       "  <tbody>\n",
       "    <tr>\n",
       "      <th>0</th>\n",
       "      <td>{'pinned': False, 'id': 38445, 'user': {'usern...</td>\n",
       "      <td>Florian</td>\n",
       "      <td>/von/florian</td>\n",
       "      <td>florian</td>\n",
       "    </tr>\n",
       "    <tr>\n",
       "      <th>1</th>\n",
       "      <td>{'pinned': False, 'id': 38441, 'user': {'usern...</td>\n",
       "      <td>Florian</td>\n",
       "      <td>/von/florian</td>\n",
       "      <td>florian</td>\n",
       "    </tr>\n",
       "    <tr>\n",
       "      <th>2</th>\n",
       "      <td>{'pinned': False, 'id': 38406, 'user': {'usern...</td>\n",
       "      <td>Florian</td>\n",
       "      <td>/von/florian</td>\n",
       "      <td>florian</td>\n",
       "    </tr>\n",
       "    <tr>\n",
       "      <th>3</th>\n",
       "      <td>{'pinned': False, 'id': 38405, 'user': {'usern...</td>\n",
       "      <td>Florian</td>\n",
       "      <td>/von/florian</td>\n",
       "      <td>florian</td>\n",
       "    </tr>\n",
       "    <tr>\n",
       "      <th>4</th>\n",
       "      <td>{'pinned': False, 'id': 38338, 'user': {'usern...</td>\n",
       "      <td>Florian</td>\n",
       "      <td>/von/florian</td>\n",
       "      <td>florian</td>\n",
       "    </tr>\n",
       "    <tr>\n",
       "      <th>...</th>\n",
       "      <td>...</td>\n",
       "      <td>...</td>\n",
       "      <td>...</td>\n",
       "      <td>...</td>\n",
       "    </tr>\n",
       "    <tr>\n",
       "      <th>148</th>\n",
       "      <td>{'pinned': False, 'id': 1457, 'user': {'userna...</td>\n",
       "      <td>Florian</td>\n",
       "      <td>/von/florian</td>\n",
       "      <td>florian</td>\n",
       "    </tr>\n",
       "    <tr>\n",
       "      <th>149</th>\n",
       "      <td>{'pinned': False, 'id': 1019, 'user': {'userna...</td>\n",
       "      <td>Florian</td>\n",
       "      <td>/von/florian</td>\n",
       "      <td>florian</td>\n",
       "    </tr>\n",
       "    <tr>\n",
       "      <th>150</th>\n",
       "      <td>{'pinned': False, 'id': 1004, 'user': {'userna...</td>\n",
       "      <td>Florian</td>\n",
       "      <td>/von/florian</td>\n",
       "      <td>florian</td>\n",
       "    </tr>\n",
       "    <tr>\n",
       "      <th>151</th>\n",
       "      <td>{'pinned': False, 'id': 992, 'user': {'usernam...</td>\n",
       "      <td>Florian</td>\n",
       "      <td>/von/florian</td>\n",
       "      <td>florian</td>\n",
       "    </tr>\n",
       "    <tr>\n",
       "      <th>152</th>\n",
       "      <td>{'pinned': False, 'id': 991, 'user': {'usernam...</td>\n",
       "      <td>Florian</td>\n",
       "      <td>/von/florian</td>\n",
       "      <td>florian</td>\n",
       "    </tr>\n",
       "  </tbody>\n",
       "</table>\n",
       "<p>153 rows × 4 columns</p>\n",
       "</div>"
      ],
      "text/plain": [
       "                                               entries     name           url  \\\n",
       "0    {'pinned': False, 'id': 38445, 'user': {'usern...  Florian  /von/florian   \n",
       "1    {'pinned': False, 'id': 38441, 'user': {'usern...  Florian  /von/florian   \n",
       "2    {'pinned': False, 'id': 38406, 'user': {'usern...  Florian  /von/florian   \n",
       "3    {'pinned': False, 'id': 38405, 'user': {'usern...  Florian  /von/florian   \n",
       "4    {'pinned': False, 'id': 38338, 'user': {'usern...  Florian  /von/florian   \n",
       "..                                                 ...      ...           ...   \n",
       "148  {'pinned': False, 'id': 1457, 'user': {'userna...  Florian  /von/florian   \n",
       "149  {'pinned': False, 'id': 1019, 'user': {'userna...  Florian  /von/florian   \n",
       "150  {'pinned': False, 'id': 1004, 'user': {'userna...  Florian  /von/florian   \n",
       "151  {'pinned': False, 'id': 992, 'user': {'usernam...  Florian  /von/florian   \n",
       "152  {'pinned': False, 'id': 991, 'user': {'usernam...  Florian  /von/florian   \n",
       "\n",
       "    username  \n",
       "0    florian  \n",
       "1    florian  \n",
       "2    florian  \n",
       "3    florian  \n",
       "4    florian  \n",
       "..       ...  \n",
       "148  florian  \n",
       "149  florian  \n",
       "150  florian  \n",
       "151  florian  \n",
       "152  florian  \n",
       "\n",
       "[153 rows x 4 columns]"
      ]
     },
     "execution_count": 4,
     "metadata": {},
     "output_type": "execute_result"
    }
   ],
   "source": [
    "DATA_PATH = 'data/lesetagebuch-florian.json'\n",
    "df = pd.read_json(DATA_PATH)\n",
    "df"
   ]
  },
  {
   "cell_type": "code",
   "execution_count": 6,
   "metadata": {},
   "outputs": [],
   "source": [
    "with open(DATA_PATH) as fp:\n",
    "    books = json.load(fp)\n"
   ]
  },
  {
   "cell_type": "markdown",
   "metadata": {},
   "source": [
    "# Set up dataframe with desired structure and types"
   ]
  },
  {
   "cell_type": "code",
   "execution_count": 13,
   "metadata": {},
   "outputs": [
    {
     "data": {
      "text/plain": [
       "{'book': {'author': {'id': 4662,\n",
       "   'name': 'J.L. Carr',\n",
       "   'url': '/autor/j-l-carr'},\n",
       "  'id': 9538,\n",
       "  'pages': 144,\n",
       "  'title': 'Ein Monat auf dem Land',\n",
       "  'url': '/buch/ein-monat-auf-dem-land'},\n",
       " 'book_type': 'book',\n",
       " 'comment': 'Eine kurze Geschichte. Schön geschrieben und angenehm wehmütig. Nicht aktiv traurig, eher nachdenklich. Ich mochte es sehr.',\n",
       " 'date': '2020-10-18',\n",
       " 'id': 38445,\n",
       " 'pinned': False,\n",
       " 'private': False,\n",
       " 'rating': 4,\n",
       " 'type': 'finished',\n",
       " 'url': '/eintrag/38445',\n",
       " 'user': {'username': 'florian'}}"
      ]
     },
     "execution_count": 13,
     "metadata": {},
     "output_type": "execute_result"
    }
   ],
   "source": [
    "books['entries'][0]"
   ]
  },
  {
   "cell_type": "code",
   "execution_count": 28,
   "metadata": {},
   "outputs": [
    {
     "data": {
      "text/html": [
       "<div>\n",
       "<style scoped>\n",
       "    .dataframe tbody tr th:only-of-type {\n",
       "        vertical-align: middle;\n",
       "    }\n",
       "\n",
       "    .dataframe tbody tr th {\n",
       "        vertical-align: top;\n",
       "    }\n",
       "\n",
       "    .dataframe thead th {\n",
       "        text-align: right;\n",
       "    }\n",
       "</style>\n",
       "<table border=\"1\" class=\"dataframe\">\n",
       "  <thead>\n",
       "    <tr style=\"text-align: right;\">\n",
       "      <th></th>\n",
       "      <th>author</th>\n",
       "      <th>book_pages</th>\n",
       "      <th>book_type</th>\n",
       "      <th>comment</th>\n",
       "      <th>date</th>\n",
       "      <th>id</th>\n",
       "      <th>pinned</th>\n",
       "      <th>private</th>\n",
       "      <th>rating</th>\n",
       "      <th>title</th>\n",
       "      <th>type</th>\n",
       "      <th>url</th>\n",
       "      <th>username</th>\n",
       "    </tr>\n",
       "  </thead>\n",
       "  <tbody>\n",
       "    <tr>\n",
       "      <th>0</th>\n",
       "      <td>J.L. Carr</td>\n",
       "      <td>144</td>\n",
       "      <td>book</td>\n",
       "      <td>Eine kurze Geschichte. Schön geschrieben und a...</td>\n",
       "      <td>2020-10-18</td>\n",
       "      <td>38445</td>\n",
       "      <td>False</td>\n",
       "      <td>False</td>\n",
       "      <td>4.0</td>\n",
       "      <td>Ein Monat auf dem Land</td>\n",
       "      <td>finished</td>\n",
       "      <td>/eintrag/38445</td>\n",
       "      <td>florian</td>\n",
       "    </tr>\n",
       "    <tr>\n",
       "      <th>1</th>\n",
       "      <td>James Clear</td>\n",
       "      <td>320</td>\n",
       "      <td>book</td>\n",
       "      <td>James Clear describes how habits work in your ...</td>\n",
       "      <td>2020-10-17</td>\n",
       "      <td>38441</td>\n",
       "      <td>False</td>\n",
       "      <td>False</td>\n",
       "      <td>4.0</td>\n",
       "      <td>Atomic Habits</td>\n",
       "      <td>finished</td>\n",
       "      <td>/eintrag/38441</td>\n",
       "      <td>florian</td>\n",
       "    </tr>\n",
       "    <tr>\n",
       "      <th>2</th>\n",
       "      <td>André Kostolany</td>\n",
       "      <td>240</td>\n",
       "      <td>audio_book</td>\n",
       "      <td>Ein Hauch vergangener Zeiten. Angenehmes Hörbu...</td>\n",
       "      <td>2020-06-30</td>\n",
       "      <td>38406</td>\n",
       "      <td>False</td>\n",
       "      <td>False</td>\n",
       "      <td>4.0</td>\n",
       "      <td>Die Kunst, über Geld nachzudenken</td>\n",
       "      <td>finished</td>\n",
       "      <td>/eintrag/38406</td>\n",
       "      <td>florian</td>\n",
       "    </tr>\n",
       "    <tr>\n",
       "      <th>3</th>\n",
       "      <td>Robert Harris</td>\n",
       "      <td>320</td>\n",
       "      <td>audio_book</td>\n",
       "      <td>I just finished the Von Braun biography 2 week...</td>\n",
       "      <td>2020-10-12</td>\n",
       "      <td>38405</td>\n",
       "      <td>False</td>\n",
       "      <td>False</td>\n",
       "      <td>4.0</td>\n",
       "      <td>V2</td>\n",
       "      <td>finished</td>\n",
       "      <td>/eintrag/38405</td>\n",
       "      <td>florian</td>\n",
       "    </tr>\n",
       "    <tr>\n",
       "      <th>4</th>\n",
       "      <td>Morgan Housel</td>\n",
       "      <td>256</td>\n",
       "      <td>book</td>\n",
       "      <td>I don't know how exactly to categorize this bo...</td>\n",
       "      <td>2020-10-06</td>\n",
       "      <td>38338</td>\n",
       "      <td>False</td>\n",
       "      <td>False</td>\n",
       "      <td>5.0</td>\n",
       "      <td>The Psychology of Money</td>\n",
       "      <td>finished</td>\n",
       "      <td>/eintrag/38338</td>\n",
       "      <td>florian</td>\n",
       "    </tr>\n",
       "    <tr>\n",
       "      <th>...</th>\n",
       "      <td>...</td>\n",
       "      <td>...</td>\n",
       "      <td>...</td>\n",
       "      <td>...</td>\n",
       "      <td>...</td>\n",
       "      <td>...</td>\n",
       "      <td>...</td>\n",
       "      <td>...</td>\n",
       "      <td>...</td>\n",
       "      <td>...</td>\n",
       "      <td>...</td>\n",
       "      <td>...</td>\n",
       "      <td>...</td>\n",
       "    </tr>\n",
       "    <tr>\n",
       "      <th>148</th>\n",
       "      <td>Sam Williams</td>\n",
       "      <td>264</td>\n",
       "      <td>book</td>\n",
       "      <td>Some kind of biography about Richard Stallman ...</td>\n",
       "      <td>2013-02-12</td>\n",
       "      <td>1457</td>\n",
       "      <td>False</td>\n",
       "      <td>False</td>\n",
       "      <td>4.0</td>\n",
       "      <td>Free as in Freedom</td>\n",
       "      <td>finished</td>\n",
       "      <td>/eintrag/1457</td>\n",
       "      <td>florian</td>\n",
       "    </tr>\n",
       "    <tr>\n",
       "      <th>149</th>\n",
       "      <td>Malcolm Gladwell</td>\n",
       "      <td>304</td>\n",
       "      <td>book</td>\n",
       "      <td>Interessant zu erfahren, dass manchmal eine sp...</td>\n",
       "      <td>2013-01-23</td>\n",
       "      <td>1019</td>\n",
       "      <td>False</td>\n",
       "      <td>False</td>\n",
       "      <td>3.0</td>\n",
       "      <td>Blink!</td>\n",
       "      <td>finished</td>\n",
       "      <td>/eintrag/1019</td>\n",
       "      <td>florian</td>\n",
       "    </tr>\n",
       "    <tr>\n",
       "      <th>150</th>\n",
       "      <td>Volker Kutscher</td>\n",
       "      <td>560</td>\n",
       "      <td>book</td>\n",
       "      <td>Tolle Atmosphäre im Berlin der 1920er Jahre. S...</td>\n",
       "      <td>2013-01-07</td>\n",
       "      <td>1004</td>\n",
       "      <td>False</td>\n",
       "      <td>False</td>\n",
       "      <td>4.0</td>\n",
       "      <td>Der nasse Fisch</td>\n",
       "      <td>finished</td>\n",
       "      <td>/eintrag/1004</td>\n",
       "      <td>florian</td>\n",
       "    </tr>\n",
       "    <tr>\n",
       "      <th>151</th>\n",
       "      <td>Joseph Campbell</td>\n",
       "      <td>418</td>\n",
       "      <td>book</td>\n",
       "      <td>None</td>\n",
       "      <td>2015-01-19</td>\n",
       "      <td>992</td>\n",
       "      <td>False</td>\n",
       "      <td>False</td>\n",
       "      <td>NaN</td>\n",
       "      <td>The Hero with a Thousand Faces</td>\n",
       "      <td>wished</td>\n",
       "      <td>/eintrag/992</td>\n",
       "      <td>florian</td>\n",
       "    </tr>\n",
       "    <tr>\n",
       "      <th>152</th>\n",
       "      <td>Philip K. Dick</td>\n",
       "      <td>208</td>\n",
       "      <td>book</td>\n",
       "      <td>None</td>\n",
       "      <td>2015-01-19</td>\n",
       "      <td>991</td>\n",
       "      <td>False</td>\n",
       "      <td>False</td>\n",
       "      <td>NaN</td>\n",
       "      <td>Do Androids Dream of Electric Sheep?</td>\n",
       "      <td>wished</td>\n",
       "      <td>/eintrag/991</td>\n",
       "      <td>florian</td>\n",
       "    </tr>\n",
       "  </tbody>\n",
       "</table>\n",
       "<p>153 rows × 13 columns</p>\n",
       "</div>"
      ],
      "text/plain": [
       "               author  book_pages   book_type  \\\n",
       "0           J.L. Carr         144        book   \n",
       "1         James Clear         320        book   \n",
       "2     André Kostolany         240  audio_book   \n",
       "3       Robert Harris         320  audio_book   \n",
       "4       Morgan Housel         256        book   \n",
       "..                ...         ...         ...   \n",
       "148      Sam Williams         264        book   \n",
       "149  Malcolm Gladwell         304        book   \n",
       "150   Volker Kutscher         560        book   \n",
       "151   Joseph Campbell         418        book   \n",
       "152    Philip K. Dick         208        book   \n",
       "\n",
       "                                               comment       date     id  \\\n",
       "0    Eine kurze Geschichte. Schön geschrieben und a... 2020-10-18  38445   \n",
       "1    James Clear describes how habits work in your ... 2020-10-17  38441   \n",
       "2    Ein Hauch vergangener Zeiten. Angenehmes Hörbu... 2020-06-30  38406   \n",
       "3    I just finished the Von Braun biography 2 week... 2020-10-12  38405   \n",
       "4    I don't know how exactly to categorize this bo... 2020-10-06  38338   \n",
       "..                                                 ...        ...    ...   \n",
       "148  Some kind of biography about Richard Stallman ... 2013-02-12   1457   \n",
       "149  Interessant zu erfahren, dass manchmal eine sp... 2013-01-23   1019   \n",
       "150  Tolle Atmosphäre im Berlin der 1920er Jahre. S... 2013-01-07   1004   \n",
       "151                                               None 2015-01-19    992   \n",
       "152                                               None 2015-01-19    991   \n",
       "\n",
       "     pinned  private  rating                                 title      type  \\\n",
       "0     False    False     4.0                Ein Monat auf dem Land  finished   \n",
       "1     False    False     4.0                         Atomic Habits  finished   \n",
       "2     False    False     4.0     Die Kunst, über Geld nachzudenken  finished   \n",
       "3     False    False     4.0                                    V2  finished   \n",
       "4     False    False     5.0               The Psychology of Money  finished   \n",
       "..      ...      ...     ...                                   ...       ...   \n",
       "148   False    False     4.0                    Free as in Freedom  finished   \n",
       "149   False    False     3.0                                Blink!  finished   \n",
       "150   False    False     4.0                       Der nasse Fisch  finished   \n",
       "151   False    False     NaN        The Hero with a Thousand Faces    wished   \n",
       "152   False    False     NaN  Do Androids Dream of Electric Sheep?    wished   \n",
       "\n",
       "                url username  \n",
       "0    /eintrag/38445  florian  \n",
       "1    /eintrag/38441  florian  \n",
       "2    /eintrag/38406  florian  \n",
       "3    /eintrag/38405  florian  \n",
       "4    /eintrag/38338  florian  \n",
       "..              ...      ...  \n",
       "148   /eintrag/1457  florian  \n",
       "149   /eintrag/1019  florian  \n",
       "150   /eintrag/1004  florian  \n",
       "151    /eintrag/992  florian  \n",
       "152    /eintrag/991  florian  \n",
       "\n",
       "[153 rows x 13 columns]"
      ]
     },
     "execution_count": 28,
     "metadata": {},
     "output_type": "execute_result"
    }
   ],
   "source": [
    "drop_keys = ['book', 'user']\n",
    "books_flat = [\n",
    "    {\n",
    "        **{k:v for k, v in book.items() if k not in drop_keys},\n",
    "        **{\n",
    "            'author': book['book']['author']['name'],\n",
    "            'title': book['book']['title'],\n",
    "            'book_pages': book['book']['pages'],\n",
    "            'username': book['user']['username']\n",
    "         }\n",
    "    }\n",
    "    for book in books['entries']\n",
    "]\n",
    "\n",
    "df = pd.DataFrame(books_flat)\n",
    "df['date'] = df.date.str.replace('00', '01')  # fallback dates were day not specified\n",
    "df['date'] = pd.to_datetime(df['date'], format='%Y-%m-%d')\n",
    "df"
   ]
  },
  {
   "cell_type": "code",
   "execution_count": 27,
   "metadata": {},
   "outputs": [
    {
     "data": {
      "text/plain": [
       "author                object\n",
       "book_pages             int64\n",
       "book_type             object\n",
       "comment               object\n",
       "date          datetime64[ns]\n",
       "id                     int64\n",
       "pinned                  bool\n",
       "private                 bool\n",
       "rating               float64\n",
       "title                 object\n",
       "type                  object\n",
       "url                   object\n",
       "username              object\n",
       "dtype: object"
      ]
     },
     "execution_count": 27,
     "metadata": {},
     "output_type": "execute_result"
    }
   ],
   "source": [
    "df.dtypes"
   ]
  },
  {
   "cell_type": "markdown",
   "metadata": {},
   "source": [
    "#  Mostly paper books, few audio books"
   ]
  },
  {
   "cell_type": "code",
   "execution_count": 101,
   "metadata": {},
   "outputs": [
    {
     "data": {
      "text/plain": [
       "<matplotlib.axes._subplots.AxesSubplot at 0x7f9a03d2a0b8>"
      ]
     },
     "execution_count": 101,
     "metadata": {},
     "output_type": "execute_result"
    },
    {
     "data": {
      "image/png": "[encoded data removed]",
      "text/plain": [
       "<Figure size 432x288 with 1 Axes>"
      ]
     },
     "metadata": {},
     "output_type": "display_data"
    }
   ],
   "source": [
    "df.book_type.value_counts().plot(kind='pie', leg)"
   ]
  },
  {
   "cell_type": "markdown",
   "metadata": {},
   "source": [
    "# How many books per year"
   ]
  },
  {
   "cell_type": "code",
   "execution_count": 68,
   "metadata": {},
   "outputs": [
    {
     "data": {
      "text/html": [
       "<div>\n",
       "<style scoped>\n",
       "    .dataframe tbody tr th:only-of-type {\n",
       "        vertical-align: middle;\n",
       "    }\n",
       "\n",
       "    .dataframe tbody tr th {\n",
       "        vertical-align: top;\n",
       "    }\n",
       "\n",
       "    .dataframe thead th {\n",
       "        text-align: right;\n",
       "    }\n",
       "</style>\n",
       "<table border=\"1\" class=\"dataframe\">\n",
       "  <thead>\n",
       "    <tr style=\"text-align: right;\">\n",
       "      <th></th>\n",
       "      <th>book_pages</th>\n",
       "      <th>title</th>\n",
       "    </tr>\n",
       "    <tr>\n",
       "      <th>year</th>\n",
       "      <th></th>\n",
       "      <th></th>\n",
       "    </tr>\n",
       "  </thead>\n",
       "  <tbody>\n",
       "    <tr>\n",
       "      <th>2013</th>\n",
       "      <td>6237</td>\n",
       "      <td>24</td>\n",
       "    </tr>\n",
       "    <tr>\n",
       "      <th>2014</th>\n",
       "      <td>4688</td>\n",
       "      <td>13</td>\n",
       "    </tr>\n",
       "    <tr>\n",
       "      <th>2015</th>\n",
       "      <td>3745</td>\n",
       "      <td>10</td>\n",
       "    </tr>\n",
       "    <tr>\n",
       "      <th>2016</th>\n",
       "      <td>6320</td>\n",
       "      <td>16</td>\n",
       "    </tr>\n",
       "    <tr>\n",
       "      <th>2017</th>\n",
       "      <td>8161</td>\n",
       "      <td>23</td>\n",
       "    </tr>\n",
       "    <tr>\n",
       "      <th>2018</th>\n",
       "      <td>6970</td>\n",
       "      <td>21</td>\n",
       "    </tr>\n",
       "    <tr>\n",
       "      <th>2019</th>\n",
       "      <td>9727</td>\n",
       "      <td>29</td>\n",
       "    </tr>\n",
       "    <tr>\n",
       "      <th>2020</th>\n",
       "      <td>6939</td>\n",
       "      <td>17</td>\n",
       "    </tr>\n",
       "  </tbody>\n",
       "</table>\n",
       "</div>"
      ],
      "text/plain": [
       "      book_pages  title\n",
       "year                   \n",
       "2013        6237     24\n",
       "2014        4688     13\n",
       "2015        3745     10\n",
       "2016        6320     16\n",
       "2017        8161     23\n",
       "2018        6970     21\n",
       "2019        9727     29\n",
       "2020        6939     17"
      ]
     },
     "execution_count": 68,
     "metadata": {},
     "output_type": "execute_result"
    }
   ],
   "source": [
    "yearly_stats = (\n",
    "    df.assign(\n",
    "        year=lambda entry: entry['date'].dt.year\n",
    "    )\n",
    "    .groupby('year')['title', 'book_pages']\n",
    ").agg({\n",
    "    'title': 'count',\n",
    "    'book_pages': 'sum'\n",
    "})\n",
    "yearly_stats"
   ]
  },
  {
   "cell_type": "markdown",
   "metadata": {},
   "source": [
    "## How many _books_ have I read each year?"
   ]
  },
  {
   "cell_type": "code",
   "execution_count": 74,
   "metadata": {},
   "outputs": [
    {
     "data": {
      "text/plain": [
       "<matplotlib.axes._subplots.AxesSubplot at 0x7f9a03605b38>"
      ]
     },
     "execution_count": 74,
     "metadata": {},
     "output_type": "execute_result"
    },
    {
     "data": {
      "image/png": "[encoded data removed]",
      "text/plain": [
       "<Figure size 432x288 with 1 Axes>"
      ]
     },
     "metadata": {
      "needs_background": "light"
     },
     "output_type": "display_data"
    }
   ],
   "source": [
    "yearly_stats['title'].sort_index(ascending=False).plot(kind='bar')"
   ]
  },
  {
   "cell_type": "markdown",
   "metadata": {},
   "source": [
    "## How many _pages_ have I read each year?"
   ]
  },
  {
   "cell_type": "code",
   "execution_count": 75,
   "metadata": {},
   "outputs": [
    {
     "data": {
      "text/plain": [
       "<matplotlib.axes._subplots.AxesSubplot at 0x7f9a035f2f28>"
      ]
     },
     "execution_count": 75,
     "metadata": {},
     "output_type": "execute_result"
    },
    {
     "data": {
      "image/png": "[encoded data removed]",
      "text/plain": [
       "<Figure size 432x288 with 1 Axes>"
      ]
     },
     "metadata": {
      "needs_background": "light"
     },
     "output_type": "display_data"
    }
   ],
   "source": [
    "yearly_stats['book_pages'].sort_index(ascending=False).plot(kind='bar')"
   ]
  },
  {
   "cell_type": "markdown",
   "metadata": {},
   "source": [
    "# What's the month where I read the most?"
   ]
  },
  {
   "cell_type": "code",
   "execution_count": 80,
   "metadata": {},
   "outputs": [
    {
     "data": {
      "text/plain": [
       "8"
      ]
     },
     "execution_count": 80,
     "metadata": {},
     "output_type": "execute_result"
    }
   ],
   "source": [
    "years = df.assign(\n",
    "    year=lambda entry: entry['date'].dt.year\n",
    ")['year']\n",
    "num_years = len(years.unique())\n",
    "num_years"
   ]
  },
  {
   "cell_type": "code",
   "execution_count": 95,
   "metadata": {},
   "outputs": [
    {
     "data": {
      "text/html": [
       "<div>\n",
       "<style scoped>\n",
       "    .dataframe tbody tr th:only-of-type {\n",
       "        vertical-align: middle;\n",
       "    }\n",
       "\n",
       "    .dataframe tbody tr th {\n",
       "        vertical-align: top;\n",
       "    }\n",
       "\n",
       "    .dataframe thead th {\n",
       "        text-align: right;\n",
       "    }\n",
       "</style>\n",
       "<table border=\"1\" class=\"dataframe\">\n",
       "  <thead>\n",
       "    <tr style=\"text-align: right;\">\n",
       "      <th></th>\n",
       "      <th>pages_per_month</th>\n",
       "      <th>books_per_month</th>\n",
       "    </tr>\n",
       "    <tr>\n",
       "      <th>year</th>\n",
       "      <th></th>\n",
       "      <th></th>\n",
       "    </tr>\n",
       "  </thead>\n",
       "  <tbody>\n",
       "    <tr>\n",
       "      <th>1</th>\n",
       "      <td>299.823529</td>\n",
       "      <td>2.125</td>\n",
       "    </tr>\n",
       "    <tr>\n",
       "      <th>2</th>\n",
       "      <td>382.941176</td>\n",
       "      <td>2.125</td>\n",
       "    </tr>\n",
       "    <tr>\n",
       "      <th>3</th>\n",
       "      <td>394.500000</td>\n",
       "      <td>0.750</td>\n",
       "    </tr>\n",
       "    <tr>\n",
       "      <th>4</th>\n",
       "      <td>419.444444</td>\n",
       "      <td>1.125</td>\n",
       "    </tr>\n",
       "    <tr>\n",
       "      <th>5</th>\n",
       "      <td>423.000000</td>\n",
       "      <td>1.000</td>\n",
       "    </tr>\n",
       "    <tr>\n",
       "      <th>6</th>\n",
       "      <td>426.800000</td>\n",
       "      <td>0.625</td>\n",
       "    </tr>\n",
       "    <tr>\n",
       "      <th>7</th>\n",
       "      <td>315.777778</td>\n",
       "      <td>1.125</td>\n",
       "    </tr>\n",
       "    <tr>\n",
       "      <th>8</th>\n",
       "      <td>331.181818</td>\n",
       "      <td>1.375</td>\n",
       "    </tr>\n",
       "    <tr>\n",
       "      <th>9</th>\n",
       "      <td>413.000000</td>\n",
       "      <td>2.125</td>\n",
       "    </tr>\n",
       "    <tr>\n",
       "      <th>10</th>\n",
       "      <td>346.187500</td>\n",
       "      <td>2.000</td>\n",
       "    </tr>\n",
       "    <tr>\n",
       "      <th>11</th>\n",
       "      <td>305.615385</td>\n",
       "      <td>1.625</td>\n",
       "    </tr>\n",
       "    <tr>\n",
       "      <th>12</th>\n",
       "      <td>260.080000</td>\n",
       "      <td>3.125</td>\n",
       "    </tr>\n",
       "  </tbody>\n",
       "</table>\n",
       "</div>"
      ],
      "text/plain": [
       "      pages_per_month  books_per_month\n",
       "year                                  \n",
       "1          299.823529            2.125\n",
       "2          382.941176            2.125\n",
       "3          394.500000            0.750\n",
       "4          419.444444            1.125\n",
       "5          423.000000            1.000\n",
       "6          426.800000            0.625\n",
       "7          315.777778            1.125\n",
       "8          331.181818            1.375\n",
       "9          413.000000            2.125\n",
       "10         346.187500            2.000\n",
       "11         305.615385            1.625\n",
       "12         260.080000            3.125"
      ]
     },
     "execution_count": 95,
     "metadata": {},
     "output_type": "execute_result"
    }
   ],
   "source": [
    "monthly_stats = (\n",
    "    df.assign(\n",
    "        year=lambda entry: entry['date'].dt.month\n",
    "    )\n",
    "    .groupby('year')['title', 'book_pages']\n",
    ").agg({\n",
    "    'title': 'count',  # FIXME: I need the mean of the count instead!\n",
    "    'book_pages': 'mean'\n",
    "}).rename(\n",
    "    columns={\n",
    "        'title': 'books_num_total',\n",
    "        'book_pages': 'pages_per_month'\n",
    "    }\n",
    ").assign(\n",
    "    books_per_month=lambda entry: (entry['books_num_total'] / num_years)\n",
    ")[\n",
    "    ['pages_per_month', 'books_per_month']\n",
    "]\n",
    "monthly_stats"
   ]
  },
  {
   "cell_type": "markdown",
   "metadata": {},
   "source": [
    "## December is when I read most books\n",
    "...to hit the reading goal?"
   ]
  },
  {
   "cell_type": "code",
   "execution_count": 97,
   "metadata": {},
   "outputs": [
    {
     "data": {
      "text/plain": [
       "<matplotlib.axes._subplots.AxesSubplot at 0x7f9a03a7e8d0>"
      ]
     },
     "execution_count": 97,
     "metadata": {},
     "output_type": "execute_result"
    },
    {
     "data": {
      "image/png": "[encoded data removed]",
      "text/plain": [
       "<Figure size 432x288 with 1 Axes>"
      ]
     },
     "metadata": {
      "needs_background": "light"
     },
     "output_type": "display_data"
    }
   ],
   "source": [
    "monthly_stats['books_per_month'].sort_index().plot(kind='bar')"
   ]
  },
  {
   "cell_type": "markdown",
   "metadata": {},
   "source": [
    "## However, books read in December are shorter on average\n",
    "Is it easier to hit the reading goal that way?"
   ]
  },
  {
   "cell_type": "code",
   "execution_count": 98,
   "metadata": {},
   "outputs": [
    {
     "data": {
      "text/plain": [
       "<matplotlib.axes._subplots.AxesSubplot at 0x7f9a03afc4e0>"
      ]
     },
     "execution_count": 98,
     "metadata": {},
     "output_type": "execute_result"
    },
    {
     "data": {
      "image/png": "[encoded data removed]",
      "text/plain": [
       "<Figure size 432x288 with 1 Axes>"
      ]
     },
     "metadata": {
      "needs_background": "light"
     },
     "output_type": "display_data"
    }
   ],
   "source": [
    "monthly_stats['pages_per_month'].sort_index().plot(kind='bar')"
   ]
  },
  {
   "cell_type": "code",
   "execution_count": 32,
   "metadata": {},
   "outputs": [],
   "source": [
    "# Do I like the books I read?"
   ]
  },
  {
   "cell_type": "markdown",
   "metadata": {},
   "source": [
    "# Ratings"
   ]
  },
  {
   "cell_type": "code",
   "execution_count": 108,
   "metadata": {},
   "outputs": [
    {
     "name": "stderr",
     "output_type": "stream",
     "text": [
      "/Users/flo/miniconda3/envs/learn-ml/lib/python3.5/site-packages/ipykernel_launcher.py:4: UserWarning: Boolean Series key will be reindexed to match DataFrame index.\n",
      "  after removing the cwd from sys.path.\n"
     ]
    },
    {
     "data": {
      "text/plain": [
       "<matplotlib.axes._subplots.AxesSubplot at 0x7f9a03fc88d0>"
      ]
     },
     "execution_count": 108,
     "metadata": {},
     "output_type": "execute_result"
    },
    {
     "data": {
      "image/png": "[encoded data removed]",
      "text/plain": [
       "<Figure size 432x288 with 1 Axes>"
      ]
     },
     "metadata": {
      "needs_background": "light"
     },
     "output_type": "display_data"
    }
   ],
   "source": [
    "df_rated = (\n",
    "    df\n",
    "    [df.rating.notnull()]\n",
    "    [df.rating>0]\n",
    ")\n",
    "df_rated.rating.value_counts().sort_index().plot(kind='bar')"
   ]
  },
  {
   "cell_type": "code",
   "execution_count": 104,
   "metadata": {},
   "outputs": [
    {
     "name": "stdout",
     "output_type": "stream",
     "text": [
      "3\n",
      "3\n",
      "7\n"
     ]
    },
    {
     "data": {
      "text/html": [
       "<div>\n",
       "<style scoped>\n",
       "    .dataframe tbody tr th:only-of-type {\n",
       "        vertical-align: middle;\n",
       "    }\n",
       "\n",
       "    .dataframe tbody tr th {\n",
       "        vertical-align: top;\n",
       "    }\n",
       "\n",
       "    .dataframe thead th {\n",
       "        text-align: right;\n",
       "    }\n",
       "</style>\n",
       "<table border=\"1\" class=\"dataframe\">\n",
       "  <thead>\n",
       "    <tr style=\"text-align: right;\">\n",
       "      <th></th>\n",
       "      <th>author</th>\n",
       "      <th>book_pages</th>\n",
       "      <th>book_type</th>\n",
       "      <th>comment</th>\n",
       "      <th>date</th>\n",
       "      <th>id</th>\n",
       "      <th>pinned</th>\n",
       "      <th>private</th>\n",
       "      <th>rating</th>\n",
       "      <th>title</th>\n",
       "      <th>type</th>\n",
       "      <th>url</th>\n",
       "      <th>username</th>\n",
       "    </tr>\n",
       "  </thead>\n",
       "  <tbody>\n",
       "    <tr>\n",
       "      <th>11</th>\n",
       "      <td>Steven S. Skiena</td>\n",
       "      <td>445</td>\n",
       "      <td>book</td>\n",
       "      <td>Read this as part of our \"Data Science Study G...</td>\n",
       "      <td>2020-07-13</td>\n",
       "      <td>37486</td>\n",
       "      <td>False</td>\n",
       "      <td>False</td>\n",
       "      <td>0.0</td>\n",
       "      <td>The Data Science Design Manual</td>\n",
       "      <td>finished</td>\n",
       "      <td>/eintrag/37486</td>\n",
       "      <td>florian</td>\n",
       "    </tr>\n",
       "    <tr>\n",
       "      <th>55</th>\n",
       "      <td>Ben Aaronovitch</td>\n",
       "      <td>395</td>\n",
       "      <td>book</td>\n",
       "      <td>After a couple of non-fiction books, I wanted ...</td>\n",
       "      <td>2018-11-24</td>\n",
       "      <td>29202</td>\n",
       "      <td>False</td>\n",
       "      <td>False</td>\n",
       "      <td>0.0</td>\n",
       "      <td>Rivers Of London</td>\n",
       "      <td>finished</td>\n",
       "      <td>/eintrag/29202</td>\n",
       "      <td>florian</td>\n",
       "    </tr>\n",
       "    <tr>\n",
       "      <th>57</th>\n",
       "      <td>Ari Shavit</td>\n",
       "      <td>512</td>\n",
       "      <td>book</td>\n",
       "      <td>None</td>\n",
       "      <td>2018-09-17</td>\n",
       "      <td>27938</td>\n",
       "      <td>False</td>\n",
       "      <td>False</td>\n",
       "      <td>0.0</td>\n",
       "      <td>My Promised Land</td>\n",
       "      <td>started</td>\n",
       "      <td>/eintrag/27938</td>\n",
       "      <td>florian</td>\n",
       "    </tr>\n",
       "    <tr>\n",
       "      <th>63</th>\n",
       "      <td>Wolfram Wette</td>\n",
       "      <td>288</td>\n",
       "      <td>book</td>\n",
       "      <td>Karl Jäger, von seinen Nachbarn als feinsinnig...</td>\n",
       "      <td>2018-02-19</td>\n",
       "      <td>22414</td>\n",
       "      <td>False</td>\n",
       "      <td>False</td>\n",
       "      <td>0.0</td>\n",
       "      <td>Karl Jäger</td>\n",
       "      <td>finished</td>\n",
       "      <td>/eintrag/22414</td>\n",
       "      <td>florian</td>\n",
       "    </tr>\n",
       "    <tr>\n",
       "      <th>64</th>\n",
       "      <td>Hannah Arendt</td>\n",
       "      <td>448</td>\n",
       "      <td>book</td>\n",
       "      <td>Es gibt so viel aus der deutschen Geschichte, ...</td>\n",
       "      <td>2018-02-11</td>\n",
       "      <td>22299</td>\n",
       "      <td>False</td>\n",
       "      <td>False</td>\n",
       "      <td>0.0</td>\n",
       "      <td>Eichmann in Jerusalem: Ein Bericht von der Ban...</td>\n",
       "      <td>finished</td>\n",
       "      <td>/eintrag/22299</td>\n",
       "      <td>florian</td>\n",
       "    </tr>\n",
       "    <tr>\n",
       "      <th>65</th>\n",
       "      <td>Ernst Klee</td>\n",
       "      <td>191</td>\n",
       "      <td>book</td>\n",
       "      <td>Spannende Rechercheergebnisse, wie die deutsch...</td>\n",
       "      <td>2018-01-25</td>\n",
       "      <td>22298</td>\n",
       "      <td>False</td>\n",
       "      <td>False</td>\n",
       "      <td>0.0</td>\n",
       "      <td>Persilscheine und falsche Pässe</td>\n",
       "      <td>finished</td>\n",
       "      <td>/eintrag/22298</td>\n",
       "      <td>florian</td>\n",
       "    </tr>\n",
       "    <tr>\n",
       "      <th>93</th>\n",
       "      <td>Jeffrey Eugenides</td>\n",
       "      <td>596</td>\n",
       "      <td>book</td>\n",
       "      <td>None</td>\n",
       "      <td>2016-11-09</td>\n",
       "      <td>15190</td>\n",
       "      <td>False</td>\n",
       "      <td>False</td>\n",
       "      <td>0.0</td>\n",
       "      <td>Middlesex</td>\n",
       "      <td>wished</td>\n",
       "      <td>/eintrag/15190</td>\n",
       "      <td>florian</td>\n",
       "    </tr>\n",
       "  </tbody>\n",
       "</table>\n",
       "</div>"
      ],
      "text/plain": [
       "               author  book_pages book_type  \\\n",
       "11   Steven S. Skiena         445      book   \n",
       "55    Ben Aaronovitch         395      book   \n",
       "57         Ari Shavit         512      book   \n",
       "63      Wolfram Wette         288      book   \n",
       "64      Hannah Arendt         448      book   \n",
       "65         Ernst Klee         191      book   \n",
       "93  Jeffrey Eugenides         596      book   \n",
       "\n",
       "                                              comment       date     id  \\\n",
       "11  Read this as part of our \"Data Science Study G... 2020-07-13  37486   \n",
       "55  After a couple of non-fiction books, I wanted ... 2018-11-24  29202   \n",
       "57                                               None 2018-09-17  27938   \n",
       "63  Karl Jäger, von seinen Nachbarn als feinsinnig... 2018-02-19  22414   \n",
       "64  Es gibt so viel aus der deutschen Geschichte, ... 2018-02-11  22299   \n",
       "65  Spannende Rechercheergebnisse, wie die deutsch... 2018-01-25  22298   \n",
       "93                                               None 2016-11-09  15190   \n",
       "\n",
       "    pinned  private  rating  \\\n",
       "11   False    False     0.0   \n",
       "55   False    False     0.0   \n",
       "57   False    False     0.0   \n",
       "63   False    False     0.0   \n",
       "64   False    False     0.0   \n",
       "65   False    False     0.0   \n",
       "93   False    False     0.0   \n",
       "\n",
       "                                                title      type  \\\n",
       "11                     The Data Science Design Manual  finished   \n",
       "55                                   Rivers Of London  finished   \n",
       "57                                   My Promised Land   started   \n",
       "63                                         Karl Jäger  finished   \n",
       "64  Eichmann in Jerusalem: Ein Bericht von der Ban...  finished   \n",
       "65                    Persilscheine und falsche Pässe  finished   \n",
       "93                                          Middlesex    wished   \n",
       "\n",
       "               url username  \n",
       "11  /eintrag/37486  florian  \n",
       "55  /eintrag/29202  florian  \n",
       "57  /eintrag/27938  florian  \n",
       "63  /eintrag/22414  florian  \n",
       "64  /eintrag/22299  florian  \n",
       "65  /eintrag/22298  florian  \n",
       "93  /eintrag/15190  florian  "
      ]
     },
     "execution_count": 104,
     "metadata": {},
     "output_type": "execute_result"
    }
   ],
   "source": [
    "# Odd: some non-rated books have rating None, some have rating 0.0\n",
    "print(len(df[df.rating.isna()]))\n",
    "print(len(df[df.rating.isnull()]))\n",
    "print(len(df[df.rating==0.0]))\n",
    "df[df.rating==0.0]"
   ]
  },
  {
   "cell_type": "markdown",
   "metadata": {},
   "source": [
    "## Distribution of book lengths"
   ]
  },
  {
   "cell_type": "code",
   "execution_count": 117,
   "metadata": {},
   "outputs": [
    {
     "data": {
      "text/plain": [
       "<matplotlib.axes._subplots.AxesSubplot at 0x7f9a0498d2e8>"
      ]
     },
     "execution_count": 117,
     "metadata": {},
     "output_type": "execute_result"
    },
    {
     "data": {
      "image/png": "[encoded data removed]",
      "text/plain": [
       "<Figure size 432x288 with 1 Axes>"
      ]
     },
     "metadata": {
      "needs_background": "light"
     },
     "output_type": "display_data"
    }
   ],
   "source": [
    "df_rated.book_pages.plot.hist(bins=20)"
   ]
  },
  {
   "cell_type": "markdown",
   "metadata": {},
   "source": [
    "## Do I rate longer books higher?"
   ]
  },
  {
   "cell_type": "code",
   "execution_count": 120,
   "metadata": {},
   "outputs": [
    {
     "data": {
      "text/plain": [
       "<matplotlib.axes._subplots.AxesSubplot at 0x7f9a04ecb5c0>"
      ]
     },
     "execution_count": 120,
     "metadata": {},
     "output_type": "execute_result"
    },
    {
     "data": {
      "image/png": "[encoded data removed]",
      "text/plain": [
       "<Figure size 432x288 with 1 Axes>"
      ]
     },
     "metadata": {
      "needs_background": "light"
     },
     "output_type": "display_data"
    }
   ],
   "source": [
    "df_rated.plot.scatter(x='book_pages', y='rating')"
   ]
  },
  {
   "cell_type": "markdown",
   "metadata": {},
   "source": [
    "# Split books in short / medium / long"
   ]
  },
  {
   "cell_type": "code",
   "execution_count": 165,
   "metadata": {},
   "outputs": [
    {
     "data": {
      "text/plain": [
       "(58.999, 256.0]      54\n",
       "(366.667, 1080.0]    51\n",
       "(256.0, 366.667]     48\n",
       "Name: book_pages, dtype: int64"
      ]
     },
     "execution_count": 165,
     "metadata": {},
     "output_type": "execute_result"
    }
   ],
   "source": [
    "# auto split is not to my taste. \"long\" should start later\n",
    "pd.qcut(df.book_pages, 3).value_counts()"
   ]
  },
  {
   "cell_type": "code",
   "execution_count": 167,
   "metadata": {},
   "outputs": [
    {
     "data": {
      "text/plain": [
       "(222.0, 416.0]     76\n",
       "(58.999, 222.0]    39\n",
       "(416.0, 1080.0]    38\n",
       "Name: book_pages, dtype: int64"
      ]
     },
     "execution_count": 167,
     "metadata": {},
     "output_type": "execute_result"
    }
   ],
   "source": [
    "# I want to call the middle 50% \"Medium\" and distribute the other lengths equally to the sides\n",
    "pd.qcut(df.book_pages, [0, 0.25, 0.75, 1.]).value_counts()"
   ]
  },
  {
   "cell_type": "code",
   "execution_count": 169,
   "metadata": {},
   "outputs": [
    {
     "data": {
      "text/plain": [
       "Medium    76\n",
       "Short     39\n",
       "Long      38\n",
       "Name: book_pages, dtype: int64"
      ]
     },
     "execution_count": 169,
     "metadata": {},
     "output_type": "execute_result"
    }
   ],
   "source": [
    "# Now actually assign some names\n",
    "book_length = pd.qcut(df.book_pages, [0, 0.25, 0.75, 1.], labels=['Short', 'Medium', 'Long'])\n",
    "book_length.value_counts()"
   ]
  },
  {
   "cell_type": "markdown",
   "metadata": {},
   "source": [
    "# How do ratings vary by book length and paper vs. audio book (pivot table!)"
   ]
  },
  {
   "cell_type": "code",
   "execution_count": 172,
   "metadata": {},
   "outputs": [
    {
     "data": {
      "text/html": [
       "<div>\n",
       "<style scoped>\n",
       "    .dataframe tbody tr th:only-of-type {\n",
       "        vertical-align: middle;\n",
       "    }\n",
       "\n",
       "    .dataframe tbody tr th {\n",
       "        vertical-align: top;\n",
       "    }\n",
       "\n",
       "    .dataframe thead th {\n",
       "        text-align: right;\n",
       "    }\n",
       "</style>\n",
       "<table border=\"1\" class=\"dataframe\">\n",
       "  <thead>\n",
       "    <tr style=\"text-align: right;\">\n",
       "      <th>book_type</th>\n",
       "      <th>audio_book</th>\n",
       "      <th>book</th>\n",
       "    </tr>\n",
       "    <tr>\n",
       "      <th>book_length</th>\n",
       "      <th></th>\n",
       "      <th></th>\n",
       "    </tr>\n",
       "  </thead>\n",
       "  <tbody>\n",
       "    <tr>\n",
       "      <th>Short</th>\n",
       "      <td>NaN</td>\n",
       "      <td>3.594595</td>\n",
       "    </tr>\n",
       "    <tr>\n",
       "      <th>Medium</th>\n",
       "      <td>4.25</td>\n",
       "      <td>3.763889</td>\n",
       "    </tr>\n",
       "    <tr>\n",
       "      <th>Long</th>\n",
       "      <td>4.00</td>\n",
       "      <td>3.457143</td>\n",
       "    </tr>\n",
       "  </tbody>\n",
       "</table>\n",
       "</div>"
      ],
      "text/plain": [
       "book_type    audio_book      book\n",
       "book_length                      \n",
       "Short               NaN  3.594595\n",
       "Medium             4.25  3.763889\n",
       "Long               4.00  3.457143"
      ]
     },
     "execution_count": 172,
     "metadata": {},
     "output_type": "execute_result"
    }
   ],
   "source": [
    "rating_per_length_and_type = df.assign(\n",
    "    book_length=book_length\n",
    ").pivot_table(\n",
    "    values='rating',\n",
    "    index='book_length',\n",
    "    columns='book_type'\n",
    ")\n",
    "rating_per_length_and_type"
   ]
  },
  {
   "cell_type": "code",
   "execution_count": 174,
   "metadata": {},
   "outputs": [
    {
     "data": {
      "text/plain": [
       "<matplotlib.axes._subplots.AxesSubplot at 0x7f9a07164e80>"
      ]
     },
     "execution_count": 174,
     "metadata": {},
     "output_type": "execute_result"
    },
    {
     "data": {
      "image/png": "[encoded data removed]",
      "text/plain": [
       "<Figure size 432x288 with 1 Axes>"
      ]
     },
     "metadata": {
      "needs_background": "light"
     },
     "output_type": "display_data"
    }
   ],
   "source": [
    "rating_per_length_and_type.plot.bar()"
   ]
  },
  {
   "cell_type": "code",
   "execution_count": 126,
   "metadata": {},
   "outputs": [
    {
     "data": {
      "text/html": [
       "<div>\n",
       "<style scoped>\n",
       "    .dataframe tbody tr th:only-of-type {\n",
       "        vertical-align: middle;\n",
       "    }\n",
       "\n",
       "    .dataframe tbody tr th {\n",
       "        vertical-align: top;\n",
       "    }\n",
       "\n",
       "    .dataframe thead tr th {\n",
       "        text-align: left;\n",
       "    }\n",
       "\n",
       "    .dataframe thead tr:last-of-type th {\n",
       "        text-align: right;\n",
       "    }\n",
       "</style>\n",
       "<table border=\"1\" class=\"dataframe\">\n",
       "  <thead>\n",
       "    <tr>\n",
       "      <th></th>\n",
       "      <th colspan=\"2\" halign=\"left\">book_pages</th>\n",
       "    </tr>\n",
       "    <tr>\n",
       "      <th></th>\n",
       "      <th>mean</th>\n",
       "      <th>std</th>\n",
       "    </tr>\n",
       "    <tr>\n",
       "      <th>rating</th>\n",
       "      <th></th>\n",
       "      <th></th>\n",
       "    </tr>\n",
       "  </thead>\n",
       "  <tbody>\n",
       "    <tr>\n",
       "      <th>1.0</th>\n",
       "      <td>202.000000</td>\n",
       "      <td>0.000000</td>\n",
       "    </tr>\n",
       "    <tr>\n",
       "      <th>2.0</th>\n",
       "      <td>317.555556</td>\n",
       "      <td>159.232622</td>\n",
       "    </tr>\n",
       "    <tr>\n",
       "      <th>3.0</th>\n",
       "      <td>341.740741</td>\n",
       "      <td>211.662757</td>\n",
       "    </tr>\n",
       "    <tr>\n",
       "      <th>4.0</th>\n",
       "      <td>349.175000</td>\n",
       "      <td>208.061747</td>\n",
       "    </tr>\n",
       "    <tr>\n",
       "      <th>5.0</th>\n",
       "      <td>340.115385</td>\n",
       "      <td>160.006082</td>\n",
       "    </tr>\n",
       "  </tbody>\n",
       "</table>\n",
       "</div>"
      ],
      "text/plain": [
       "        book_pages            \n",
       "              mean         std\n",
       "rating                        \n",
       "1.0     202.000000    0.000000\n",
       "2.0     317.555556  159.232622\n",
       "3.0     341.740741  211.662757\n",
       "4.0     349.175000  208.061747\n",
       "5.0     340.115385  160.006082"
      ]
     },
     "execution_count": 126,
     "metadata": {},
     "output_type": "execute_result"
    }
   ],
   "source": [
    "pages_per_rating = df_rated[\n",
    "    ['rating', 'book_pages']\n",
    "].groupby('rating').agg(['mean', 'std']).fillna(0)\n",
    "pages_per_rating"
   ]
  },
  {
   "cell_type": "code",
   "execution_count": 130,
   "metadata": {},
   "outputs": [
    {
     "data": {
      "text/plain": [
       "<matplotlib.axes._subplots.AxesSubplot at 0x7f9a05179a58>"
      ]
     },
     "execution_count": 130,
     "metadata": {},
     "output_type": "execute_result"
    },
    {
     "data": {
      "image/png": "[encoded data removed]",
      "text/plain": [
       "<Figure size 432x288 with 1 Axes>"
      ]
     },
     "metadata": {
      "needs_background": "light"
     },
     "output_type": "display_data"
    }
   ],
   "source": [
    "pages_per_rating.book_pages.plot.bar(y='mean', yerr='std')"
   ]
  },
  {
   "cell_type": "markdown",
   "metadata": {},
   "source": [
    "# Do I write longer comments for longer books?"
   ]
  },
  {
   "cell_type": "code",
   "execution_count": 150,
   "metadata": {},
   "outputs": [
    {
     "data": {
      "text/plain": [
       "<matplotlib.axes._subplots.AxesSubplot at 0x7f9a06dd6048>"
      ]
     },
     "execution_count": 150,
     "metadata": {},
     "output_type": "execute_result"
    },
    {
     "data": {
      "image/png": "[encoded data removed]",
      "text/plain": [
       "<Figure size 720x720 with 2 Axes>"
      ]
     },
     "metadata": {
      "needs_background": "light"
     },
     "output_type": "display_data"
    }
   ],
   "source": [
    "df.assign(\n",
    "    comment_length=lambda entry: entry.comment.str.len()\n",
    ").fillna(0).plot.scatter(\n",
    "    x='book_pages',\n",
    "    y='comment_length',\n",
    "    c='rating',\n",
    "    colormap='coolwarm_r',\n",
    "    figsize=(10,10),\n",
    "    s=50  # marker size\n",
    ")"
   ]
  },
  {
   "cell_type": "markdown",
   "metadata": {},
   "source": [
    "# TODO: Compare language and genre preferences over time\n",
    "Currently not part of the data"
   ]
  },
  {
   "cell_type": "code",
   "execution_count": 33,
   "metadata": {},
   "outputs": [],
   "source": [
    "# TODO: Ask Daniel to include tags in export AND tag all books with language and genre"
   ]
  },
  {
   "cell_type": "code",
   "execution_count": null,
   "metadata": {},
   "outputs": [],
   "source": []
  }
 ],
 "metadata": {
  "kernelspec": {
   "display_name": "Python 3",
   "language": "python",
   "name": "python3"
  },
  "language_info": {
   "codemirror_mode": {
    "name": "ipython",
    "version": 3
   },
   "file_extension": ".py",
   "mimetype": "text/x-python",
   "name": "python",
   "nbconvert_exporter": "python",
   "pygments_lexer": "ipython3",
   "version": "3.5.6"
  }
 },
 "nbformat": 4,
 "nbformat_minor": 4
}
