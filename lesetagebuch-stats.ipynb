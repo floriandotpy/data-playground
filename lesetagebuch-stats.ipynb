{
 "cells": [
  {
   "cell_type": "code",
   "execution_count": 1,
   "metadata": {},
   "outputs": [],
   "source": [
    "import pandas as pd\n",
    "import json"
   ]
  },
  {
   "cell_type": "code",
   "execution_count": 2,
   "metadata": {},
   "outputs": [],
   "source": [
    "%matplotlib inline"
   ]
  },
  {
   "cell_type": "markdown",
   "metadata": {},
   "source": [
    "# Load data from json"
   ]
  },
  {
   "cell_type": "code",
   "execution_count": 3,
   "metadata": {},
   "outputs": [
    {
     "data": {
      "text/html": [
       "<div>\n",
       "<style scoped>\n",
       "    .dataframe tbody tr th:only-of-type {\n",
       "        vertical-align: middle;\n",
       "    }\n",
       "\n",
       "    .dataframe tbody tr th {\n",
       "        vertical-align: top;\n",
       "    }\n",
       "\n",
       "    .dataframe thead th {\n",
       "        text-align: right;\n",
       "    }\n",
       "</style>\n",
       "<table border=\"1\" class=\"dataframe\">\n",
       "  <thead>\n",
       "    <tr style=\"text-align: right;\">\n",
       "      <th></th>\n",
       "      <th>entries</th>\n",
       "      <th>name</th>\n",
       "      <th>url</th>\n",
       "      <th>username</th>\n",
       "    </tr>\n",
       "  </thead>\n",
       "  <tbody>\n",
       "    <tr>\n",
       "      <th>0</th>\n",
       "      <td>{'tags': ['german', 'fiction'], 'id': 38445, '...</td>\n",
       "      <td>Florian</td>\n",
       "      <td>/von/florian</td>\n",
       "      <td>florian</td>\n",
       "    </tr>\n",
       "    <tr>\n",
       "      <th>1</th>\n",
       "      <td>{'tags': ['english'], 'id': 38441, 'book_type'...</td>\n",
       "      <td>Florian</td>\n",
       "      <td>/von/florian</td>\n",
       "      <td>florian</td>\n",
       "    </tr>\n",
       "    <tr>\n",
       "      <th>2</th>\n",
       "      <td>{'tags': ['finance', 'german'], 'id': 38406, '...</td>\n",
       "      <td>Florian</td>\n",
       "      <td>/von/florian</td>\n",
       "      <td>florian</td>\n",
       "    </tr>\n",
       "    <tr>\n",
       "      <th>3</th>\n",
       "      <td>{'tags': ['english', 'fiction'], 'id': 38405, ...</td>\n",
       "      <td>Florian</td>\n",
       "      <td>/von/florian</td>\n",
       "      <td>florian</td>\n",
       "    </tr>\n",
       "    <tr>\n",
       "      <th>4</th>\n",
       "      <td>{'tags': ['english', 'finance'], 'id': 38338, ...</td>\n",
       "      <td>Florian</td>\n",
       "      <td>/von/florian</td>\n",
       "      <td>florian</td>\n",
       "    </tr>\n",
       "    <tr>\n",
       "      <th>...</th>\n",
       "      <td>...</td>\n",
       "      <td>...</td>\n",
       "      <td>...</td>\n",
       "      <td>...</td>\n",
       "    </tr>\n",
       "    <tr>\n",
       "      <th>147</th>\n",
       "      <td>{'tags': [], 'id': 1457, 'book_type': 'book', ...</td>\n",
       "      <td>Florian</td>\n",
       "      <td>/von/florian</td>\n",
       "      <td>florian</td>\n",
       "    </tr>\n",
       "    <tr>\n",
       "      <th>148</th>\n",
       "      <td>{'tags': [], 'id': 1019, 'book_type': 'book', ...</td>\n",
       "      <td>Florian</td>\n",
       "      <td>/von/florian</td>\n",
       "      <td>florian</td>\n",
       "    </tr>\n",
       "    <tr>\n",
       "      <th>149</th>\n",
       "      <td>{'tags': [], 'id': 1004, 'book_type': 'book', ...</td>\n",
       "      <td>Florian</td>\n",
       "      <td>/von/florian</td>\n",
       "      <td>florian</td>\n",
       "    </tr>\n",
       "    <tr>\n",
       "      <th>150</th>\n",
       "      <td>{'tags': [], 'id': 992, 'book_type': 'book', '...</td>\n",
       "      <td>Florian</td>\n",
       "      <td>/von/florian</td>\n",
       "      <td>florian</td>\n",
       "    </tr>\n",
       "    <tr>\n",
       "      <th>151</th>\n",
       "      <td>{'tags': [], 'id': 991, 'book_type': 'book', '...</td>\n",
       "      <td>Florian</td>\n",
       "      <td>/von/florian</td>\n",
       "      <td>florian</td>\n",
       "    </tr>\n",
       "  </tbody>\n",
       "</table>\n",
       "<p>152 rows × 4 columns</p>\n",
       "</div>"
      ],
      "text/plain": [
       "                                               entries     name           url  \\\n",
       "0    {'tags': ['german', 'fiction'], 'id': 38445, '...  Florian  /von/florian   \n",
       "1    {'tags': ['english'], 'id': 38441, 'book_type'...  Florian  /von/florian   \n",
       "2    {'tags': ['finance', 'german'], 'id': 38406, '...  Florian  /von/florian   \n",
       "3    {'tags': ['english', 'fiction'], 'id': 38405, ...  Florian  /von/florian   \n",
       "4    {'tags': ['english', 'finance'], 'id': 38338, ...  Florian  /von/florian   \n",
       "..                                                 ...      ...           ...   \n",
       "147  {'tags': [], 'id': 1457, 'book_type': 'book', ...  Florian  /von/florian   \n",
       "148  {'tags': [], 'id': 1019, 'book_type': 'book', ...  Florian  /von/florian   \n",
       "149  {'tags': [], 'id': 1004, 'book_type': 'book', ...  Florian  /von/florian   \n",
       "150  {'tags': [], 'id': 992, 'book_type': 'book', '...  Florian  /von/florian   \n",
       "151  {'tags': [], 'id': 991, 'book_type': 'book', '...  Florian  /von/florian   \n",
       "\n",
       "    username  \n",
       "0    florian  \n",
       "1    florian  \n",
       "2    florian  \n",
       "3    florian  \n",
       "4    florian  \n",
       "..       ...  \n",
       "147  florian  \n",
       "148  florian  \n",
       "149  florian  \n",
       "150  florian  \n",
       "151  florian  \n",
       "\n",
       "[152 rows x 4 columns]"
      ]
     },
     "execution_count": 3,
     "metadata": {},
     "output_type": "execute_result"
    }
   ],
   "source": [
    "DATA_PATH = 'data/lesetagebuch-florian.json'\n",
    "df = pd.read_json(DATA_PATH)\n",
    "df"
   ]
  },
  {
   "cell_type": "code",
   "execution_count": 4,
   "metadata": {},
   "outputs": [],
   "source": [
    "with open(DATA_PATH) as fp:\n",
    "    books = json.load(fp)\n"
   ]
  },
  {
   "cell_type": "markdown",
   "metadata": {},
   "source": [
    "# Set up dataframe with desired structure and types"
   ]
  },
  {
   "cell_type": "code",
   "execution_count": 5,
   "metadata": {},
   "outputs": [
    {
     "data": {
      "text/plain": [
       "{'book': {'author': {'id': 4662,\n",
       "   'name': 'J.L. Carr',\n",
       "   'url': '/autor/j-l-carr'},\n",
       "  'id': 9538,\n",
       "  'pages': 144,\n",
       "  'title': 'Ein Monat auf dem Land',\n",
       "  'url': '/buch/ein-monat-auf-dem-land'},\n",
       " 'book_type': 'book',\n",
       " 'comment': 'Eine kurze Geschichte. Schön geschrieben und angenehm wehmütig. Nicht aktiv traurig, eher nachdenklich. Ich mochte es sehr.',\n",
       " 'date': '2020-10-18',\n",
       " 'id': 38445,\n",
       " 'pinned': False,\n",
       " 'private': False,\n",
       " 'rating': 4,\n",
       " 'tags': ['german', 'fiction'],\n",
       " 'type': 'finished',\n",
       " 'url': '/eintrag/38445',\n",
       " 'user': {'username': 'florian'}}"
      ]
     },
     "execution_count": 5,
     "metadata": {},
     "output_type": "execute_result"
    }
   ],
   "source": [
    "books['entries'][0]"
   ]
  },
  {
   "cell_type": "code",
   "execution_count": 31,
   "metadata": {},
   "outputs": [
    {
     "data": {
      "text/html": [
       "<div>\n",
       "<style scoped>\n",
       "    .dataframe tbody tr th:only-of-type {\n",
       "        vertical-align: middle;\n",
       "    }\n",
       "\n",
       "    .dataframe tbody tr th {\n",
       "        vertical-align: top;\n",
       "    }\n",
       "\n",
       "    .dataframe thead th {\n",
       "        text-align: right;\n",
       "    }\n",
       "</style>\n",
       "<table border=\"1\" class=\"dataframe\">\n",
       "  <thead>\n",
       "    <tr style=\"text-align: right;\">\n",
       "      <th></th>\n",
       "      <th>author</th>\n",
       "      <th>book_pages</th>\n",
       "      <th>book_type</th>\n",
       "      <th>comment</th>\n",
       "      <th>date</th>\n",
       "      <th>id</th>\n",
       "      <th>language</th>\n",
       "      <th>pinned</th>\n",
       "      <th>private</th>\n",
       "      <th>rating</th>\n",
       "      <th>tags</th>\n",
       "      <th>title</th>\n",
       "      <th>type</th>\n",
       "      <th>url</th>\n",
       "      <th>username</th>\n",
       "    </tr>\n",
       "  </thead>\n",
       "  <tbody>\n",
       "    <tr>\n",
       "      <th>0</th>\n",
       "      <td>J.L. Carr</td>\n",
       "      <td>144</td>\n",
       "      <td>book</td>\n",
       "      <td>Eine kurze Geschichte. Schön geschrieben und a...</td>\n",
       "      <td>2020-10-18</td>\n",
       "      <td>38445</td>\n",
       "      <td>German</td>\n",
       "      <td>False</td>\n",
       "      <td>False</td>\n",
       "      <td>4.0</td>\n",
       "      <td>[german, fiction]</td>\n",
       "      <td>Ein Monat auf dem Land</td>\n",
       "      <td>finished</td>\n",
       "      <td>/eintrag/38445</td>\n",
       "      <td>florian</td>\n",
       "    </tr>\n",
       "    <tr>\n",
       "      <th>1</th>\n",
       "      <td>James Clear</td>\n",
       "      <td>320</td>\n",
       "      <td>book</td>\n",
       "      <td>James Clear describes how habits work in your ...</td>\n",
       "      <td>2020-10-17</td>\n",
       "      <td>38441</td>\n",
       "      <td>English</td>\n",
       "      <td>False</td>\n",
       "      <td>False</td>\n",
       "      <td>4.0</td>\n",
       "      <td>[english]</td>\n",
       "      <td>Atomic Habits</td>\n",
       "      <td>finished</td>\n",
       "      <td>/eintrag/38441</td>\n",
       "      <td>florian</td>\n",
       "    </tr>\n",
       "    <tr>\n",
       "      <th>2</th>\n",
       "      <td>André Kostolany</td>\n",
       "      <td>240</td>\n",
       "      <td>audio_book</td>\n",
       "      <td>Ein Hauch vergangener Zeiten. Angenehmes Hörbu...</td>\n",
       "      <td>2020-06-30</td>\n",
       "      <td>38406</td>\n",
       "      <td>German</td>\n",
       "      <td>False</td>\n",
       "      <td>False</td>\n",
       "      <td>4.0</td>\n",
       "      <td>[finance, german]</td>\n",
       "      <td>Die Kunst, über Geld nachzudenken</td>\n",
       "      <td>finished</td>\n",
       "      <td>/eintrag/38406</td>\n",
       "      <td>florian</td>\n",
       "    </tr>\n",
       "    <tr>\n",
       "      <th>3</th>\n",
       "      <td>Robert Harris</td>\n",
       "      <td>320</td>\n",
       "      <td>audio_book</td>\n",
       "      <td>I just finished the Von Braun biography 2 week...</td>\n",
       "      <td>2020-10-12</td>\n",
       "      <td>38405</td>\n",
       "      <td>English</td>\n",
       "      <td>False</td>\n",
       "      <td>False</td>\n",
       "      <td>4.0</td>\n",
       "      <td>[english, fiction]</td>\n",
       "      <td>V2</td>\n",
       "      <td>finished</td>\n",
       "      <td>/eintrag/38405</td>\n",
       "      <td>florian</td>\n",
       "    </tr>\n",
       "    <tr>\n",
       "      <th>4</th>\n",
       "      <td>Morgan Housel</td>\n",
       "      <td>256</td>\n",
       "      <td>book</td>\n",
       "      <td>I don't know how exactly to categorize this bo...</td>\n",
       "      <td>2020-10-06</td>\n",
       "      <td>38338</td>\n",
       "      <td>English</td>\n",
       "      <td>False</td>\n",
       "      <td>False</td>\n",
       "      <td>5.0</td>\n",
       "      <td>[english, finance]</td>\n",
       "      <td>The Psychology of Money</td>\n",
       "      <td>finished</td>\n",
       "      <td>/eintrag/38338</td>\n",
       "      <td>florian</td>\n",
       "    </tr>\n",
       "    <tr>\n",
       "      <th>...</th>\n",
       "      <td>...</td>\n",
       "      <td>...</td>\n",
       "      <td>...</td>\n",
       "      <td>...</td>\n",
       "      <td>...</td>\n",
       "      <td>...</td>\n",
       "      <td>...</td>\n",
       "      <td>...</td>\n",
       "      <td>...</td>\n",
       "      <td>...</td>\n",
       "      <td>...</td>\n",
       "      <td>...</td>\n",
       "      <td>...</td>\n",
       "      <td>...</td>\n",
       "      <td>...</td>\n",
       "    </tr>\n",
       "    <tr>\n",
       "      <th>147</th>\n",
       "      <td>Sam Williams</td>\n",
       "      <td>264</td>\n",
       "      <td>book</td>\n",
       "      <td>Some kind of biography about Richard Stallman ...</td>\n",
       "      <td>2013-02-12</td>\n",
       "      <td>1457</td>\n",
       "      <td>Unknown</td>\n",
       "      <td>False</td>\n",
       "      <td>False</td>\n",
       "      <td>4.0</td>\n",
       "      <td>[]</td>\n",
       "      <td>Free as in Freedom</td>\n",
       "      <td>finished</td>\n",
       "      <td>/eintrag/1457</td>\n",
       "      <td>florian</td>\n",
       "    </tr>\n",
       "    <tr>\n",
       "      <th>148</th>\n",
       "      <td>Malcolm Gladwell</td>\n",
       "      <td>304</td>\n",
       "      <td>book</td>\n",
       "      <td>Interessant zu erfahren, dass manchmal eine sp...</td>\n",
       "      <td>2013-01-23</td>\n",
       "      <td>1019</td>\n",
       "      <td>Unknown</td>\n",
       "      <td>False</td>\n",
       "      <td>False</td>\n",
       "      <td>3.0</td>\n",
       "      <td>[]</td>\n",
       "      <td>Blink!</td>\n",
       "      <td>finished</td>\n",
       "      <td>/eintrag/1019</td>\n",
       "      <td>florian</td>\n",
       "    </tr>\n",
       "    <tr>\n",
       "      <th>149</th>\n",
       "      <td>Volker Kutscher</td>\n",
       "      <td>560</td>\n",
       "      <td>book</td>\n",
       "      <td>Tolle Atmosphäre im Berlin der 1920er Jahre. S...</td>\n",
       "      <td>2013-01-07</td>\n",
       "      <td>1004</td>\n",
       "      <td>Unknown</td>\n",
       "      <td>False</td>\n",
       "      <td>False</td>\n",
       "      <td>4.0</td>\n",
       "      <td>[]</td>\n",
       "      <td>Der nasse Fisch</td>\n",
       "      <td>finished</td>\n",
       "      <td>/eintrag/1004</td>\n",
       "      <td>florian</td>\n",
       "    </tr>\n",
       "    <tr>\n",
       "      <th>150</th>\n",
       "      <td>Joseph Campbell</td>\n",
       "      <td>418</td>\n",
       "      <td>book</td>\n",
       "      <td>None</td>\n",
       "      <td>2015-01-19</td>\n",
       "      <td>992</td>\n",
       "      <td>Unknown</td>\n",
       "      <td>False</td>\n",
       "      <td>False</td>\n",
       "      <td>NaN</td>\n",
       "      <td>[]</td>\n",
       "      <td>The Hero with a Thousand Faces</td>\n",
       "      <td>wished</td>\n",
       "      <td>/eintrag/992</td>\n",
       "      <td>florian</td>\n",
       "    </tr>\n",
       "    <tr>\n",
       "      <th>151</th>\n",
       "      <td>Philip K. Dick</td>\n",
       "      <td>208</td>\n",
       "      <td>book</td>\n",
       "      <td>None</td>\n",
       "      <td>2015-01-19</td>\n",
       "      <td>991</td>\n",
       "      <td>Unknown</td>\n",
       "      <td>False</td>\n",
       "      <td>False</td>\n",
       "      <td>NaN</td>\n",
       "      <td>[]</td>\n",
       "      <td>Do Androids Dream of Electric Sheep?</td>\n",
       "      <td>wished</td>\n",
       "      <td>/eintrag/991</td>\n",
       "      <td>florian</td>\n",
       "    </tr>\n",
       "  </tbody>\n",
       "</table>\n",
       "<p>152 rows × 15 columns</p>\n",
       "</div>"
      ],
      "text/plain": [
       "               author  book_pages   book_type  \\\n",
       "0           J.L. Carr         144        book   \n",
       "1         James Clear         320        book   \n",
       "2     André Kostolany         240  audio_book   \n",
       "3       Robert Harris         320  audio_book   \n",
       "4       Morgan Housel         256        book   \n",
       "..                ...         ...         ...   \n",
       "147      Sam Williams         264        book   \n",
       "148  Malcolm Gladwell         304        book   \n",
       "149   Volker Kutscher         560        book   \n",
       "150   Joseph Campbell         418        book   \n",
       "151    Philip K. Dick         208        book   \n",
       "\n",
       "                                               comment       date     id  \\\n",
       "0    Eine kurze Geschichte. Schön geschrieben und a... 2020-10-18  38445   \n",
       "1    James Clear describes how habits work in your ... 2020-10-17  38441   \n",
       "2    Ein Hauch vergangener Zeiten. Angenehmes Hörbu... 2020-06-30  38406   \n",
       "3    I just finished the Von Braun biography 2 week... 2020-10-12  38405   \n",
       "4    I don't know how exactly to categorize this bo... 2020-10-06  38338   \n",
       "..                                                 ...        ...    ...   \n",
       "147  Some kind of biography about Richard Stallman ... 2013-02-12   1457   \n",
       "148  Interessant zu erfahren, dass manchmal eine sp... 2013-01-23   1019   \n",
       "149  Tolle Atmosphäre im Berlin der 1920er Jahre. S... 2013-01-07   1004   \n",
       "150                                               None 2015-01-19    992   \n",
       "151                                               None 2015-01-19    991   \n",
       "\n",
       "    language  pinned  private  rating                tags  \\\n",
       "0     German   False    False     4.0   [german, fiction]   \n",
       "1    English   False    False     4.0           [english]   \n",
       "2     German   False    False     4.0   [finance, german]   \n",
       "3    English   False    False     4.0  [english, fiction]   \n",
       "4    English   False    False     5.0  [english, finance]   \n",
       "..       ...     ...      ...     ...                 ...   \n",
       "147  Unknown   False    False     4.0                  []   \n",
       "148  Unknown   False    False     3.0                  []   \n",
       "149  Unknown   False    False     4.0                  []   \n",
       "150  Unknown   False    False     NaN                  []   \n",
       "151  Unknown   False    False     NaN                  []   \n",
       "\n",
       "                                    title      type             url username  \n",
       "0                  Ein Monat auf dem Land  finished  /eintrag/38445  florian  \n",
       "1                           Atomic Habits  finished  /eintrag/38441  florian  \n",
       "2       Die Kunst, über Geld nachzudenken  finished  /eintrag/38406  florian  \n",
       "3                                      V2  finished  /eintrag/38405  florian  \n",
       "4                 The Psychology of Money  finished  /eintrag/38338  florian  \n",
       "..                                    ...       ...             ...      ...  \n",
       "147                    Free as in Freedom  finished   /eintrag/1457  florian  \n",
       "148                                Blink!  finished   /eintrag/1019  florian  \n",
       "149                       Der nasse Fisch  finished   /eintrag/1004  florian  \n",
       "150        The Hero with a Thousand Faces    wished    /eintrag/992  florian  \n",
       "151  Do Androids Dream of Electric Sheep?    wished    /eintrag/991  florian  \n",
       "\n",
       "[152 rows x 15 columns]"
      ]
     },
     "execution_count": 31,
     "metadata": {},
     "output_type": "execute_result"
    }
   ],
   "source": [
    "def _language(tags):\n",
    "    for lang in ('German', 'English'):\n",
    "        if lang.lower() in tags:\n",
    "            return lang\n",
    "    return 'Unknown'\n",
    "\n",
    "drop_keys = ['book', 'user']\n",
    "books_flat = [\n",
    "    {\n",
    "        **{k:v for k, v in book.items() if k not in drop_keys},\n",
    "        **{\n",
    "            'author': book['book']['author']['name'],\n",
    "            'title': book['book']['title'],\n",
    "            'book_pages': book['book']['pages'],\n",
    "            'username': book['user']['username'],\n",
    "            'language': _language(book.get('tags'))\n",
    "         }\n",
    "    }\n",
    "    for book in books['entries']\n",
    "]\n",
    "\n",
    "df = pd.DataFrame(books_flat)\n",
    "df['date'] = df.date.str.replace('00', '01')  # fallback dates were day not specified\n",
    "df['date'] = pd.to_datetime(df['date'], format='%Y-%m-%d')\n",
    "df"
   ]
  },
  {
   "cell_type": "code",
   "execution_count": 7,
   "metadata": {},
   "outputs": [
    {
     "data": {
      "text/plain": [
       "author                object\n",
       "book_pages             int64\n",
       "book_type             object\n",
       "comment               object\n",
       "date          datetime64[ns]\n",
       "id                     int64\n",
       "pinned                  bool\n",
       "private                 bool\n",
       "rating               float64\n",
       "tags                  object\n",
       "title                 object\n",
       "type                  object\n",
       "url                   object\n",
       "username              object\n",
       "dtype: object"
      ]
     },
     "execution_count": 7,
     "metadata": {},
     "output_type": "execute_result"
    }
   ],
   "source": [
    "df.dtypes"
   ]
  },
  {
   "cell_type": "markdown",
   "metadata": {},
   "source": [
    "#  Mostly paper books, few audio books"
   ]
  },
  {
   "cell_type": "code",
   "execution_count": 8,
   "metadata": {},
   "outputs": [],
   "source": [
    "# df.book_type.value_counts().plot(kind='pie', leg)"
   ]
  },
  {
   "cell_type": "markdown",
   "metadata": {},
   "source": [
    "# How many books per year"
   ]
  },
  {
   "cell_type": "code",
   "execution_count": 9,
   "metadata": {},
   "outputs": [
    {
     "data": {
      "text/html": [
       "<div>\n",
       "<style scoped>\n",
       "    .dataframe tbody tr th:only-of-type {\n",
       "        vertical-align: middle;\n",
       "    }\n",
       "\n",
       "    .dataframe tbody tr th {\n",
       "        vertical-align: top;\n",
       "    }\n",
       "\n",
       "    .dataframe thead th {\n",
       "        text-align: right;\n",
       "    }\n",
       "</style>\n",
       "<table border=\"1\" class=\"dataframe\">\n",
       "  <thead>\n",
       "    <tr style=\"text-align: right;\">\n",
       "      <th></th>\n",
       "      <th>title</th>\n",
       "      <th>book_pages</th>\n",
       "    </tr>\n",
       "    <tr>\n",
       "      <th>year</th>\n",
       "      <th></th>\n",
       "      <th></th>\n",
       "    </tr>\n",
       "  </thead>\n",
       "  <tbody>\n",
       "    <tr>\n",
       "      <th>2013</th>\n",
       "      <td>24</td>\n",
       "      <td>6237</td>\n",
       "    </tr>\n",
       "    <tr>\n",
       "      <th>2014</th>\n",
       "      <td>13</td>\n",
       "      <td>4688</td>\n",
       "    </tr>\n",
       "    <tr>\n",
       "      <th>2015</th>\n",
       "      <td>10</td>\n",
       "      <td>3745</td>\n",
       "    </tr>\n",
       "    <tr>\n",
       "      <th>2016</th>\n",
       "      <td>16</td>\n",
       "      <td>6320</td>\n",
       "    </tr>\n",
       "    <tr>\n",
       "      <th>2017</th>\n",
       "      <td>23</td>\n",
       "      <td>8161</td>\n",
       "    </tr>\n",
       "    <tr>\n",
       "      <th>2018</th>\n",
       "      <td>20</td>\n",
       "      <td>6458</td>\n",
       "    </tr>\n",
       "    <tr>\n",
       "      <th>2019</th>\n",
       "      <td>29</td>\n",
       "      <td>9727</td>\n",
       "    </tr>\n",
       "    <tr>\n",
       "      <th>2020</th>\n",
       "      <td>17</td>\n",
       "      <td>6939</td>\n",
       "    </tr>\n",
       "  </tbody>\n",
       "</table>\n",
       "</div>"
      ],
      "text/plain": [
       "      title  book_pages\n",
       "year                   \n",
       "2013     24        6237\n",
       "2014     13        4688\n",
       "2015     10        3745\n",
       "2016     16        6320\n",
       "2017     23        8161\n",
       "2018     20        6458\n",
       "2019     29        9727\n",
       "2020     17        6939"
      ]
     },
     "execution_count": 9,
     "metadata": {},
     "output_type": "execute_result"
    }
   ],
   "source": [
    "yearly_stats = (\n",
    "    df.assign(\n",
    "        year=lambda entry: entry['date'].dt.year\n",
    "    )\n",
    "    .groupby('year')['title', 'book_pages']\n",
    ").agg({\n",
    "    'title': 'count',\n",
    "    'book_pages': 'sum'\n",
    "})\n",
    "yearly_stats"
   ]
  },
  {
   "cell_type": "markdown",
   "metadata": {},
   "source": [
    "## How many _books_ have I read each year?"
   ]
  },
  {
   "cell_type": "code",
   "execution_count": 10,
   "metadata": {},
   "outputs": [
    {
     "data": {
      "text/plain": [
       "<matplotlib.axes._subplots.AxesSubplot at 0x7f93b58b10f0>"
      ]
     },
     "execution_count": 10,
     "metadata": {},
     "output_type": "execute_result"
    },
    {
     "data": {
      "image/png": "[encoded data removed]",
      "text/plain": [
       "<Figure size 432x288 with 1 Axes>"
      ]
     },
     "metadata": {
      "needs_background": "light"
     },
     "output_type": "display_data"
    }
   ],
   "source": [
    "yearly_stats['title'].sort_index(ascending=False).plot(kind='bar')"
   ]
  },
  {
   "cell_type": "markdown",
   "metadata": {},
   "source": [
    "## How many _pages_ have I read each year?"
   ]
  },
  {
   "cell_type": "code",
   "execution_count": 11,
   "metadata": {},
   "outputs": [
    {
     "data": {
      "text/plain": [
       "<matplotlib.axes._subplots.AxesSubplot at 0x7f93b59616d8>"
      ]
     },
     "execution_count": 11,
     "metadata": {},
     "output_type": "execute_result"
    },
    {
     "data": {
      "image/png": "[encoded data removed]",
      "text/plain": [
       "<Figure size 432x288 with 1 Axes>"
      ]
     },
     "metadata": {
      "needs_background": "light"
     },
     "output_type": "display_data"
    }
   ],
   "source": [
    "yearly_stats['book_pages'].sort_index(ascending=False).plot(kind='bar')"
   ]
  },
  {
   "cell_type": "markdown",
   "metadata": {},
   "source": [
    "# What's the month where I read the most?"
   ]
  },
  {
   "cell_type": "code",
   "execution_count": 12,
   "metadata": {},
   "outputs": [
    {
     "data": {
      "text/plain": [
       "8"
      ]
     },
     "execution_count": 12,
     "metadata": {},
     "output_type": "execute_result"
    }
   ],
   "source": [
    "years = df.assign(\n",
    "    year=lambda entry: entry['date'].dt.year\n",
    ")['year']\n",
    "num_years = len(years.unique())\n",
    "num_years"
   ]
  },
  {
   "cell_type": "code",
   "execution_count": 13,
   "metadata": {},
   "outputs": [
    {
     "data": {
      "text/html": [
       "<div>\n",
       "<style scoped>\n",
       "    .dataframe tbody tr th:only-of-type {\n",
       "        vertical-align: middle;\n",
       "    }\n",
       "\n",
       "    .dataframe tbody tr th {\n",
       "        vertical-align: top;\n",
       "    }\n",
       "\n",
       "    .dataframe thead th {\n",
       "        text-align: right;\n",
       "    }\n",
       "</style>\n",
       "<table border=\"1\" class=\"dataframe\">\n",
       "  <thead>\n",
       "    <tr style=\"text-align: right;\">\n",
       "      <th></th>\n",
       "      <th>pages_per_month</th>\n",
       "      <th>books_per_month</th>\n",
       "    </tr>\n",
       "    <tr>\n",
       "      <th>year</th>\n",
       "      <th></th>\n",
       "      <th></th>\n",
       "    </tr>\n",
       "  </thead>\n",
       "  <tbody>\n",
       "    <tr>\n",
       "      <th>1</th>\n",
       "      <td>299.823529</td>\n",
       "      <td>2.125</td>\n",
       "    </tr>\n",
       "    <tr>\n",
       "      <th>2</th>\n",
       "      <td>382.941176</td>\n",
       "      <td>2.125</td>\n",
       "    </tr>\n",
       "    <tr>\n",
       "      <th>3</th>\n",
       "      <td>394.500000</td>\n",
       "      <td>0.750</td>\n",
       "    </tr>\n",
       "    <tr>\n",
       "      <th>4</th>\n",
       "      <td>419.444444</td>\n",
       "      <td>1.125</td>\n",
       "    </tr>\n",
       "    <tr>\n",
       "      <th>5</th>\n",
       "      <td>423.000000</td>\n",
       "      <td>1.000</td>\n",
       "    </tr>\n",
       "    <tr>\n",
       "      <th>6</th>\n",
       "      <td>426.800000</td>\n",
       "      <td>0.625</td>\n",
       "    </tr>\n",
       "    <tr>\n",
       "      <th>7</th>\n",
       "      <td>315.777778</td>\n",
       "      <td>1.125</td>\n",
       "    </tr>\n",
       "    <tr>\n",
       "      <th>8</th>\n",
       "      <td>331.181818</td>\n",
       "      <td>1.375</td>\n",
       "    </tr>\n",
       "    <tr>\n",
       "      <th>9</th>\n",
       "      <td>406.812500</td>\n",
       "      <td>2.000</td>\n",
       "    </tr>\n",
       "    <tr>\n",
       "      <th>10</th>\n",
       "      <td>346.187500</td>\n",
       "      <td>2.000</td>\n",
       "    </tr>\n",
       "    <tr>\n",
       "      <th>11</th>\n",
       "      <td>305.615385</td>\n",
       "      <td>1.625</td>\n",
       "    </tr>\n",
       "    <tr>\n",
       "      <th>12</th>\n",
       "      <td>260.080000</td>\n",
       "      <td>3.125</td>\n",
       "    </tr>\n",
       "  </tbody>\n",
       "</table>\n",
       "</div>"
      ],
      "text/plain": [
       "      pages_per_month  books_per_month\n",
       "year                                  \n",
       "1          299.823529            2.125\n",
       "2          382.941176            2.125\n",
       "3          394.500000            0.750\n",
       "4          419.444444            1.125\n",
       "5          423.000000            1.000\n",
       "6          426.800000            0.625\n",
       "7          315.777778            1.125\n",
       "8          331.181818            1.375\n",
       "9          406.812500            2.000\n",
       "10         346.187500            2.000\n",
       "11         305.615385            1.625\n",
       "12         260.080000            3.125"
      ]
     },
     "execution_count": 13,
     "metadata": {},
     "output_type": "execute_result"
    }
   ],
   "source": [
    "monthly_stats = (\n",
    "    df.assign(\n",
    "        year=lambda entry: entry['date'].dt.month\n",
    "    )\n",
    "    .groupby('year')['title', 'book_pages']\n",
    ").agg({\n",
    "    'title': 'count',  # FIXME: I need the mean of the count instead!\n",
    "    'book_pages': 'mean'\n",
    "}).rename(\n",
    "    columns={\n",
    "        'title': 'books_num_total',\n",
    "        'book_pages': 'pages_per_month'\n",
    "    }\n",
    ").assign(\n",
    "    books_per_month=lambda entry: (entry['books_num_total'] / num_years)\n",
    ")[\n",
    "    ['pages_per_month', 'books_per_month']\n",
    "]\n",
    "monthly_stats"
   ]
  },
  {
   "cell_type": "markdown",
   "metadata": {},
   "source": [
    "## December is when I read most books\n",
    "...to hit the reading goal?"
   ]
  },
  {
   "cell_type": "code",
   "execution_count": 14,
   "metadata": {},
   "outputs": [
    {
     "data": {
      "text/plain": [
       "<matplotlib.axes._subplots.AxesSubplot at 0x7f93b5a2f048>"
      ]
     },
     "execution_count": 14,
     "metadata": {},
     "output_type": "execute_result"
    },
    {
     "data": {
      "image/png": "[encoded data removed]",
      "text/plain": [
       "<Figure size 432x288 with 1 Axes>"
      ]
     },
     "metadata": {
      "needs_background": "light"
     },
     "output_type": "display_data"
    }
   ],
   "source": [
    "monthly_stats['books_per_month'].sort_index().plot(kind='bar')"
   ]
  },
  {
   "cell_type": "markdown",
   "metadata": {},
   "source": [
    "## However, books read in December are shorter on average\n",
    "Is it easier to hit the reading goal that way?"
   ]
  },
  {
   "cell_type": "code",
   "execution_count": 15,
   "metadata": {},
   "outputs": [
    {
     "data": {
      "text/plain": [
       "<matplotlib.axes._subplots.AxesSubplot at 0x7f93b589bb00>"
      ]
     },
     "execution_count": 15,
     "metadata": {},
     "output_type": "execute_result"
    },
    {
     "data": {
      "image/png": "[encoded data removed]",
      "text/plain": [
       "<Figure size 432x288 with 1 Axes>"
      ]
     },
     "metadata": {
      "needs_background": "light"
     },
     "output_type": "display_data"
    }
   ],
   "source": [
    "monthly_stats['pages_per_month'].sort_index().plot(kind='bar')"
   ]
  },
  {
   "cell_type": "code",
   "execution_count": 16,
   "metadata": {},
   "outputs": [],
   "source": [
    "# Do I like the books I read?"
   ]
  },
  {
   "cell_type": "markdown",
   "metadata": {},
   "source": [
    "# Ratings"
   ]
  },
  {
   "cell_type": "code",
   "execution_count": 17,
   "metadata": {},
   "outputs": [
    {
     "name": "stderr",
     "output_type": "stream",
     "text": [
      "/Users/flo/miniconda3/envs/learn-ml/lib/python3.5/site-packages/ipykernel_launcher.py:4: UserWarning: Boolean Series key will be reindexed to match DataFrame index.\n",
      "  after removing the cwd from sys.path.\n"
     ]
    },
    {
     "data": {
      "text/plain": [
       "<matplotlib.axes._subplots.AxesSubplot at 0x7f93b5bace10>"
      ]
     },
     "execution_count": 17,
     "metadata": {},
     "output_type": "execute_result"
    },
    {
     "data": {
      "image/png": "[encoded data removed]",
      "text/plain": [
       "<Figure size 432x288 with 1 Axes>"
      ]
     },
     "metadata": {
      "needs_background": "light"
     },
     "output_type": "display_data"
    }
   ],
   "source": [
    "df_rated = (\n",
    "    df\n",
    "    [df.rating.notnull()]\n",
    "    [df.rating>0]\n",
    ")\n",
    "df_rated.rating.value_counts().sort_index().plot(kind='bar')"
   ]
  },
  {
   "cell_type": "code",
   "execution_count": 18,
   "metadata": {},
   "outputs": [
    {
     "name": "stdout",
     "output_type": "stream",
     "text": [
      "3\n",
      "3\n",
      "6\n"
     ]
    },
    {
     "data": {
      "text/html": [
       "<div>\n",
       "<style scoped>\n",
       "    .dataframe tbody tr th:only-of-type {\n",
       "        vertical-align: middle;\n",
       "    }\n",
       "\n",
       "    .dataframe tbody tr th {\n",
       "        vertical-align: top;\n",
       "    }\n",
       "\n",
       "    .dataframe thead th {\n",
       "        text-align: right;\n",
       "    }\n",
       "</style>\n",
       "<table border=\"1\" class=\"dataframe\">\n",
       "  <thead>\n",
       "    <tr style=\"text-align: right;\">\n",
       "      <th></th>\n",
       "      <th>author</th>\n",
       "      <th>book_pages</th>\n",
       "      <th>book_type</th>\n",
       "      <th>comment</th>\n",
       "      <th>date</th>\n",
       "      <th>id</th>\n",
       "      <th>pinned</th>\n",
       "      <th>private</th>\n",
       "      <th>rating</th>\n",
       "      <th>tags</th>\n",
       "      <th>title</th>\n",
       "      <th>type</th>\n",
       "      <th>url</th>\n",
       "      <th>username</th>\n",
       "    </tr>\n",
       "  </thead>\n",
       "  <tbody>\n",
       "    <tr>\n",
       "      <th>11</th>\n",
       "      <td>Steven S. Skiena</td>\n",
       "      <td>445</td>\n",
       "      <td>book</td>\n",
       "      <td>Read this as part of our \"Data Science Study G...</td>\n",
       "      <td>2020-07-13</td>\n",
       "      <td>37486</td>\n",
       "      <td>False</td>\n",
       "      <td>False</td>\n",
       "      <td>0.0</td>\n",
       "      <td>[english, science, tech]</td>\n",
       "      <td>The Data Science Design Manual</td>\n",
       "      <td>finished</td>\n",
       "      <td>/eintrag/37486</td>\n",
       "      <td>florian</td>\n",
       "    </tr>\n",
       "    <tr>\n",
       "      <th>55</th>\n",
       "      <td>Ben Aaronovitch</td>\n",
       "      <td>395</td>\n",
       "      <td>book</td>\n",
       "      <td>After a couple of non-fiction books, I wanted ...</td>\n",
       "      <td>2018-11-24</td>\n",
       "      <td>29202</td>\n",
       "      <td>False</td>\n",
       "      <td>False</td>\n",
       "      <td>0.0</td>\n",
       "      <td>[english, novel]</td>\n",
       "      <td>Rivers Of London</td>\n",
       "      <td>finished</td>\n",
       "      <td>/eintrag/29202</td>\n",
       "      <td>florian</td>\n",
       "    </tr>\n",
       "    <tr>\n",
       "      <th>62</th>\n",
       "      <td>Wolfram Wette</td>\n",
       "      <td>288</td>\n",
       "      <td>book</td>\n",
       "      <td>Karl Jäger, von seinen Nachbarn als feinsinnig...</td>\n",
       "      <td>2018-02-19</td>\n",
       "      <td>22414</td>\n",
       "      <td>False</td>\n",
       "      <td>False</td>\n",
       "      <td>0.0</td>\n",
       "      <td>[german, biography, history, ww2]</td>\n",
       "      <td>Karl Jäger</td>\n",
       "      <td>finished</td>\n",
       "      <td>/eintrag/22414</td>\n",
       "      <td>florian</td>\n",
       "    </tr>\n",
       "    <tr>\n",
       "      <th>63</th>\n",
       "      <td>Hannah Arendt</td>\n",
       "      <td>448</td>\n",
       "      <td>book</td>\n",
       "      <td>Es gibt so viel aus der deutschen Geschichte, ...</td>\n",
       "      <td>2018-02-11</td>\n",
       "      <td>22299</td>\n",
       "      <td>False</td>\n",
       "      <td>False</td>\n",
       "      <td>0.0</td>\n",
       "      <td>[german, history, philosophy, ww2, biography]</td>\n",
       "      <td>Eichmann in Jerusalem: Ein Bericht von der Ban...</td>\n",
       "      <td>finished</td>\n",
       "      <td>/eintrag/22299</td>\n",
       "      <td>florian</td>\n",
       "    </tr>\n",
       "    <tr>\n",
       "      <th>64</th>\n",
       "      <td>Ernst Klee</td>\n",
       "      <td>191</td>\n",
       "      <td>book</td>\n",
       "      <td>Spannende Rechercheergebnisse, wie die deutsch...</td>\n",
       "      <td>2018-01-25</td>\n",
       "      <td>22298</td>\n",
       "      <td>False</td>\n",
       "      <td>False</td>\n",
       "      <td>0.0</td>\n",
       "      <td>[german, history, ww2]</td>\n",
       "      <td>Persilscheine und falsche Pässe</td>\n",
       "      <td>finished</td>\n",
       "      <td>/eintrag/22298</td>\n",
       "      <td>florian</td>\n",
       "    </tr>\n",
       "    <tr>\n",
       "      <th>92</th>\n",
       "      <td>Jeffrey Eugenides</td>\n",
       "      <td>596</td>\n",
       "      <td>book</td>\n",
       "      <td>None</td>\n",
       "      <td>2016-11-09</td>\n",
       "      <td>15190</td>\n",
       "      <td>False</td>\n",
       "      <td>False</td>\n",
       "      <td>0.0</td>\n",
       "      <td>[]</td>\n",
       "      <td>Middlesex</td>\n",
       "      <td>wished</td>\n",
       "      <td>/eintrag/15190</td>\n",
       "      <td>florian</td>\n",
       "    </tr>\n",
       "  </tbody>\n",
       "</table>\n",
       "</div>"
      ],
      "text/plain": [
       "               author  book_pages book_type  \\\n",
       "11   Steven S. Skiena         445      book   \n",
       "55    Ben Aaronovitch         395      book   \n",
       "62      Wolfram Wette         288      book   \n",
       "63      Hannah Arendt         448      book   \n",
       "64         Ernst Klee         191      book   \n",
       "92  Jeffrey Eugenides         596      book   \n",
       "\n",
       "                                              comment       date     id  \\\n",
       "11  Read this as part of our \"Data Science Study G... 2020-07-13  37486   \n",
       "55  After a couple of non-fiction books, I wanted ... 2018-11-24  29202   \n",
       "62  Karl Jäger, von seinen Nachbarn als feinsinnig... 2018-02-19  22414   \n",
       "63  Es gibt so viel aus der deutschen Geschichte, ... 2018-02-11  22299   \n",
       "64  Spannende Rechercheergebnisse, wie die deutsch... 2018-01-25  22298   \n",
       "92                                               None 2016-11-09  15190   \n",
       "\n",
       "    pinned  private  rating                                           tags  \\\n",
       "11   False    False     0.0                       [english, science, tech]   \n",
       "55   False    False     0.0                               [english, novel]   \n",
       "62   False    False     0.0              [german, biography, history, ww2]   \n",
       "63   False    False     0.0  [german, history, philosophy, ww2, biography]   \n",
       "64   False    False     0.0                         [german, history, ww2]   \n",
       "92   False    False     0.0                                             []   \n",
       "\n",
       "                                                title      type  \\\n",
       "11                     The Data Science Design Manual  finished   \n",
       "55                                   Rivers Of London  finished   \n",
       "62                                         Karl Jäger  finished   \n",
       "63  Eichmann in Jerusalem: Ein Bericht von der Ban...  finished   \n",
       "64                    Persilscheine und falsche Pässe  finished   \n",
       "92                                          Middlesex    wished   \n",
       "\n",
       "               url username  \n",
       "11  /eintrag/37486  florian  \n",
       "55  /eintrag/29202  florian  \n",
       "62  /eintrag/22414  florian  \n",
       "63  /eintrag/22299  florian  \n",
       "64  /eintrag/22298  florian  \n",
       "92  /eintrag/15190  florian  "
      ]
     },
     "execution_count": 18,
     "metadata": {},
     "output_type": "execute_result"
    }
   ],
   "source": [
    "# Odd: some non-rated books have rating None, some have rating 0.0\n",
    "print(len(df[df.rating.isna()]))\n",
    "print(len(df[df.rating.isnull()]))\n",
    "print(len(df[df.rating==0.0]))\n",
    "df[df.rating==0.0]"
   ]
  },
  {
   "cell_type": "markdown",
   "metadata": {},
   "source": [
    "## Distribution of book lengths"
   ]
  },
  {
   "cell_type": "code",
   "execution_count": 19,
   "metadata": {},
   "outputs": [
    {
     "data": {
      "text/plain": [
       "<matplotlib.axes._subplots.AxesSubplot at 0x7f93b5c42f60>"
      ]
     },
     "execution_count": 19,
     "metadata": {},
     "output_type": "execute_result"
    },
    {
     "data": {
      "image/png": "[encoded data removed]",
      "text/plain": [
       "<Figure size 432x288 with 1 Axes>"
      ]
     },
     "metadata": {
      "needs_background": "light"
     },
     "output_type": "display_data"
    }
   ],
   "source": [
    "df_rated.book_pages.plot.hist(bins=20)"
   ]
  },
  {
   "cell_type": "markdown",
   "metadata": {},
   "source": [
    "## Do I rate longer books higher?"
   ]
  },
  {
   "cell_type": "code",
   "execution_count": 20,
   "metadata": {},
   "outputs": [
    {
     "data": {
      "text/plain": [
       "<matplotlib.axes._subplots.AxesSubplot at 0x7f93b5d0e198>"
      ]
     },
     "execution_count": 20,
     "metadata": {},
     "output_type": "execute_result"
    },
    {
     "data": {
      "image/png": "[encoded data removed]",
      "text/plain": [
       "<Figure size 432x288 with 1 Axes>"
      ]
     },
     "metadata": {
      "needs_background": "light"
     },
     "output_type": "display_data"
    }
   ],
   "source": [
    "df_rated.plot.scatter(x='book_pages', y='rating')"
   ]
  },
  {
   "cell_type": "markdown",
   "metadata": {},
   "source": [
    "# Split books in short / medium / long"
   ]
  },
  {
   "cell_type": "code",
   "execution_count": 21,
   "metadata": {},
   "outputs": [
    {
     "data": {
      "text/plain": [
       "(58.999, 256.0]    54\n",
       "(363.0, 1080.0]    51\n",
       "(256.0, 363.0]     47\n",
       "Name: book_pages, dtype: int64"
      ]
     },
     "execution_count": 21,
     "metadata": {},
     "output_type": "execute_result"
    }
   ],
   "source": [
    "# auto split is not to my taste. \"long\" should start later\n",
    "pd.qcut(df.book_pages, 3).value_counts()"
   ]
  },
  {
   "cell_type": "code",
   "execution_count": 22,
   "metadata": {},
   "outputs": [
    {
     "data": {
      "text/plain": [
       "(221.75, 404.0]     76\n",
       "(404.0, 1080.0]     38\n",
       "(58.999, 221.75]    38\n",
       "Name: book_pages, dtype: int64"
      ]
     },
     "execution_count": 22,
     "metadata": {},
     "output_type": "execute_result"
    }
   ],
   "source": [
    "# I want to call the middle 50% \"Medium\" and distribute the other lengths equally to the sides\n",
    "pd.qcut(df.book_pages, [0, 0.25, 0.75, 1.]).value_counts()"
   ]
  },
  {
   "cell_type": "code",
   "execution_count": 23,
   "metadata": {},
   "outputs": [
    {
     "data": {
      "text/plain": [
       "Medium    76\n",
       "Long      38\n",
       "Short     38\n",
       "Name: book_pages, dtype: int64"
      ]
     },
     "execution_count": 23,
     "metadata": {},
     "output_type": "execute_result"
    }
   ],
   "source": [
    "# Now actually assign some names\n",
    "book_length = pd.qcut(df.book_pages, [0, 0.25, 0.75, 1.], labels=['Short', 'Medium', 'Long'])\n",
    "book_length.value_counts()"
   ]
  },
  {
   "cell_type": "markdown",
   "metadata": {},
   "source": [
    "# How do ratings vary by book length and paper vs. audio book (pivot table!)"
   ]
  },
  {
   "cell_type": "code",
   "execution_count": 24,
   "metadata": {},
   "outputs": [
    {
     "data": {
      "text/html": [
       "<div>\n",
       "<style scoped>\n",
       "    .dataframe tbody tr th:only-of-type {\n",
       "        vertical-align: middle;\n",
       "    }\n",
       "\n",
       "    .dataframe tbody tr th {\n",
       "        vertical-align: top;\n",
       "    }\n",
       "\n",
       "    .dataframe thead th {\n",
       "        text-align: right;\n",
       "    }\n",
       "</style>\n",
       "<table border=\"1\" class=\"dataframe\">\n",
       "  <thead>\n",
       "    <tr style=\"text-align: right;\">\n",
       "      <th>book_type</th>\n",
       "      <th>audio_book</th>\n",
       "      <th>book</th>\n",
       "    </tr>\n",
       "    <tr>\n",
       "      <th>book_length</th>\n",
       "      <th></th>\n",
       "      <th></th>\n",
       "    </tr>\n",
       "  </thead>\n",
       "  <tbody>\n",
       "    <tr>\n",
       "      <th>Short</th>\n",
       "      <td>NaN</td>\n",
       "      <td>3.594595</td>\n",
       "    </tr>\n",
       "    <tr>\n",
       "      <th>Medium</th>\n",
       "      <td>4.25</td>\n",
       "      <td>3.760563</td>\n",
       "    </tr>\n",
       "    <tr>\n",
       "      <th>Long</th>\n",
       "      <td>4.00</td>\n",
       "      <td>3.571429</td>\n",
       "    </tr>\n",
       "  </tbody>\n",
       "</table>\n",
       "</div>"
      ],
      "text/plain": [
       "book_type    audio_book      book\n",
       "book_length                      \n",
       "Short               NaN  3.594595\n",
       "Medium             4.25  3.760563\n",
       "Long               4.00  3.571429"
      ]
     },
     "execution_count": 24,
     "metadata": {},
     "output_type": "execute_result"
    }
   ],
   "source": [
    "rating_per_length_and_type = df.assign(\n",
    "    book_length=book_length\n",
    ").pivot_table(\n",
    "    values='rating',\n",
    "    index='book_length',\n",
    "    columns='book_type'\n",
    ")\n",
    "rating_per_length_and_type"
   ]
  },
  {
   "cell_type": "code",
   "execution_count": 25,
   "metadata": {},
   "outputs": [
    {
     "data": {
      "text/plain": [
       "<matplotlib.axes._subplots.AxesSubplot at 0x7f93b5d49b00>"
      ]
     },
     "execution_count": 25,
     "metadata": {},
     "output_type": "execute_result"
    },
    {
     "data": {
      "image/png": "[encoded data removed]",
      "text/plain": [
       "<Figure size 432x288 with 1 Axes>"
      ]
     },
     "metadata": {
      "needs_background": "light"
     },
     "output_type": "display_data"
    }
   ],
   "source": [
    "rating_per_length_and_type.plot.bar()"
   ]
  },
  {
   "cell_type": "code",
   "execution_count": 26,
   "metadata": {},
   "outputs": [
    {
     "data": {
      "text/html": [
       "<div>\n",
       "<style scoped>\n",
       "    .dataframe tbody tr th:only-of-type {\n",
       "        vertical-align: middle;\n",
       "    }\n",
       "\n",
       "    .dataframe tbody tr th {\n",
       "        vertical-align: top;\n",
       "    }\n",
       "\n",
       "    .dataframe thead tr th {\n",
       "        text-align: left;\n",
       "    }\n",
       "\n",
       "    .dataframe thead tr:last-of-type th {\n",
       "        text-align: right;\n",
       "    }\n",
       "</style>\n",
       "<table border=\"1\" class=\"dataframe\">\n",
       "  <thead>\n",
       "    <tr>\n",
       "      <th></th>\n",
       "      <th colspan=\"2\" halign=\"left\">book_pages</th>\n",
       "    </tr>\n",
       "    <tr>\n",
       "      <th></th>\n",
       "      <th>mean</th>\n",
       "      <th>std</th>\n",
       "    </tr>\n",
       "    <tr>\n",
       "      <th>rating</th>\n",
       "      <th></th>\n",
       "      <th></th>\n",
       "    </tr>\n",
       "  </thead>\n",
       "  <tbody>\n",
       "    <tr>\n",
       "      <th>1.0</th>\n",
       "      <td>202.000000</td>\n",
       "      <td>0.000000</td>\n",
       "    </tr>\n",
       "    <tr>\n",
       "      <th>2.0</th>\n",
       "      <td>317.555556</td>\n",
       "      <td>159.232622</td>\n",
       "    </tr>\n",
       "    <tr>\n",
       "      <th>3.0</th>\n",
       "      <td>341.740741</td>\n",
       "      <td>211.662757</td>\n",
       "    </tr>\n",
       "    <tr>\n",
       "      <th>4.0</th>\n",
       "      <td>349.175000</td>\n",
       "      <td>208.061747</td>\n",
       "    </tr>\n",
       "    <tr>\n",
       "      <th>5.0</th>\n",
       "      <td>340.115385</td>\n",
       "      <td>160.006082</td>\n",
       "    </tr>\n",
       "  </tbody>\n",
       "</table>\n",
       "</div>"
      ],
      "text/plain": [
       "        book_pages            \n",
       "              mean         std\n",
       "rating                        \n",
       "1.0     202.000000    0.000000\n",
       "2.0     317.555556  159.232622\n",
       "3.0     341.740741  211.662757\n",
       "4.0     349.175000  208.061747\n",
       "5.0     340.115385  160.006082"
      ]
     },
     "execution_count": 26,
     "metadata": {},
     "output_type": "execute_result"
    }
   ],
   "source": [
    "pages_per_rating = df_rated[\n",
    "    ['rating', 'book_pages']\n",
    "].groupby('rating').agg(['mean', 'std']).fillna(0)\n",
    "pages_per_rating"
   ]
  },
  {
   "cell_type": "code",
   "execution_count": 27,
   "metadata": {},
   "outputs": [
    {
     "data": {
      "text/plain": [
       "<matplotlib.axes._subplots.AxesSubplot at 0x7f93b5e90a20>"
      ]
     },
     "execution_count": 27,
     "metadata": {},
     "output_type": "execute_result"
    },
    {
     "data": {
      "image/png": "[encoded data removed]",
      "text/plain": [
       "<Figure size 432x288 with 1 Axes>"
      ]
     },
     "metadata": {
      "needs_background": "light"
     },
     "output_type": "display_data"
    }
   ],
   "source": [
    "pages_per_rating.book_pages.plot.bar(y='mean', yerr='std')"
   ]
  },
  {
   "cell_type": "markdown",
   "metadata": {},
   "source": [
    "# Do I write longer comments for longer books?"
   ]
  },
  {
   "cell_type": "code",
   "execution_count": 28,
   "metadata": {},
   "outputs": [
    {
     "data": {
      "text/plain": [
       "<matplotlib.axes._subplots.AxesSubplot at 0x7f93b5ed8438>"
      ]
     },
     "execution_count": 28,
     "metadata": {},
     "output_type": "execute_result"
    },
    {
     "data": {
      "image/png": "[encoded data removed]",
      "text/plain": [
       "<Figure size 720x720 with 2 Axes>"
      ]
     },
     "metadata": {
      "needs_background": "light"
     },
     "output_type": "display_data"
    }
   ],
   "source": [
    "df.assign(\n",
    "    comment_length=lambda entry: entry.comment.str.len()\n",
    ").fillna(0).plot.scatter(\n",
    "    x='book_pages',\n",
    "    y='comment_length',\n",
    "    c='rating',\n",
    "    colormap='coolwarm_r',\n",
    "    figsize=(10,10),\n",
    "    s=50  # marker size\n",
    ")"
   ]
  },
  {
   "cell_type": "markdown",
   "metadata": {},
   "source": [
    "# Compare language and genre preferences over time\n",
    "Currently not all books are tagged"
   ]
  },
  {
   "cell_type": "code",
   "execution_count": 44,
   "metadata": {},
   "outputs": [
    {
     "data": {
      "text/html": [
       "<div>\n",
       "<style scoped>\n",
       "    .dataframe tbody tr th:only-of-type {\n",
       "        vertical-align: middle;\n",
       "    }\n",
       "\n",
       "    .dataframe tbody tr th {\n",
       "        vertical-align: top;\n",
       "    }\n",
       "\n",
       "    .dataframe thead th {\n",
       "        text-align: right;\n",
       "    }\n",
       "</style>\n",
       "<table border=\"1\" class=\"dataframe\">\n",
       "  <thead>\n",
       "    <tr style=\"text-align: right;\">\n",
       "      <th>language</th>\n",
       "      <th>English</th>\n",
       "      <th>German</th>\n",
       "      <th>Unknown</th>\n",
       "      <th>All</th>\n",
       "    </tr>\n",
       "    <tr>\n",
       "      <th>year</th>\n",
       "      <th></th>\n",
       "      <th></th>\n",
       "      <th></th>\n",
       "      <th></th>\n",
       "    </tr>\n",
       "  </thead>\n",
       "  <tbody>\n",
       "    <tr>\n",
       "      <th>2013</th>\n",
       "      <td>0</td>\n",
       "      <td>0</td>\n",
       "      <td>24</td>\n",
       "      <td>24</td>\n",
       "    </tr>\n",
       "    <tr>\n",
       "      <th>2014</th>\n",
       "      <td>0</td>\n",
       "      <td>0</td>\n",
       "      <td>13</td>\n",
       "      <td>13</td>\n",
       "    </tr>\n",
       "    <tr>\n",
       "      <th>2015</th>\n",
       "      <td>0</td>\n",
       "      <td>0</td>\n",
       "      <td>10</td>\n",
       "      <td>10</td>\n",
       "    </tr>\n",
       "    <tr>\n",
       "      <th>2016</th>\n",
       "      <td>0</td>\n",
       "      <td>0</td>\n",
       "      <td>16</td>\n",
       "      <td>16</td>\n",
       "    </tr>\n",
       "    <tr>\n",
       "      <th>2017</th>\n",
       "      <td>0</td>\n",
       "      <td>0</td>\n",
       "      <td>23</td>\n",
       "      <td>23</td>\n",
       "    </tr>\n",
       "    <tr>\n",
       "      <th>2018</th>\n",
       "      <td>9</td>\n",
       "      <td>11</td>\n",
       "      <td>0</td>\n",
       "      <td>20</td>\n",
       "    </tr>\n",
       "    <tr>\n",
       "      <th>2019</th>\n",
       "      <td>18</td>\n",
       "      <td>11</td>\n",
       "      <td>0</td>\n",
       "      <td>29</td>\n",
       "    </tr>\n",
       "    <tr>\n",
       "      <th>2020</th>\n",
       "      <td>12</td>\n",
       "      <td>3</td>\n",
       "      <td>2</td>\n",
       "      <td>17</td>\n",
       "    </tr>\n",
       "    <tr>\n",
       "      <th>All</th>\n",
       "      <td>39</td>\n",
       "      <td>25</td>\n",
       "      <td>88</td>\n",
       "      <td>152</td>\n",
       "    </tr>\n",
       "  </tbody>\n",
       "</table>\n",
       "</div>"
      ],
      "text/plain": [
       "language  English  German  Unknown  All\n",
       "year                                   \n",
       "2013            0       0       24   24\n",
       "2014            0       0       13   13\n",
       "2015            0       0       10   10\n",
       "2016            0       0       16   16\n",
       "2017            0       0       23   23\n",
       "2018            9      11        0   20\n",
       "2019           18      11        0   29\n",
       "2020           12       3        2   17\n",
       "All            39      25       88  152"
      ]
     },
     "execution_count": 44,
     "metadata": {},
     "output_type": "execute_result"
    }
   ],
   "source": [
    "table_1 = pd.pivot_table(\n",
    "    df.assign(\n",
    "        year=lambda entry: entry['date'].dt.year\n",
    "    ),\n",
    "    index='year',\n",
    "    columns='language',\n",
    "    \n",
    "    # count number of books (=number of titles)\n",
    "    values='title',\n",
    "    aggfunc='count',\n",
    "    \n",
    "    # prepare so that we can calculate percentages in next step\n",
    "    fill_value=0,\n",
    "    margins=True\n",
    ")\n",
    "table_1"
   ]
  },
  {
   "cell_type": "code",
   "execution_count": 47,
   "metadata": {},
   "outputs": [
    {
     "data": {
      "text/html": [
       "<div>\n",
       "<style scoped>\n",
       "    .dataframe tbody tr th:only-of-type {\n",
       "        vertical-align: middle;\n",
       "    }\n",
       "\n",
       "    .dataframe tbody tr th {\n",
       "        vertical-align: top;\n",
       "    }\n",
       "\n",
       "    .dataframe thead th {\n",
       "        text-align: right;\n",
       "    }\n",
       "</style>\n",
       "<table border=\"1\" class=\"dataframe\">\n",
       "  <thead>\n",
       "    <tr style=\"text-align: right;\">\n",
       "      <th>language</th>\n",
       "      <th>English</th>\n",
       "      <th>German</th>\n",
       "      <th>Unknown</th>\n",
       "      <th>All</th>\n",
       "    </tr>\n",
       "    <tr>\n",
       "      <th>year</th>\n",
       "      <th></th>\n",
       "      <th></th>\n",
       "      <th></th>\n",
       "      <th></th>\n",
       "    </tr>\n",
       "  </thead>\n",
       "  <tbody>\n",
       "    <tr>\n",
       "      <th>2013</th>\n",
       "      <td>0.000000</td>\n",
       "      <td>0.000000</td>\n",
       "      <td>1.000000</td>\n",
       "      <td>1.0</td>\n",
       "    </tr>\n",
       "    <tr>\n",
       "      <th>2014</th>\n",
       "      <td>0.000000</td>\n",
       "      <td>0.000000</td>\n",
       "      <td>1.000000</td>\n",
       "      <td>1.0</td>\n",
       "    </tr>\n",
       "    <tr>\n",
       "      <th>2015</th>\n",
       "      <td>0.000000</td>\n",
       "      <td>0.000000</td>\n",
       "      <td>1.000000</td>\n",
       "      <td>1.0</td>\n",
       "    </tr>\n",
       "    <tr>\n",
       "      <th>2016</th>\n",
       "      <td>0.000000</td>\n",
       "      <td>0.000000</td>\n",
       "      <td>1.000000</td>\n",
       "      <td>1.0</td>\n",
       "    </tr>\n",
       "    <tr>\n",
       "      <th>2017</th>\n",
       "      <td>0.000000</td>\n",
       "      <td>0.000000</td>\n",
       "      <td>1.000000</td>\n",
       "      <td>1.0</td>\n",
       "    </tr>\n",
       "    <tr>\n",
       "      <th>2018</th>\n",
       "      <td>0.450000</td>\n",
       "      <td>0.550000</td>\n",
       "      <td>0.000000</td>\n",
       "      <td>1.0</td>\n",
       "    </tr>\n",
       "    <tr>\n",
       "      <th>2019</th>\n",
       "      <td>0.620690</td>\n",
       "      <td>0.379310</td>\n",
       "      <td>0.000000</td>\n",
       "      <td>1.0</td>\n",
       "    </tr>\n",
       "    <tr>\n",
       "      <th>2020</th>\n",
       "      <td>0.705882</td>\n",
       "      <td>0.176471</td>\n",
       "      <td>0.117647</td>\n",
       "      <td>1.0</td>\n",
       "    </tr>\n",
       "    <tr>\n",
       "      <th>All</th>\n",
       "      <td>0.256579</td>\n",
       "      <td>0.164474</td>\n",
       "      <td>0.578947</td>\n",
       "      <td>1.0</td>\n",
       "    </tr>\n",
       "  </tbody>\n",
       "</table>\n",
       "</div>"
      ],
      "text/plain": [
       "language   English    German   Unknown  All\n",
       "year                                       \n",
       "2013      0.000000  0.000000  1.000000  1.0\n",
       "2014      0.000000  0.000000  1.000000  1.0\n",
       "2015      0.000000  0.000000  1.000000  1.0\n",
       "2016      0.000000  0.000000  1.000000  1.0\n",
       "2017      0.000000  0.000000  1.000000  1.0\n",
       "2018      0.450000  0.550000  0.000000  1.0\n",
       "2019      0.620690  0.379310  0.000000  1.0\n",
       "2020      0.705882  0.176471  0.117647  1.0\n",
       "All       0.256579  0.164474  0.578947  1.0"
      ]
     },
     "execution_count": 47,
     "metadata": {},
     "output_type": "execute_result"
    }
   ],
   "source": [
    "# Display percentages\n",
    "table_2 = table_1.div(table_1.All, axis=0)\n",
    "table_2"
   ]
  },
  {
   "cell_type": "code",
   "execution_count": 70,
   "metadata": {},
   "outputs": [
    {
     "data": {
      "text/plain": [
       "<matplotlib.axes._subplots.AxesSubplot at 0x7f93b6c6e4a8>"
      ]
     },
     "execution_count": 70,
     "metadata": {},
     "output_type": "execute_result"
    },
    {
     "data": {
      "image/png": "[encoded data removed]",
      "text/plain": [
       "<Figure size 432x288 with 1 Axes>"
      ]
     },
     "metadata": {
      "needs_background": "light"
     },
     "output_type": "display_data"
    },
    {
     "data": {
      "image/png": "[encoded data removed]",
      "text/plain": [
       "<Figure size 432x288 with 1 Axes>"
      ]
     },
     "metadata": {
      "needs_background": "light"
     },
     "output_type": "display_data"
    }
   ],
   "source": [
    "tagged_years = table_2.loc[\n",
    "    [2018, 2019, 2020]\n",
    "][\n",
    "    ['English', 'German', 'Unknown']  # hide 'All'\n",
    "]\n",
    "tagged_years.plot.line()\n",
    "tagged_years.plot.bar()"
   ]
  },
  {
   "cell_type": "code",
   "execution_count": 38,
   "metadata": {},
   "outputs": [
    {
     "data": {
      "text/plain": [
       "\u001b[0;31mSignature:\u001b[0m \u001b[0mpd\u001b[0m\u001b[0;34m.\u001b[0m\u001b[0mpivot_table\u001b[0m\u001b[0;34m(\u001b[0m\u001b[0mdata\u001b[0m\u001b[0;34m,\u001b[0m \u001b[0mvalues\u001b[0m\u001b[0;34m=\u001b[0m\u001b[0;32mNone\u001b[0m\u001b[0;34m,\u001b[0m \u001b[0mindex\u001b[0m\u001b[0;34m=\u001b[0m\u001b[0;32mNone\u001b[0m\u001b[0;34m,\u001b[0m \u001b[0mcolumns\u001b[0m\u001b[0;34m=\u001b[0m\u001b[0;32mNone\u001b[0m\u001b[0;34m,\u001b[0m \u001b[0maggfunc\u001b[0m\u001b[0;34m=\u001b[0m\u001b[0;34m'mean'\u001b[0m\u001b[0;34m,\u001b[0m \u001b[0mfill_value\u001b[0m\u001b[0;34m=\u001b[0m\u001b[0;32mNone\u001b[0m\u001b[0;34m,\u001b[0m \u001b[0mmargins\u001b[0m\u001b[0;34m=\u001b[0m\u001b[0;32mFalse\u001b[0m\u001b[0;34m,\u001b[0m \u001b[0mdropna\u001b[0m\u001b[0;34m=\u001b[0m\u001b[0;32mTrue\u001b[0m\u001b[0;34m,\u001b[0m \u001b[0mmargins_name\u001b[0m\u001b[0;34m=\u001b[0m\u001b[0;34m'All'\u001b[0m\u001b[0;34m,\u001b[0m \u001b[0mobserved\u001b[0m\u001b[0;34m=\u001b[0m\u001b[0;32mFalse\u001b[0m\u001b[0;34m)\u001b[0m\u001b[0;34m\u001b[0m\u001b[0m\n",
       "\u001b[0;31mDocstring:\u001b[0m\n",
       "Create a spreadsheet-style pivot table as a DataFrame. The levels in\n",
       "the pivot table will be stored in MultiIndex objects (hierarchical\n",
       "indexes) on the index and columns of the result DataFrame.\n",
       "\n",
       "Parameters\n",
       "----------\n",
       "data : DataFrame\n",
       "values : column to aggregate, optional\n",
       "index : column, Grouper, array, or list of the previous\n",
       "    If an array is passed, it must be the same length as the data. The\n",
       "    list can contain any of the other types (except list).\n",
       "    Keys to group by on the pivot table index.  If an array is passed,\n",
       "    it is being used as the same manner as column values.\n",
       "columns : column, Grouper, array, or list of the previous\n",
       "    If an array is passed, it must be the same length as the data. The\n",
       "    list can contain any of the other types (except list).\n",
       "    Keys to group by on the pivot table column.  If an array is passed,\n",
       "    it is being used as the same manner as column values.\n",
       "aggfunc : function, list of functions, dict, default numpy.mean\n",
       "    If list of functions passed, the resulting pivot table will have\n",
       "    hierarchical columns whose top level are the function names\n",
       "    (inferred from the function objects themselves)\n",
       "    If dict is passed, the key is column to aggregate and value\n",
       "    is function or list of functions\n",
       "fill_value : scalar, default None\n",
       "    Value to replace missing values with\n",
       "margins : boolean, default False\n",
       "    Add all row / columns (e.g. for subtotal / grand totals)\n",
       "dropna : boolean, default True\n",
       "    Do not include columns whose entries are all NaN\n",
       "margins_name : string, default 'All'\n",
       "    Name of the row / column that will contain the totals\n",
       "    when margins is True.\n",
       "observed : boolean, default False\n",
       "    This only applies if any of the groupers are Categoricals.\n",
       "    If True: only show observed values for categorical groupers.\n",
       "    If False: show all values for categorical groupers.\n",
       "\n",
       "    .. versionchanged :: 0.25.0\n",
       "\n",
       "Returns\n",
       "-------\n",
       "DataFrame\n",
       "\n",
       "See Also\n",
       "--------\n",
       "DataFrame.pivot : Pivot without aggregation that can handle\n",
       "    non-numeric data.\n",
       "\n",
       "Examples\n",
       "--------\n",
       ">>> df = pd.DataFrame({\"A\": [\"foo\", \"foo\", \"foo\", \"foo\", \"foo\",\n",
       "...                          \"bar\", \"bar\", \"bar\", \"bar\"],\n",
       "...                    \"B\": [\"one\", \"one\", \"one\", \"two\", \"two\",\n",
       "...                          \"one\", \"one\", \"two\", \"two\"],\n",
       "...                    \"C\": [\"small\", \"large\", \"large\", \"small\",\n",
       "...                          \"small\", \"large\", \"small\", \"small\",\n",
       "...                          \"large\"],\n",
       "...                    \"D\": [1, 2, 2, 3, 3, 4, 5, 6, 7],\n",
       "...                    \"E\": [2, 4, 5, 5, 6, 6, 8, 9, 9]})\n",
       ">>> df\n",
       "     A    B      C  D  E\n",
       "0  foo  one  small  1  2\n",
       "1  foo  one  large  2  4\n",
       "2  foo  one  large  2  5\n",
       "3  foo  two  small  3  5\n",
       "4  foo  two  small  3  6\n",
       "5  bar  one  large  4  6\n",
       "6  bar  one  small  5  8\n",
       "7  bar  two  small  6  9\n",
       "8  bar  two  large  7  9\n",
       "\n",
       "This first example aggregates values by taking the sum.\n",
       "\n",
       ">>> table = pd.pivot_table(df, values='D', index=['A', 'B'],\n",
       "...                     columns=['C'], aggfunc=np.sum)\n",
       ">>> table\n",
       "C        large  small\n",
       "A   B\n",
       "bar one    4.0    5.0\n",
       "    two    7.0    6.0\n",
       "foo one    4.0    1.0\n",
       "    two    NaN    6.0\n",
       "\n",
       "We can also fill missing values using the `fill_value` parameter.\n",
       "\n",
       ">>> table = pd.pivot_table(df, values='D', index=['A', 'B'],\n",
       "...                     columns=['C'], aggfunc=np.sum, fill_value=0)\n",
       ">>> table\n",
       "C        large  small\n",
       "A   B\n",
       "bar one      4      5\n",
       "    two      7      6\n",
       "foo one      4      1\n",
       "    two      0      6\n",
       "\n",
       "The next example aggregates by taking the mean across multiple columns.\n",
       "\n",
       ">>> table = pd.pivot_table(df, values=['D', 'E'], index=['A', 'C'],\n",
       "...                     aggfunc={'D': np.mean,\n",
       "...                              'E': np.mean})\n",
       ">>> table\n",
       "                D         E\n",
       "A   C\n",
       "bar large  5.500000  7.500000\n",
       "    small  5.500000  8.500000\n",
       "foo large  2.000000  4.500000\n",
       "    small  2.333333  4.333333\n",
       "\n",
       "We can also calculate multiple types of aggregations for any given\n",
       "value column.\n",
       "\n",
       ">>> table = pd.pivot_table(df, values=['D', 'E'], index=['A', 'C'],\n",
       "...                     aggfunc={'D': np.mean,\n",
       "...                              'E': [min, max, np.mean]})\n",
       ">>> table\n",
       "                D    E\n",
       "            mean  max      mean  min\n",
       "A   C\n",
       "bar large  5.500000  9.0  7.500000  6.0\n",
       "    small  5.500000  9.0  8.500000  8.0\n",
       "foo large  2.000000  5.0  4.500000  4.0\n",
       "    small  2.333333  6.0  4.333333  2.0\n",
       "\u001b[0;31mFile:\u001b[0m      ~/miniconda3/envs/learn-ml/lib/python3.5/site-packages/pandas/core/reshape/pivot.py\n",
       "\u001b[0;31mType:\u001b[0m      function\n"
      ]
     },
     "metadata": {},
     "output_type": "display_data"
    }
   ],
   "source": [
    "pd.pivot_table?"
   ]
  },
  {
   "cell_type": "code",
   "execution_count": null,
   "metadata": {},
   "outputs": [],
   "source": []
  }
 ],
 "metadata": {
  "kernelspec": {
   "display_name": "Python 3",
   "language": "python",
   "name": "python3"
  },
  "language_info": {
   "codemirror_mode": {
    "name": "ipython",
    "version": 3
   },
   "file_extension": ".py",
   "mimetype": "text/x-python",
   "name": "python",
   "nbconvert_exporter": "python",
   "pygments_lexer": "ipython3",
   "version": "3.5.6"
  }
 },
 "nbformat": 4,
 "nbformat_minor": 4
}
