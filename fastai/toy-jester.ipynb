{
 "cells": [
  {
   "cell_type": "markdown",
   "metadata": {},
   "source": [
    "# Toy Jester: A smaller version of the Jester dataset\n",
    "\n",
    "Source of the original dataset: https://20bn.com/datasets/jester/v1\n",
    "\n",
    "## Imports"
   ]
  },
  {
   "cell_type": "code",
   "execution_count": 1,
   "metadata": {},
   "outputs": [],
   "source": [
    "import json"
   ]
  },
  {
   "cell_type": "code",
   "execution_count": 2,
   "metadata": {},
   "outputs": [],
   "source": [
    "import csv"
   ]
  },
  {
   "cell_type": "code",
   "execution_count": 3,
   "metadata": {},
   "outputs": [],
   "source": [
    "import pandas as pd"
   ]
  },
  {
   "cell_type": "code",
   "execution_count": 4,
   "metadata": {},
   "outputs": [],
   "source": [
    "from pathlib import Path"
   ]
  },
  {
   "cell_type": "markdown",
   "metadata": {},
   "source": [
    "## Training data"
   ]
  },
  {
   "cell_type": "code",
   "execution_count": 18,
   "metadata": {},
   "outputs": [],
   "source": [
    "path = Path('/home/florian/projects/toy-jester')\n",
    "\n",
    "labels_train = pd.read_csv(path / 'jester-v1-train.csv', delimiter=';', header=None, names=['video_id', 'label'])"
   ]
  },
  {
   "cell_type": "code",
   "execution_count": 19,
   "metadata": {},
   "outputs": [
    {
     "data": {
      "text/html": [
       "<div>\n",
       "<style scoped>\n",
       "    .dataframe tbody tr th:only-of-type {\n",
       "        vertical-align: middle;\n",
       "    }\n",
       "\n",
       "    .dataframe tbody tr th {\n",
       "        vertical-align: top;\n",
       "    }\n",
       "\n",
       "    .dataframe thead th {\n",
       "        text-align: right;\n",
       "    }\n",
       "</style>\n",
       "<table border=\"1\" class=\"dataframe\">\n",
       "  <thead>\n",
       "    <tr style=\"text-align: right;\">\n",
       "      <th></th>\n",
       "      <th>video_id</th>\n",
       "      <th>label</th>\n",
       "    </tr>\n",
       "  </thead>\n",
       "  <tbody>\n",
       "    <tr>\n",
       "      <th>0</th>\n",
       "      <td>34870</td>\n",
       "      <td>Drumming Fingers</td>\n",
       "    </tr>\n",
       "    <tr>\n",
       "      <th>1</th>\n",
       "      <td>56557</td>\n",
       "      <td>Sliding Two Fingers Right</td>\n",
       "    </tr>\n",
       "    <tr>\n",
       "      <th>2</th>\n",
       "      <td>129112</td>\n",
       "      <td>Sliding Two Fingers Down</td>\n",
       "    </tr>\n",
       "    <tr>\n",
       "      <th>3</th>\n",
       "      <td>63861</td>\n",
       "      <td>Pulling Two Fingers In</td>\n",
       "    </tr>\n",
       "    <tr>\n",
       "      <th>4</th>\n",
       "      <td>131717</td>\n",
       "      <td>Sliding Two Fingers Up</td>\n",
       "    </tr>\n",
       "    <tr>\n",
       "      <th>...</th>\n",
       "      <td>...</td>\n",
       "      <td>...</td>\n",
       "    </tr>\n",
       "    <tr>\n",
       "      <th>118557</th>\n",
       "      <td>75507</td>\n",
       "      <td>Swiping Down</td>\n",
       "    </tr>\n",
       "    <tr>\n",
       "      <th>118558</th>\n",
       "      <td>48433</td>\n",
       "      <td>Sliding Two Fingers Left</td>\n",
       "    </tr>\n",
       "    <tr>\n",
       "      <th>118559</th>\n",
       "      <td>146421</td>\n",
       "      <td>Sliding Two Fingers Right</td>\n",
       "    </tr>\n",
       "    <tr>\n",
       "      <th>118560</th>\n",
       "      <td>49514</td>\n",
       "      <td>Thumb Up</td>\n",
       "    </tr>\n",
       "    <tr>\n",
       "      <th>118561</th>\n",
       "      <td>4502</td>\n",
       "      <td>Sliding Two Fingers Up</td>\n",
       "    </tr>\n",
       "  </tbody>\n",
       "</table>\n",
       "<p>118562 rows × 2 columns</p>\n",
       "</div>"
      ],
      "text/plain": [
       "        video_id                      label\n",
       "0          34870           Drumming Fingers\n",
       "1          56557  Sliding Two Fingers Right\n",
       "2         129112   Sliding Two Fingers Down\n",
       "3          63861     Pulling Two Fingers In\n",
       "4         131717     Sliding Two Fingers Up\n",
       "...          ...                        ...\n",
       "118557     75507               Swiping Down\n",
       "118558     48433   Sliding Two Fingers Left\n",
       "118559    146421  Sliding Two Fingers Right\n",
       "118560     49514                   Thumb Up\n",
       "118561      4502     Sliding Two Fingers Up\n",
       "\n",
       "[118562 rows x 2 columns]"
      ]
     },
     "execution_count": 19,
     "metadata": {},
     "output_type": "execute_result"
    }
   ],
   "source": [
    "labels_train"
   ]
  },
  {
   "cell_type": "code",
   "execution_count": 21,
   "metadata": {},
   "outputs": [
    {
     "data": {
      "text/plain": [
       "Doing other things               9592\n",
       "Thumb Down                       4390\n",
       "Thumb Up                         4373\n",
       "Drumming Fingers                 4371\n",
       "Pushing Hand Away                4357\n",
       "Sliding Two Fingers Down         4348\n",
       "Stop Sign                        4337\n",
       "Zooming Out With Two Fingers     4323\n",
       "Pulling Hand In                  4323\n",
       "Zooming In With Two Fingers      4302\n",
       "Sliding Two Fingers Left         4292\n",
       "Pushing Two Fingers Away         4291\n",
       "Zooming Out With Full Hand       4281\n",
       "No gesture                       4278\n",
       "Pulling Two Fingers In           4267\n",
       "Swiping Down                     4259\n",
       "Shaking Hand                     4258\n",
       "Zooming In With Full Hand        4251\n",
       "Swiping Up                       4220\n",
       "Sliding Two Fingers Up           4219\n",
       "Sliding Two Fingers Right        4206\n",
       "Swiping Left                     4162\n",
       "Rolling Hand Forward             4132\n",
       "Swiping Right                    4084\n",
       "Rolling Hand Backward            4032\n",
       "Turning Hand Counterclockwise    3398\n",
       "Turning Hand Clockwise           3216\n",
       "Name: label, dtype: int64"
      ]
     },
     "execution_count": 21,
     "metadata": {},
     "output_type": "execute_result"
    }
   ],
   "source": [
    "labels_train.label.value_counts()"
   ]
  },
  {
   "cell_type": "code",
   "execution_count": 22,
   "metadata": {},
   "outputs": [],
   "source": [
    "labels_train_toy = labels_train.sample(frac=0.1)"
   ]
  },
  {
   "cell_type": "code",
   "execution_count": 24,
   "metadata": {},
   "outputs": [
    {
     "data": {
      "text/plain": [
       "Doing other things               959\n",
       "Shaking Hand                     469\n",
       "Thumb Up                         458\n",
       "Sliding Two Fingers Up           457\n",
       "Pushing Two Fingers Away         450\n",
       "Thumb Down                       445\n",
       "Swiping Left                     440\n",
       "Zooming In With Full Hand        439\n",
       "Sliding Two Fingers Left         436\n",
       "Pulling Two Fingers In           433\n",
       "No gesture                       432\n",
       "Drumming Fingers                 431\n",
       "Swiping Down                     430\n",
       "Rolling Hand Forward             428\n",
       "Zooming Out With Two Fingers     427\n",
       "Sliding Two Fingers Down         427\n",
       "Stop Sign                        421\n",
       "Zooming In With Two Fingers      418\n",
       "Zooming Out With Full Hand       416\n",
       "Sliding Two Fingers Right        409\n",
       "Pushing Hand Away                409\n",
       "Swiping Up                       401\n",
       "Pulling Hand In                  393\n",
       "Rolling Hand Backward            381\n",
       "Swiping Right                    380\n",
       "Turning Hand Counterclockwise    337\n",
       "Turning Hand Clockwise           330\n",
       "Name: label, dtype: int64"
      ]
     },
     "execution_count": 24,
     "metadata": {},
     "output_type": "execute_result"
    }
   ],
   "source": [
    "labels_train_toy.label.value_counts()"
   ]
  },
  {
   "cell_type": "code",
   "execution_count": 30,
   "metadata": {},
   "outputs": [],
   "source": [
    "labels_train_toy.to_csv(path / 'toyjester-v1-train.csv', index=False, sep=';')"
   ]
  },
  {
   "cell_type": "markdown",
   "metadata": {},
   "source": [
    "## Validation data"
   ]
  },
  {
   "cell_type": "code",
   "execution_count": 27,
   "metadata": {},
   "outputs": [
    {
     "data": {
      "text/plain": [
       "Doing other things               127\n",
       "Zooming Out With Full Hand        67\n",
       "Thumb Down                        63\n",
       "Stop Sign                         62\n",
       "No gesture                        61\n",
       "Pulling Hand In                   60\n",
       "Pulling Two Fingers In            60\n",
       "Sliding Two Fingers Down          59\n",
       "Pushing Hand Away                 59\n",
       "Drumming Fingers                  57\n",
       "Rolling Hand Backward             56\n",
       "Swiping Up                        53\n",
       "Swiping Right                     52\n",
       "Zooming In With Full Hand         52\n",
       "Turning Hand Clockwise            51\n",
       "Rolling Hand Forward              50\n",
       "Shaking Hand                      50\n",
       "Pushing Two Fingers Away          49\n",
       "Thumb Up                          48\n",
       "Swiping Left                      46\n",
       "Swiping Down                      45\n",
       "Sliding Two Fingers Right         45\n",
       "Zooming Out With Two Fingers      45\n",
       "Sliding Two Fingers Left          44\n",
       "Sliding Two Fingers Up            43\n",
       "Zooming In With Two Fingers       39\n",
       "Turning Hand Counterclockwise     36\n",
       "Name: label, dtype: int64"
      ]
     },
     "execution_count": 27,
     "metadata": {},
     "output_type": "execute_result"
    }
   ],
   "source": [
    "labels_val = pd.read_csv(path / 'jester-v1-validation.csv', delimiter=';', header=None, names=['video_id', 'label'])\n",
    "labels_val_toy = labels_val.sample(frac=0.1)\n",
    "labels_val_toy.label.value_counts()"
   ]
  },
  {
   "cell_type": "code",
   "execution_count": 29,
   "metadata": {},
   "outputs": [],
   "source": [
    "labels_val_toy.to_csv(path / 'toyjester-v1-validation.csv', index=False, sep=';')"
   ]
  },
  {
   "cell_type": "code",
   "execution_count": null,
   "metadata": {},
   "outputs": [],
   "source": []
  }
 ],
 "metadata": {
  "kernelspec": {
   "display_name": "Python 3",
   "language": "python",
   "name": "python3"
  },
  "language_info": {
   "codemirror_mode": {
    "name": "ipython",
    "version": 3
   },
   "file_extension": ".py",
   "mimetype": "text/x-python",
   "name": "python",
   "nbconvert_exporter": "python",
   "pygments_lexer": "ipython3",
   "version": "3.6.10"
  }
 },
 "nbformat": 4,
 "nbformat_minor": 4
}
