{
 "cells": [
  {
   "cell_type": "code",
   "execution_count": 1,
   "metadata": {},
   "outputs": [],
   "source": [
    "import pandas as pd"
   ]
  },
  {
   "cell_type": "code",
   "execution_count": 2,
   "metadata": {},
   "outputs": [
    {
     "data": {
      "text/html": [
       "<div>\n",
       "<style scoped>\n",
       "    .dataframe tbody tr th:only-of-type {\n",
       "        vertical-align: middle;\n",
       "    }\n",
       "\n",
       "    .dataframe tbody tr th {\n",
       "        vertical-align: top;\n",
       "    }\n",
       "\n",
       "    .dataframe thead th {\n",
       "        text-align: right;\n",
       "    }\n",
       "</style>\n",
       "<table border=\"1\" class=\"dataframe\">\n",
       "  <thead>\n",
       "    <tr style=\"text-align: right;\">\n",
       "      <th></th>\n",
       "      <th>Landessteuern_in_Mio_EUR_2019</th>\n",
       "      <th>Gemeindesteuern_in_Mio_EUR_2019</th>\n",
       "      <th>Gesamteinnahmen_in_Mio_EUR_2019</th>\n",
       "      <th>Flaeche</th>\n",
       "      <th>Einwohner_2020</th>\n",
       "      <th>Einwohner_2015</th>\n",
       "      <th>Einwohner_2010</th>\n",
       "      <th>Einwohner_2000</th>\n",
       "      <th>Einwohner_1990</th>\n",
       "      <th>Einwohner_1980</th>\n",
       "      <th>Einwohner_1970</th>\n",
       "      <th>Einwohner_1960</th>\n",
       "    </tr>\n",
       "    <tr>\n",
       "      <th>Bundesland</th>\n",
       "      <th></th>\n",
       "      <th></th>\n",
       "      <th></th>\n",
       "      <th></th>\n",
       "      <th></th>\n",
       "      <th></th>\n",
       "      <th></th>\n",
       "      <th></th>\n",
       "      <th></th>\n",
       "      <th></th>\n",
       "      <th></th>\n",
       "      <th></th>\n",
       "    </tr>\n",
       "  </thead>\n",
       "  <tbody>\n",
       "    <tr>\n",
       "      <th>Baden-Württemberg</th>\n",
       "      <td>40785</td>\n",
       "      <td>16783</td>\n",
       "      <td>57568</td>\n",
       "      <td>35747.83</td>\n",
       "      <td>11103043</td>\n",
       "      <td>10879618</td>\n",
       "      <td>10753880</td>\n",
       "      <td>10524415</td>\n",
       "      <td>9822027</td>\n",
       "      <td>9258947.0</td>\n",
       "      <td>8953607.0</td>\n",
       "      <td>7726859.0</td>\n",
       "    </tr>\n",
       "    <tr>\n",
       "      <th>Bayern</th>\n",
       "      <td>48489</td>\n",
       "      <td>20537</td>\n",
       "      <td>69026</td>\n",
       "      <td>70541.57</td>\n",
       "      <td>13140183</td>\n",
       "      <td>12843514</td>\n",
       "      <td>12538696</td>\n",
       "      <td>12230255</td>\n",
       "      <td>11448823</td>\n",
       "      <td>10928151.0</td>\n",
       "      <td>10561110.0</td>\n",
       "      <td>9494939.0</td>\n",
       "    </tr>\n",
       "    <tr>\n",
       "      <th>Berlin</th>\n",
       "      <td>19727</td>\n",
       "      <td>5001</td>\n",
       "      <td>24727</td>\n",
       "      <td>891.12</td>\n",
       "      <td>3664088</td>\n",
       "      <td>3520031</td>\n",
       "      <td>3460725</td>\n",
       "      <td>3382169</td>\n",
       "      <td>3433695</td>\n",
       "      <td>1896230.0</td>\n",
       "      <td>2115311.0</td>\n",
       "      <td>2202241.0</td>\n",
       "    </tr>\n",
       "    <tr>\n",
       "      <th>Brandenburg</th>\n",
       "      <td>10452</td>\n",
       "      <td>2466</td>\n",
       "      <td>12918</td>\n",
       "      <td>29654.43</td>\n",
       "      <td>2531071</td>\n",
       "      <td>2484826</td>\n",
       "      <td>2503273</td>\n",
       "      <td>2601962</td>\n",
       "      <td>2578312</td>\n",
       "      <td>NaN</td>\n",
       "      <td>NaN</td>\n",
       "      <td>NaN</td>\n",
       "    </tr>\n",
       "    <tr>\n",
       "      <th>Bremen</th>\n",
       "      <td>3810</td>\n",
       "      <td>1072</td>\n",
       "      <td>4881</td>\n",
       "      <td>419.37</td>\n",
       "      <td>680130</td>\n",
       "      <td>671489</td>\n",
       "      <td>660706</td>\n",
       "      <td>660225</td>\n",
       "      <td>681665</td>\n",
       "      <td>693846.0</td>\n",
       "      <td>735452.0</td>\n",
       "      <td>704287.0</td>\n",
       "    </tr>\n",
       "    <tr>\n",
       "      <th>Hamburg</th>\n",
       "      <td>8796</td>\n",
       "      <td>4505</td>\n",
       "      <td>13301</td>\n",
       "      <td>755.09</td>\n",
       "      <td>1852478</td>\n",
       "      <td>1787408</td>\n",
       "      <td>1786448</td>\n",
       "      <td>1715392</td>\n",
       "      <td>1652363</td>\n",
       "      <td>1645095.0</td>\n",
       "      <td>1793640.0</td>\n",
       "      <td>1836958.0</td>\n",
       "    </tr>\n",
       "    <tr>\n",
       "      <th>Hessen</th>\n",
       "      <td>23832</td>\n",
       "      <td>10379</td>\n",
       "      <td>34211</td>\n",
       "      <td>21115.64</td>\n",
       "      <td>6293154</td>\n",
       "      <td>6176172</td>\n",
       "      <td>6067021</td>\n",
       "      <td>6068129</td>\n",
       "      <td>5763310</td>\n",
       "      <td>5601031.0</td>\n",
       "      <td>5424529.0</td>\n",
       "      <td>4783352.0</td>\n",
       "    </tr>\n",
       "    <tr>\n",
       "      <th>Mecklenburg-Vorpommern</th>\n",
       "      <td>6849</td>\n",
       "      <td>1346</td>\n",
       "      <td>8195</td>\n",
       "      <td>23295.22</td>\n",
       "      <td>1610774</td>\n",
       "      <td>1612362</td>\n",
       "      <td>1642327</td>\n",
       "      <td>1775703</td>\n",
       "      <td>1923959</td>\n",
       "      <td>NaN</td>\n",
       "      <td>NaN</td>\n",
       "      <td>NaN</td>\n",
       "    </tr>\n",
       "    <tr>\n",
       "      <th>Niedersachsen</th>\n",
       "      <td>29723</td>\n",
       "      <td>9804</td>\n",
       "      <td>39526</td>\n",
       "      <td>47709.80</td>\n",
       "      <td>8003421</td>\n",
       "      <td>7926599</td>\n",
       "      <td>7918293</td>\n",
       "      <td>7926193</td>\n",
       "      <td>7387245</td>\n",
       "      <td>7256386.0</td>\n",
       "      <td>7121824.0</td>\n",
       "      <td>6576137.0</td>\n",
       "    </tr>\n",
       "    <tr>\n",
       "      <th>Nordrhein-Westfalen</th>\n",
       "      <td>66538</td>\n",
       "      <td>26067</td>\n",
       "      <td>92605</td>\n",
       "      <td>34112.44</td>\n",
       "      <td>17925570</td>\n",
       "      <td>17865516</td>\n",
       "      <td>17845154</td>\n",
       "      <td>18009865</td>\n",
       "      <td>17349651</td>\n",
       "      <td>17058193.0</td>\n",
       "      <td>17004851.0</td>\n",
       "      <td>15852476.0</td>\n",
       "    </tr>\n",
       "    <tr>\n",
       "      <th>Rheinland-Pfalz</th>\n",
       "      <td>15212</td>\n",
       "      <td>4916</td>\n",
       "      <td>20128</td>\n",
       "      <td>19858.00</td>\n",
       "      <td>4098391</td>\n",
       "      <td>4052803</td>\n",
       "      <td>4003745</td>\n",
       "      <td>4034557</td>\n",
       "      <td>3763510</td>\n",
       "      <td>3642482.0</td>\n",
       "      <td>3658932.0</td>\n",
       "      <td>3411170.0</td>\n",
       "    </tr>\n",
       "    <tr>\n",
       "      <th>Saarland</th>\n",
       "      <td>4133</td>\n",
       "      <td>1059</td>\n",
       "      <td>5192</td>\n",
       "      <td>2571.11</td>\n",
       "      <td>983991</td>\n",
       "      <td>995597</td>\n",
       "      <td>1017567</td>\n",
       "      <td>1068703</td>\n",
       "      <td>1072963</td>\n",
       "      <td>1066299.0</td>\n",
       "      <td>1121300.0</td>\n",
       "      <td>1060493.0</td>\n",
       "    </tr>\n",
       "    <tr>\n",
       "      <th>Sachsen-Anhalt</th>\n",
       "      <td>9396</td>\n",
       "      <td>1877</td>\n",
       "      <td>11273</td>\n",
       "      <td>20456.51</td>\n",
       "      <td>2180684</td>\n",
       "      <td>2245470</td>\n",
       "      <td>2335006</td>\n",
       "      <td>2615375</td>\n",
       "      <td>2873957</td>\n",
       "      <td>NaN</td>\n",
       "      <td>NaN</td>\n",
       "      <td>NaN</td>\n",
       "    </tr>\n",
       "    <tr>\n",
       "      <th>Sachsen</th>\n",
       "      <td>16728</td>\n",
       "      <td>3749</td>\n",
       "      <td>20477</td>\n",
       "      <td>18449.93</td>\n",
       "      <td>4056941</td>\n",
       "      <td>4084851</td>\n",
       "      <td>4149477</td>\n",
       "      <td>4425581</td>\n",
       "      <td>4764301</td>\n",
       "      <td>NaN</td>\n",
       "      <td>NaN</td>\n",
       "      <td>NaN</td>\n",
       "    </tr>\n",
       "    <tr>\n",
       "      <th>Schleswig-Holstein</th>\n",
       "      <td>11051</td>\n",
       "      <td>3502</td>\n",
       "      <td>14553</td>\n",
       "      <td>15800.54</td>\n",
       "      <td>2910875</td>\n",
       "      <td>2858714</td>\n",
       "      <td>2834259</td>\n",
       "      <td>2789761</td>\n",
       "      <td>2626127</td>\n",
       "      <td>2611285.0</td>\n",
       "      <td>2510608.0</td>\n",
       "      <td>2309409.0</td>\n",
       "    </tr>\n",
       "    <tr>\n",
       "      <th>Thüringen</th>\n",
       "      <td>8997</td>\n",
       "      <td>1838</td>\n",
       "      <td>10835</td>\n",
       "      <td>16202.35</td>\n",
       "      <td>2120237</td>\n",
       "      <td>2170714</td>\n",
       "      <td>2235025</td>\n",
       "      <td>2431255</td>\n",
       "      <td>2611319</td>\n",
       "      <td>NaN</td>\n",
       "      <td>NaN</td>\n",
       "      <td>NaN</td>\n",
       "    </tr>\n",
       "  </tbody>\n",
       "</table>\n",
       "</div>"
      ],
      "text/plain": [
       "                        Landessteuern_in_Mio_EUR_2019  \\\n",
       "Bundesland                                              \n",
       "Baden-Württemberg                               40785   \n",
       "Bayern                                          48489   \n",
       "Berlin                                          19727   \n",
       "Brandenburg                                     10452   \n",
       "Bremen                                           3810   \n",
       "Hamburg                                          8796   \n",
       "Hessen                                          23832   \n",
       "Mecklenburg-Vorpommern                           6849   \n",
       "Niedersachsen                                   29723   \n",
       "Nordrhein-Westfalen                             66538   \n",
       "Rheinland-Pfalz                                 15212   \n",
       "Saarland                                         4133   \n",
       "Sachsen-Anhalt                                   9396   \n",
       "Sachsen                                         16728   \n",
       "Schleswig-Holstein                              11051   \n",
       "Thüringen                                        8997   \n",
       "\n",
       "                        Gemeindesteuern_in_Mio_EUR_2019  \\\n",
       "Bundesland                                                \n",
       "Baden-Württemberg                                 16783   \n",
       "Bayern                                            20537   \n",
       "Berlin                                             5001   \n",
       "Brandenburg                                        2466   \n",
       "Bremen                                             1072   \n",
       "Hamburg                                            4505   \n",
       "Hessen                                            10379   \n",
       "Mecklenburg-Vorpommern                             1346   \n",
       "Niedersachsen                                      9804   \n",
       "Nordrhein-Westfalen                               26067   \n",
       "Rheinland-Pfalz                                    4916   \n",
       "Saarland                                           1059   \n",
       "Sachsen-Anhalt                                     1877   \n",
       "Sachsen                                            3749   \n",
       "Schleswig-Holstein                                 3502   \n",
       "Thüringen                                          1838   \n",
       "\n",
       "                        Gesamteinnahmen_in_Mio_EUR_2019   Flaeche  \\\n",
       "Bundesland                                                          \n",
       "Baden-Württemberg                                 57568  35747.83   \n",
       "Bayern                                            69026  70541.57   \n",
       "Berlin                                            24727    891.12   \n",
       "Brandenburg                                       12918  29654.43   \n",
       "Bremen                                             4881    419.37   \n",
       "Hamburg                                           13301    755.09   \n",
       "Hessen                                            34211  21115.64   \n",
       "Mecklenburg-Vorpommern                             8195  23295.22   \n",
       "Niedersachsen                                     39526  47709.80   \n",
       "Nordrhein-Westfalen                               92605  34112.44   \n",
       "Rheinland-Pfalz                                   20128  19858.00   \n",
       "Saarland                                           5192   2571.11   \n",
       "Sachsen-Anhalt                                    11273  20456.51   \n",
       "Sachsen                                           20477  18449.93   \n",
       "Schleswig-Holstein                                14553  15800.54   \n",
       "Thüringen                                         10835  16202.35   \n",
       "\n",
       "                        Einwohner_2020  Einwohner_2015  Einwohner_2010  \\\n",
       "Bundesland                                                               \n",
       "Baden-Württemberg             11103043        10879618        10753880   \n",
       "Bayern                        13140183        12843514        12538696   \n",
       "Berlin                         3664088         3520031         3460725   \n",
       "Brandenburg                    2531071         2484826         2503273   \n",
       "Bremen                          680130          671489          660706   \n",
       "Hamburg                        1852478         1787408         1786448   \n",
       "Hessen                         6293154         6176172         6067021   \n",
       "Mecklenburg-Vorpommern         1610774         1612362         1642327   \n",
       "Niedersachsen                  8003421         7926599         7918293   \n",
       "Nordrhein-Westfalen           17925570        17865516        17845154   \n",
       "Rheinland-Pfalz                4098391         4052803         4003745   \n",
       "Saarland                        983991          995597         1017567   \n",
       "Sachsen-Anhalt                 2180684         2245470         2335006   \n",
       "Sachsen                        4056941         4084851         4149477   \n",
       "Schleswig-Holstein             2910875         2858714         2834259   \n",
       "Thüringen                      2120237         2170714         2235025   \n",
       "\n",
       "                        Einwohner_2000  Einwohner_1990  Einwohner_1980  \\\n",
       "Bundesland                                                               \n",
       "Baden-Württemberg             10524415         9822027       9258947.0   \n",
       "Bayern                        12230255        11448823      10928151.0   \n",
       "Berlin                         3382169         3433695       1896230.0   \n",
       "Brandenburg                    2601962         2578312             NaN   \n",
       "Bremen                          660225          681665        693846.0   \n",
       "Hamburg                        1715392         1652363       1645095.0   \n",
       "Hessen                         6068129         5763310       5601031.0   \n",
       "Mecklenburg-Vorpommern         1775703         1923959             NaN   \n",
       "Niedersachsen                  7926193         7387245       7256386.0   \n",
       "Nordrhein-Westfalen           18009865        17349651      17058193.0   \n",
       "Rheinland-Pfalz                4034557         3763510       3642482.0   \n",
       "Saarland                       1068703         1072963       1066299.0   \n",
       "Sachsen-Anhalt                 2615375         2873957             NaN   \n",
       "Sachsen                        4425581         4764301             NaN   \n",
       "Schleswig-Holstein             2789761         2626127       2611285.0   \n",
       "Thüringen                      2431255         2611319             NaN   \n",
       "\n",
       "                        Einwohner_1970  Einwohner_1960  \n",
       "Bundesland                                              \n",
       "Baden-Württemberg            8953607.0       7726859.0  \n",
       "Bayern                      10561110.0       9494939.0  \n",
       "Berlin                       2115311.0       2202241.0  \n",
       "Brandenburg                        NaN             NaN  \n",
       "Bremen                        735452.0        704287.0  \n",
       "Hamburg                      1793640.0       1836958.0  \n",
       "Hessen                       5424529.0       4783352.0  \n",
       "Mecklenburg-Vorpommern             NaN             NaN  \n",
       "Niedersachsen                7121824.0       6576137.0  \n",
       "Nordrhein-Westfalen         17004851.0      15852476.0  \n",
       "Rheinland-Pfalz              3658932.0       3411170.0  \n",
       "Saarland                     1121300.0       1060493.0  \n",
       "Sachsen-Anhalt                     NaN             NaN  \n",
       "Sachsen                            NaN             NaN  \n",
       "Schleswig-Holstein           2510608.0       2309409.0  \n",
       "Thüringen                          NaN             NaN  "
      ]
     },
     "execution_count": 2,
     "metadata": {},
     "output_type": "execute_result"
    }
   ],
   "source": [
    "df = pd.read_csv(\n",
    "    \"data/states-germany.csv\",\n",
    "    index_col=\"Bundesland\",\n",
    "    decimal=\",\",\n",
    "    thousands=\".\"\n",
    ")\n",
    "df"
   ]
  },
  {
   "cell_type": "code",
   "execution_count": 3,
   "metadata": {},
   "outputs": [
    {
     "data": {
      "text/plain": [
       "5.1971894375000005"
      ]
     },
     "execution_count": 3,
     "metadata": {},
     "output_type": "execute_result"
    }
   ],
   "source": [
    "(df[\"Einwohner_2020\"]/1_000_000).mean()"
   ]
  },
  {
   "cell_type": "code",
   "execution_count": 4,
   "metadata": {},
   "outputs": [
    {
     "data": {
      "text/plain": [
       "3.2874815"
      ]
     },
     "execution_count": 4,
     "metadata": {},
     "output_type": "execute_result"
    }
   ],
   "source": [
    "(df[\"Einwohner_2020\"]/1_000_000).median()"
   ]
  },
  {
   "cell_type": "code",
   "execution_count": 5,
   "metadata": {},
   "outputs": [
    {
     "data": {
      "text/plain": [
       "Text(0, 0.5, 'Anzahl der Bundesländer')"
      ]
     },
     "execution_count": 5,
     "metadata": {},
     "output_type": "execute_result"
    },
    {
     "data": {
      "image/png": "[encoded data removed]",
      "text/plain": [
       "<Figure size 432x288 with 1 Axes>"
      ]
     },
     "metadata": {
      "needs_background": "light"
     },
     "output_type": "display_data"
    }
   ],
   "source": [
    "ax = (df[\"Einwohner_2020\"]/1_000_000).plot.hist(15)\n",
    "ax.set_xlabel(\"Einwohner (in Mio.)\")\n",
    "ax.set_ylabel(\"Anzahl der Bundesländer\")"
   ]
  },
  {
   "cell_type": "code",
   "execution_count": 6,
   "metadata": {},
   "outputs": [
    {
     "data": {
      "text/plain": [
       "Bundesland\n",
       "Nordrhein-Westfalen       17.925570\n",
       "Bayern                    13.140183\n",
       "Baden-Württemberg         11.103043\n",
       "Niedersachsen              8.003421\n",
       "Hessen                     6.293154\n",
       "Rheinland-Pfalz            4.098391\n",
       "Sachsen                    4.056941\n",
       "Berlin                     3.664088\n",
       "Schleswig-Holstein         2.910875\n",
       "Brandenburg                2.531071\n",
       "Sachsen-Anhalt             2.180684\n",
       "Thüringen                  2.120237\n",
       "Hamburg                    1.852478\n",
       "Mecklenburg-Vorpommern     1.610774\n",
       "Saarland                   0.983991\n",
       "Bremen                     0.680130\n",
       "Name: Einwohner_2020, dtype: float64"
      ]
     },
     "execution_count": 6,
     "metadata": {},
     "output_type": "execute_result"
    }
   ],
   "source": [
    "(df[\"Einwohner_2020\"]/1_000_000).sort_values(ascending=False)"
   ]
  },
  {
   "cell_type": "code",
   "execution_count": 12,
   "metadata": {},
   "outputs": [
    {
     "data": {
      "text/plain": [
       "<matplotlib.axes._subplots.AxesSubplot at 0x7f9890e75550>"
      ]
     },
     "execution_count": 12,
     "metadata": {},
     "output_type": "execute_result"
    },
    {
     "data": {
      "image/png": "[encoded data removed]",
      "text/plain": [
       "<Figure size 432x288 with 1 Axes>"
      ]
     },
     "metadata": {
      "needs_background": "light"
     },
     "output_type": "display_data"
    }
   ],
   "source": [
    "(df.Einwohner_2020/df.Flaeche).sort_values(ascending=False).plot.hist()"
   ]
  },
  {
   "cell_type": "code",
   "execution_count": 18,
   "metadata": {},
   "outputs": [
    {
     "data": {
      "text/plain": [
       "<matplotlib.axes._subplots.AxesSubplot at 0x7f9891431dd8>"
      ]
     },
     "execution_count": 18,
     "metadata": {},
     "output_type": "execute_result"
    },
    {
     "data": {
      "image/png": "[encoded data removed]",
      "text/plain": [
       "<Figure size 720x360 with 1 Axes>"
      ]
     },
     "metadata": {
      "needs_background": "light"
     },
     "output_type": "display_data"
    }
   ],
   "source": [
    "(df[\"Gesamteinnahmen_in_Mio_EUR_2019\"]*1_000_000/df[\"Einwohner_2020\"]).sort_values(ascending=False).plot.bar(figsize=(10, 5))"
   ]
  },
  {
   "cell_type": "code",
   "execution_count": 7,
   "metadata": {},
   "outputs": [
    {
     "data": {
      "text/plain": [
       "Text(0, 0.5, 'Einwohner (in Mio.)')"
      ]
     },
     "execution_count": 7,
     "metadata": {},
     "output_type": "execute_result"
    },
    {
     "data": {
      "image/png": "[encoded data removed]",
      "text/plain": [
       "<Figure size 432x288 with 1 Axes>"
      ]
     },
     "metadata": {
      "needs_background": "light"
     },
     "output_type": "display_data"
    }
   ],
   "source": [
    "ax = (df[\"Einwohner_2020\"]/1_000_000).plot.box()\n",
    "ax.set_ylabel(\"Einwohner (in Mio.)\")"
   ]
  },
  {
   "cell_type": "code",
   "execution_count": null,
   "metadata": {},
   "outputs": [],
   "source": []
  }
 ],
 "metadata": {
  "kernelspec": {
   "display_name": "Python 3",
   "language": "python",
   "name": "python3"
  },
  "language_info": {
   "codemirror_mode": {
    "name": "ipython",
    "version": 3
   },
   "file_extension": ".py",
   "mimetype": "text/x-python",
   "name": "python",
   "nbconvert_exporter": "python",
   "pygments_lexer": "ipython3",
   "version": "3.7.0"
  }
 },
 "nbformat": 4,
 "nbformat_minor": 4
}
