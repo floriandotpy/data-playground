{
 "cells": [
  {
   "cell_type": "markdown",
   "metadata": {},
   "source": [
    "## Dataset: IMDB review"
   ]
  },
  {
   "cell_type": "code",
   "execution_count": 1,
   "metadata": {},
   "outputs": [],
   "source": [
    "from tensorflow.keras.datasets import imdb"
   ]
  },
  {
   "cell_type": "code",
   "execution_count": 2,
   "metadata": {},
   "outputs": [
    {
     "name": "stdout",
     "output_type": "stream",
     "text": [
      "Downloading data from https://storage.googleapis.com/tensorflow/tf-keras-datasets/imdb.npz\n",
      "17465344/17464789 [==============================] - 2s 0us/step\n"
     ]
    }
   ],
   "source": [
    "(train_data, train_labels), (test_data, _test_labels) = imdb.load_data(num_words=10_000)"
   ]
  },
  {
   "cell_type": "markdown",
   "metadata": {},
   "source": [
    "## Input data\n",
    "\n",
    "Each sample is a sequence of integers, each integer encodes a single word."
   ]
  },
  {
   "cell_type": "code",
   "execution_count": 9,
   "metadata": {},
   "outputs": [
    {
     "data": {
      "text/plain": [
       "[1, 13, 244, 6, 87, 337, 7, 628, 2219, 5]"
      ]
     },
     "execution_count": 9,
     "metadata": {},
     "output_type": "execute_result"
    }
   ],
   "source": [
    "train_data[100][:10]  # only print the first few"
   ]
  },
  {
   "cell_type": "code",
   "execution_count": 21,
   "metadata": {},
   "outputs": [
    {
     "data": {
      "text/plain": [
       "\"the was rather is him completely br english send to one dvd for kind way are year type but tired talent of am stories slightest coop on her no was although some has as was garbage che's that to to when it as if is herself br and door simply\""
      ]
     },
     "execution_count": 21,
     "metadata": {},
     "output_type": "execute_result"
    }
   ],
   "source": [
    "def to_text(sample, max_words=50):\n",
    "    word_index = imdb.get_word_index()\n",
    "    reverse_index = {value: key for key, value in word_index.items()}\n",
    "    return \" \".join([reverse_index[num] for num in sample[:max_words]])\n",
    "\n",
    "to_text(train_data[100])"
   ]
  },
  {
   "cell_type": "markdown",
   "metadata": {},
   "source": [
    "Labels define the sentiment of the review. Reviews ar either negative (=0) or positive(=1). This is the task we will teach our network: For an given sequence of words (=a IMDB review), infer the sentiment encoded as a number."
   ]
  },
  {
   "cell_type": "code",
   "execution_count": 27,
   "metadata": {},
   "outputs": [
    {
     "data": {
      "text/plain": [
       "array([1, 0, 0, 1, 0, 0, 1, 0, 1, 0])"
      ]
     },
     "execution_count": 27,
     "metadata": {},
     "output_type": "execute_result"
    }
   ],
   "source": [
    "train_labels[:10]  # sentiment labels of first 10 samples"
   ]
  },
  {
   "cell_type": "markdown",
   "metadata": {},
   "source": [
    "## Turn input sequences into vectors\n",
    "\n",
    "Neural nets require numerical input of fixed length. We transform our input samples (variable sized list of word) into one-hot vectors over a fixed vocabulary."
   ]
  },
  {
   "cell_type": "code",
   "execution_count": 13,
   "metadata": {},
   "outputs": [],
   "source": [
    "import numpy as np"
   ]
  },
  {
   "cell_type": "code",
   "execution_count": 15,
   "metadata": {},
   "outputs": [],
   "source": [
    "def vectorize_sequences(sequences, dimension=10_000):\n",
    "    results = np.zeros((len(sequences), dimension))\n",
    "    for i, sequence in enumerate(sequences):\n",
    "        results[i, sequence] = 1.\n",
    "    return results\n",
    "\n",
    "x_train = vectorize_sequences(train_data)\n",
    "x_test = vectorize_sequences(test_data)"
   ]
  },
  {
   "cell_type": "code",
   "execution_count": 16,
   "metadata": {},
   "outputs": [
    {
     "data": {
      "text/plain": [
       "array([0., 1., 1., ..., 0., 0., 0.])"
      ]
     },
     "execution_count": 16,
     "metadata": {},
     "output_type": "execute_result"
    }
   ],
   "source": [
    "x_train[0]"
   ]
  },
  {
   "cell_type": "markdown",
   "metadata": {},
   "source": [
    "## Model Definition\n",
    "\n",
    "As a first (simple) model to process sequences, we'll create Multilayer Perceptron with 2 hidden layers (16 units each, ReLU activation) and an output layer that maps the input to the range from 0 (=negative review) to 1 (=positive review)."
   ]
  },
  {
   "cell_type": "code",
   "execution_count": 17,
   "metadata": {},
   "outputs": [],
   "source": [
    "from tensorflow.keras import models\n",
    "from tensorflow.keras import layers"
   ]
  },
  {
   "cell_type": "code",
   "execution_count": 34,
   "metadata": {},
   "outputs": [],
   "source": [
    "model = models.Sequential()\n",
    "model.add(layers.Dense(16, input_shape=(10_000,), activation='relu'))\n",
    "model.add(layers.Dense(16, activation='relu'))\n",
    "model.add(layers.Dense(1, activation='sigmoid'))"
   ]
  },
  {
   "cell_type": "code",
   "execution_count": 35,
   "metadata": {},
   "outputs": [
    {
     "name": "stdout",
     "output_type": "stream",
     "text": [
      "Model: \"sequential_3\"\n",
      "_________________________________________________________________\n",
      "Layer (type)                 Output Shape              Param #   \n",
      "=================================================================\n",
      "dense_5 (Dense)              (None, 16)                160016    \n",
      "_________________________________________________________________\n",
      "dense_6 (Dense)              (None, 16)                272       \n",
      "_________________________________________________________________\n",
      "dense_7 (Dense)              (None, 1)                 17        \n",
      "=================================================================\n",
      "Total params: 160,305\n",
      "Trainable params: 160,305\n",
      "Non-trainable params: 0\n",
      "_________________________________________________________________\n"
     ]
    }
   ],
   "source": [
    "model.summary()"
   ]
  },
  {
   "cell_type": "markdown",
   "metadata": {},
   "source": [
    "## Model training"
   ]
  },
  {
   "cell_type": "code",
   "execution_count": 41,
   "metadata": {},
   "outputs": [],
   "source": [
    "model.compile(optimizer='adam', loss='binary_crossentropy', metrics=['binary_accuracy'])"
   ]
  },
  {
   "cell_type": "code",
   "execution_count": 47,
   "metadata": {},
   "outputs": [],
   "source": [
    "# Train/validation split\n",
    "split_idx = int(0.1 * len(x_train))  # take 10% of training data for validation\n",
    "x_validation = x_train[:split_idx]\n",
    "x_partial_train = x_train[split_idx:]\n",
    "y_validation = train_labels[:split_idx]\n",
    "y_partial_train = train_labels[split_idx:]"
   ]
  },
  {
   "cell_type": "code",
   "execution_count": 48,
   "metadata": {},
   "outputs": [
    {
     "name": "stdout",
     "output_type": "stream",
     "text": [
      "Train on 22500 samples, validate on 2500 samples\n",
      "Epoch 1/10\n",
      "22500/22500 [==============================] - 2s 102us/sample - loss: 0.0989 - binary_accuracy: 0.9650 - val_loss: 0.0861 - val_binary_accuracy: 0.9692\n",
      "Epoch 2/10\n",
      "22500/22500 [==============================] - 2s 99us/sample - loss: 0.0302 - binary_accuracy: 0.9897 - val_loss: 0.0954 - val_binary_accuracy: 0.9680\n",
      "Epoch 3/10\n",
      "22500/22500 [==============================] - 2s 101us/sample - loss: 0.0130 - binary_accuracy: 0.9965 - val_loss: 0.0997 - val_binary_accuracy: 0.9680\n",
      "Epoch 4/10\n",
      "22500/22500 [==============================] - 2s 100us/sample - loss: 0.0034 - binary_accuracy: 0.9996 - val_loss: 0.1198 - val_binary_accuracy: 0.9624\n",
      "Epoch 5/10\n",
      "22500/22500 [==============================] - 2s 106us/sample - loss: 8.3270e-04 - binary_accuracy: 1.0000 - val_loss: 0.1352 - val_binary_accuracy: 0.9644\n",
      "Epoch 6/10\n",
      "22500/22500 [==============================] - 2s 100us/sample - loss: 3.3106e-04 - binary_accuracy: 1.0000 - val_loss: 0.1475 - val_binary_accuracy: 0.9628\n",
      "Epoch 7/10\n",
      "22500/22500 [==============================] - 2s 100us/sample - loss: 2.0214e-04 - binary_accuracy: 1.0000 - val_loss: 0.1574 - val_binary_accuracy: 0.9628\n",
      "Epoch 8/10\n",
      "22500/22500 [==============================] - 2s 105us/sample - loss: 1.2976e-04 - binary_accuracy: 1.0000 - val_loss: 0.1663 - val_binary_accuracy: 0.9616\n",
      "Epoch 9/10\n",
      "22500/22500 [==============================] - 2s 103us/sample - loss: 8.5277e-05 - binary_accuracy: 1.0000 - val_loss: 0.1758 - val_binary_accuracy: 0.9604\n",
      "Epoch 10/10\n",
      "22500/22500 [==============================] - 2s 107us/sample - loss: 5.6594e-05 - binary_accuracy: 1.0000 - val_loss: 0.1856 - val_binary_accuracy: 0.9592\n"
     ]
    }
   ],
   "source": [
    "history = model.fit(x=x_partial_train, \n",
    "                    y=y_partial_train,\n",
    "                    validation_data=(x_validation, y_validation),\n",
    "                    epochs=10)"
   ]
  },
  {
   "cell_type": "code",
   "execution_count": 56,
   "metadata": {},
   "outputs": [
    {
     "data": {
      "text/plain": [
       "dict_keys(['loss', 'binary_accuracy', 'val_loss', 'val_binary_accuracy'])"
      ]
     },
     "execution_count": 56,
     "metadata": {},
     "output_type": "execute_result"
    }
   ],
   "source": [
    "history.history.keys()"
   ]
  },
  {
   "cell_type": "code",
   "execution_count": 55,
   "metadata": {},
   "outputs": [
    {
     "data": {
      "image/png": "[encoded data removed]",
      "text/plain": [
       "<Figure size 432x288 with 1 Axes>"
      ]
     },
     "metadata": {
      "needs_background": "light"
     },
     "output_type": "display_data"
    }
   ],
   "source": [
    "import matplotlib.pyplot as plt\n",
    "plt.plot(history.history['loss'], label=\"Train loss\")\n",
    "plt.plot(history.history['val_loss'], label=\"Validation loss\")\n",
    "plt.legend()\n",
    "plt.show()"
   ]
  },
  {
   "cell_type": "code",
   "execution_count": 53,
   "metadata": {},
   "outputs": [
    {
     "data": {
      "image/png": "[encoded data removed]",
      "text/plain": [
       "<Figure size 432x288 with 1 Axes>"
      ]
     },
     "metadata": {
      "needs_background": "light"
     },
     "output_type": "display_data"
    }
   ],
   "source": [
    "plt.plot(history.history['binary_accuracy'])\n",
    "plt.plot(history.history['val_binary_accuracy'])\n",
    "plt.show()"
   ]
  },
  {
   "cell_type": "code",
   "execution_count": null,
   "metadata": {},
   "outputs": [],
   "source": []
  }
 ],
 "metadata": {
  "kernelspec": {
   "display_name": "Python 3",
   "language": "python",
   "name": "python3"
  },
  "language_info": {
   "codemirror_mode": {
    "name": "ipython",
    "version": 3
   },
   "file_extension": ".py",
   "mimetype": "text/x-python",
   "name": "python",
   "nbconvert_exporter": "python",
   "pygments_lexer": "ipython3",
   "version": "3.6.8"
  }
 },
 "nbformat": 4,
 "nbformat_minor": 2
}
