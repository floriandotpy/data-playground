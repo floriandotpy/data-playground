{
 "cells": [
  {
   "cell_type": "code",
   "execution_count": 1,
   "metadata": {},
   "outputs": [],
   "source": [
    "import pandas as pd\n",
    "import json"
   ]
  },
  {
   "cell_type": "code",
   "execution_count": 2,
   "metadata": {},
   "outputs": [],
   "source": [
    "%matplotlib inline"
   ]
  },
  {
   "cell_type": "markdown",
   "metadata": {},
   "source": [
    "# Load data from json"
   ]
  },
  {
   "cell_type": "code",
   "execution_count": 9,
   "metadata": {},
   "outputs": [
    {
     "data": {
      "text/html": [
       "<div>\n",
       "<style scoped>\n",
       "    .dataframe tbody tr th:only-of-type {\n",
       "        vertical-align: middle;\n",
       "    }\n",
       "\n",
       "    .dataframe tbody tr th {\n",
       "        vertical-align: top;\n",
       "    }\n",
       "\n",
       "    .dataframe thead th {\n",
       "        text-align: right;\n",
       "    }\n",
       "</style>\n",
       "<table border=\"1\" class=\"dataframe\">\n",
       "  <thead>\n",
       "    <tr style=\"text-align: right;\">\n",
       "      <th></th>\n",
       "      <th>entries</th>\n",
       "      <th>name</th>\n",
       "      <th>url</th>\n",
       "      <th>username</th>\n",
       "    </tr>\n",
       "  </thead>\n",
       "  <tbody>\n",
       "    <tr>\n",
       "      <th>0</th>\n",
       "      <td>{'book': {'author': {'id': 9898, 'name': 'Fran...</td>\n",
       "      <td>Florian</td>\n",
       "      <td>/von/florian</td>\n",
       "      <td>florian</td>\n",
       "    </tr>\n",
       "    <tr>\n",
       "      <th>1</th>\n",
       "      <td>{'book': {'author': {'id': 2757, 'name': 'Step...</td>\n",
       "      <td>Florian</td>\n",
       "      <td>/von/florian</td>\n",
       "      <td>florian</td>\n",
       "    </tr>\n",
       "    <tr>\n",
       "      <th>2</th>\n",
       "      <td>{'book': {'author': {'id': 56, 'name': 'Benedi...</td>\n",
       "      <td>Florian</td>\n",
       "      <td>/von/florian</td>\n",
       "      <td>florian</td>\n",
       "    </tr>\n",
       "    <tr>\n",
       "      <th>3</th>\n",
       "      <td>{'book': {'author': {'id': 632, 'name': 'Rober...</td>\n",
       "      <td>Florian</td>\n",
       "      <td>/von/florian</td>\n",
       "      <td>florian</td>\n",
       "    </tr>\n",
       "    <tr>\n",
       "      <th>4</th>\n",
       "      <td>{'book': {'author': {'id': 8601, 'name': 'Mike...</td>\n",
       "      <td>Florian</td>\n",
       "      <td>/von/florian</td>\n",
       "      <td>florian</td>\n",
       "    </tr>\n",
       "    <tr>\n",
       "      <th>...</th>\n",
       "      <td>...</td>\n",
       "      <td>...</td>\n",
       "      <td>...</td>\n",
       "      <td>...</td>\n",
       "    </tr>\n",
       "    <tr>\n",
       "      <th>154</th>\n",
       "      <td>{'book': {'author': {'id': 278, 'name': 'Sam W...</td>\n",
       "      <td>Florian</td>\n",
       "      <td>/von/florian</td>\n",
       "      <td>florian</td>\n",
       "    </tr>\n",
       "    <tr>\n",
       "      <th>155</th>\n",
       "      <td>{'book': {'author': {'id': 24, 'name': 'Malcol...</td>\n",
       "      <td>Florian</td>\n",
       "      <td>/von/florian</td>\n",
       "      <td>florian</td>\n",
       "    </tr>\n",
       "    <tr>\n",
       "      <th>156</th>\n",
       "      <td>{'book': {'author': {'id': 12, 'name': 'Volker...</td>\n",
       "      <td>Florian</td>\n",
       "      <td>/von/florian</td>\n",
       "      <td>florian</td>\n",
       "    </tr>\n",
       "    <tr>\n",
       "      <th>157</th>\n",
       "      <td>{'book': {'author': {'id': 2477, 'name': 'Jose...</td>\n",
       "      <td>Florian</td>\n",
       "      <td>/von/florian</td>\n",
       "      <td>florian</td>\n",
       "    </tr>\n",
       "    <tr>\n",
       "      <th>158</th>\n",
       "      <td>{'book': {'author': {'id': 466, 'name': 'Phili...</td>\n",
       "      <td>Florian</td>\n",
       "      <td>/von/florian</td>\n",
       "      <td>florian</td>\n",
       "    </tr>\n",
       "  </tbody>\n",
       "</table>\n",
       "<p>159 rows × 4 columns</p>\n",
       "</div>"
      ],
      "text/plain": [
       "                                               entries     name           url  \\\n",
       "0    {'book': {'author': {'id': 9898, 'name': 'Fran...  Florian  /von/florian   \n",
       "1    {'book': {'author': {'id': 2757, 'name': 'Step...  Florian  /von/florian   \n",
       "2    {'book': {'author': {'id': 56, 'name': 'Benedi...  Florian  /von/florian   \n",
       "3    {'book': {'author': {'id': 632, 'name': 'Rober...  Florian  /von/florian   \n",
       "4    {'book': {'author': {'id': 8601, 'name': 'Mike...  Florian  /von/florian   \n",
       "..                                                 ...      ...           ...   \n",
       "154  {'book': {'author': {'id': 278, 'name': 'Sam W...  Florian  /von/florian   \n",
       "155  {'book': {'author': {'id': 24, 'name': 'Malcol...  Florian  /von/florian   \n",
       "156  {'book': {'author': {'id': 12, 'name': 'Volker...  Florian  /von/florian   \n",
       "157  {'book': {'author': {'id': 2477, 'name': 'Jose...  Florian  /von/florian   \n",
       "158  {'book': {'author': {'id': 466, 'name': 'Phili...  Florian  /von/florian   \n",
       "\n",
       "    username  \n",
       "0    florian  \n",
       "1    florian  \n",
       "2    florian  \n",
       "3    florian  \n",
       "4    florian  \n",
       "..       ...  \n",
       "154  florian  \n",
       "155  florian  \n",
       "156  florian  \n",
       "157  florian  \n",
       "158  florian  \n",
       "\n",
       "[159 rows x 4 columns]"
      ]
     },
     "execution_count": 9,
     "metadata": {},
     "output_type": "execute_result"
    }
   ],
   "source": [
    "DATA_PATH = 'data/lesetagebuch-florian.json'\n",
    "df = pd.read_json(DATA_PATH)\n",
    "df"
   ]
  },
  {
   "cell_type": "code",
   "execution_count": 10,
   "metadata": {},
   "outputs": [],
   "source": [
    "with open(DATA_PATH) as fp:\n",
    "    books = json.load(fp)\n"
   ]
  },
  {
   "cell_type": "markdown",
   "metadata": {},
   "source": [
    "# Set up dataframe with desired structure and types"
   ]
  },
  {
   "cell_type": "code",
   "execution_count": 11,
   "metadata": {},
   "outputs": [
    {
     "data": {
      "text/plain": [
       "{'book': {'author': {'id': 9898,\n",
       "   'name': 'François Chollet',\n",
       "   'url': '/autor/fran%C3%A7ois-chollet'},\n",
       "  'id': 21280,\n",
       "  'pages': 384,\n",
       "  'title': 'Deep Learning with Python',\n",
       "  'url': '/buch/deep-learning-with-python'},\n",
       " 'book_type': 'book',\n",
       " 'comment': \"A book about deep learning that really caters to my preferred learning style: It covers a lot of real-world applications (text analysis, sentiment analysis, vision, ...) and provides clear and practical code examples that invite you to try for yourself. Ultimately, trying it out and building something yourself is the way to _really_ grasp the concepts, I think, and this book does a really good job at it.\\r\\n\\r\\nWhile Francois Chollet does give some introduction in the beginning, it may be too little for the complete beginner. For anyone starting at a slightly-above beginner to intermediate level, I'd wholeheartedly recommend this book to learn Deep Learning with Python.\",\n",
       " 'date': '2020-01-15',\n",
       " 'id': 39095,\n",
       " 'pinned': False,\n",
       " 'private': False,\n",
       " 'rating': 5,\n",
       " 'tags': ['author_m', 'english', 'coding'],\n",
       " 'type': 'finished',\n",
       " 'url': '/eintrag/39095',\n",
       " 'user': {'username': 'florian'}}"
      ]
     },
     "execution_count": 11,
     "metadata": {},
     "output_type": "execute_result"
    }
   ],
   "source": [
    "books['entries'][0]"
   ]
  },
  {
   "cell_type": "code",
   "execution_count": 12,
   "metadata": {},
   "outputs": [
    {
     "data": {
      "text/html": [
       "<div>\n",
       "<style scoped>\n",
       "    .dataframe tbody tr th:only-of-type {\n",
       "        vertical-align: middle;\n",
       "    }\n",
       "\n",
       "    .dataframe tbody tr th {\n",
       "        vertical-align: top;\n",
       "    }\n",
       "\n",
       "    .dataframe thead th {\n",
       "        text-align: right;\n",
       "    }\n",
       "</style>\n",
       "<table border=\"1\" class=\"dataframe\">\n",
       "  <thead>\n",
       "    <tr style=\"text-align: right;\">\n",
       "      <th></th>\n",
       "      <th>book_type</th>\n",
       "      <th>comment</th>\n",
       "      <th>date</th>\n",
       "      <th>id</th>\n",
       "      <th>pinned</th>\n",
       "      <th>private</th>\n",
       "      <th>rating</th>\n",
       "      <th>tags</th>\n",
       "      <th>type</th>\n",
       "      <th>url</th>\n",
       "      <th>author</th>\n",
       "      <th>title</th>\n",
       "      <th>book_pages</th>\n",
       "      <th>username</th>\n",
       "      <th>language</th>\n",
       "      <th>author_gender</th>\n",
       "    </tr>\n",
       "  </thead>\n",
       "  <tbody>\n",
       "    <tr>\n",
       "      <th>0</th>\n",
       "      <td>book</td>\n",
       "      <td>A book about deep learning that really caters ...</td>\n",
       "      <td>2020-01-15</td>\n",
       "      <td>39095</td>\n",
       "      <td>False</td>\n",
       "      <td>False</td>\n",
       "      <td>5.0</td>\n",
       "      <td>[author_m, english, coding]</td>\n",
       "      <td>finished</td>\n",
       "      <td>/eintrag/39095</td>\n",
       "      <td>François Chollet</td>\n",
       "      <td>Deep Learning with Python</td>\n",
       "      <td>384</td>\n",
       "      <td>florian</td>\n",
       "      <td>English</td>\n",
       "      <td>Male</td>\n",
       "    </tr>\n",
       "    <tr>\n",
       "      <th>1</th>\n",
       "      <td>audio_book</td>\n",
       "      <td>The first time I really leaned into Greek myth...</td>\n",
       "      <td>2020-12-15</td>\n",
       "      <td>39094</td>\n",
       "      <td>False</td>\n",
       "      <td>False</td>\n",
       "      <td>4.0</td>\n",
       "      <td>[english, fiction, author_m]</td>\n",
       "      <td>finished</td>\n",
       "      <td>/eintrag/39094</td>\n",
       "      <td>Stephen Fry</td>\n",
       "      <td>Mythos</td>\n",
       "      <td>448</td>\n",
       "      <td>florian</td>\n",
       "      <td>English</td>\n",
       "      <td>Male</td>\n",
       "    </tr>\n",
       "    <tr>\n",
       "      <th>2</th>\n",
       "      <td>book</td>\n",
       "      <td>Unglaublich schön geschrieben. Hätte fast eine...</td>\n",
       "      <td>2020-12-22</td>\n",
       "      <td>39092</td>\n",
       "      <td>False</td>\n",
       "      <td>False</td>\n",
       "      <td>5.0</td>\n",
       "      <td>[german, fiction, novel, author_m]</td>\n",
       "      <td>finished</td>\n",
       "      <td>/eintrag/39092</td>\n",
       "      <td>Benedict Wells</td>\n",
       "      <td>Vom Ende der Einsamkeit</td>\n",
       "      <td>355</td>\n",
       "      <td>florian</td>\n",
       "      <td>German</td>\n",
       "      <td>Male</td>\n",
       "    </tr>\n",
       "    <tr>\n",
       "      <th>3</th>\n",
       "      <td>book</td>\n",
       "      <td>Wow, what a story. \\r\\n\\r\\nI was only vaguely ...</td>\n",
       "      <td>2020-11-30</td>\n",
       "      <td>38938</td>\n",
       "      <td>False</td>\n",
       "      <td>False</td>\n",
       "      <td>4.0</td>\n",
       "      <td>[english, history, author_m]</td>\n",
       "      <td>finished</td>\n",
       "      <td>/eintrag/38938</td>\n",
       "      <td>Robert Harris</td>\n",
       "      <td>Selling Hitler</td>\n",
       "      <td>400</td>\n",
       "      <td>florian</td>\n",
       "      <td>English</td>\n",
       "      <td>Male</td>\n",
       "    </tr>\n",
       "    <tr>\n",
       "      <th>4</th>\n",
       "      <td>book</td>\n",
       "      <td>The story of astrophysicist Mike Brown whose c...</td>\n",
       "      <td>2020-11-21</td>\n",
       "      <td>38797</td>\n",
       "      <td>False</td>\n",
       "      <td>False</td>\n",
       "      <td>5.0</td>\n",
       "      <td>[english, science, author_m]</td>\n",
       "      <td>finished</td>\n",
       "      <td>/eintrag/38797</td>\n",
       "      <td>Mike Brown</td>\n",
       "      <td>How I Killed Pluto and Why It Had It Coming</td>\n",
       "      <td>288</td>\n",
       "      <td>florian</td>\n",
       "      <td>English</td>\n",
       "      <td>Male</td>\n",
       "    </tr>\n",
       "    <tr>\n",
       "      <th>...</th>\n",
       "      <td>...</td>\n",
       "      <td>...</td>\n",
       "      <td>...</td>\n",
       "      <td>...</td>\n",
       "      <td>...</td>\n",
       "      <td>...</td>\n",
       "      <td>...</td>\n",
       "      <td>...</td>\n",
       "      <td>...</td>\n",
       "      <td>...</td>\n",
       "      <td>...</td>\n",
       "      <td>...</td>\n",
       "      <td>...</td>\n",
       "      <td>...</td>\n",
       "      <td>...</td>\n",
       "      <td>...</td>\n",
       "    </tr>\n",
       "    <tr>\n",
       "      <th>154</th>\n",
       "      <td>book</td>\n",
       "      <td>Some kind of biography about Richard Stallman ...</td>\n",
       "      <td>2013-02-12</td>\n",
       "      <td>1457</td>\n",
       "      <td>False</td>\n",
       "      <td>False</td>\n",
       "      <td>4.0</td>\n",
       "      <td>[]</td>\n",
       "      <td>finished</td>\n",
       "      <td>/eintrag/1457</td>\n",
       "      <td>Sam Williams</td>\n",
       "      <td>Free as in Freedom</td>\n",
       "      <td>264</td>\n",
       "      <td>florian</td>\n",
       "      <td>Unknown</td>\n",
       "      <td>Unknown</td>\n",
       "    </tr>\n",
       "    <tr>\n",
       "      <th>155</th>\n",
       "      <td>book</td>\n",
       "      <td>Interessant zu erfahren, dass manchmal eine sp...</td>\n",
       "      <td>2013-01-23</td>\n",
       "      <td>1019</td>\n",
       "      <td>False</td>\n",
       "      <td>False</td>\n",
       "      <td>3.0</td>\n",
       "      <td>[]</td>\n",
       "      <td>finished</td>\n",
       "      <td>/eintrag/1019</td>\n",
       "      <td>Malcolm Gladwell</td>\n",
       "      <td>Blink!</td>\n",
       "      <td>304</td>\n",
       "      <td>florian</td>\n",
       "      <td>Unknown</td>\n",
       "      <td>Unknown</td>\n",
       "    </tr>\n",
       "    <tr>\n",
       "      <th>156</th>\n",
       "      <td>book</td>\n",
       "      <td>Tolle Atmosphäre im Berlin der 1920er Jahre. S...</td>\n",
       "      <td>2013-01-07</td>\n",
       "      <td>1004</td>\n",
       "      <td>False</td>\n",
       "      <td>False</td>\n",
       "      <td>4.0</td>\n",
       "      <td>[]</td>\n",
       "      <td>finished</td>\n",
       "      <td>/eintrag/1004</td>\n",
       "      <td>Volker Kutscher</td>\n",
       "      <td>Der nasse Fisch</td>\n",
       "      <td>560</td>\n",
       "      <td>florian</td>\n",
       "      <td>Unknown</td>\n",
       "      <td>Unknown</td>\n",
       "    </tr>\n",
       "    <tr>\n",
       "      <th>157</th>\n",
       "      <td>book</td>\n",
       "      <td>None</td>\n",
       "      <td>2015-01-19</td>\n",
       "      <td>992</td>\n",
       "      <td>False</td>\n",
       "      <td>False</td>\n",
       "      <td>NaN</td>\n",
       "      <td>[]</td>\n",
       "      <td>wished</td>\n",
       "      <td>/eintrag/992</td>\n",
       "      <td>Joseph Campbell</td>\n",
       "      <td>The Hero with a Thousand Faces</td>\n",
       "      <td>418</td>\n",
       "      <td>florian</td>\n",
       "      <td>Unknown</td>\n",
       "      <td>Unknown</td>\n",
       "    </tr>\n",
       "    <tr>\n",
       "      <th>158</th>\n",
       "      <td>book</td>\n",
       "      <td>None</td>\n",
       "      <td>2015-01-19</td>\n",
       "      <td>991</td>\n",
       "      <td>False</td>\n",
       "      <td>False</td>\n",
       "      <td>NaN</td>\n",
       "      <td>[]</td>\n",
       "      <td>wished</td>\n",
       "      <td>/eintrag/991</td>\n",
       "      <td>Philip K. Dick</td>\n",
       "      <td>Do Androids Dream of Electric Sheep?</td>\n",
       "      <td>208</td>\n",
       "      <td>florian</td>\n",
       "      <td>Unknown</td>\n",
       "      <td>Unknown</td>\n",
       "    </tr>\n",
       "  </tbody>\n",
       "</table>\n",
       "<p>159 rows × 16 columns</p>\n",
       "</div>"
      ],
      "text/plain": [
       "      book_type                                            comment       date  \\\n",
       "0          book  A book about deep learning that really caters ... 2020-01-15   \n",
       "1    audio_book  The first time I really leaned into Greek myth... 2020-12-15   \n",
       "2          book  Unglaublich schön geschrieben. Hätte fast eine... 2020-12-22   \n",
       "3          book  Wow, what a story. \\r\\n\\r\\nI was only vaguely ... 2020-11-30   \n",
       "4          book  The story of astrophysicist Mike Brown whose c... 2020-11-21   \n",
       "..          ...                                                ...        ...   \n",
       "154        book  Some kind of biography about Richard Stallman ... 2013-02-12   \n",
       "155        book  Interessant zu erfahren, dass manchmal eine sp... 2013-01-23   \n",
       "156        book  Tolle Atmosphäre im Berlin der 1920er Jahre. S... 2013-01-07   \n",
       "157        book                                               None 2015-01-19   \n",
       "158        book                                               None 2015-01-19   \n",
       "\n",
       "        id  pinned  private  rating                                tags  \\\n",
       "0    39095   False    False     5.0         [author_m, english, coding]   \n",
       "1    39094   False    False     4.0        [english, fiction, author_m]   \n",
       "2    39092   False    False     5.0  [german, fiction, novel, author_m]   \n",
       "3    38938   False    False     4.0        [english, history, author_m]   \n",
       "4    38797   False    False     5.0        [english, science, author_m]   \n",
       "..     ...     ...      ...     ...                                 ...   \n",
       "154   1457   False    False     4.0                                  []   \n",
       "155   1019   False    False     3.0                                  []   \n",
       "156   1004   False    False     4.0                                  []   \n",
       "157    992   False    False     NaN                                  []   \n",
       "158    991   False    False     NaN                                  []   \n",
       "\n",
       "         type             url            author  \\\n",
       "0    finished  /eintrag/39095  François Chollet   \n",
       "1    finished  /eintrag/39094       Stephen Fry   \n",
       "2    finished  /eintrag/39092    Benedict Wells   \n",
       "3    finished  /eintrag/38938     Robert Harris   \n",
       "4    finished  /eintrag/38797        Mike Brown   \n",
       "..        ...             ...               ...   \n",
       "154  finished   /eintrag/1457      Sam Williams   \n",
       "155  finished   /eintrag/1019  Malcolm Gladwell   \n",
       "156  finished   /eintrag/1004   Volker Kutscher   \n",
       "157    wished    /eintrag/992   Joseph Campbell   \n",
       "158    wished    /eintrag/991    Philip K. Dick   \n",
       "\n",
       "                                           title  book_pages username  \\\n",
       "0                      Deep Learning with Python         384  florian   \n",
       "1                                         Mythos         448  florian   \n",
       "2                        Vom Ende der Einsamkeit         355  florian   \n",
       "3                                 Selling Hitler         400  florian   \n",
       "4    How I Killed Pluto and Why It Had It Coming         288  florian   \n",
       "..                                           ...         ...      ...   \n",
       "154                           Free as in Freedom         264  florian   \n",
       "155                                       Blink!         304  florian   \n",
       "156                              Der nasse Fisch         560  florian   \n",
       "157               The Hero with a Thousand Faces         418  florian   \n",
       "158         Do Androids Dream of Electric Sheep?         208  florian   \n",
       "\n",
       "    language author_gender  \n",
       "0    English          Male  \n",
       "1    English          Male  \n",
       "2     German          Male  \n",
       "3    English          Male  \n",
       "4    English          Male  \n",
       "..       ...           ...  \n",
       "154  Unknown       Unknown  \n",
       "155  Unknown       Unknown  \n",
       "156  Unknown       Unknown  \n",
       "157  Unknown       Unknown  \n",
       "158  Unknown       Unknown  \n",
       "\n",
       "[159 rows x 16 columns]"
      ]
     },
     "execution_count": 12,
     "metadata": {},
     "output_type": "execute_result"
    }
   ],
   "source": [
    "def _author_gender(tags):\n",
    "    gender_tags = {\n",
    "        'author_m': 'Male',\n",
    "        'author_f': 'Female',\n",
    "        'author_d': 'Diverse / Multiple',\n",
    "    }\n",
    "    for tag in tags:\n",
    "        if tag.lower() in gender_tags:\n",
    "            return gender_tags[tag]\n",
    "    return 'Unknown'\n",
    "\n",
    "def _language(tags):\n",
    "    for lang in ('German', 'English'):\n",
    "        if lang.lower() in tags:\n",
    "            return lang\n",
    "    return 'Unknown'\n",
    "\n",
    "drop_keys = ['book', 'user']\n",
    "books_flat = [\n",
    "    {\n",
    "        **{k:v for k, v in book.items() if k not in drop_keys},\n",
    "        **{\n",
    "            'author': book['book']['author']['name'],\n",
    "            'title': book['book']['title'],\n",
    "            'book_pages': book['book']['pages'],\n",
    "            'username': book['user']['username'],\n",
    "            'language': _language(book.get('tags')),\n",
    "            'author_gender': _author_gender(book.get('tags'))\n",
    "         }\n",
    "    }\n",
    "    for book in books['entries']\n",
    "]\n",
    "\n",
    "df = pd.DataFrame(books_flat)\n",
    "df['date'] = df.date.str.replace('00', '01')  # fallback dates were day not specified\n",
    "df['date'] = pd.to_datetime(df['date'], format='%Y-%m-%d')\n",
    "df"
   ]
  },
  {
   "cell_type": "code",
   "execution_count": 13,
   "metadata": {},
   "outputs": [
    {
     "data": {
      "text/plain": [
       "book_type                object\n",
       "comment                  object\n",
       "date             datetime64[ns]\n",
       "id                        int64\n",
       "pinned                     bool\n",
       "private                    bool\n",
       "rating                  float64\n",
       "tags                     object\n",
       "type                     object\n",
       "url                      object\n",
       "author                   object\n",
       "title                    object\n",
       "book_pages                int64\n",
       "username                 object\n",
       "language                 object\n",
       "author_gender            object\n",
       "dtype: object"
      ]
     },
     "execution_count": 13,
     "metadata": {},
     "output_type": "execute_result"
    }
   ],
   "source": [
    "df.dtypes"
   ]
  },
  {
   "cell_type": "markdown",
   "metadata": {},
   "source": [
    "#  Mostly paper books, few audio books"
   ]
  },
  {
   "cell_type": "code",
   "execution_count": 14,
   "metadata": {},
   "outputs": [],
   "source": [
    "# df.book_type.value_counts().plot(kind='pie', leg)"
   ]
  },
  {
   "cell_type": "markdown",
   "metadata": {},
   "source": [
    "# How many books per year"
   ]
  },
  {
   "cell_type": "code",
   "execution_count": 16,
   "metadata": {},
   "outputs": [
    {
     "data": {
      "text/html": [
       "<div>\n",
       "<style scoped>\n",
       "    .dataframe tbody tr th:only-of-type {\n",
       "        vertical-align: middle;\n",
       "    }\n",
       "\n",
       "    .dataframe tbody tr th {\n",
       "        vertical-align: top;\n",
       "    }\n",
       "\n",
       "    .dataframe thead th {\n",
       "        text-align: right;\n",
       "    }\n",
       "</style>\n",
       "<table border=\"1\" class=\"dataframe\">\n",
       "  <thead>\n",
       "    <tr style=\"text-align: right;\">\n",
       "      <th></th>\n",
       "      <th>title</th>\n",
       "      <th>book_pages</th>\n",
       "    </tr>\n",
       "    <tr>\n",
       "      <th>year</th>\n",
       "      <th></th>\n",
       "      <th></th>\n",
       "    </tr>\n",
       "  </thead>\n",
       "  <tbody>\n",
       "    <tr>\n",
       "      <th>2013</th>\n",
       "      <td>24</td>\n",
       "      <td>6237</td>\n",
       "    </tr>\n",
       "    <tr>\n",
       "      <th>2014</th>\n",
       "      <td>13</td>\n",
       "      <td>4688</td>\n",
       "    </tr>\n",
       "    <tr>\n",
       "      <th>2015</th>\n",
       "      <td>10</td>\n",
       "      <td>3745</td>\n",
       "    </tr>\n",
       "    <tr>\n",
       "      <th>2016</th>\n",
       "      <td>16</td>\n",
       "      <td>6320</td>\n",
       "    </tr>\n",
       "    <tr>\n",
       "      <th>2017</th>\n",
       "      <td>23</td>\n",
       "      <td>8161</td>\n",
       "    </tr>\n",
       "    <tr>\n",
       "      <th>2018</th>\n",
       "      <td>20</td>\n",
       "      <td>6458</td>\n",
       "    </tr>\n",
       "    <tr>\n",
       "      <th>2019</th>\n",
       "      <td>29</td>\n",
       "      <td>9727</td>\n",
       "    </tr>\n",
       "    <tr>\n",
       "      <th>2020</th>\n",
       "      <td>24</td>\n",
       "      <td>9678</td>\n",
       "    </tr>\n",
       "  </tbody>\n",
       "</table>\n",
       "</div>"
      ],
      "text/plain": [
       "      title  book_pages\n",
       "year                   \n",
       "2013     24        6237\n",
       "2014     13        4688\n",
       "2015     10        3745\n",
       "2016     16        6320\n",
       "2017     23        8161\n",
       "2018     20        6458\n",
       "2019     29        9727\n",
       "2020     24        9678"
      ]
     },
     "execution_count": 16,
     "metadata": {},
     "output_type": "execute_result"
    }
   ],
   "source": [
    "yearly_stats = (\n",
    "    df.assign(\n",
    "        year=lambda entry: entry['date'].dt.year\n",
    "    )\n",
    "    .groupby('year')[['title', 'book_pages']]\n",
    ").agg({\n",
    "    'title': 'count',\n",
    "    'book_pages': 'sum'\n",
    "})\n",
    "yearly_stats"
   ]
  },
  {
   "cell_type": "markdown",
   "metadata": {},
   "source": [
    "## How many _books_ have I read each year?"
   ]
  },
  {
   "cell_type": "code",
   "execution_count": 17,
   "metadata": {},
   "outputs": [
    {
     "data": {
      "text/plain": [
       "<matplotlib.axes._subplots.AxesSubplot at 0x7fae7716ffd0>"
      ]
     },
     "execution_count": 17,
     "metadata": {},
     "output_type": "execute_result"
    },
    {
     "data": {
      "image/png": "[encoded data removed]",
      "text/plain": [
       "<Figure size 432x288 with 1 Axes>"
      ]
     },
     "metadata": {
      "needs_background": "light"
     },
     "output_type": "display_data"
    }
   ],
   "source": [
    "yearly_stats['title'].sort_index(ascending=False).plot(kind='bar')"
   ]
  },
  {
   "cell_type": "markdown",
   "metadata": {},
   "source": [
    "## How many _pages_ have I read each year?"
   ]
  },
  {
   "cell_type": "code",
   "execution_count": 18,
   "metadata": {},
   "outputs": [
    {
     "data": {
      "text/plain": [
       "<matplotlib.axes._subplots.AxesSubplot at 0x7fae7724bb00>"
      ]
     },
     "execution_count": 18,
     "metadata": {},
     "output_type": "execute_result"
    },
    {
     "data": {
      "image/png": "[encoded data removed]",
      "text/plain": [
       "<Figure size 432x288 with 1 Axes>"
      ]
     },
     "metadata": {
      "needs_background": "light"
     },
     "output_type": "display_data"
    }
   ],
   "source": [
    "yearly_stats['book_pages'].sort_index(ascending=False).plot(kind='bar')"
   ]
  },
  {
   "cell_type": "markdown",
   "metadata": {},
   "source": [
    "# What's the month where I read the most?"
   ]
  },
  {
   "cell_type": "code",
   "execution_count": 19,
   "metadata": {},
   "outputs": [
    {
     "data": {
      "text/plain": [
       "8"
      ]
     },
     "execution_count": 19,
     "metadata": {},
     "output_type": "execute_result"
    }
   ],
   "source": [
    "years = df.assign(\n",
    "    year=lambda entry: entry['date'].dt.year\n",
    ")['year']\n",
    "num_years = len(years.unique())\n",
    "num_years"
   ]
  },
  {
   "cell_type": "code",
   "execution_count": 22,
   "metadata": {},
   "outputs": [
    {
     "data": {
      "text/html": [
       "<div>\n",
       "<style scoped>\n",
       "    .dataframe tbody tr th:only-of-type {\n",
       "        vertical-align: middle;\n",
       "    }\n",
       "\n",
       "    .dataframe tbody tr th {\n",
       "        vertical-align: top;\n",
       "    }\n",
       "\n",
       "    .dataframe thead th {\n",
       "        text-align: right;\n",
       "    }\n",
       "</style>\n",
       "<table border=\"1\" class=\"dataframe\">\n",
       "  <thead>\n",
       "    <tr style=\"text-align: right;\">\n",
       "      <th></th>\n",
       "      <th>pages_per_month</th>\n",
       "      <th>books_per_month</th>\n",
       "    </tr>\n",
       "    <tr>\n",
       "      <th>month</th>\n",
       "      <th></th>\n",
       "      <th></th>\n",
       "    </tr>\n",
       "  </thead>\n",
       "  <tbody>\n",
       "    <tr>\n",
       "      <th>1</th>\n",
       "      <td>304.500000</td>\n",
       "      <td>2.250</td>\n",
       "    </tr>\n",
       "    <tr>\n",
       "      <th>2</th>\n",
       "      <td>382.941176</td>\n",
       "      <td>2.125</td>\n",
       "    </tr>\n",
       "    <tr>\n",
       "      <th>3</th>\n",
       "      <td>394.500000</td>\n",
       "      <td>0.750</td>\n",
       "    </tr>\n",
       "    <tr>\n",
       "      <th>4</th>\n",
       "      <td>419.444444</td>\n",
       "      <td>1.125</td>\n",
       "    </tr>\n",
       "    <tr>\n",
       "      <th>5</th>\n",
       "      <td>423.000000</td>\n",
       "      <td>1.000</td>\n",
       "    </tr>\n",
       "    <tr>\n",
       "      <th>6</th>\n",
       "      <td>426.800000</td>\n",
       "      <td>0.625</td>\n",
       "    </tr>\n",
       "    <tr>\n",
       "      <th>7</th>\n",
       "      <td>315.777778</td>\n",
       "      <td>1.125</td>\n",
       "    </tr>\n",
       "    <tr>\n",
       "      <th>8</th>\n",
       "      <td>331.181818</td>\n",
       "      <td>1.375</td>\n",
       "    </tr>\n",
       "    <tr>\n",
       "      <th>9</th>\n",
       "      <td>406.562500</td>\n",
       "      <td>2.000</td>\n",
       "    </tr>\n",
       "    <tr>\n",
       "      <th>10</th>\n",
       "      <td>346.187500</td>\n",
       "      <td>2.000</td>\n",
       "    </tr>\n",
       "    <tr>\n",
       "      <th>11</th>\n",
       "      <td>325.235294</td>\n",
       "      <td>2.125</td>\n",
       "    </tr>\n",
       "    <tr>\n",
       "      <th>12</th>\n",
       "      <td>270.555556</td>\n",
       "      <td>3.375</td>\n",
       "    </tr>\n",
       "  </tbody>\n",
       "</table>\n",
       "</div>"
      ],
      "text/plain": [
       "       pages_per_month  books_per_month\n",
       "month                                  \n",
       "1           304.500000            2.250\n",
       "2           382.941176            2.125\n",
       "3           394.500000            0.750\n",
       "4           419.444444            1.125\n",
       "5           423.000000            1.000\n",
       "6           426.800000            0.625\n",
       "7           315.777778            1.125\n",
       "8           331.181818            1.375\n",
       "9           406.562500            2.000\n",
       "10          346.187500            2.000\n",
       "11          325.235294            2.125\n",
       "12          270.555556            3.375"
      ]
     },
     "execution_count": 22,
     "metadata": {},
     "output_type": "execute_result"
    }
   ],
   "source": [
    "monthly_stats = (\n",
    "    df.assign(\n",
    "        month=lambda entry: entry['date'].dt.month\n",
    "    )\n",
    "    .groupby('month')[['title', 'book_pages']]\n",
    ").agg({\n",
    "    'title': 'count',  # FIXME: I need the mean of the count instead!\n",
    "    'book_pages': 'mean'\n",
    "}).rename(\n",
    "    columns={\n",
    "        'title': 'books_num_total',\n",
    "        'book_pages': 'pages_per_month'\n",
    "    }\n",
    ").assign(\n",
    "    books_per_month=lambda entry: (entry['books_num_total'] / num_years)\n",
    ")[\n",
    "    ['pages_per_month', 'books_per_month']\n",
    "]\n",
    "monthly_stats"
   ]
  },
  {
   "cell_type": "markdown",
   "metadata": {},
   "source": [
    "## December is when I read most books\n",
    "...to hit the reading goal?"
   ]
  },
  {
   "cell_type": "code",
   "execution_count": 23,
   "metadata": {},
   "outputs": [
    {
     "data": {
      "text/plain": [
       "<matplotlib.axes._subplots.AxesSubplot at 0x7fae77257da0>"
      ]
     },
     "execution_count": 23,
     "metadata": {},
     "output_type": "execute_result"
    },
    {
     "data": {
      "image/png": "[encoded data removed]",
      "text/plain": [
       "<Figure size 432x288 with 1 Axes>"
      ]
     },
     "metadata": {
      "needs_background": "light"
     },
     "output_type": "display_data"
    }
   ],
   "source": [
    "monthly_stats['books_per_month'].sort_index().plot(kind='bar')"
   ]
  },
  {
   "cell_type": "markdown",
   "metadata": {},
   "source": [
    "## However, books read in December are shorter on average\n",
    "Is it easier to hit the reading goal that way?"
   ]
  },
  {
   "cell_type": "code",
   "execution_count": 15,
   "metadata": {},
   "outputs": [
    {
     "data": {
      "text/plain": [
       "<matplotlib.axes._subplots.AxesSubplot at 0x7f93b589bb00>"
      ]
     },
     "execution_count": 15,
     "metadata": {},
     "output_type": "execute_result"
    },
    {
     "data": {
      "image/png": "[encoded data removed]",
      "text/plain": [
       "<Figure size 432x288 with 1 Axes>"
      ]
     },
     "metadata": {
      "needs_background": "light"
     },
     "output_type": "display_data"
    }
   ],
   "source": [
    "monthly_stats['pages_per_month'].sort_index().plot(kind='bar')"
   ]
  },
  {
   "cell_type": "code",
   "execution_count": 16,
   "metadata": {},
   "outputs": [],
   "source": [
    "# Do I like the books I read?"
   ]
  },
  {
   "cell_type": "markdown",
   "metadata": {},
   "source": [
    "# Ratings"
   ]
  },
  {
   "cell_type": "code",
   "execution_count": 24,
   "metadata": {},
   "outputs": [
    {
     "name": "stderr",
     "output_type": "stream",
     "text": [
      "/Users/flo/projects/data-playground/venv/lib/python3.7/site-packages/ipykernel_launcher.py:4: UserWarning: Boolean Series key will be reindexed to match DataFrame index.\n",
      "  after removing the cwd from sys.path.\n"
     ]
    },
    {
     "data": {
      "text/plain": [
       "<matplotlib.axes._subplots.AxesSubplot at 0x7fae77386b00>"
      ]
     },
     "execution_count": 24,
     "metadata": {},
     "output_type": "execute_result"
    },
    {
     "data": {
      "image/png": "[encoded data removed]",
      "text/plain": [
       "<Figure size 432x288 with 1 Axes>"
      ]
     },
     "metadata": {
      "needs_background": "light"
     },
     "output_type": "display_data"
    }
   ],
   "source": [
    "df_rated = (\n",
    "    df\n",
    "    [df.rating.notnull()]\n",
    "    [df.rating>0]\n",
    ")\n",
    "df_rated.rating.value_counts().sort_index().plot(kind='bar')"
   ]
  },
  {
   "cell_type": "code",
   "execution_count": 25,
   "metadata": {},
   "outputs": [
    {
     "name": "stdout",
     "output_type": "stream",
     "text": [
      "3\n",
      "3\n",
      "6\n"
     ]
    },
    {
     "data": {
      "text/html": [
       "<div>\n",
       "<style scoped>\n",
       "    .dataframe tbody tr th:only-of-type {\n",
       "        vertical-align: middle;\n",
       "    }\n",
       "\n",
       "    .dataframe tbody tr th {\n",
       "        vertical-align: top;\n",
       "    }\n",
       "\n",
       "    .dataframe thead th {\n",
       "        text-align: right;\n",
       "    }\n",
       "</style>\n",
       "<table border=\"1\" class=\"dataframe\">\n",
       "  <thead>\n",
       "    <tr style=\"text-align: right;\">\n",
       "      <th></th>\n",
       "      <th>book_type</th>\n",
       "      <th>comment</th>\n",
       "      <th>date</th>\n",
       "      <th>id</th>\n",
       "      <th>pinned</th>\n",
       "      <th>private</th>\n",
       "      <th>rating</th>\n",
       "      <th>tags</th>\n",
       "      <th>type</th>\n",
       "      <th>url</th>\n",
       "      <th>author</th>\n",
       "      <th>title</th>\n",
       "      <th>book_pages</th>\n",
       "      <th>username</th>\n",
       "      <th>language</th>\n",
       "      <th>author_gender</th>\n",
       "    </tr>\n",
       "  </thead>\n",
       "  <tbody>\n",
       "    <tr>\n",
       "      <th>18</th>\n",
       "      <td>book</td>\n",
       "      <td>Read this as part of our \"Data Science Study G...</td>\n",
       "      <td>2020-07-13</td>\n",
       "      <td>37486</td>\n",
       "      <td>False</td>\n",
       "      <td>False</td>\n",
       "      <td>0.0</td>\n",
       "      <td>[english, science, tech, author_m, coding]</td>\n",
       "      <td>finished</td>\n",
       "      <td>/eintrag/37486</td>\n",
       "      <td>Steven S. Skiena</td>\n",
       "      <td>The Data Science Design Manual</td>\n",
       "      <td>445</td>\n",
       "      <td>florian</td>\n",
       "      <td>English</td>\n",
       "      <td>Male</td>\n",
       "    </tr>\n",
       "    <tr>\n",
       "      <th>62</th>\n",
       "      <td>book</td>\n",
       "      <td>After a couple of non-fiction books, I wanted ...</td>\n",
       "      <td>2018-11-24</td>\n",
       "      <td>29202</td>\n",
       "      <td>False</td>\n",
       "      <td>False</td>\n",
       "      <td>0.0</td>\n",
       "      <td>[english, novel]</td>\n",
       "      <td>finished</td>\n",
       "      <td>/eintrag/29202</td>\n",
       "      <td>Ben Aaronovitch</td>\n",
       "      <td>Rivers Of London</td>\n",
       "      <td>395</td>\n",
       "      <td>florian</td>\n",
       "      <td>English</td>\n",
       "      <td>Unknown</td>\n",
       "    </tr>\n",
       "    <tr>\n",
       "      <th>69</th>\n",
       "      <td>book</td>\n",
       "      <td>Karl Jäger, von seinen Nachbarn als feinsinnig...</td>\n",
       "      <td>2018-02-19</td>\n",
       "      <td>22414</td>\n",
       "      <td>False</td>\n",
       "      <td>False</td>\n",
       "      <td>0.0</td>\n",
       "      <td>[german, biography, history, ww2]</td>\n",
       "      <td>finished</td>\n",
       "      <td>/eintrag/22414</td>\n",
       "      <td>Wolfram Wette</td>\n",
       "      <td>Karl Jäger</td>\n",
       "      <td>288</td>\n",
       "      <td>florian</td>\n",
       "      <td>German</td>\n",
       "      <td>Unknown</td>\n",
       "    </tr>\n",
       "    <tr>\n",
       "      <th>70</th>\n",
       "      <td>book</td>\n",
       "      <td>Es gibt so viel aus der deutschen Geschichte, ...</td>\n",
       "      <td>2018-02-11</td>\n",
       "      <td>22299</td>\n",
       "      <td>False</td>\n",
       "      <td>False</td>\n",
       "      <td>0.0</td>\n",
       "      <td>[german, history, philosophy, ww2, biography]</td>\n",
       "      <td>finished</td>\n",
       "      <td>/eintrag/22299</td>\n",
       "      <td>Hannah Arendt</td>\n",
       "      <td>Eichmann in Jerusalem: Ein Bericht von der Ban...</td>\n",
       "      <td>448</td>\n",
       "      <td>florian</td>\n",
       "      <td>German</td>\n",
       "      <td>Unknown</td>\n",
       "    </tr>\n",
       "    <tr>\n",
       "      <th>71</th>\n",
       "      <td>book</td>\n",
       "      <td>Spannende Rechercheergebnisse, wie die deutsch...</td>\n",
       "      <td>2018-01-25</td>\n",
       "      <td>22298</td>\n",
       "      <td>False</td>\n",
       "      <td>False</td>\n",
       "      <td>0.0</td>\n",
       "      <td>[german, history, ww2]</td>\n",
       "      <td>finished</td>\n",
       "      <td>/eintrag/22298</td>\n",
       "      <td>Ernst Klee</td>\n",
       "      <td>Persilscheine und falsche Pässe</td>\n",
       "      <td>191</td>\n",
       "      <td>florian</td>\n",
       "      <td>German</td>\n",
       "      <td>Unknown</td>\n",
       "    </tr>\n",
       "    <tr>\n",
       "      <th>99</th>\n",
       "      <td>book</td>\n",
       "      <td>None</td>\n",
       "      <td>2016-11-09</td>\n",
       "      <td>15190</td>\n",
       "      <td>False</td>\n",
       "      <td>False</td>\n",
       "      <td>0.0</td>\n",
       "      <td>[]</td>\n",
       "      <td>wished</td>\n",
       "      <td>/eintrag/15190</td>\n",
       "      <td>Jeffrey Eugenides</td>\n",
       "      <td>Middlesex</td>\n",
       "      <td>596</td>\n",
       "      <td>florian</td>\n",
       "      <td>Unknown</td>\n",
       "      <td>Unknown</td>\n",
       "    </tr>\n",
       "  </tbody>\n",
       "</table>\n",
       "</div>"
      ],
      "text/plain": [
       "   book_type                                            comment       date  \\\n",
       "18      book  Read this as part of our \"Data Science Study G... 2020-07-13   \n",
       "62      book  After a couple of non-fiction books, I wanted ... 2018-11-24   \n",
       "69      book  Karl Jäger, von seinen Nachbarn als feinsinnig... 2018-02-19   \n",
       "70      book  Es gibt so viel aus der deutschen Geschichte, ... 2018-02-11   \n",
       "71      book  Spannende Rechercheergebnisse, wie die deutsch... 2018-01-25   \n",
       "99      book                                               None 2016-11-09   \n",
       "\n",
       "       id  pinned  private  rating  \\\n",
       "18  37486   False    False     0.0   \n",
       "62  29202   False    False     0.0   \n",
       "69  22414   False    False     0.0   \n",
       "70  22299   False    False     0.0   \n",
       "71  22298   False    False     0.0   \n",
       "99  15190   False    False     0.0   \n",
       "\n",
       "                                             tags      type             url  \\\n",
       "18     [english, science, tech, author_m, coding]  finished  /eintrag/37486   \n",
       "62                               [english, novel]  finished  /eintrag/29202   \n",
       "69              [german, biography, history, ww2]  finished  /eintrag/22414   \n",
       "70  [german, history, philosophy, ww2, biography]  finished  /eintrag/22299   \n",
       "71                         [german, history, ww2]  finished  /eintrag/22298   \n",
       "99                                             []    wished  /eintrag/15190   \n",
       "\n",
       "               author                                              title  \\\n",
       "18   Steven S. Skiena                     The Data Science Design Manual   \n",
       "62    Ben Aaronovitch                                   Rivers Of London   \n",
       "69      Wolfram Wette                                         Karl Jäger   \n",
       "70      Hannah Arendt  Eichmann in Jerusalem: Ein Bericht von der Ban...   \n",
       "71         Ernst Klee                    Persilscheine und falsche Pässe   \n",
       "99  Jeffrey Eugenides                                          Middlesex   \n",
       "\n",
       "    book_pages username language author_gender  \n",
       "18         445  florian  English          Male  \n",
       "62         395  florian  English       Unknown  \n",
       "69         288  florian   German       Unknown  \n",
       "70         448  florian   German       Unknown  \n",
       "71         191  florian   German       Unknown  \n",
       "99         596  florian  Unknown       Unknown  "
      ]
     },
     "execution_count": 25,
     "metadata": {},
     "output_type": "execute_result"
    }
   ],
   "source": [
    "# Odd: some non-rated books have rating None, some have rating 0.0\n",
    "print(len(df[df.rating.isna()]))\n",
    "print(len(df[df.rating.isnull()]))\n",
    "print(len(df[df.rating==0.0]))\n",
    "df[df.rating==0.0]"
   ]
  },
  {
   "cell_type": "markdown",
   "metadata": {},
   "source": [
    "## Distribution of book lengths"
   ]
  },
  {
   "cell_type": "code",
   "execution_count": 26,
   "metadata": {},
   "outputs": [
    {
     "data": {
      "text/plain": [
       "<matplotlib.axes._subplots.AxesSubplot at 0x7fae77467be0>"
      ]
     },
     "execution_count": 26,
     "metadata": {},
     "output_type": "execute_result"
    },
    {
     "data": {
      "image/png": "[encoded data removed]",
      "text/plain": [
       "<Figure size 432x288 with 1 Axes>"
      ]
     },
     "metadata": {
      "needs_background": "light"
     },
     "output_type": "display_data"
    }
   ],
   "source": [
    "df_rated.book_pages.plot.hist(bins=20)"
   ]
  },
  {
   "cell_type": "markdown",
   "metadata": {},
   "source": [
    "## Do I rate longer books higher?"
   ]
  },
  {
   "cell_type": "code",
   "execution_count": 20,
   "metadata": {},
   "outputs": [
    {
     "data": {
      "text/plain": [
       "<matplotlib.axes._subplots.AxesSubplot at 0x7f93b5d0e198>"
      ]
     },
     "execution_count": 20,
     "metadata": {},
     "output_type": "execute_result"
    },
    {
     "data": {
      "image/png": "[encoded data removed]",
      "text/plain": [
       "<Figure size 432x288 with 1 Axes>"
      ]
     },
     "metadata": {
      "needs_background": "light"
     },
     "output_type": "display_data"
    }
   ],
   "source": [
    "df_rated.plot.scatter(x='book_pages', y='rating')"
   ]
  },
  {
   "cell_type": "markdown",
   "metadata": {},
   "source": [
    "# Split books in short / medium / long"
   ]
  },
  {
   "cell_type": "code",
   "execution_count": 27,
   "metadata": {},
   "outputs": [
    {
     "data": {
      "text/plain": [
       "(256.0, 368.0]     56\n",
       "(58.999, 256.0]    54\n",
       "(368.0, 1080.0]    49\n",
       "Name: book_pages, dtype: int64"
      ]
     },
     "execution_count": 27,
     "metadata": {},
     "output_type": "execute_result"
    }
   ],
   "source": [
    "# auto split is not to my taste. \"long\" should start later\n",
    "pd.qcut(df.book_pages, 3).value_counts()"
   ]
  },
  {
   "cell_type": "code",
   "execution_count": 28,
   "metadata": {},
   "outputs": [
    {
     "data": {
      "text/plain": [
       "(224.0, 416.0]     77\n",
       "(58.999, 224.0]    43\n",
       "(416.0, 1080.0]    39\n",
       "Name: book_pages, dtype: int64"
      ]
     },
     "execution_count": 28,
     "metadata": {},
     "output_type": "execute_result"
    }
   ],
   "source": [
    "# I want to call the middle 50% \"Medium\" and distribute the other lengths equally to the sides\n",
    "pd.qcut(df.book_pages, [0, 0.25, 0.75, 1.]).value_counts()"
   ]
  },
  {
   "cell_type": "code",
   "execution_count": 29,
   "metadata": {},
   "outputs": [
    {
     "data": {
      "text/plain": [
       "Medium    77\n",
       "Short     43\n",
       "Long      39\n",
       "Name: book_pages, dtype: int64"
      ]
     },
     "execution_count": 29,
     "metadata": {},
     "output_type": "execute_result"
    }
   ],
   "source": [
    "# Now actually assign some names\n",
    "book_length = pd.qcut(df.book_pages, [0, 0.25, 0.75, 1.], labels=['Short', 'Medium', 'Long'])\n",
    "book_length.value_counts()"
   ]
  },
  {
   "cell_type": "markdown",
   "metadata": {},
   "source": [
    "# How do ratings vary by book length and paper vs. audio book (pivot table!)"
   ]
  },
  {
   "cell_type": "code",
   "execution_count": 30,
   "metadata": {},
   "outputs": [
    {
     "data": {
      "text/html": [
       "<div>\n",
       "<style scoped>\n",
       "    .dataframe tbody tr th:only-of-type {\n",
       "        vertical-align: middle;\n",
       "    }\n",
       "\n",
       "    .dataframe tbody tr th {\n",
       "        vertical-align: top;\n",
       "    }\n",
       "\n",
       "    .dataframe thead th {\n",
       "        text-align: right;\n",
       "    }\n",
       "</style>\n",
       "<table border=\"1\" class=\"dataframe\">\n",
       "  <thead>\n",
       "    <tr style=\"text-align: right;\">\n",
       "      <th>book_type</th>\n",
       "      <th>audio_book</th>\n",
       "      <th>book</th>\n",
       "    </tr>\n",
       "    <tr>\n",
       "      <th>book_length</th>\n",
       "      <th></th>\n",
       "      <th></th>\n",
       "    </tr>\n",
       "  </thead>\n",
       "  <tbody>\n",
       "    <tr>\n",
       "      <th>Short</th>\n",
       "      <td>NaN</td>\n",
       "      <td>3.658537</td>\n",
       "    </tr>\n",
       "    <tr>\n",
       "      <th>Medium</th>\n",
       "      <td>4.25</td>\n",
       "      <td>3.808219</td>\n",
       "    </tr>\n",
       "    <tr>\n",
       "      <th>Long</th>\n",
       "      <td>4.00</td>\n",
       "      <td>3.542857</td>\n",
       "    </tr>\n",
       "  </tbody>\n",
       "</table>\n",
       "</div>"
      ],
      "text/plain": [
       "book_type    audio_book      book\n",
       "book_length                      \n",
       "Short               NaN  3.658537\n",
       "Medium             4.25  3.808219\n",
       "Long               4.00  3.542857"
      ]
     },
     "execution_count": 30,
     "metadata": {},
     "output_type": "execute_result"
    }
   ],
   "source": [
    "rating_per_length_and_type = df.assign(\n",
    "    book_length=book_length\n",
    ").pivot_table(\n",
    "    values='rating',\n",
    "    index='book_length',\n",
    "    columns='book_type'\n",
    ")\n",
    "rating_per_length_and_type"
   ]
  },
  {
   "cell_type": "code",
   "execution_count": 31,
   "metadata": {},
   "outputs": [
    {
     "data": {
      "text/plain": [
       "<matplotlib.axes._subplots.AxesSubplot at 0x7fae77546940>"
      ]
     },
     "execution_count": 31,
     "metadata": {},
     "output_type": "execute_result"
    },
    {
     "data": {
      "image/png": "[encoded data removed]",
      "text/plain": [
       "<Figure size 432x288 with 1 Axes>"
      ]
     },
     "metadata": {
      "needs_background": "light"
     },
     "output_type": "display_data"
    }
   ],
   "source": [
    "rating_per_length_and_type.plot.bar()"
   ]
  },
  {
   "cell_type": "code",
   "execution_count": 32,
   "metadata": {},
   "outputs": [
    {
     "data": {
      "text/html": [
       "<div>\n",
       "<style scoped>\n",
       "    .dataframe tbody tr th:only-of-type {\n",
       "        vertical-align: middle;\n",
       "    }\n",
       "\n",
       "    .dataframe tbody tr th {\n",
       "        vertical-align: top;\n",
       "    }\n",
       "\n",
       "    .dataframe thead tr th {\n",
       "        text-align: left;\n",
       "    }\n",
       "\n",
       "    .dataframe thead tr:last-of-type th {\n",
       "        text-align: right;\n",
       "    }\n",
       "</style>\n",
       "<table border=\"1\" class=\"dataframe\">\n",
       "  <thead>\n",
       "    <tr>\n",
       "      <th></th>\n",
       "      <th colspan=\"2\" halign=\"left\">book_pages</th>\n",
       "    </tr>\n",
       "    <tr>\n",
       "      <th></th>\n",
       "      <th>mean</th>\n",
       "      <th>std</th>\n",
       "    </tr>\n",
       "    <tr>\n",
       "      <th>rating</th>\n",
       "      <th></th>\n",
       "      <th></th>\n",
       "    </tr>\n",
       "  </thead>\n",
       "  <tbody>\n",
       "    <tr>\n",
       "      <th>1.0</th>\n",
       "      <td>202.000000</td>\n",
       "      <td>0.000000</td>\n",
       "    </tr>\n",
       "    <tr>\n",
       "      <th>2.0</th>\n",
       "      <td>317.555556</td>\n",
       "      <td>159.232622</td>\n",
       "    </tr>\n",
       "    <tr>\n",
       "      <th>3.0</th>\n",
       "      <td>345.535714</td>\n",
       "      <td>208.427353</td>\n",
       "    </tr>\n",
       "    <tr>\n",
       "      <th>4.0</th>\n",
       "      <td>351.000000</td>\n",
       "      <td>205.839504</td>\n",
       "    </tr>\n",
       "    <tr>\n",
       "      <th>5.0</th>\n",
       "      <td>342.866667</td>\n",
       "      <td>149.763430</td>\n",
       "    </tr>\n",
       "  </tbody>\n",
       "</table>\n",
       "</div>"
      ],
      "text/plain": [
       "        book_pages            \n",
       "              mean         std\n",
       "rating                        \n",
       "1.0     202.000000    0.000000\n",
       "2.0     317.555556  159.232622\n",
       "3.0     345.535714  208.427353\n",
       "4.0     351.000000  205.839504\n",
       "5.0     342.866667  149.763430"
      ]
     },
     "execution_count": 32,
     "metadata": {},
     "output_type": "execute_result"
    }
   ],
   "source": [
    "pages_per_rating = df_rated[\n",
    "    ['rating', 'book_pages']\n",
    "].groupby('rating').agg(['mean', 'std']).fillna(0)\n",
    "pages_per_rating"
   ]
  },
  {
   "cell_type": "code",
   "execution_count": 33,
   "metadata": {},
   "outputs": [
    {
     "data": {
      "text/plain": [
       "<matplotlib.axes._subplots.AxesSubplot at 0x7fae776973c8>"
      ]
     },
     "execution_count": 33,
     "metadata": {},
     "output_type": "execute_result"
    },
    {
     "data": {
      "image/png": "[encoded data removed]",
      "text/plain": [
       "<Figure size 432x288 with 1 Axes>"
      ]
     },
     "metadata": {
      "needs_background": "light"
     },
     "output_type": "display_data"
    }
   ],
   "source": [
    "pages_per_rating.book_pages.plot.bar(y='mean', yerr='std')"
   ]
  },
  {
   "cell_type": "markdown",
   "metadata": {},
   "source": [
    "# Do I write longer comments for longer books?"
   ]
  },
  {
   "cell_type": "code",
   "execution_count": 34,
   "metadata": {},
   "outputs": [
    {
     "data": {
      "text/plain": [
       "<matplotlib.axes._subplots.AxesSubplot at 0x7fae7777ab38>"
      ]
     },
     "execution_count": 34,
     "metadata": {},
     "output_type": "execute_result"
    },
    {
     "data": {
      "image/png": "[encoded data removed]",
      "text/plain": [
       "<Figure size 720x720 with 2 Axes>"
      ]
     },
     "metadata": {
      "needs_background": "light"
     },
     "output_type": "display_data"
    }
   ],
   "source": [
    "df.assign(\n",
    "    comment_length=lambda entry: entry.comment.str.len()\n",
    ").fillna(0).plot.scatter(\n",
    "    x='book_pages',\n",
    "    y='comment_length',\n",
    "    c='rating',\n",
    "    colormap='coolwarm_r',\n",
    "    figsize=(10,10),\n",
    "    s=50  # marker size\n",
    ")"
   ]
  },
  {
   "cell_type": "markdown",
   "metadata": {},
   "source": [
    "# Compare language and genre preferences over time\n",
    "Currently not all books are tagged"
   ]
  },
  {
   "cell_type": "code",
   "execution_count": 35,
   "metadata": {},
   "outputs": [
    {
     "data": {
      "text/html": [
       "<div>\n",
       "<style scoped>\n",
       "    .dataframe tbody tr th:only-of-type {\n",
       "        vertical-align: middle;\n",
       "    }\n",
       "\n",
       "    .dataframe tbody tr th {\n",
       "        vertical-align: top;\n",
       "    }\n",
       "\n",
       "    .dataframe thead th {\n",
       "        text-align: right;\n",
       "    }\n",
       "</style>\n",
       "<table border=\"1\" class=\"dataframe\">\n",
       "  <thead>\n",
       "    <tr style=\"text-align: right;\">\n",
       "      <th>language</th>\n",
       "      <th>English</th>\n",
       "      <th>German</th>\n",
       "      <th>Unknown</th>\n",
       "      <th>All</th>\n",
       "    </tr>\n",
       "    <tr>\n",
       "      <th>year</th>\n",
       "      <th></th>\n",
       "      <th></th>\n",
       "      <th></th>\n",
       "      <th></th>\n",
       "    </tr>\n",
       "  </thead>\n",
       "  <tbody>\n",
       "    <tr>\n",
       "      <th>2013</th>\n",
       "      <td>0</td>\n",
       "      <td>0</td>\n",
       "      <td>24</td>\n",
       "      <td>24</td>\n",
       "    </tr>\n",
       "    <tr>\n",
       "      <th>2014</th>\n",
       "      <td>0</td>\n",
       "      <td>0</td>\n",
       "      <td>13</td>\n",
       "      <td>13</td>\n",
       "    </tr>\n",
       "    <tr>\n",
       "      <th>2015</th>\n",
       "      <td>0</td>\n",
       "      <td>0</td>\n",
       "      <td>10</td>\n",
       "      <td>10</td>\n",
       "    </tr>\n",
       "    <tr>\n",
       "      <th>2016</th>\n",
       "      <td>0</td>\n",
       "      <td>0</td>\n",
       "      <td>16</td>\n",
       "      <td>16</td>\n",
       "    </tr>\n",
       "    <tr>\n",
       "      <th>2017</th>\n",
       "      <td>0</td>\n",
       "      <td>0</td>\n",
       "      <td>23</td>\n",
       "      <td>23</td>\n",
       "    </tr>\n",
       "    <tr>\n",
       "      <th>2018</th>\n",
       "      <td>9</td>\n",
       "      <td>11</td>\n",
       "      <td>0</td>\n",
       "      <td>20</td>\n",
       "    </tr>\n",
       "    <tr>\n",
       "      <th>2019</th>\n",
       "      <td>18</td>\n",
       "      <td>11</td>\n",
       "      <td>0</td>\n",
       "      <td>29</td>\n",
       "    </tr>\n",
       "    <tr>\n",
       "      <th>2020</th>\n",
       "      <td>18</td>\n",
       "      <td>5</td>\n",
       "      <td>1</td>\n",
       "      <td>24</td>\n",
       "    </tr>\n",
       "    <tr>\n",
       "      <th>All</th>\n",
       "      <td>45</td>\n",
       "      <td>27</td>\n",
       "      <td>87</td>\n",
       "      <td>159</td>\n",
       "    </tr>\n",
       "  </tbody>\n",
       "</table>\n",
       "</div>"
      ],
      "text/plain": [
       "language  English  German  Unknown  All\n",
       "year                                   \n",
       "2013            0       0       24   24\n",
       "2014            0       0       13   13\n",
       "2015            0       0       10   10\n",
       "2016            0       0       16   16\n",
       "2017            0       0       23   23\n",
       "2018            9      11        0   20\n",
       "2019           18      11        0   29\n",
       "2020           18       5        1   24\n",
       "All            45      27       87  159"
      ]
     },
     "execution_count": 35,
     "metadata": {},
     "output_type": "execute_result"
    }
   ],
   "source": [
    "table_1 = pd.pivot_table(\n",
    "    df.assign(\n",
    "        year=lambda entry: entry['date'].dt.year\n",
    "    ),\n",
    "    index='year',\n",
    "    columns='language',\n",
    "    \n",
    "    # count number of books (=number of titles)\n",
    "    values='title',\n",
    "    aggfunc='count',\n",
    "    \n",
    "    # prepare so that we can calculate percentages in next step\n",
    "    fill_value=0,\n",
    "    margins=True\n",
    ")\n",
    "table_1"
   ]
  },
  {
   "cell_type": "code",
   "execution_count": 36,
   "metadata": {},
   "outputs": [
    {
     "data": {
      "text/html": [
       "<div>\n",
       "<style scoped>\n",
       "    .dataframe tbody tr th:only-of-type {\n",
       "        vertical-align: middle;\n",
       "    }\n",
       "\n",
       "    .dataframe tbody tr th {\n",
       "        vertical-align: top;\n",
       "    }\n",
       "\n",
       "    .dataframe thead th {\n",
       "        text-align: right;\n",
       "    }\n",
       "</style>\n",
       "<table border=\"1\" class=\"dataframe\">\n",
       "  <thead>\n",
       "    <tr style=\"text-align: right;\">\n",
       "      <th>language</th>\n",
       "      <th>English</th>\n",
       "      <th>German</th>\n",
       "      <th>Unknown</th>\n",
       "      <th>All</th>\n",
       "    </tr>\n",
       "    <tr>\n",
       "      <th>year</th>\n",
       "      <th></th>\n",
       "      <th></th>\n",
       "      <th></th>\n",
       "      <th></th>\n",
       "    </tr>\n",
       "  </thead>\n",
       "  <tbody>\n",
       "    <tr>\n",
       "      <th>2013</th>\n",
       "      <td>0.000000</td>\n",
       "      <td>0.000000</td>\n",
       "      <td>1.000000</td>\n",
       "      <td>1.0</td>\n",
       "    </tr>\n",
       "    <tr>\n",
       "      <th>2014</th>\n",
       "      <td>0.000000</td>\n",
       "      <td>0.000000</td>\n",
       "      <td>1.000000</td>\n",
       "      <td>1.0</td>\n",
       "    </tr>\n",
       "    <tr>\n",
       "      <th>2015</th>\n",
       "      <td>0.000000</td>\n",
       "      <td>0.000000</td>\n",
       "      <td>1.000000</td>\n",
       "      <td>1.0</td>\n",
       "    </tr>\n",
       "    <tr>\n",
       "      <th>2016</th>\n",
       "      <td>0.000000</td>\n",
       "      <td>0.000000</td>\n",
       "      <td>1.000000</td>\n",
       "      <td>1.0</td>\n",
       "    </tr>\n",
       "    <tr>\n",
       "      <th>2017</th>\n",
       "      <td>0.000000</td>\n",
       "      <td>0.000000</td>\n",
       "      <td>1.000000</td>\n",
       "      <td>1.0</td>\n",
       "    </tr>\n",
       "    <tr>\n",
       "      <th>2018</th>\n",
       "      <td>0.450000</td>\n",
       "      <td>0.550000</td>\n",
       "      <td>0.000000</td>\n",
       "      <td>1.0</td>\n",
       "    </tr>\n",
       "    <tr>\n",
       "      <th>2019</th>\n",
       "      <td>0.620690</td>\n",
       "      <td>0.379310</td>\n",
       "      <td>0.000000</td>\n",
       "      <td>1.0</td>\n",
       "    </tr>\n",
       "    <tr>\n",
       "      <th>2020</th>\n",
       "      <td>0.750000</td>\n",
       "      <td>0.208333</td>\n",
       "      <td>0.041667</td>\n",
       "      <td>1.0</td>\n",
       "    </tr>\n",
       "    <tr>\n",
       "      <th>All</th>\n",
       "      <td>0.283019</td>\n",
       "      <td>0.169811</td>\n",
       "      <td>0.547170</td>\n",
       "      <td>1.0</td>\n",
       "    </tr>\n",
       "  </tbody>\n",
       "</table>\n",
       "</div>"
      ],
      "text/plain": [
       "language   English    German   Unknown  All\n",
       "year                                       \n",
       "2013      0.000000  0.000000  1.000000  1.0\n",
       "2014      0.000000  0.000000  1.000000  1.0\n",
       "2015      0.000000  0.000000  1.000000  1.0\n",
       "2016      0.000000  0.000000  1.000000  1.0\n",
       "2017      0.000000  0.000000  1.000000  1.0\n",
       "2018      0.450000  0.550000  0.000000  1.0\n",
       "2019      0.620690  0.379310  0.000000  1.0\n",
       "2020      0.750000  0.208333  0.041667  1.0\n",
       "All       0.283019  0.169811  0.547170  1.0"
      ]
     },
     "execution_count": 36,
     "metadata": {},
     "output_type": "execute_result"
    }
   ],
   "source": [
    "# Display percentages\n",
    "table_2 = table_1.div(table_1.All, axis=0)\n",
    "table_2"
   ]
  },
  {
   "cell_type": "code",
   "execution_count": 37,
   "metadata": {},
   "outputs": [
    {
     "data": {
      "text/plain": [
       "<matplotlib.axes._subplots.AxesSubplot at 0x7fae77c86160>"
      ]
     },
     "execution_count": 37,
     "metadata": {},
     "output_type": "execute_result"
    },
    {
     "data": {
      "image/png": "[encoded data removed]",
      "text/plain": [
       "<Figure size 432x288 with 1 Axes>"
      ]
     },
     "metadata": {
      "needs_background": "light"
     },
     "output_type": "display_data"
    },
    {
     "data": {
      "image/png": "[encoded data removed]",
      "text/plain": [
       "<Figure size 432x288 with 1 Axes>"
      ]
     },
     "metadata": {
      "needs_background": "light"
     },
     "output_type": "display_data"
    }
   ],
   "source": [
    "tagged_years = table_2.loc[\n",
    "    [2018, 2019, 2020]\n",
    "][\n",
    "    ['English', 'German', 'Unknown']  # hide 'All'\n",
    "]\n",
    "tagged_years.plot.line()\n",
    "tagged_years.plot.bar()"
   ]
  },
  {
   "cell_type": "markdown",
   "metadata": {},
   "source": [
    "## Author gender distribution"
   ]
  },
  {
   "cell_type": "code",
   "execution_count": 40,
   "metadata": {},
   "outputs": [
    {
     "data": {
      "text/html": [
       "<div>\n",
       "<style scoped>\n",
       "    .dataframe tbody tr th:only-of-type {\n",
       "        vertical-align: middle;\n",
       "    }\n",
       "\n",
       "    .dataframe tbody tr th {\n",
       "        vertical-align: top;\n",
       "    }\n",
       "\n",
       "    .dataframe thead th {\n",
       "        text-align: right;\n",
       "    }\n",
       "</style>\n",
       "<table border=\"1\" class=\"dataframe\">\n",
       "  <thead>\n",
       "    <tr style=\"text-align: right;\">\n",
       "      <th>author_gender</th>\n",
       "      <th>Diverse / Multiple</th>\n",
       "      <th>Female</th>\n",
       "      <th>Male</th>\n",
       "      <th>Unknown</th>\n",
       "      <th>All</th>\n",
       "    </tr>\n",
       "    <tr>\n",
       "      <th>year</th>\n",
       "      <th></th>\n",
       "      <th></th>\n",
       "      <th></th>\n",
       "      <th></th>\n",
       "      <th></th>\n",
       "    </tr>\n",
       "  </thead>\n",
       "  <tbody>\n",
       "    <tr>\n",
       "      <th>2013</th>\n",
       "      <td>0</td>\n",
       "      <td>0</td>\n",
       "      <td>0</td>\n",
       "      <td>24</td>\n",
       "      <td>24</td>\n",
       "    </tr>\n",
       "    <tr>\n",
       "      <th>2014</th>\n",
       "      <td>0</td>\n",
       "      <td>0</td>\n",
       "      <td>0</td>\n",
       "      <td>13</td>\n",
       "      <td>13</td>\n",
       "    </tr>\n",
       "    <tr>\n",
       "      <th>2015</th>\n",
       "      <td>0</td>\n",
       "      <td>0</td>\n",
       "      <td>0</td>\n",
       "      <td>10</td>\n",
       "      <td>10</td>\n",
       "    </tr>\n",
       "    <tr>\n",
       "      <th>2016</th>\n",
       "      <td>0</td>\n",
       "      <td>0</td>\n",
       "      <td>0</td>\n",
       "      <td>16</td>\n",
       "      <td>16</td>\n",
       "    </tr>\n",
       "    <tr>\n",
       "      <th>2017</th>\n",
       "      <td>0</td>\n",
       "      <td>0</td>\n",
       "      <td>0</td>\n",
       "      <td>23</td>\n",
       "      <td>23</td>\n",
       "    </tr>\n",
       "    <tr>\n",
       "      <th>2018</th>\n",
       "      <td>0</td>\n",
       "      <td>0</td>\n",
       "      <td>0</td>\n",
       "      <td>20</td>\n",
       "      <td>20</td>\n",
       "    </tr>\n",
       "    <tr>\n",
       "      <th>2019</th>\n",
       "      <td>1</td>\n",
       "      <td>5</td>\n",
       "      <td>23</td>\n",
       "      <td>0</td>\n",
       "      <td>29</td>\n",
       "    </tr>\n",
       "    <tr>\n",
       "      <th>2020</th>\n",
       "      <td>0</td>\n",
       "      <td>2</td>\n",
       "      <td>22</td>\n",
       "      <td>0</td>\n",
       "      <td>24</td>\n",
       "    </tr>\n",
       "    <tr>\n",
       "      <th>All</th>\n",
       "      <td>1</td>\n",
       "      <td>7</td>\n",
       "      <td>45</td>\n",
       "      <td>106</td>\n",
       "      <td>159</td>\n",
       "    </tr>\n",
       "  </tbody>\n",
       "</table>\n",
       "</div>"
      ],
      "text/plain": [
       "author_gender  Diverse / Multiple  Female  Male  Unknown  All\n",
       "year                                                         \n",
       "2013                            0       0     0       24   24\n",
       "2014                            0       0     0       13   13\n",
       "2015                            0       0     0       10   10\n",
       "2016                            0       0     0       16   16\n",
       "2017                            0       0     0       23   23\n",
       "2018                            0       0     0       20   20\n",
       "2019                            1       5    23        0   29\n",
       "2020                            0       2    22        0   24\n",
       "All                             1       7    45      106  159"
      ]
     },
     "execution_count": 40,
     "metadata": {},
     "output_type": "execute_result"
    }
   ],
   "source": [
    "table_gender_1 = pd.pivot_table(\n",
    "    df.assign(\n",
    "        year=lambda entry: entry['date'].dt.year\n",
    "    ),\n",
    "    index='year',\n",
    "    columns='author_gender',\n",
    "    \n",
    "    # count number of books (=number of titles)\n",
    "    values='title',\n",
    "    aggfunc='count',\n",
    "    \n",
    "    # prepare so that we can calculate percentages in next step\n",
    "    fill_value=0,\n",
    "    margins=True\n",
    ")\n",
    "table_gender_1"
   ]
  },
  {
   "cell_type": "code",
   "execution_count": 41,
   "metadata": {},
   "outputs": [
    {
     "data": {
      "text/html": [
       "<div>\n",
       "<style scoped>\n",
       "    .dataframe tbody tr th:only-of-type {\n",
       "        vertical-align: middle;\n",
       "    }\n",
       "\n",
       "    .dataframe tbody tr th {\n",
       "        vertical-align: top;\n",
       "    }\n",
       "\n",
       "    .dataframe thead th {\n",
       "        text-align: right;\n",
       "    }\n",
       "</style>\n",
       "<table border=\"1\" class=\"dataframe\">\n",
       "  <thead>\n",
       "    <tr style=\"text-align: right;\">\n",
       "      <th>author_gender</th>\n",
       "      <th>Diverse / Multiple</th>\n",
       "      <th>Female</th>\n",
       "      <th>Male</th>\n",
       "      <th>Unknown</th>\n",
       "      <th>All</th>\n",
       "    </tr>\n",
       "    <tr>\n",
       "      <th>year</th>\n",
       "      <th></th>\n",
       "      <th></th>\n",
       "      <th></th>\n",
       "      <th></th>\n",
       "      <th></th>\n",
       "    </tr>\n",
       "  </thead>\n",
       "  <tbody>\n",
       "    <tr>\n",
       "      <th>2013</th>\n",
       "      <td>0.000000</td>\n",
       "      <td>0.000000</td>\n",
       "      <td>0.000000</td>\n",
       "      <td>1.000000</td>\n",
       "      <td>1.0</td>\n",
       "    </tr>\n",
       "    <tr>\n",
       "      <th>2014</th>\n",
       "      <td>0.000000</td>\n",
       "      <td>0.000000</td>\n",
       "      <td>0.000000</td>\n",
       "      <td>1.000000</td>\n",
       "      <td>1.0</td>\n",
       "    </tr>\n",
       "    <tr>\n",
       "      <th>2015</th>\n",
       "      <td>0.000000</td>\n",
       "      <td>0.000000</td>\n",
       "      <td>0.000000</td>\n",
       "      <td>1.000000</td>\n",
       "      <td>1.0</td>\n",
       "    </tr>\n",
       "    <tr>\n",
       "      <th>2016</th>\n",
       "      <td>0.000000</td>\n",
       "      <td>0.000000</td>\n",
       "      <td>0.000000</td>\n",
       "      <td>1.000000</td>\n",
       "      <td>1.0</td>\n",
       "    </tr>\n",
       "    <tr>\n",
       "      <th>2017</th>\n",
       "      <td>0.000000</td>\n",
       "      <td>0.000000</td>\n",
       "      <td>0.000000</td>\n",
       "      <td>1.000000</td>\n",
       "      <td>1.0</td>\n",
       "    </tr>\n",
       "    <tr>\n",
       "      <th>2018</th>\n",
       "      <td>0.000000</td>\n",
       "      <td>0.000000</td>\n",
       "      <td>0.000000</td>\n",
       "      <td>1.000000</td>\n",
       "      <td>1.0</td>\n",
       "    </tr>\n",
       "    <tr>\n",
       "      <th>2019</th>\n",
       "      <td>0.034483</td>\n",
       "      <td>0.172414</td>\n",
       "      <td>0.793103</td>\n",
       "      <td>0.000000</td>\n",
       "      <td>1.0</td>\n",
       "    </tr>\n",
       "    <tr>\n",
       "      <th>2020</th>\n",
       "      <td>0.000000</td>\n",
       "      <td>0.083333</td>\n",
       "      <td>0.916667</td>\n",
       "      <td>0.000000</td>\n",
       "      <td>1.0</td>\n",
       "    </tr>\n",
       "    <tr>\n",
       "      <th>All</th>\n",
       "      <td>0.006289</td>\n",
       "      <td>0.044025</td>\n",
       "      <td>0.283019</td>\n",
       "      <td>0.666667</td>\n",
       "      <td>1.0</td>\n",
       "    </tr>\n",
       "  </tbody>\n",
       "</table>\n",
       "</div>"
      ],
      "text/plain": [
       "author_gender  Diverse / Multiple    Female      Male   Unknown  All\n",
       "year                                                                \n",
       "2013                     0.000000  0.000000  0.000000  1.000000  1.0\n",
       "2014                     0.000000  0.000000  0.000000  1.000000  1.0\n",
       "2015                     0.000000  0.000000  0.000000  1.000000  1.0\n",
       "2016                     0.000000  0.000000  0.000000  1.000000  1.0\n",
       "2017                     0.000000  0.000000  0.000000  1.000000  1.0\n",
       "2018                     0.000000  0.000000  0.000000  1.000000  1.0\n",
       "2019                     0.034483  0.172414  0.793103  0.000000  1.0\n",
       "2020                     0.000000  0.083333  0.916667  0.000000  1.0\n",
       "All                      0.006289  0.044025  0.283019  0.666667  1.0"
      ]
     },
     "execution_count": 41,
     "metadata": {},
     "output_type": "execute_result"
    }
   ],
   "source": [
    "# Display percentages\n",
    "table_gender_2 = table_gender_1.div(table_gender_1.All, axis=0)\n",
    "table_gender_2"
   ]
  },
  {
   "cell_type": "code",
   "execution_count": 46,
   "metadata": {},
   "outputs": [
    {
     "data": {
      "text/plain": [
       "<matplotlib.axes._subplots.AxesSubplot at 0x7fae78342160>"
      ]
     },
     "execution_count": 46,
     "metadata": {},
     "output_type": "execute_result"
    },
    {
     "data": {
      "image/png": "[encoded data removed]",
      "text/plain": [
       "<Figure size 432x288 with 1 Axes>"
      ]
     },
     "metadata": {
      "needs_background": "light"
     },
     "output_type": "display_data"
    },
    {
     "data": {
      "image/png": "[encoded data removed]",
      "text/plain": [
       "<Figure size 432x288 with 1 Axes>"
      ]
     },
     "metadata": {
      "needs_background": "light"
     },
     "output_type": "display_data"
    }
   ],
   "source": [
    "tagged_years = table_gender_2.loc[\n",
    "    [2013, 2014, 2015, 2016, 2017, 2018, 2019, 2020]\n",
    "][\n",
    "    ['Male', 'Female', 'Diverse / Multiple', 'Unknown']  # hide 'All'\n",
    "]\n",
    "tagged_years.plot.line()\n",
    "tagged_years.plot.bar(stacked=True)"
   ]
  },
  {
   "cell_type": "code",
   "execution_count": null,
   "metadata": {},
   "outputs": [],
   "source": []
  }
 ],
 "metadata": {
  "kernelspec": {
   "display_name": "Python 3",
   "language": "python",
   "name": "python3"
  },
  "language_info": {
   "codemirror_mode": {
    "name": "ipython",
    "version": 3
   },
   "file_extension": ".py",
   "mimetype": "text/x-python",
   "name": "python",
   "nbconvert_exporter": "python",
   "pygments_lexer": "ipython3",
   "version": "3.7.0"
  }
 },
 "nbformat": 4,
 "nbformat_minor": 4
}
