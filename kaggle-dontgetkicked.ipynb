{
 "cells": [
  {
   "cell_type": "markdown",
   "metadata": {},
   "source": [
    "# Don't get kicked\n",
    "\n",
    "Predict if a car purchased at auction is a lemon\n",
    "\n",
    "Kaggle competition source: https://www.kaggle.com/c/DontGetKicked\n",
    "\n",
    "Logistic regression examples: https://towardsdatascience.com/logistic-regression-a-simplified-approach-using-python-c4bc81a87c31"
   ]
  },
  {
   "cell_type": "code",
   "execution_count": 3,
   "metadata": {},
   "outputs": [],
   "source": [
    "%matplotlib inline\n",
    "import matplotlib.pyplot as plt"
   ]
  },
  {
   "cell_type": "code",
   "execution_count": 4,
   "metadata": {},
   "outputs": [],
   "source": [
    "import pandas as pd"
   ]
  },
  {
   "cell_type": "code",
   "execution_count": 5,
   "metadata": {},
   "outputs": [
    {
     "name": "stdout",
     "output_type": "stream",
     "text": [
      "Field Name\t\t\t\tDefinition\n",
      "RefID\t\t\t\t        Unique (sequential) number assigned to vehicles\n",
      "IsBadBuy\t\t\t\tIdentifies if the kicked vehicle was an avoidable purchase \n",
      "PurchDate\t\t\t\tThe Date the vehicle was Purchased at Auction\n",
      "Auction\t\t\t\t\tAuction provider at which the  vehicle was purchased\n",
      "VehYear\t\t\t\t\tThe manufacturer's year of the vehicle\n",
      "VehicleAge\t\t\t\tThe Years elapsed since the manufacturer's year\n",
      "Make\t\t\t\t\tVehicle Manufacturer \n",
      "Model\t\t\t\t\tVehicle Model\n",
      "Trim\t\t\t\t\tVehicle Trim Level\n",
      "SubModel\t\t\t\tVehicle Submodel\n",
      "Color\t\t\t\t\tVehicle Color\n",
      "Transmission\t\t\t\tVehicles transmission type (Automatic, Manual)\n",
      "WheelTypeID\t\t\t\tThe type id of the vehicle wheel\n",
      "WheelType\t\t\t\tThe vehicle wheel type description (Alloy, Covers)\n",
      "VehOdo\t\t\t\t\tThe vehicles odometer reading\n",
      "Nationality\t\t\t\tThe Manufacturer's country\n",
      "Size\t\t\t\t\tThe size category of the vehicle (Compact, SUV, etc.)\n",
      "TopThreeAmericanName\t\t\tIdentifies if the manufacturer is one of the top three American manufacturers\n",
      "MMRAcquisitionAuctionAveragePrice\tAcquisition price for this vehicle in average condition at time of purchase\t\n",
      "MMRAcquisitionAuctionCleanPrice\t\tAcquisition price for this vehicle in the above Average condition at time of purchase\n",
      "MMRAcquisitionRetailAveragePrice\tAcquisition price for this vehicle in the retail market in average condition at time of purchase\n",
      "MMRAcquisitonRetailCleanPrice\t\tAcquisition price for this vehicle in the retail market in above average condition at time of purchase\n",
      "MMRCurrentAuctionAveragePrice\t\tAcquisition price for this vehicle in average condition as of current day\t\n",
      "MMRCurrentAuctionCleanPrice\t\tAcquisition price for this vehicle in the above condition as of current day\n",
      "MMRCurrentRetailAveragePrice\t\tAcquisition price for this vehicle in the retail market in average condition as of current day\n",
      "MMRCurrentRetailCleanPrice\t\tAcquisition price for this vehicle in the retail market in above average condition as of current day\n",
      "PRIMEUNIT\t\t\t\tIdentifies if the vehicle would have a higher demand than a standard purchase\n",
      "AcquisitionType\t\t\t\tIdentifies how the vehicle was aquired (Auction buy, trade in, etc)\n",
      "AUCGUART\t\t\t\tThe level guarntee provided by auction for the vehicle (Green light - Guaranteed/arbitratable, Yellow Light - caution/issue, red light - sold as is)\n",
      "KickDate\t\t\t\tDate the vehicle was kicked back to the auction\n",
      "BYRNO\t\t\t\t\tUnique number assigned to the buyer that purchased the vehicle\n",
      "VNZIP                                   Zipcode where the car was purchased\n",
      "VNST                                    State where the the car was purchased\n",
      "VehBCost\t\t\t\tAcquisition cost paid for the vehicle at time of purchase\n",
      "IsOnlineSale\t\t\t\tIdentifies if the vehicle was originally purchased online\n",
      "WarrantyCost                            Warranty price (term=36month  and millage=36K) \n",
      "\n",
      "\n"
     ]
    }
   ],
   "source": [
    "with open('data/Carvana_Data_Dictionary.txt') as fp:\n",
    "    print(fp.read())"
   ]
  },
  {
   "cell_type": "code",
   "execution_count": null,
   "metadata": {},
   "outputs": [],
   "source": []
  },
  {
   "cell_type": "code",
   "execution_count": 6,
   "metadata": {},
   "outputs": [],
   "source": [
    "df = pd.read_csv('data/training.csv',\n",
    "                parse_dates=['PurchDate'])"
   ]
  },
  {
   "cell_type": "code",
   "execution_count": 7,
   "metadata": {},
   "outputs": [],
   "source": [
    "pd.set_option('display.max_colwidth', -1)"
   ]
  },
  {
   "cell_type": "code",
   "execution_count": 8,
   "metadata": {},
   "outputs": [
    {
     "data": {
      "text/html": [
       "<div>\n",
       "<style scoped>\n",
       "    .dataframe tbody tr th:only-of-type {\n",
       "        vertical-align: middle;\n",
       "    }\n",
       "\n",
       "    .dataframe tbody tr th {\n",
       "        vertical-align: top;\n",
       "    }\n",
       "\n",
       "    .dataframe thead th {\n",
       "        text-align: right;\n",
       "    }\n",
       "</style>\n",
       "<table border=\"1\" class=\"dataframe\">\n",
       "  <thead>\n",
       "    <tr style=\"text-align: right;\">\n",
       "      <th></th>\n",
       "      <th>RefId</th>\n",
       "      <th>IsBadBuy</th>\n",
       "      <th>PurchDate</th>\n",
       "      <th>Auction</th>\n",
       "      <th>VehYear</th>\n",
       "      <th>VehicleAge</th>\n",
       "      <th>Make</th>\n",
       "      <th>Model</th>\n",
       "      <th>Trim</th>\n",
       "      <th>SubModel</th>\n",
       "      <th>...</th>\n",
       "      <th>MMRCurrentRetailAveragePrice</th>\n",
       "      <th>MMRCurrentRetailCleanPrice</th>\n",
       "      <th>PRIMEUNIT</th>\n",
       "      <th>AUCGUART</th>\n",
       "      <th>BYRNO</th>\n",
       "      <th>VNZIP1</th>\n",
       "      <th>VNST</th>\n",
       "      <th>VehBCost</th>\n",
       "      <th>IsOnlineSale</th>\n",
       "      <th>WarrantyCost</th>\n",
       "    </tr>\n",
       "  </thead>\n",
       "  <tbody>\n",
       "    <tr>\n",
       "      <th>0</th>\n",
       "      <td>1</td>\n",
       "      <td>0</td>\n",
       "      <td>2009-12-07</td>\n",
       "      <td>ADESA</td>\n",
       "      <td>2006</td>\n",
       "      <td>3</td>\n",
       "      <td>MAZDA</td>\n",
       "      <td>MAZDA3</td>\n",
       "      <td>i</td>\n",
       "      <td>4D SEDAN I</td>\n",
       "      <td>...</td>\n",
       "      <td>11597.0</td>\n",
       "      <td>12409.0</td>\n",
       "      <td>NaN</td>\n",
       "      <td>NaN</td>\n",
       "      <td>21973</td>\n",
       "      <td>33619</td>\n",
       "      <td>FL</td>\n",
       "      <td>7100.0</td>\n",
       "      <td>0</td>\n",
       "      <td>1113</td>\n",
       "    </tr>\n",
       "    <tr>\n",
       "      <th>1</th>\n",
       "      <td>2</td>\n",
       "      <td>0</td>\n",
       "      <td>2009-12-07</td>\n",
       "      <td>ADESA</td>\n",
       "      <td>2004</td>\n",
       "      <td>5</td>\n",
       "      <td>DODGE</td>\n",
       "      <td>1500 RAM PICKUP 2WD</td>\n",
       "      <td>ST</td>\n",
       "      <td>QUAD CAB 4.7L SLT</td>\n",
       "      <td>...</td>\n",
       "      <td>11374.0</td>\n",
       "      <td>12791.0</td>\n",
       "      <td>NaN</td>\n",
       "      <td>NaN</td>\n",
       "      <td>19638</td>\n",
       "      <td>33619</td>\n",
       "      <td>FL</td>\n",
       "      <td>7600.0</td>\n",
       "      <td>0</td>\n",
       "      <td>1053</td>\n",
       "    </tr>\n",
       "    <tr>\n",
       "      <th>2</th>\n",
       "      <td>3</td>\n",
       "      <td>0</td>\n",
       "      <td>2009-12-07</td>\n",
       "      <td>ADESA</td>\n",
       "      <td>2005</td>\n",
       "      <td>4</td>\n",
       "      <td>DODGE</td>\n",
       "      <td>STRATUS V6</td>\n",
       "      <td>SXT</td>\n",
       "      <td>4D SEDAN SXT FFV</td>\n",
       "      <td>...</td>\n",
       "      <td>7146.0</td>\n",
       "      <td>8702.0</td>\n",
       "      <td>NaN</td>\n",
       "      <td>NaN</td>\n",
       "      <td>19638</td>\n",
       "      <td>33619</td>\n",
       "      <td>FL</td>\n",
       "      <td>4900.0</td>\n",
       "      <td>0</td>\n",
       "      <td>1389</td>\n",
       "    </tr>\n",
       "    <tr>\n",
       "      <th>3</th>\n",
       "      <td>4</td>\n",
       "      <td>0</td>\n",
       "      <td>2009-12-07</td>\n",
       "      <td>ADESA</td>\n",
       "      <td>2004</td>\n",
       "      <td>5</td>\n",
       "      <td>DODGE</td>\n",
       "      <td>NEON</td>\n",
       "      <td>SXT</td>\n",
       "      <td>4D SEDAN</td>\n",
       "      <td>...</td>\n",
       "      <td>4375.0</td>\n",
       "      <td>5518.0</td>\n",
       "      <td>NaN</td>\n",
       "      <td>NaN</td>\n",
       "      <td>19638</td>\n",
       "      <td>33619</td>\n",
       "      <td>FL</td>\n",
       "      <td>4100.0</td>\n",
       "      <td>0</td>\n",
       "      <td>630</td>\n",
       "    </tr>\n",
       "    <tr>\n",
       "      <th>4</th>\n",
       "      <td>5</td>\n",
       "      <td>0</td>\n",
       "      <td>2009-12-07</td>\n",
       "      <td>ADESA</td>\n",
       "      <td>2005</td>\n",
       "      <td>4</td>\n",
       "      <td>FORD</td>\n",
       "      <td>FOCUS</td>\n",
       "      <td>ZX3</td>\n",
       "      <td>2D COUPE ZX3</td>\n",
       "      <td>...</td>\n",
       "      <td>6739.0</td>\n",
       "      <td>7911.0</td>\n",
       "      <td>NaN</td>\n",
       "      <td>NaN</td>\n",
       "      <td>19638</td>\n",
       "      <td>33619</td>\n",
       "      <td>FL</td>\n",
       "      <td>4000.0</td>\n",
       "      <td>0</td>\n",
       "      <td>1020</td>\n",
       "    </tr>\n",
       "  </tbody>\n",
       "</table>\n",
       "<p>5 rows × 34 columns</p>\n",
       "</div>"
      ],
      "text/plain": [
       "   RefId  IsBadBuy  PurchDate Auction  VehYear  VehicleAge   Make  \\\n",
       "0  1      0        2009-12-07  ADESA   2006     3           MAZDA   \n",
       "1  2      0        2009-12-07  ADESA   2004     5           DODGE   \n",
       "2  3      0        2009-12-07  ADESA   2005     4           DODGE   \n",
       "3  4      0        2009-12-07  ADESA   2004     5           DODGE   \n",
       "4  5      0        2009-12-07  ADESA   2005     4           FORD    \n",
       "\n",
       "                 Model Trim           SubModel  ...  \\\n",
       "0  MAZDA3               i    4D SEDAN I         ...   \n",
       "1  1500 RAM PICKUP 2WD  ST   QUAD CAB 4.7L SLT  ...   \n",
       "2  STRATUS V6           SXT  4D SEDAN SXT FFV   ...   \n",
       "3  NEON                 SXT  4D SEDAN           ...   \n",
       "4  FOCUS                ZX3  2D COUPE ZX3       ...   \n",
       "\n",
       "  MMRCurrentRetailAveragePrice MMRCurrentRetailCleanPrice  PRIMEUNIT AUCGUART  \\\n",
       "0  11597.0                      12409.0                    NaN        NaN       \n",
       "1  11374.0                      12791.0                    NaN        NaN       \n",
       "2  7146.0                       8702.0                     NaN        NaN       \n",
       "3  4375.0                       5518.0                     NaN        NaN       \n",
       "4  6739.0                       7911.0                     NaN        NaN       \n",
       "\n",
       "   BYRNO VNZIP1 VNST VehBCost  IsOnlineSale  WarrantyCost  \n",
       "0  21973  33619  FL   7100.0   0             1113          \n",
       "1  19638  33619  FL   7600.0   0             1053          \n",
       "2  19638  33619  FL   4900.0   0             1389          \n",
       "3  19638  33619  FL   4100.0   0             630           \n",
       "4  19638  33619  FL   4000.0   0             1020          \n",
       "\n",
       "[5 rows x 34 columns]"
      ]
     },
     "execution_count": 8,
     "metadata": {},
     "output_type": "execute_result"
    }
   ],
   "source": [
    "df.head()"
   ]
  },
  {
   "cell_type": "code",
   "execution_count": 9,
   "metadata": {},
   "outputs": [],
   "source": [
    "import seaborn as sns\n"
   ]
  },
  {
   "cell_type": "code",
   "execution_count": 10,
   "metadata": {},
   "outputs": [
    {
     "name": "stdout",
     "output_type": "stream",
     "text": [
      "12.30 percent of cars in the dataset are considered (=labeled) bad buys.\n"
     ]
    }
   ],
   "source": [
    "# How many 'bad buys' are in the data?\n",
    "ratio_badbuy = df['IsBadBuy'].sum() / df['IsBadBuy'].count()\n",
    "\n",
    "print(\"{:.2f} percent of cars in the dataset are considered (=labeled) bad buys.\".format(ratio_badbuy*100))"
   ]
  },
  {
   "cell_type": "code",
   "execution_count": 11,
   "metadata": {},
   "outputs": [
    {
     "data": {
      "text/plain": [
       "<matplotlib.axes._subplots.AxesSubplot at 0x11b07be10>"
      ]
     },
     "execution_count": 11,
     "metadata": {},
     "output_type": "execute_result"
    },
    {
     "data": {
      "image/png": "[encoded data removed]",
      "text/plain": [
       "<Figure size 432x288 with 1 Axes>"
      ]
     },
     "metadata": {
      "needs_background": "light"
     },
     "output_type": "display_data"
    }
   ],
   "source": [
    "sns.countplot(x='IsBadBuy',data=df)"
   ]
  },
  {
   "cell_type": "code",
   "execution_count": 36,
   "metadata": {},
   "outputs": [
    {
     "data": {
      "text/plain": [
       "<matplotlib.axes._subplots.AxesSubplot at 0x11cee7d30>"
      ]
     },
     "execution_count": 36,
     "metadata": {},
     "output_type": "execute_result"
    },
    {
     "data": {
      "image/png": "[encoded data removed]",
      "text/plain": [
       "<Figure size 432x288 with 2 Axes>"
      ]
     },
     "metadata": {
      "needs_background": "light"
     },
     "output_type": "display_data"
    }
   ],
   "source": [
    "df.plot.scatter(x='VehicleAge', y='VehOdo', c='IsBadBuy')"
   ]
  },
  {
   "cell_type": "code",
   "execution_count": 41,
   "metadata": {},
   "outputs": [
    {
     "data": {
      "text/plain": [
       "<matplotlib.axes._subplots.AxesSubplot at 0x1a1eda3390>"
      ]
     },
     "execution_count": 41,
     "metadata": {},
     "output_type": "execute_result"
    },
    {
     "data": {
      "image/png": "[encoded data removed]",
      "text/plain": [
       "<Figure size 432x288 with 1 Axes>"
      ]
     },
     "metadata": {
      "needs_background": "light"
     },
     "output_type": "display_data"
    }
   ],
   "source": [
    "df['VehicleAge'].plot.hist(bins=10, alpha=0.5)"
   ]
  },
  {
   "cell_type": "code",
   "execution_count": null,
   "metadata": {},
   "outputs": [],
   "source": []
  },
  {
   "cell_type": "code",
   "execution_count": 53,
   "metadata": {},
   "outputs": [
    {
     "data": {
      "text/plain": [
       "<matplotlib.legend.Legend at 0x1a22d01a90>"
      ]
     },
     "execution_count": 53,
     "metadata": {},
     "output_type": "execute_result"
    },
    {
     "data": {
      "image/png": "[encoded data removed]",
      "text/plain": [
       "<Figure size 432x288 with 1 Axes>"
      ]
     },
     "metadata": {
      "needs_background": "light"
     },
     "output_type": "display_data"
    }
   ],
   "source": [
    "# https://seaborn.pydata.org/generated/seaborn.distplot.html\n",
    "bins = len(df['VehicleAge'].unique())\n",
    "sns.distplot(df[df['IsBadBuy']==0]['VehicleAge'], kde=False, label='Good cars', norm_hist=True, bins=bins*2)\n",
    "sns.distplot(df[df['IsBadBuy']==1]['VehicleAge'], kde=False, label='Bad cars', norm_hist=True, bins=bins*2)\n",
    "plt.legend()"
   ]
  },
  {
   "cell_type": "code",
   "execution_count": 15,
   "metadata": {},
   "outputs": [
    {
     "data": {
      "text/plain": [
       "(4.176643875971116, 4.0)"
      ]
     },
     "execution_count": 15,
     "metadata": {},
     "output_type": "execute_result"
    }
   ],
   "source": [
    "df['VehicleAge'].mean(), df['VehicleAge'].median()"
   ]
  },
  {
   "cell_type": "code",
   "execution_count": 71,
   "metadata": {},
   "outputs": [
    {
     "name": "stdout",
     "output_type": "stream",
     "text": [
      "Old cars, isBadBuy: 0.21 +- 0.41\n",
      "New cars, isBadBuy: 0.10 +- 0.30\n"
     ]
    }
   ],
   "source": [
    "old_cars = df[df['VehicleAge'] > 5]['IsBadBuy']\n",
    "new_cars = df[df['VehicleAge'] <= 5]['IsBadBuy']\n",
    "old_mean, old_std = old_cars.mean(), old_cars.std()\n",
    "new_mean, new_std = new_cars.mean(), new_cars.std()\n",
    "print(\"Old cars, isBadBuy: {:.2f} +- {:.2f}\".format(old_mean, old_std))\n",
    "print(\"New cars, isBadBuy: {:.2f} +- {:.2f}\".format(new_mean, new_std))"
   ]
  },
  {
   "cell_type": "markdown",
   "metadata": {},
   "source": [
    "## t-statistics (by hand)"
   ]
  },
  {
   "cell_type": "markdown",
   "metadata": {},
   "source": [
    "Calculate t-statistic as:\n",
    "\n",
    "![](https://miro.medium.com/max/932/1*1ZUnA4eR5J2WEGhDVPDkEw.png)\n",
    "\n",
    "Source: https://towardsdatascience.com/inferential-statistics-series-t-test-using-numpy-2718f8f9bf2f"
   ]
  },
  {
   "cell_type": "code",
   "execution_count": 29,
   "metadata": {},
   "outputs": [
    {
     "data": {
      "text/plain": [
       "31.366866166871798"
      ]
     },
     "execution_count": 29,
     "metadata": {},
     "output_type": "execute_result"
    }
   ],
   "source": [
    "n_old = old_cars.count()\n",
    "n_new = new_cars.count()\n",
    "\n",
    "s_squared_old = sum((old_cars - old_mean)**2)/(n_old-1)\n",
    "s_squared_new = sum((new_cars - new_mean)**2)/(n_new-1)\n",
    "\n",
    "t = (old_mean - new_mean) / (( s_squared_old/old_cars.count() + s_squared_new/new_cars.count() )**0.5)\n",
    "t"
   ]
  },
  {
   "cell_type": "markdown",
   "metadata": {},
   "source": [
    "Now you would have to look up that value of t in a table, to yield what the resulting p-value for significance is. Alternatively, we can do this in scipy:"
   ]
  },
  {
   "cell_type": "markdown",
   "metadata": {},
   "source": [
    "## t-statistics (using scipy)"
   ]
  },
  {
   "cell_type": "code",
   "execution_count": 69,
   "metadata": {},
   "outputs": [
    {
     "name": "stdout",
     "output_type": "stream",
     "text": [
      "P-Value: 6.07651057395558e-211 T-Statistic: 31.366866166869244\n"
     ]
    }
   ],
   "source": [
    "# source: http://www.insightsbot.com/python-t-test-a-friendly-guide/\n",
    "from scipy import stats\n",
    "t_stat, p_value = stats.ttest_ind(old_cars, new_cars, equal_var = False)\n",
    "print(\"P-Value: {0} T-Statistic: {1}\".format(p_value,t_stat))"
   ]
  },
  {
   "cell_type": "code",
   "execution_count": 70,
   "metadata": {},
   "outputs": [
    {
     "data": {
      "text/plain": [
       "True"
      ]
     },
     "execution_count": 70,
     "metadata": {},
     "output_type": "execute_result"
    }
   ],
   "source": [
    "p_value < .05"
   ]
  },
  {
   "cell_type": "code",
   "execution_count": 29,
   "metadata": {},
   "outputs": [
    {
     "data": {
      "text/html": [
       "<div>\n",
       "<style scoped>\n",
       "    .dataframe tbody tr th:only-of-type {\n",
       "        vertical-align: middle;\n",
       "    }\n",
       "\n",
       "    .dataframe tbody tr th {\n",
       "        vertical-align: top;\n",
       "    }\n",
       "\n",
       "    .dataframe thead th {\n",
       "        text-align: right;\n",
       "    }\n",
       "</style>\n",
       "<table border=\"1\" class=\"dataframe\">\n",
       "  <thead>\n",
       "    <tr style=\"text-align: right;\">\n",
       "      <th></th>\n",
       "      <th>RefId</th>\n",
       "      <th>IsBadBuy</th>\n",
       "      <th>VehYear</th>\n",
       "      <th>VehicleAge</th>\n",
       "      <th>WheelTypeID</th>\n",
       "      <th>VehOdo</th>\n",
       "      <th>MMRAcquisitionAuctionAveragePrice</th>\n",
       "      <th>MMRAcquisitionAuctionCleanPrice</th>\n",
       "      <th>MMRAcquisitionRetailAveragePrice</th>\n",
       "      <th>MMRAcquisitonRetailCleanPrice</th>\n",
       "      <th>MMRCurrentAuctionAveragePrice</th>\n",
       "      <th>MMRCurrentAuctionCleanPrice</th>\n",
       "      <th>MMRCurrentRetailAveragePrice</th>\n",
       "      <th>MMRCurrentRetailCleanPrice</th>\n",
       "      <th>BYRNO</th>\n",
       "      <th>VNZIP1</th>\n",
       "      <th>VehBCost</th>\n",
       "      <th>IsOnlineSale</th>\n",
       "      <th>WarrantyCost</th>\n",
       "    </tr>\n",
       "  </thead>\n",
       "  <tbody>\n",
       "    <tr>\n",
       "      <th>RefId</th>\n",
       "      <td>1.000000</td>\n",
       "      <td>0.023973</td>\n",
       "      <td>0.010580</td>\n",
       "      <td>-0.025404</td>\n",
       "      <td>0.013110</td>\n",
       "      <td>-0.026553</td>\n",
       "      <td>-0.011568</td>\n",
       "      <td>-0.015704</td>\n",
       "      <td>-0.032208</td>\n",
       "      <td>-0.034324</td>\n",
       "      <td>-0.008742</td>\n",
       "      <td>-0.013015</td>\n",
       "      <td>-0.021616</td>\n",
       "      <td>-0.024369</td>\n",
       "      <td>0.032896</td>\n",
       "      <td>0.131898</td>\n",
       "      <td>-0.011873</td>\n",
       "      <td>-0.048851</td>\n",
       "      <td>-0.023478</td>\n",
       "    </tr>\n",
       "    <tr>\n",
       "      <th>IsBadBuy</th>\n",
       "      <td>0.023973</td>\n",
       "      <td>1.000000</td>\n",
       "      <td>-0.158886</td>\n",
       "      <td>0.167164</td>\n",
       "      <td>-0.044620</td>\n",
       "      <td>0.082560</td>\n",
       "      <td>-0.109252</td>\n",
       "      <td>-0.102954</td>\n",
       "      <td>-0.087418</td>\n",
       "      <td>-0.083665</td>\n",
       "      <td>-0.109112</td>\n",
       "      <td>-0.104020</td>\n",
       "      <td>-0.103914</td>\n",
       "      <td>-0.100245</td>\n",
       "      <td>-0.061488</td>\n",
       "      <td>0.005796</td>\n",
       "      <td>-0.099911</td>\n",
       "      <td>-0.003697</td>\n",
       "      <td>0.052319</td>\n",
       "    </tr>\n",
       "    <tr>\n",
       "      <th>VehYear</th>\n",
       "      <td>0.010580</td>\n",
       "      <td>-0.158886</td>\n",
       "      <td>1.000000</td>\n",
       "      <td>-0.957957</td>\n",
       "      <td>0.259660</td>\n",
       "      <td>-0.283719</td>\n",
       "      <td>0.581146</td>\n",
       "      <td>0.532927</td>\n",
       "      <td>0.581191</td>\n",
       "      <td>0.539230</td>\n",
       "      <td>0.590820</td>\n",
       "      <td>0.548426</td>\n",
       "      <td>0.598490</td>\n",
       "      <td>0.558669</td>\n",
       "      <td>0.280791</td>\n",
       "      <td>0.068276</td>\n",
       "      <td>0.349965</td>\n",
       "      <td>0.057380</td>\n",
       "      <td>-0.268696</td>\n",
       "    </tr>\n",
       "    <tr>\n",
       "      <th>VehicleAge</th>\n",
       "      <td>-0.025404</td>\n",
       "      <td>0.167164</td>\n",
       "      <td>-0.957957</td>\n",
       "      <td>1.000000</td>\n",
       "      <td>-0.250801</td>\n",
       "      <td>0.319794</td>\n",
       "      <td>-0.565690</td>\n",
       "      <td>-0.518810</td>\n",
       "      <td>-0.460854</td>\n",
       "      <td>-0.426382</td>\n",
       "      <td>-0.575607</td>\n",
       "      <td>-0.532505</td>\n",
       "      <td>-0.504062</td>\n",
       "      <td>-0.469359</td>\n",
       "      <td>-0.268269</td>\n",
       "      <td>-0.074857</td>\n",
       "      <td>-0.312329</td>\n",
       "      <td>-0.024771</td>\n",
       "      <td>0.259310</td>\n",
       "    </tr>\n",
       "    <tr>\n",
       "      <th>WheelTypeID</th>\n",
       "      <td>0.013110</td>\n",
       "      <td>-0.044620</td>\n",
       "      <td>0.259660</td>\n",
       "      <td>-0.250801</td>\n",
       "      <td>1.000000</td>\n",
       "      <td>-0.213558</td>\n",
       "      <td>-0.095471</td>\n",
       "      <td>-0.129597</td>\n",
       "      <td>-0.072700</td>\n",
       "      <td>-0.102019</td>\n",
       "      <td>-0.088597</td>\n",
       "      <td>-0.121211</td>\n",
       "      <td>-0.074420</td>\n",
       "      <td>-0.102488</td>\n",
       "      <td>0.187199</td>\n",
       "      <td>0.007901</td>\n",
       "      <td>-0.162826</td>\n",
       "      <td>-0.006747</td>\n",
       "      <td>-0.132798</td>\n",
       "    </tr>\n",
       "    <tr>\n",
       "      <th>VehOdo</th>\n",
       "      <td>-0.026553</td>\n",
       "      <td>0.082560</td>\n",
       "      <td>-0.283719</td>\n",
       "      <td>0.319794</td>\n",
       "      <td>-0.213558</td>\n",
       "      <td>1.000000</td>\n",
       "      <td>-0.017022</td>\n",
       "      <td>0.024617</td>\n",
       "      <td>0.031306</td>\n",
       "      <td>0.063165</td>\n",
       "      <td>-0.028568</td>\n",
       "      <td>0.012107</td>\n",
       "      <td>0.015811</td>\n",
       "      <td>0.048005</td>\n",
       "      <td>-0.288456</td>\n",
       "      <td>-0.053041</td>\n",
       "      <td>-0.062008</td>\n",
       "      <td>0.029556</td>\n",
       "      <td>0.411718</td>\n",
       "    </tr>\n",
       "    <tr>\n",
       "      <th>MMRAcquisitionAuctionAveragePrice</th>\n",
       "      <td>-0.011568</td>\n",
       "      <td>-0.109252</td>\n",
       "      <td>0.581146</td>\n",
       "      <td>-0.565690</td>\n",
       "      <td>-0.095471</td>\n",
       "      <td>-0.017022</td>\n",
       "      <td>1.000000</td>\n",
       "      <td>0.990347</td>\n",
       "      <td>0.910391</td>\n",
       "      <td>0.910187</td>\n",
       "      <td>0.937817</td>\n",
       "      <td>0.932492</td>\n",
       "      <td>0.871755</td>\n",
       "      <td>0.871042</td>\n",
       "      <td>0.107734</td>\n",
       "      <td>0.045694</td>\n",
       "      <td>0.789840</td>\n",
       "      <td>0.038818</td>\n",
       "      <td>-0.050417</td>\n",
       "    </tr>\n",
       "    <tr>\n",
       "      <th>MMRAcquisitionAuctionCleanPrice</th>\n",
       "      <td>-0.015704</td>\n",
       "      <td>-0.102954</td>\n",
       "      <td>0.532927</td>\n",
       "      <td>-0.518810</td>\n",
       "      <td>-0.129597</td>\n",
       "      <td>0.024617</td>\n",
       "      <td>0.990347</td>\n",
       "      <td>1.000000</td>\n",
       "      <td>0.902718</td>\n",
       "      <td>0.918242</td>\n",
       "      <td>0.923610</td>\n",
       "      <td>0.932114</td>\n",
       "      <td>0.860716</td>\n",
       "      <td>0.871203</td>\n",
       "      <td>0.062502</td>\n",
       "      <td>0.040675</td>\n",
       "      <td>0.781516</td>\n",
       "      <td>0.038667</td>\n",
       "      <td>-0.020644</td>\n",
       "    </tr>\n",
       "    <tr>\n",
       "      <th>MMRAcquisitionRetailAveragePrice</th>\n",
       "      <td>-0.032208</td>\n",
       "      <td>-0.087418</td>\n",
       "      <td>0.581191</td>\n",
       "      <td>-0.460854</td>\n",
       "      <td>-0.072700</td>\n",
       "      <td>0.031306</td>\n",
       "      <td>0.910391</td>\n",
       "      <td>0.902718</td>\n",
       "      <td>1.000000</td>\n",
       "      <td>0.990201</td>\n",
       "      <td>0.851647</td>\n",
       "      <td>0.849407</td>\n",
       "      <td>0.913108</td>\n",
       "      <td>0.906054</td>\n",
       "      <td>0.107516</td>\n",
       "      <td>0.035489</td>\n",
       "      <td>0.746126</td>\n",
       "      <td>0.080627</td>\n",
       "      <td>-0.053444</td>\n",
       "    </tr>\n",
       "    <tr>\n",
       "      <th>MMRAcquisitonRetailCleanPrice</th>\n",
       "      <td>-0.034324</td>\n",
       "      <td>-0.083665</td>\n",
       "      <td>0.539230</td>\n",
       "      <td>-0.426382</td>\n",
       "      <td>-0.102019</td>\n",
       "      <td>0.063165</td>\n",
       "      <td>0.910187</td>\n",
       "      <td>0.918242</td>\n",
       "      <td>0.990201</td>\n",
       "      <td>1.000000</td>\n",
       "      <td>0.846914</td>\n",
       "      <td>0.855689</td>\n",
       "      <td>0.903188</td>\n",
       "      <td>0.906810</td>\n",
       "      <td>0.069676</td>\n",
       "      <td>0.031284</td>\n",
       "      <td>0.744966</td>\n",
       "      <td>0.077670</td>\n",
       "      <td>-0.026933</td>\n",
       "    </tr>\n",
       "    <tr>\n",
       "      <th>MMRCurrentAuctionAveragePrice</th>\n",
       "      <td>-0.008742</td>\n",
       "      <td>-0.109112</td>\n",
       "      <td>0.590820</td>\n",
       "      <td>-0.575607</td>\n",
       "      <td>-0.088597</td>\n",
       "      <td>-0.028568</td>\n",
       "      <td>0.937817</td>\n",
       "      <td>0.923610</td>\n",
       "      <td>0.851647</td>\n",
       "      <td>0.846914</td>\n",
       "      <td>1.000000</td>\n",
       "      <td>0.990329</td>\n",
       "      <td>0.915073</td>\n",
       "      <td>0.912231</td>\n",
       "      <td>0.111363</td>\n",
       "      <td>0.048965</td>\n",
       "      <td>0.778738</td>\n",
       "      <td>0.039876</td>\n",
       "      <td>-0.056798</td>\n",
       "    </tr>\n",
       "    <tr>\n",
       "      <th>MMRCurrentAuctionCleanPrice</th>\n",
       "      <td>-0.013015</td>\n",
       "      <td>-0.104020</td>\n",
       "      <td>0.548426</td>\n",
       "      <td>-0.532505</td>\n",
       "      <td>-0.121211</td>\n",
       "      <td>0.012107</td>\n",
       "      <td>0.932492</td>\n",
       "      <td>0.932114</td>\n",
       "      <td>0.849407</td>\n",
       "      <td>0.855689</td>\n",
       "      <td>0.990329</td>\n",
       "      <td>1.000000</td>\n",
       "      <td>0.908669</td>\n",
       "      <td>0.921536</td>\n",
       "      <td>0.068801</td>\n",
       "      <td>0.043684</td>\n",
       "      <td>0.775100</td>\n",
       "      <td>0.040240</td>\n",
       "      <td>-0.028131</td>\n",
       "    </tr>\n",
       "    <tr>\n",
       "      <th>MMRCurrentRetailAveragePrice</th>\n",
       "      <td>-0.021616</td>\n",
       "      <td>-0.103914</td>\n",
       "      <td>0.598490</td>\n",
       "      <td>-0.504062</td>\n",
       "      <td>-0.074420</td>\n",
       "      <td>0.015811</td>\n",
       "      <td>0.871755</td>\n",
       "      <td>0.860716</td>\n",
       "      <td>0.913108</td>\n",
       "      <td>0.903188</td>\n",
       "      <td>0.915073</td>\n",
       "      <td>0.908669</td>\n",
       "      <td>1.000000</td>\n",
       "      <td>0.989760</td>\n",
       "      <td>0.111190</td>\n",
       "      <td>0.039190</td>\n",
       "      <td>0.756816</td>\n",
       "      <td>0.079535</td>\n",
       "      <td>-0.058025</td>\n",
       "    </tr>\n",
       "    <tr>\n",
       "      <th>MMRCurrentRetailCleanPrice</th>\n",
       "      <td>-0.024369</td>\n",
       "      <td>-0.100245</td>\n",
       "      <td>0.558669</td>\n",
       "      <td>-0.469359</td>\n",
       "      <td>-0.102488</td>\n",
       "      <td>0.048005</td>\n",
       "      <td>0.871042</td>\n",
       "      <td>0.871203</td>\n",
       "      <td>0.906054</td>\n",
       "      <td>0.906810</td>\n",
       "      <td>0.912231</td>\n",
       "      <td>0.921536</td>\n",
       "      <td>0.989760</td>\n",
       "      <td>1.000000</td>\n",
       "      <td>0.074903</td>\n",
       "      <td>0.034688</td>\n",
       "      <td>0.756662</td>\n",
       "      <td>0.076587</td>\n",
       "      <td>-0.031683</td>\n",
       "    </tr>\n",
       "    <tr>\n",
       "      <th>BYRNO</th>\n",
       "      <td>0.032896</td>\n",
       "      <td>-0.061488</td>\n",
       "      <td>0.280791</td>\n",
       "      <td>-0.268269</td>\n",
       "      <td>0.187199</td>\n",
       "      <td>-0.288456</td>\n",
       "      <td>0.107734</td>\n",
       "      <td>0.062502</td>\n",
       "      <td>0.107516</td>\n",
       "      <td>0.069676</td>\n",
       "      <td>0.111363</td>\n",
       "      <td>0.068801</td>\n",
       "      <td>0.111190</td>\n",
       "      <td>0.074903</td>\n",
       "      <td>1.000000</td>\n",
       "      <td>0.040260</td>\n",
       "      <td>0.046215</td>\n",
       "      <td>-0.142444</td>\n",
       "      <td>-0.086201</td>\n",
       "    </tr>\n",
       "    <tr>\n",
       "      <th>VNZIP1</th>\n",
       "      <td>0.131898</td>\n",
       "      <td>0.005796</td>\n",
       "      <td>0.068276</td>\n",
       "      <td>-0.074857</td>\n",
       "      <td>0.007901</td>\n",
       "      <td>-0.053041</td>\n",
       "      <td>0.045694</td>\n",
       "      <td>0.040675</td>\n",
       "      <td>0.035489</td>\n",
       "      <td>0.031284</td>\n",
       "      <td>0.048965</td>\n",
       "      <td>0.043684</td>\n",
       "      <td>0.039190</td>\n",
       "      <td>0.034688</td>\n",
       "      <td>0.040260</td>\n",
       "      <td>1.000000</td>\n",
       "      <td>0.017065</td>\n",
       "      <td>0.024889</td>\n",
       "      <td>-0.036173</td>\n",
       "    </tr>\n",
       "    <tr>\n",
       "      <th>VehBCost</th>\n",
       "      <td>-0.011873</td>\n",
       "      <td>-0.099911</td>\n",
       "      <td>0.349965</td>\n",
       "      <td>-0.312329</td>\n",
       "      <td>-0.162826</td>\n",
       "      <td>-0.062008</td>\n",
       "      <td>0.789840</td>\n",
       "      <td>0.781516</td>\n",
       "      <td>0.746126</td>\n",
       "      <td>0.744966</td>\n",
       "      <td>0.778738</td>\n",
       "      <td>0.775100</td>\n",
       "      <td>0.756816</td>\n",
       "      <td>0.756662</td>\n",
       "      <td>0.046215</td>\n",
       "      <td>0.017065</td>\n",
       "      <td>1.000000</td>\n",
       "      <td>0.034120</td>\n",
       "      <td>-0.033210</td>\n",
       "    </tr>\n",
       "    <tr>\n",
       "      <th>IsOnlineSale</th>\n",
       "      <td>-0.048851</td>\n",
       "      <td>-0.003697</td>\n",
       "      <td>0.057380</td>\n",
       "      <td>-0.024771</td>\n",
       "      <td>-0.006747</td>\n",
       "      <td>0.029556</td>\n",
       "      <td>0.038818</td>\n",
       "      <td>0.038667</td>\n",
       "      <td>0.080627</td>\n",
       "      <td>0.077670</td>\n",
       "      <td>0.039876</td>\n",
       "      <td>0.040240</td>\n",
       "      <td>0.079535</td>\n",
       "      <td>0.076587</td>\n",
       "      <td>-0.142444</td>\n",
       "      <td>0.024889</td>\n",
       "      <td>0.034120</td>\n",
       "      <td>1.000000</td>\n",
       "      <td>0.003837</td>\n",
       "    </tr>\n",
       "    <tr>\n",
       "      <th>WarrantyCost</th>\n",
       "      <td>-0.023478</td>\n",
       "      <td>0.052319</td>\n",
       "      <td>-0.268696</td>\n",
       "      <td>0.259310</td>\n",
       "      <td>-0.132798</td>\n",
       "      <td>0.411718</td>\n",
       "      <td>-0.050417</td>\n",
       "      <td>-0.020644</td>\n",
       "      <td>-0.053444</td>\n",
       "      <td>-0.026933</td>\n",
       "      <td>-0.056798</td>\n",
       "      <td>-0.028131</td>\n",
       "      <td>-0.058025</td>\n",
       "      <td>-0.031683</td>\n",
       "      <td>-0.086201</td>\n",
       "      <td>-0.036173</td>\n",
       "      <td>-0.033210</td>\n",
       "      <td>0.003837</td>\n",
       "      <td>1.000000</td>\n",
       "    </tr>\n",
       "  </tbody>\n",
       "</table>\n",
       "</div>"
      ],
      "text/plain": [
       "                                      RefId  IsBadBuy   VehYear  VehicleAge  \\\n",
       "RefId                              1.000000  0.023973  0.010580   -0.025404   \n",
       "IsBadBuy                           0.023973  1.000000 -0.158886    0.167164   \n",
       "VehYear                            0.010580 -0.158886  1.000000   -0.957957   \n",
       "VehicleAge                        -0.025404  0.167164 -0.957957    1.000000   \n",
       "WheelTypeID                        0.013110 -0.044620  0.259660   -0.250801   \n",
       "VehOdo                            -0.026553  0.082560 -0.283719    0.319794   \n",
       "MMRAcquisitionAuctionAveragePrice -0.011568 -0.109252  0.581146   -0.565690   \n",
       "MMRAcquisitionAuctionCleanPrice   -0.015704 -0.102954  0.532927   -0.518810   \n",
       "MMRAcquisitionRetailAveragePrice  -0.032208 -0.087418  0.581191   -0.460854   \n",
       "MMRAcquisitonRetailCleanPrice     -0.034324 -0.083665  0.539230   -0.426382   \n",
       "MMRCurrentAuctionAveragePrice     -0.008742 -0.109112  0.590820   -0.575607   \n",
       "MMRCurrentAuctionCleanPrice       -0.013015 -0.104020  0.548426   -0.532505   \n",
       "MMRCurrentRetailAveragePrice      -0.021616 -0.103914  0.598490   -0.504062   \n",
       "MMRCurrentRetailCleanPrice        -0.024369 -0.100245  0.558669   -0.469359   \n",
       "BYRNO                              0.032896 -0.061488  0.280791   -0.268269   \n",
       "VNZIP1                             0.131898  0.005796  0.068276   -0.074857   \n",
       "VehBCost                          -0.011873 -0.099911  0.349965   -0.312329   \n",
       "IsOnlineSale                      -0.048851 -0.003697  0.057380   -0.024771   \n",
       "WarrantyCost                      -0.023478  0.052319 -0.268696    0.259310   \n",
       "\n",
       "                                   WheelTypeID    VehOdo  \\\n",
       "RefId                                 0.013110 -0.026553   \n",
       "IsBadBuy                             -0.044620  0.082560   \n",
       "VehYear                               0.259660 -0.283719   \n",
       "VehicleAge                           -0.250801  0.319794   \n",
       "WheelTypeID                           1.000000 -0.213558   \n",
       "VehOdo                               -0.213558  1.000000   \n",
       "MMRAcquisitionAuctionAveragePrice    -0.095471 -0.017022   \n",
       "MMRAcquisitionAuctionCleanPrice      -0.129597  0.024617   \n",
       "MMRAcquisitionRetailAveragePrice     -0.072700  0.031306   \n",
       "MMRAcquisitonRetailCleanPrice        -0.102019  0.063165   \n",
       "MMRCurrentAuctionAveragePrice        -0.088597 -0.028568   \n",
       "MMRCurrentAuctionCleanPrice          -0.121211  0.012107   \n",
       "MMRCurrentRetailAveragePrice         -0.074420  0.015811   \n",
       "MMRCurrentRetailCleanPrice           -0.102488  0.048005   \n",
       "BYRNO                                 0.187199 -0.288456   \n",
       "VNZIP1                                0.007901 -0.053041   \n",
       "VehBCost                             -0.162826 -0.062008   \n",
       "IsOnlineSale                         -0.006747  0.029556   \n",
       "WarrantyCost                         -0.132798  0.411718   \n",
       "\n",
       "                                   MMRAcquisitionAuctionAveragePrice  \\\n",
       "RefId                                                      -0.011568   \n",
       "IsBadBuy                                                   -0.109252   \n",
       "VehYear                                                     0.581146   \n",
       "VehicleAge                                                 -0.565690   \n",
       "WheelTypeID                                                -0.095471   \n",
       "VehOdo                                                     -0.017022   \n",
       "MMRAcquisitionAuctionAveragePrice                           1.000000   \n",
       "MMRAcquisitionAuctionCleanPrice                             0.990347   \n",
       "MMRAcquisitionRetailAveragePrice                            0.910391   \n",
       "MMRAcquisitonRetailCleanPrice                               0.910187   \n",
       "MMRCurrentAuctionAveragePrice                               0.937817   \n",
       "MMRCurrentAuctionCleanPrice                                 0.932492   \n",
       "MMRCurrentRetailAveragePrice                                0.871755   \n",
       "MMRCurrentRetailCleanPrice                                  0.871042   \n",
       "BYRNO                                                       0.107734   \n",
       "VNZIP1                                                      0.045694   \n",
       "VehBCost                                                    0.789840   \n",
       "IsOnlineSale                                                0.038818   \n",
       "WarrantyCost                                               -0.050417   \n",
       "\n",
       "                                   MMRAcquisitionAuctionCleanPrice  \\\n",
       "RefId                                                    -0.015704   \n",
       "IsBadBuy                                                 -0.102954   \n",
       "VehYear                                                   0.532927   \n",
       "VehicleAge                                               -0.518810   \n",
       "WheelTypeID                                              -0.129597   \n",
       "VehOdo                                                    0.024617   \n",
       "MMRAcquisitionAuctionAveragePrice                         0.990347   \n",
       "MMRAcquisitionAuctionCleanPrice                           1.000000   \n",
       "MMRAcquisitionRetailAveragePrice                          0.902718   \n",
       "MMRAcquisitonRetailCleanPrice                             0.918242   \n",
       "MMRCurrentAuctionAveragePrice                             0.923610   \n",
       "MMRCurrentAuctionCleanPrice                               0.932114   \n",
       "MMRCurrentRetailAveragePrice                              0.860716   \n",
       "MMRCurrentRetailCleanPrice                                0.871203   \n",
       "BYRNO                                                     0.062502   \n",
       "VNZIP1                                                    0.040675   \n",
       "VehBCost                                                  0.781516   \n",
       "IsOnlineSale                                              0.038667   \n",
       "WarrantyCost                                             -0.020644   \n",
       "\n",
       "                                   MMRAcquisitionRetailAveragePrice  \\\n",
       "RefId                                                     -0.032208   \n",
       "IsBadBuy                                                  -0.087418   \n",
       "VehYear                                                    0.581191   \n",
       "VehicleAge                                                -0.460854   \n",
       "WheelTypeID                                               -0.072700   \n",
       "VehOdo                                                     0.031306   \n",
       "MMRAcquisitionAuctionAveragePrice                          0.910391   \n",
       "MMRAcquisitionAuctionCleanPrice                            0.902718   \n",
       "MMRAcquisitionRetailAveragePrice                           1.000000   \n",
       "MMRAcquisitonRetailCleanPrice                              0.990201   \n",
       "MMRCurrentAuctionAveragePrice                              0.851647   \n",
       "MMRCurrentAuctionCleanPrice                                0.849407   \n",
       "MMRCurrentRetailAveragePrice                               0.913108   \n",
       "MMRCurrentRetailCleanPrice                                 0.906054   \n",
       "BYRNO                                                      0.107516   \n",
       "VNZIP1                                                     0.035489   \n",
       "VehBCost                                                   0.746126   \n",
       "IsOnlineSale                                               0.080627   \n",
       "WarrantyCost                                              -0.053444   \n",
       "\n",
       "                                   MMRAcquisitonRetailCleanPrice  \\\n",
       "RefId                                                  -0.034324   \n",
       "IsBadBuy                                               -0.083665   \n",
       "VehYear                                                 0.539230   \n",
       "VehicleAge                                             -0.426382   \n",
       "WheelTypeID                                            -0.102019   \n",
       "VehOdo                                                  0.063165   \n",
       "MMRAcquisitionAuctionAveragePrice                       0.910187   \n",
       "MMRAcquisitionAuctionCleanPrice                         0.918242   \n",
       "MMRAcquisitionRetailAveragePrice                        0.990201   \n",
       "MMRAcquisitonRetailCleanPrice                           1.000000   \n",
       "MMRCurrentAuctionAveragePrice                           0.846914   \n",
       "MMRCurrentAuctionCleanPrice                             0.855689   \n",
       "MMRCurrentRetailAveragePrice                            0.903188   \n",
       "MMRCurrentRetailCleanPrice                              0.906810   \n",
       "BYRNO                                                   0.069676   \n",
       "VNZIP1                                                  0.031284   \n",
       "VehBCost                                                0.744966   \n",
       "IsOnlineSale                                            0.077670   \n",
       "WarrantyCost                                           -0.026933   \n",
       "\n",
       "                                   MMRCurrentAuctionAveragePrice  \\\n",
       "RefId                                                  -0.008742   \n",
       "IsBadBuy                                               -0.109112   \n",
       "VehYear                                                 0.590820   \n",
       "VehicleAge                                             -0.575607   \n",
       "WheelTypeID                                            -0.088597   \n",
       "VehOdo                                                 -0.028568   \n",
       "MMRAcquisitionAuctionAveragePrice                       0.937817   \n",
       "MMRAcquisitionAuctionCleanPrice                         0.923610   \n",
       "MMRAcquisitionRetailAveragePrice                        0.851647   \n",
       "MMRAcquisitonRetailCleanPrice                           0.846914   \n",
       "MMRCurrentAuctionAveragePrice                           1.000000   \n",
       "MMRCurrentAuctionCleanPrice                             0.990329   \n",
       "MMRCurrentRetailAveragePrice                            0.915073   \n",
       "MMRCurrentRetailCleanPrice                              0.912231   \n",
       "BYRNO                                                   0.111363   \n",
       "VNZIP1                                                  0.048965   \n",
       "VehBCost                                                0.778738   \n",
       "IsOnlineSale                                            0.039876   \n",
       "WarrantyCost                                           -0.056798   \n",
       "\n",
       "                                   MMRCurrentAuctionCleanPrice  \\\n",
       "RefId                                                -0.013015   \n",
       "IsBadBuy                                             -0.104020   \n",
       "VehYear                                               0.548426   \n",
       "VehicleAge                                           -0.532505   \n",
       "WheelTypeID                                          -0.121211   \n",
       "VehOdo                                                0.012107   \n",
       "MMRAcquisitionAuctionAveragePrice                     0.932492   \n",
       "MMRAcquisitionAuctionCleanPrice                       0.932114   \n",
       "MMRAcquisitionRetailAveragePrice                      0.849407   \n",
       "MMRAcquisitonRetailCleanPrice                         0.855689   \n",
       "MMRCurrentAuctionAveragePrice                         0.990329   \n",
       "MMRCurrentAuctionCleanPrice                           1.000000   \n",
       "MMRCurrentRetailAveragePrice                          0.908669   \n",
       "MMRCurrentRetailCleanPrice                            0.921536   \n",
       "BYRNO                                                 0.068801   \n",
       "VNZIP1                                                0.043684   \n",
       "VehBCost                                              0.775100   \n",
       "IsOnlineSale                                          0.040240   \n",
       "WarrantyCost                                         -0.028131   \n",
       "\n",
       "                                   MMRCurrentRetailAveragePrice  \\\n",
       "RefId                                                 -0.021616   \n",
       "IsBadBuy                                              -0.103914   \n",
       "VehYear                                                0.598490   \n",
       "VehicleAge                                            -0.504062   \n",
       "WheelTypeID                                           -0.074420   \n",
       "VehOdo                                                 0.015811   \n",
       "MMRAcquisitionAuctionAveragePrice                      0.871755   \n",
       "MMRAcquisitionAuctionCleanPrice                        0.860716   \n",
       "MMRAcquisitionRetailAveragePrice                       0.913108   \n",
       "MMRAcquisitonRetailCleanPrice                          0.903188   \n",
       "MMRCurrentAuctionAveragePrice                          0.915073   \n",
       "MMRCurrentAuctionCleanPrice                            0.908669   \n",
       "MMRCurrentRetailAveragePrice                           1.000000   \n",
       "MMRCurrentRetailCleanPrice                             0.989760   \n",
       "BYRNO                                                  0.111190   \n",
       "VNZIP1                                                 0.039190   \n",
       "VehBCost                                               0.756816   \n",
       "IsOnlineSale                                           0.079535   \n",
       "WarrantyCost                                          -0.058025   \n",
       "\n",
       "                                   MMRCurrentRetailCleanPrice     BYRNO  \\\n",
       "RefId                                               -0.024369  0.032896   \n",
       "IsBadBuy                                            -0.100245 -0.061488   \n",
       "VehYear                                              0.558669  0.280791   \n",
       "VehicleAge                                          -0.469359 -0.268269   \n",
       "WheelTypeID                                         -0.102488  0.187199   \n",
       "VehOdo                                               0.048005 -0.288456   \n",
       "MMRAcquisitionAuctionAveragePrice                    0.871042  0.107734   \n",
       "MMRAcquisitionAuctionCleanPrice                      0.871203  0.062502   \n",
       "MMRAcquisitionRetailAveragePrice                     0.906054  0.107516   \n",
       "MMRAcquisitonRetailCleanPrice                        0.906810  0.069676   \n",
       "MMRCurrentAuctionAveragePrice                        0.912231  0.111363   \n",
       "MMRCurrentAuctionCleanPrice                          0.921536  0.068801   \n",
       "MMRCurrentRetailAveragePrice                         0.989760  0.111190   \n",
       "MMRCurrentRetailCleanPrice                           1.000000  0.074903   \n",
       "BYRNO                                                0.074903  1.000000   \n",
       "VNZIP1                                               0.034688  0.040260   \n",
       "VehBCost                                             0.756662  0.046215   \n",
       "IsOnlineSale                                         0.076587 -0.142444   \n",
       "WarrantyCost                                        -0.031683 -0.086201   \n",
       "\n",
       "                                     VNZIP1  VehBCost  IsOnlineSale  \\\n",
       "RefId                              0.131898 -0.011873     -0.048851   \n",
       "IsBadBuy                           0.005796 -0.099911     -0.003697   \n",
       "VehYear                            0.068276  0.349965      0.057380   \n",
       "VehicleAge                        -0.074857 -0.312329     -0.024771   \n",
       "WheelTypeID                        0.007901 -0.162826     -0.006747   \n",
       "VehOdo                            -0.053041 -0.062008      0.029556   \n",
       "MMRAcquisitionAuctionAveragePrice  0.045694  0.789840      0.038818   \n",
       "MMRAcquisitionAuctionCleanPrice    0.040675  0.781516      0.038667   \n",
       "MMRAcquisitionRetailAveragePrice   0.035489  0.746126      0.080627   \n",
       "MMRAcquisitonRetailCleanPrice      0.031284  0.744966      0.077670   \n",
       "MMRCurrentAuctionAveragePrice      0.048965  0.778738      0.039876   \n",
       "MMRCurrentAuctionCleanPrice        0.043684  0.775100      0.040240   \n",
       "MMRCurrentRetailAveragePrice       0.039190  0.756816      0.079535   \n",
       "MMRCurrentRetailCleanPrice         0.034688  0.756662      0.076587   \n",
       "BYRNO                              0.040260  0.046215     -0.142444   \n",
       "VNZIP1                             1.000000  0.017065      0.024889   \n",
       "VehBCost                           0.017065  1.000000      0.034120   \n",
       "IsOnlineSale                       0.024889  0.034120      1.000000   \n",
       "WarrantyCost                      -0.036173 -0.033210      0.003837   \n",
       "\n",
       "                                   WarrantyCost  \n",
       "RefId                                 -0.023478  \n",
       "IsBadBuy                               0.052319  \n",
       "VehYear                               -0.268696  \n",
       "VehicleAge                             0.259310  \n",
       "WheelTypeID                           -0.132798  \n",
       "VehOdo                                 0.411718  \n",
       "MMRAcquisitionAuctionAveragePrice     -0.050417  \n",
       "MMRAcquisitionAuctionCleanPrice       -0.020644  \n",
       "MMRAcquisitionRetailAveragePrice      -0.053444  \n",
       "MMRAcquisitonRetailCleanPrice         -0.026933  \n",
       "MMRCurrentAuctionAveragePrice         -0.056798  \n",
       "MMRCurrentAuctionCleanPrice           -0.028131  \n",
       "MMRCurrentRetailAveragePrice          -0.058025  \n",
       "MMRCurrentRetailCleanPrice            -0.031683  \n",
       "BYRNO                                 -0.086201  \n",
       "VNZIP1                                -0.036173  \n",
       "VehBCost                              -0.033210  \n",
       "IsOnlineSale                           0.003837  \n",
       "WarrantyCost                           1.000000  "
      ]
     },
     "execution_count": 29,
     "metadata": {},
     "output_type": "execute_result"
    }
   ],
   "source": [
    "df.corr()"
   ]
  },
  {
   "cell_type": "code",
   "execution_count": 11,
   "metadata": {},
   "outputs": [
    {
     "data": {
      "text/plain": [
       "array([[<matplotlib.axes._subplots.AxesSubplot object at 0x11fa2c7f0>]],\n",
       "      dtype=object)"
      ]
     },
     "execution_count": 11,
     "metadata": {},
     "output_type": "execute_result"
    },
    {
     "data": {
      "image/png": "[encoded data removed]",
      "text/plain": [
       "<Figure size 432x288 with 1 Axes>"
      ]
     },
     "metadata": {
      "needs_background": "light"
     },
     "output_type": "display_data"
    }
   ],
   "source": [
    "df.hist(column='VehicleAge')"
   ]
  },
  {
   "cell_type": "code",
   "execution_count": 34,
   "metadata": {},
   "outputs": [
    {
     "name": "stdout",
     "output_type": "stream",
     "text": [
      "RefId\n",
      "IsBadBuy\n",
      "PurchDate\n",
      "Auction\n",
      "VehYear\n",
      "VehicleAge\n",
      "Make\n",
      "Model\n",
      "Trim\n",
      "SubModel\n",
      "Color\n",
      "Transmission\n",
      "WheelTypeID\n",
      "WheelType\n",
      "VehOdo\n",
      "Nationality\n",
      "Size\n",
      "TopThreeAmericanName\n",
      "MMRAcquisitionAuctionAveragePrice\n",
      "MMRAcquisitionAuctionCleanPrice\n",
      "MMRAcquisitionRetailAveragePrice\n",
      "MMRAcquisitonRetailCleanPrice\n",
      "MMRCurrentAuctionAveragePrice\n",
      "MMRCurrentAuctionCleanPrice\n",
      "MMRCurrentRetailAveragePrice\n",
      "MMRCurrentRetailCleanPrice\n",
      "PRIMEUNIT\n",
      "AUCGUART\n",
      "BYRNO\n",
      "VNZIP1\n",
      "VNST\n",
      "VehBCost\n",
      "IsOnlineSale\n",
      "WarrantyCost\n"
     ]
    }
   ],
   "source": [
    "for col in df.columns:\n",
    "    print(col)"
   ]
  },
  {
   "cell_type": "code",
   "execution_count": 12,
   "metadata": {},
   "outputs": [],
   "source": [
    "from sklearn.linear_model import LinearRegression"
   ]
  },
  {
   "cell_type": "code",
   "execution_count": 44,
   "metadata": {},
   "outputs": [],
   "source": [
    "categorical = ['Make', 'Auction', 'Size', 'PRIMEUNIT', 'AUCGUART', 'VNST']"
   ]
  },
  {
   "cell_type": "code",
   "execution_count": 47,
   "metadata": {},
   "outputs": [],
   "source": [
    "X = pd.get_dummies(data=categorical)\n"
   ]
  },
  {
   "cell_type": "code",
   "execution_count": 48,
   "metadata": {},
   "outputs": [
    {
     "data": {
      "text/html": [
       "<div>\n",
       "<style scoped>\n",
       "    .dataframe tbody tr th:only-of-type {\n",
       "        vertical-align: middle;\n",
       "    }\n",
       "\n",
       "    .dataframe tbody tr th {\n",
       "        vertical-align: top;\n",
       "    }\n",
       "\n",
       "    .dataframe thead th {\n",
       "        text-align: right;\n",
       "    }\n",
       "</style>\n",
       "<table border=\"1\" class=\"dataframe\">\n",
       "  <thead>\n",
       "    <tr style=\"text-align: right;\">\n",
       "      <th></th>\n",
       "      <th>AUCGUART</th>\n",
       "      <th>Auction</th>\n",
       "      <th>Make</th>\n",
       "      <th>PRIMEUNIT</th>\n",
       "      <th>Size</th>\n",
       "      <th>VNST</th>\n",
       "    </tr>\n",
       "  </thead>\n",
       "  <tbody>\n",
       "    <tr>\n",
       "      <th>0</th>\n",
       "      <td>0</td>\n",
       "      <td>0</td>\n",
       "      <td>1</td>\n",
       "      <td>0</td>\n",
       "      <td>0</td>\n",
       "      <td>0</td>\n",
       "    </tr>\n",
       "    <tr>\n",
       "      <th>1</th>\n",
       "      <td>0</td>\n",
       "      <td>1</td>\n",
       "      <td>0</td>\n",
       "      <td>0</td>\n",
       "      <td>0</td>\n",
       "      <td>0</td>\n",
       "    </tr>\n",
       "    <tr>\n",
       "      <th>2</th>\n",
       "      <td>0</td>\n",
       "      <td>0</td>\n",
       "      <td>0</td>\n",
       "      <td>0</td>\n",
       "      <td>1</td>\n",
       "      <td>0</td>\n",
       "    </tr>\n",
       "    <tr>\n",
       "      <th>3</th>\n",
       "      <td>0</td>\n",
       "      <td>0</td>\n",
       "      <td>0</td>\n",
       "      <td>1</td>\n",
       "      <td>0</td>\n",
       "      <td>0</td>\n",
       "    </tr>\n",
       "    <tr>\n",
       "      <th>4</th>\n",
       "      <td>1</td>\n",
       "      <td>0</td>\n",
       "      <td>0</td>\n",
       "      <td>0</td>\n",
       "      <td>0</td>\n",
       "      <td>0</td>\n",
       "    </tr>\n",
       "    <tr>\n",
       "      <th>5</th>\n",
       "      <td>0</td>\n",
       "      <td>0</td>\n",
       "      <td>0</td>\n",
       "      <td>0</td>\n",
       "      <td>0</td>\n",
       "      <td>1</td>\n",
       "    </tr>\n",
       "  </tbody>\n",
       "</table>\n",
       "</div>"
      ],
      "text/plain": [
       "   AUCGUART  Auction  Make  PRIMEUNIT  Size  VNST\n",
       "0  0         0        1     0          0     0   \n",
       "1  0         1        0     0          0     0   \n",
       "2  0         0        0     0          1     0   \n",
       "3  0         0        0     1          0     0   \n",
       "4  1         0        0     0          0     0   \n",
       "5  0         0        0     0          0     1   "
      ]
     },
     "execution_count": 48,
     "metadata": {},
     "output_type": "execute_result"
    }
   ],
   "source": [
    "X"
   ]
  },
  {
   "cell_type": "code",
   "execution_count": null,
   "metadata": {},
   "outputs": [],
   "source": []
  },
  {
   "cell_type": "code",
   "execution_count": 15,
   "metadata": {},
   "outputs": [
    {
     "data": {
      "text/plain": [
       "array([nan, 'GREEN', 'RED'], dtype=object)"
      ]
     },
     "execution_count": 15,
     "metadata": {},
     "output_type": "execute_result"
    }
   ],
   "source": [
    "# TODO: impute 'YELLOW' for missing values, and then also use this variable\n",
    "df['AUCGUART'].unique()"
   ]
  },
  {
   "cell_type": "code",
   "execution_count": 16,
   "metadata": {},
   "outputs": [
    {
     "data": {
      "text/plain": [
       "array([nan, 'NO', 'YES'], dtype=object)"
      ]
     },
     "execution_count": 16,
     "metadata": {},
     "output_type": "execute_result"
    }
   ],
   "source": [
    "# same\n",
    "df['PRIMEUNIT'].unique()"
   ]
  },
  {
   "cell_type": "code",
   "execution_count": 18,
   "metadata": {},
   "outputs": [
    {
     "data": {
      "text/plain": [
       "array(['FL', 'VA', 'IA', 'AR', 'MN', 'TN', 'PA', 'OH', 'AL', 'MI', 'TX',\n",
       "       'IL', 'MA', 'AZ', 'GA', 'NC', 'MD', 'CA', 'UT', 'OR', 'SC', 'CO',\n",
       "       'ID', 'NV', 'WV', 'MS', 'OK', 'NM', 'LA', 'IN', 'MO', 'WA', 'NH',\n",
       "       'NJ', 'NY', 'NE', 'KY'], dtype=object)"
      ]
     },
     "execution_count": 18,
     "metadata": {},
     "output_type": "execute_result"
    }
   ],
   "source": [
    "df['VNST'].unique()"
   ]
  },
  {
   "cell_type": "code",
   "execution_count": 19,
   "metadata": {},
   "outputs": [],
   "source": [
    "make = pd.get_dummies(df['Make'], drop_first=True)\n",
    "size = pd.get_dummies(df['Size'], drop_first=True)\n",
    "state = pd.get_dummies(df['VNST'], drop_first=True)"
   ]
  },
  {
   "cell_type": "code",
   "execution_count": 22,
   "metadata": {},
   "outputs": [],
   "source": [
    "# First: grab all numerical variables we're interested in\n",
    "# Right now this is a guess. Proper statistical analysis would yield \n",
    "# which ones are more helpful to take than these\n",
    "_train = df[['VehicleAge', 'VehBCost', 'MMRAcquisitionAuctionAveragePrice', 'IsOnlineSale']]\n",
    "\n",
    "# append numerical and categorical variables (categorical are encoded using dummy columns)\n",
    "train = pd.concat([_train, make, size, state],axis=1)\n"
   ]
  },
  {
   "cell_type": "code",
   "execution_count": 30,
   "metadata": {},
   "outputs": [
    {
     "data": {
      "text/plain": [
       "VehicleAge                           72983\n",
       "VehBCost                             72983\n",
       "MMRAcquisitionAuctionAveragePrice    72983\n",
       "IsOnlineSale                         72983\n",
       "BUICK                                72983\n",
       "                                     ...  \n",
       "TX                                   72983\n",
       "UT                                   72983\n",
       "VA                                   72983\n",
       "WA                                   72983\n",
       "WV                                   72983\n",
       "Length: 83, dtype: int64"
      ]
     },
     "execution_count": 30,
     "metadata": {},
     "output_type": "execute_result"
    }
   ],
   "source": [
    "train.isnull().count()"
   ]
  },
  {
   "cell_type": "code",
   "execution_count": 26,
   "metadata": {},
   "outputs": [
    {
     "data": {
      "text/plain": [
       "<matplotlib.axes._subplots.AxesSubplot at 0x125f67e10>"
      ]
     },
     "execution_count": 26,
     "metadata": {},
     "output_type": "execute_result"
    },
    {
     "data": {
      "image/png": "[encoded data removed]",
      "text/plain": [
       "<Figure size 432x288 with 1 Axes>"
      ]
     },
     "metadata": {
      "needs_background": "light"
     },
     "output_type": "display_data"
    }
   ],
   "source": [
    "sns.heatmap(_train.isnull(), yticklabels=False, cbar=False)\n"
   ]
  },
  {
   "cell_type": "code",
   "execution_count": 31,
   "metadata": {},
   "outputs": [],
   "source": [
    "# FIXME: replace train.fillna(0) with proper imputation!\n",
    "\n",
    "from sklearn.model_selection import train_test_split\n",
    "X_train, X_val, y_train, y_val = train_test_split(train.fillna(0), \n",
    "                                                  df['IsBadBuy'], test_size=0.30, \n",
    "                                                  random_state=101)"
   ]
  },
  {
   "cell_type": "code",
   "execution_count": 32,
   "metadata": {},
   "outputs": [
    {
     "name": "stderr",
     "output_type": "stream",
     "text": [
      "/Users/flo/miniconda3/envs/learn-ml/lib/python3.5/site-packages/sklearn/linear_model/logistic.py:432: FutureWarning: Default solver will be changed to 'lbfgs' in 0.22. Specify a solver to silence this warning.\n",
      "  FutureWarning)\n"
     ]
    }
   ],
   "source": [
    "from sklearn.linear_model import LogisticRegression\n",
    "logmodel = LogisticRegression()\n",
    "logmodel.fit(X_train, y_train)\n",
    "predictions = logmodel.predict(X_val)"
   ]
  },
  {
   "cell_type": "code",
   "execution_count": 34,
   "metadata": {},
   "outputs": [
    {
     "name": "stdout",
     "output_type": "stream",
     "text": [
      "              precision    recall  f1-score   support\n",
      "\n",
      "           0       0.88      1.00      0.93     19211\n",
      "           1       0.00      0.00      0.00      2684\n",
      "\n",
      "   micro avg       0.88      0.88      0.88     21895\n",
      "   macro avg       0.44      0.50      0.47     21895\n",
      "weighted avg       0.77      0.88      0.82     21895\n",
      "\n"
     ]
    },
    {
     "name": "stderr",
     "output_type": "stream",
     "text": [
      "/Users/flo/miniconda3/envs/learn-ml/lib/python3.5/site-packages/sklearn/metrics/classification.py:1143: UndefinedMetricWarning: Precision and F-score are ill-defined and being set to 0.0 in labels with no predicted samples.\n",
      "  'precision', 'predicted', average, warn_for)\n"
     ]
    }
   ],
   "source": [
    "from sklearn.metrics import classification_report\n",
    "print(classification_report(y_val, predictions))"
   ]
  },
  {
   "cell_type": "code",
   "execution_count": 37,
   "metadata": {},
   "outputs": [
    {
     "data": {
      "text/plain": [
       "array([[ 6.57847045e-04, -2.30149188e-04, -7.71432626e-05,\n",
       "         3.90314592e-07,  2.66277219e-06,  1.28687054e-06,\n",
       "        -1.97094521e-04, -2.26307866e-05, -9.90566424e-05,\n",
       "         6.77402121e-05,  9.18827932e-06,  6.54673929e-06,\n",
       "         0.00000000e+00, -2.27192236e-05,  4.55556515e-06,\n",
       "        -2.40362104e-06,  4.71969825e-05, -4.51636733e-05,\n",
       "         4.38862527e-06,  5.63913058e-06,  2.26315883e-05,\n",
       "         1.06731982e-05,  2.28006662e-06, -5.52749528e-06,\n",
       "         5.27945075e-05, -1.42729782e-06, -1.73913801e-07,\n",
       "        -1.18168061e-05, -2.57278643e-05,  5.11455853e-07,\n",
       "         1.59422675e-06, -1.76864820e-05,  1.00539098e-05,\n",
       "         0.00000000e+00,  2.90285672e-06, -8.64178880e-07,\n",
       "         1.69038896e-05, -7.07586147e-05,  6.80938447e-05,\n",
       "         5.29586109e-05, -3.69499810e-04,  1.79345017e-04,\n",
       "         3.20601121e-05, -5.59096625e-06,  2.78599446e-05,\n",
       "         2.71918099e-05, -6.56786077e-05,  3.10698613e-06,\n",
       "        -4.53089694e-05,  7.01549407e-06, -3.76925214e-05,\n",
       "        -1.16163370e-04, -2.05425002e-05,  3.39125331e-06,\n",
       "        -2.41047036e-06,  6.96142899e-06,  6.04903437e-06,\n",
       "        -3.59006675e-06,  4.15256888e-06, -1.21281657e-07,\n",
       "         5.96356091e-06, -6.98710226e-07, -2.38786753e-06,\n",
       "        -2.88303109e-06, -5.37774288e-06, -6.28853477e-05,\n",
       "        -3.87765396e-07,  1.25689976e-06, -3.79600125e-06,\n",
       "        -5.10543039e-06,  4.13444299e-06, -2.62922521e-07,\n",
       "        -5.19404199e-06, -1.55191910e-05, -5.56252477e-06,\n",
       "         6.53923119e-06,  6.39081240e-06, -1.60020506e-05,\n",
       "         7.63947732e-05,  3.65597840e-06,  2.78875037e-05,\n",
       "        -4.26802555e-06, -3.62315862e-06]])"
      ]
     },
     "execution_count": 37,
     "metadata": {},
     "output_type": "execute_result"
    }
   ],
   "source": [
    "logmodel.coef_"
   ]
  },
  {
   "cell_type": "code",
   "execution_count": 39,
   "metadata": {},
   "outputs": [],
   "source": [
    "import numpy as np"
   ]
  },
  {
   "cell_type": "code",
   "execution_count": 44,
   "metadata": {},
   "outputs": [
    {
     "data": {
      "text/plain": [
       "(1, 83)"
      ]
     },
     "execution_count": 44,
     "metadata": {},
     "output_type": "execute_result"
    }
   ],
   "source": [
    "logmodel.coef_.shape"
   ]
  },
  {
   "cell_type": "code",
   "execution_count": 47,
   "metadata": {},
   "outputs": [
    {
     "data": {
      "text/plain": [
       "array([0])"
      ]
     },
     "execution_count": 47,
     "metadata": {},
     "output_type": "execute_result"
    }
   ],
   "source": [
    "important_var_idx = np.argmax(logmodel.coef_, axis=1)\n",
    "important_var_idx"
   ]
  },
  {
   "cell_type": "code",
   "execution_count": 43,
   "metadata": {},
   "outputs": [
    {
     "data": {
      "text/plain": [
       "'VehicleAge'"
      ]
     },
     "execution_count": 43,
     "metadata": {},
     "output_type": "execute_result"
    }
   ],
   "source": [
    "train.columns[important_var_idx]"
   ]
  },
  {
   "cell_type": "code",
   "execution_count": null,
   "metadata": {},
   "outputs": [],
   "source": []
  }
 ],
 "metadata": {
  "kernelspec": {
   "display_name": "Python 3",
   "language": "python",
   "name": "python3"
  },
  "language_info": {
   "codemirror_mode": {
    "name": "ipython",
    "version": 3
   },
   "file_extension": ".py",
   "mimetype": "text/x-python",
   "name": "python",
   "nbconvert_exporter": "python",
   "pygments_lexer": "ipython3",
   "version": "3.5.6"
  }
 },
 "nbformat": 4,
 "nbformat_minor": 4
}
